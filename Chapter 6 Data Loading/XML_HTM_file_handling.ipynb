{
    "cells": [
        {
            "cell_type": "code",
            "execution_count": 39,
            "metadata": {},
            "outputs": [
                {
                    "name": "stdout",
                    "output_type": "stream",
                    "text": [
                        "Requirement already satisfied: lxml in c:\\users\\nitro\\appdata\\local\\programs\\python\\python312\\lib\\site-packages (5.4.0)\n",
                        "Note: you may need to restart the kernel to use updated packages.\n"
                    ]
                },
                {
                    "name": "stderr",
                    "output_type": "stream",
                    "text": [
                        "\n",
                        "[notice] A new release of pip is available: 23.2.1 -> 25.1.1\n",
                        "[notice] To update, run: python.exe -m pip install --upgrade pip\n"
                    ]
                }
            ],
            "source": [
                "%pip install lxml\n",
                "\n",
                "import pandas as pd\n",
                "\n",
                "tables = pd.read_html('https://en.wikipedia.org/wiki/List_of_countries_by_GDP_(nominal)')\n"
            ]
        },
        {
            "cell_type": "code",
            "execution_count": 40,
            "metadata": {},
            "outputs": [
                {
                    "data": {
                        "text/plain": [
                            "[                                                   0\n",
                            " 0  Largest economies in the world by GDP (nominal...,\n",
                            "                                                    0  \\\n",
                            " 0  > $20 trillion $10–20 trillion $5–10 trillion ...   \n",
                            " \n",
                            "                                                    1  \\\n",
                            " 0  $750 billion – $1 trillion $500–750 billion $2...   \n",
                            " \n",
                            "                                                    2  \n",
                            " 0  $50–100 billion $25–50 billion $5–25 billion <...  ,\n",
                            "     Country/Territory IMF[1][12]            World Bank[13]             \\\n",
                            "     Country/Territory   Forecast       Year       Estimate       Year   \n",
                            " 0               World  113795678       2025      105435540       2023   \n",
                            " 1       United States   30507217       2025       27360935       2023   \n",
                            " 2               China   19231705  [n 1]2025       17794782  [n 3]2023   \n",
                            " 3             Germany    4744804       2025        4456081       2023   \n",
                            " 4               India    4187017       2025        3549919       2023   \n",
                            " ..                ...        ...        ...            ...        ...   \n",
                            " 205             Palau        333       2025            263       2023   \n",
                            " 206          Kiribati        312       2025            279       2023   \n",
                            " 207  Marshall Islands        297       2025            284       2023   \n",
                            " 208             Nauru        169       2025            154       2023   \n",
                            " 209            Tuvalu         65       2025             62       2023   \n",
                            " \n",
                            "     United Nations[14]             \n",
                            "               Estimate       Year  \n",
                            " 0            100834796       2022  \n",
                            " 1             25744100       2022  \n",
                            " 2             17963170  [n 1]2022  \n",
                            " 3              4076923       2022  \n",
                            " 4              3465541       2022  \n",
                            " ..                 ...        ...  \n",
                            " 205                225       2022  \n",
                            " 206                223       2022  \n",
                            " 207                279       2022  \n",
                            " 208                147       2022  \n",
                            " 209                 59       2022  \n",
                            " \n",
                            " [210 rows x 7 columns],\n",
                            "          vteLists of countries by financial rankings  \\\n",
                            " 0                                              Trade   \n",
                            " 1                                         Investment   \n",
                            " 2                                              Funds   \n",
                            " 3                                    Budget and debt   \n",
                            " 4                                   Income and taxes   \n",
                            " 5                                         Bank rates   \n",
                            " 6                                           Currency   \n",
                            " 7                                              Other   \n",
                            " 8  Lists of countries by GDP rankings List of int...   \n",
                            " \n",
                            "        vteLists of countries by financial rankings.1  \n",
                            " 0  Account balance Exports by product merchandise...  \n",
                            " 1                   FDI received past FDI abroad GFI  \n",
                            " 2  Forex reserves Gold reserves Sovereign wealth ...  \n",
                            " 3  Government budget PPP % of GDP per capita Cred...  \n",
                            " 4  Wage average Disposable minimum Wage growth GN...  \n",
                            " 5  Central bank interest rate Commercial bank pri...  \n",
                            " 6                                     Inflation rate  \n",
                            " 7  Financial Development Index Average annual lab...  \n",
                            " 8  Lists of countries by GDP rankings List of int...  ,\n",
                            "                vteLists of countries by GDP rankings  \\\n",
                            " 0                                            Nominal   \n",
                            " 1                      Purchasing power parity (PPP)   \n",
                            " 2                                         Per capita   \n",
                            " 3                                         GDP growth   \n",
                            " 4                        Gross national income (GNI)   \n",
                            " 5                                Countries by region   \n",
                            " 6                              Subnational divisions   \n",
                            " 7  Lists of countries by financial rankings List ...   \n",
                            " \n",
                            "              vteLists of countries by GDP rankings.1  \n",
                            " 0  GDP (nominal) Past and projected Sector compos...  \n",
                            " 1  GDP (PPP) Past Past and projected Ten largest ...  \n",
                            " 2  nominal GDP Past and projected GDP (PPP) by re...  \n",
                            " 3  real GDP growth rate African countries Asian s...  \n",
                            " 4  PPP per capita Nominal per capita Real income ...  \n",
                            " 5  Africa PPP nominal Commonwealth of Nations PPP...  \n",
                            " 6  Albania Argentina Armenia Australia Austria Ba...  \n",
                            " 7  Lists of countries by financial rankings List ...  ,\n",
                            "               vteEconomic classification of countries  \\\n",
                            " 0   Developed country Developing country Heavily i...   \n",
                            " 1                              Three/Four-World Model   \n",
                            " 2                        Gross domestic product (GDP)   \n",
                            " 3                                             Nominal   \n",
                            " 4                       Purchasing power parity (PPP)   \n",
                            " 5                    Gross national income and Income   \n",
                            " 6                                    Wages and salary   \n",
                            " 7                                              Wealth   \n",
                            " 8                             Other national accounts   \n",
                            " 9                                   Human development   \n",
                            " 10                                     Digital divide   \n",
                            " 11       Net international investment position (NIIP)   \n",
                            " 12                     Economics portal  World portal   \n",
                            " \n",
                            "             vteEconomic classification of countries.1  \n",
                            " 0   Developed country Developing country Heavily i...  \n",
                            " 1   First World Second World Third World Fourth World  \n",
                            " 2   Nominal By country past and projected per capi...  \n",
                            " 3   By country past and projected per capita per c...  \n",
                            " 4   By country future estimates per capita per cap...  \n",
                            " 5   Disposable income GNI (nominal) per capita GNI...  \n",
                            " 6   Average wage Europe Employee compensation (per...  \n",
                            " 7   Wealth per adult Europe Financial assets per c...  \n",
                            " 8   Gross National Happiness Net material product ...  \n",
                            " 9   Human Development Index by country inequality-...  \n",
                            " 10  ICT Development Index Number of broadband Inte...  \n",
                            " 11        Per capita (creditors) Per capita (debtors)  \n",
                            " 12                     Economics portal  World portal  ,\n",
                            "                                0  \\\n",
                            " 0                        Nominal   \n",
                            " 1  Purchasing power parity (PPP)   \n",
                            " \n",
                            "                                                    1  \n",
                            " 0  By country past and projected per capita per c...  \n",
                            " 1  By country future estimates per capita per cap...  ]"
                        ]
                    },
                    "execution_count": 40,
                    "metadata": {},
                    "output_type": "execute_result"
                }
            ],
            "source": [
                "tables # Extract the first table which contains the GDP data"
            ]
        },
        {
            "cell_type": "code",
            "execution_count": 41,
            "metadata": {},
            "outputs": [
                {
                    "data": {
                        "text/plain": [
                            "7"
                        ]
                    },
                    "execution_count": 41,
                    "metadata": {},
                    "output_type": "execute_result"
                }
            ],
            "source": [
                "len(tables)  # Check how many tables were extracted"
            ]
        },
        {
            "cell_type": "code",
            "execution_count": 42,
            "metadata": {},
            "outputs": [
                {
                    "data": {
                        "text/html": [
                            "<div>\n",
                            "<style scoped>\n",
                            "    .dataframe tbody tr th:only-of-type {\n",
                            "        vertical-align: middle;\n",
                            "    }\n",
                            "\n",
                            "    .dataframe tbody tr th {\n",
                            "        vertical-align: top;\n",
                            "    }\n",
                            "\n",
                            "    .dataframe thead th {\n",
                            "        text-align: right;\n",
                            "    }\n",
                            "</style>\n",
                            "<table border=\"1\" class=\"dataframe\">\n",
                            "  <thead>\n",
                            "    <tr style=\"text-align: right;\">\n",
                            "      <th></th>\n",
                            "      <th>0</th>\n",
                            "    </tr>\n",
                            "  </thead>\n",
                            "  <tbody>\n",
                            "    <tr>\n",
                            "      <th>0</th>\n",
                            "      <td>Largest economies in the world by GDP (nominal...</td>\n",
                            "    </tr>\n",
                            "  </tbody>\n",
                            "</table>\n",
                            "</div>"
                        ],
                        "text/plain": [
                            "                                                   0\n",
                            "0  Largest economies in the world by GDP (nominal..."
                        ]
                    },
                    "execution_count": 42,
                    "metadata": {},
                    "output_type": "execute_result"
                }
            ],
            "source": [
                "failure = tables[0]  # Extract the first table which contains the GDP data\n",
                "failure.head()  # Display the first few rows of the table to verify its structure"
            ]
        },
        {
            "cell_type": "code",
            "execution_count": 43,
            "metadata": {},
            "outputs": [
                {
                    "data": {
                        "text/html": [
                            "<div>\n",
                            "<style scoped>\n",
                            "    .dataframe tbody tr th:only-of-type {\n",
                            "        vertical-align: middle;\n",
                            "    }\n",
                            "\n",
                            "    .dataframe tbody tr th {\n",
                            "        vertical-align: top;\n",
                            "    }\n",
                            "\n",
                            "    .dataframe thead th {\n",
                            "        text-align: right;\n",
                            "    }\n",
                            "</style>\n",
                            "<table border=\"1\" class=\"dataframe\">\n",
                            "  <thead>\n",
                            "    <tr style=\"text-align: right;\">\n",
                            "      <th></th>\n",
                            "      <th>0</th>\n",
                            "      <th>1</th>\n",
                            "      <th>2</th>\n",
                            "    </tr>\n",
                            "  </thead>\n",
                            "  <tbody>\n",
                            "    <tr>\n",
                            "      <th>0</th>\n",
                            "      <td>&gt; $20 trillion $10–20 trillion $5–10 trillion ...</td>\n",
                            "      <td>$750 billion – $1 trillion $500–750 billion $2...</td>\n",
                            "      <td>$50–100 billion $25–50 billion $5–25 billion &lt;...</td>\n",
                            "    </tr>\n",
                            "  </tbody>\n",
                            "</table>\n",
                            "</div>"
                        ],
                        "text/plain": [
                            "                                                   0  \\\n",
                            "0  > $20 trillion $10–20 trillion $5–10 trillion ...   \n",
                            "\n",
                            "                                                   1  \\\n",
                            "0  $750 billion – $1 trillion $500–750 billion $2...   \n",
                            "\n",
                            "                                                   2  \n",
                            "0  $50–100 billion $25–50 billion $5–25 billion <...  "
                        ]
                    },
                    "execution_count": 43,
                    "metadata": {},
                    "output_type": "execute_result"
                }
            ],
            "source": [
                "failure1 = tables[1]  # Extract the second table which contains the GDP data\n",
                "failure1.head()\n",
                "  # Drop the first level of the MultiIndex columns"
            ]
        },
        {
            "cell_type": "code",
            "execution_count": 44,
            "metadata": {},
            "outputs": [
                {
                    "data": {
                        "text/html": [
                            "<div>\n",
                            "<style scoped>\n",
                            "    .dataframe tbody tr th:only-of-type {\n",
                            "        vertical-align: middle;\n",
                            "    }\n",
                            "\n",
                            "    .dataframe tbody tr th {\n",
                            "        vertical-align: top;\n",
                            "    }\n",
                            "\n",
                            "    .dataframe thead tr th {\n",
                            "        text-align: left;\n",
                            "    }\n",
                            "</style>\n",
                            "<table border=\"1\" class=\"dataframe\">\n",
                            "  <thead>\n",
                            "    <tr>\n",
                            "      <th></th>\n",
                            "      <th>Country/Territory</th>\n",
                            "      <th colspan=\"2\" halign=\"left\">IMF[1][12]</th>\n",
                            "      <th colspan=\"2\" halign=\"left\">World Bank[13]</th>\n",
                            "      <th colspan=\"2\" halign=\"left\">United Nations[14]</th>\n",
                            "    </tr>\n",
                            "    <tr>\n",
                            "      <th></th>\n",
                            "      <th>Country/Territory</th>\n",
                            "      <th>Forecast</th>\n",
                            "      <th>Year</th>\n",
                            "      <th>Estimate</th>\n",
                            "      <th>Year</th>\n",
                            "      <th>Estimate</th>\n",
                            "      <th>Year</th>\n",
                            "    </tr>\n",
                            "  </thead>\n",
                            "  <tbody>\n",
                            "    <tr>\n",
                            "      <th>0</th>\n",
                            "      <td>World</td>\n",
                            "      <td>113795678</td>\n",
                            "      <td>2025</td>\n",
                            "      <td>105435540</td>\n",
                            "      <td>2023</td>\n",
                            "      <td>100834796</td>\n",
                            "      <td>2022</td>\n",
                            "    </tr>\n",
                            "    <tr>\n",
                            "      <th>1</th>\n",
                            "      <td>United States</td>\n",
                            "      <td>30507217</td>\n",
                            "      <td>2025</td>\n",
                            "      <td>27360935</td>\n",
                            "      <td>2023</td>\n",
                            "      <td>25744100</td>\n",
                            "      <td>2022</td>\n",
                            "    </tr>\n",
                            "    <tr>\n",
                            "      <th>2</th>\n",
                            "      <td>China</td>\n",
                            "      <td>19231705</td>\n",
                            "      <td>[n 1]2025</td>\n",
                            "      <td>17794782</td>\n",
                            "      <td>[n 3]2023</td>\n",
                            "      <td>17963170</td>\n",
                            "      <td>[n 1]2022</td>\n",
                            "    </tr>\n",
                            "    <tr>\n",
                            "      <th>3</th>\n",
                            "      <td>Germany</td>\n",
                            "      <td>4744804</td>\n",
                            "      <td>2025</td>\n",
                            "      <td>4456081</td>\n",
                            "      <td>2023</td>\n",
                            "      <td>4076923</td>\n",
                            "      <td>2022</td>\n",
                            "    </tr>\n",
                            "    <tr>\n",
                            "      <th>4</th>\n",
                            "      <td>India</td>\n",
                            "      <td>4187017</td>\n",
                            "      <td>2025</td>\n",
                            "      <td>3549919</td>\n",
                            "      <td>2023</td>\n",
                            "      <td>3465541</td>\n",
                            "      <td>2022</td>\n",
                            "    </tr>\n",
                            "  </tbody>\n",
                            "</table>\n",
                            "</div>"
                        ],
                        "text/plain": [
                            "  Country/Territory IMF[1][12]            World Bank[13]             \\\n",
                            "  Country/Territory   Forecast       Year       Estimate       Year   \n",
                            "0             World  113795678       2025      105435540       2023   \n",
                            "1     United States   30507217       2025       27360935       2023   \n",
                            "2             China   19231705  [n 1]2025       17794782  [n 3]2023   \n",
                            "3           Germany    4744804       2025        4456081       2023   \n",
                            "4             India    4187017       2025        3549919       2023   \n",
                            "\n",
                            "  United Nations[14]             \n",
                            "            Estimate       Year  \n",
                            "0          100834796       2022  \n",
                            "1           25744100       2022  \n",
                            "2           17963170  [n 1]2022  \n",
                            "3            4076923       2022  \n",
                            "4            3465541       2022  "
                        ]
                    },
                    "execution_count": 44,
                    "metadata": {},
                    "output_type": "execute_result"
                }
            ],
            "source": [
                "failure2 = tables[2]  # Extract the third table which contains the GDP data\n",
                "failure2.head()  # Display the first few rows of the third table to verify its structure"
            ]
        },
        {
            "cell_type": "code",
            "execution_count": 45,
            "metadata": {},
            "outputs": [
                {
                    "data": {
                        "text/html": [
                            "<div>\n",
                            "<style scoped>\n",
                            "    .dataframe tbody tr th:only-of-type {\n",
                            "        vertical-align: middle;\n",
                            "    }\n",
                            "\n",
                            "    .dataframe tbody tr th {\n",
                            "        vertical-align: top;\n",
                            "    }\n",
                            "\n",
                            "    .dataframe thead th {\n",
                            "        text-align: right;\n",
                            "    }\n",
                            "</style>\n",
                            "<table border=\"1\" class=\"dataframe\">\n",
                            "  <thead>\n",
                            "    <tr style=\"text-align: right;\">\n",
                            "      <th></th>\n",
                            "      <th>vteLists of countries by financial rankings</th>\n",
                            "      <th>vteLists of countries by financial rankings.1</th>\n",
                            "    </tr>\n",
                            "  </thead>\n",
                            "  <tbody>\n",
                            "    <tr>\n",
                            "      <th>0</th>\n",
                            "      <td>Trade</td>\n",
                            "      <td>Account balance Exports by product merchandise...</td>\n",
                            "    </tr>\n",
                            "    <tr>\n",
                            "      <th>1</th>\n",
                            "      <td>Investment</td>\n",
                            "      <td>FDI received past FDI abroad GFI</td>\n",
                            "    </tr>\n",
                            "    <tr>\n",
                            "      <th>2</th>\n",
                            "      <td>Funds</td>\n",
                            "      <td>Forex reserves Gold reserves Sovereign wealth ...</td>\n",
                            "    </tr>\n",
                            "    <tr>\n",
                            "      <th>3</th>\n",
                            "      <td>Budget and debt</td>\n",
                            "      <td>Government budget PPP % of GDP per capita Cred...</td>\n",
                            "    </tr>\n",
                            "    <tr>\n",
                            "      <th>4</th>\n",
                            "      <td>Income and taxes</td>\n",
                            "      <td>Wage average Disposable minimum Wage growth GN...</td>\n",
                            "    </tr>\n",
                            "  </tbody>\n",
                            "</table>\n",
                            "</div>"
                        ],
                        "text/plain": [
                            "  vteLists of countries by financial rankings  \\\n",
                            "0                                       Trade   \n",
                            "1                                  Investment   \n",
                            "2                                       Funds   \n",
                            "3                             Budget and debt   \n",
                            "4                            Income and taxes   \n",
                            "\n",
                            "       vteLists of countries by financial rankings.1  \n",
                            "0  Account balance Exports by product merchandise...  \n",
                            "1                   FDI received past FDI abroad GFI  \n",
                            "2  Forex reserves Gold reserves Sovereign wealth ...  \n",
                            "3  Government budget PPP % of GDP per capita Cred...  \n",
                            "4  Wage average Disposable minimum Wage growth GN...  "
                        ]
                    },
                    "execution_count": 45,
                    "metadata": {},
                    "output_type": "execute_result"
                }
            ],
            "source": [
                "failure3 = tables[3]  # Extract the fourth table which contains the GDP data\n",
                "failure3.head()  # Display the first few rows of the fourth table to verify its structure"
            ]
        },
        {
            "cell_type": "code",
            "execution_count": 46,
            "metadata": {},
            "outputs": [
                {
                    "data": {
                        "text/plain": [
                            "MultiIndex([( 'Country/Territory', 'Country/Territory'),\n",
                            "            (        'IMF[1][12]',          'Forecast'),\n",
                            "            (        'IMF[1][12]',              'Year'),\n",
                            "            (    'World Bank[13]',          'Estimate'),\n",
                            "            (    'World Bank[13]',              'Year'),\n",
                            "            ('United Nations[14]',          'Estimate'),\n",
                            "            ('United Nations[14]',              'Year')],\n",
                            "           )"
                        ]
                    },
                    "execution_count": 46,
                    "metadata": {},
                    "output_type": "execute_result"
                }
            ],
            "source": [
                "failure2.columns"
            ]
        },
        {
            "cell_type": "code",
            "execution_count": 47,
            "metadata": {},
            "outputs": [
                {
                    "data": {
                        "text/plain": [
                            "<bound method IndexOpsMixin.value_counts of 0      2025.0\n",
                            "1      2025.0\n",
                            "2      2025.0\n",
                            "3      2025.0\n",
                            "4      2025.0\n",
                            "        ...  \n",
                            "205    2025.0\n",
                            "206    2025.0\n",
                            "207    2025.0\n",
                            "208    2025.0\n",
                            "209    2025.0\n",
                            "Name: 0, Length: 210, dtype: float64>"
                        ]
                    },
                    "execution_count": 47,
                    "metadata": {},
                    "output_type": "execute_result"
                }
            ],
            "source": [
                "# Extract only the 4-digit year from the string, then convert to datetime\n",
                "close_time = pd.to_datetime(\n",
                "\tfailure2[('IMF[1][12]', 'Year')].astype(str).str.extract(r'(\\d{4})')[0],\n",
                "\tformat='%Y'\n",
                ")\n",
                "# Assign the extracted datetime to the 'close_time' column\n",
                "failure2['close_time'] = close_time\n",
                "# Display the first few rows of the modified table to verify the new 'close_time' column\n",
                "close_time.dt.year.value_counts\n",
                "# Extract the GDP data for the year 2021"
            ]
        },
        {
            "cell_type": "code",
            "execution_count": 48,
            "metadata": {},
            "outputs": [
                {
                    "data": {
                        "text/plain": [
                            "0\n",
                            "2025.0    190\n",
                            "2023.0      1\n",
                            "Name: count, dtype: int64"
                        ]
                    },
                    "execution_count": 48,
                    "metadata": {},
                    "output_type": "execute_result"
                }
            ],
            "source": [
                "close_time.dt.year.value_counts()\n",
                "# Filter the table for the year 2021"
            ]
        },
        {
            "cell_type": "code",
            "execution_count": 57,
            "metadata": {},
            "outputs": [
                {
                    "data": {
                        "text/html": [
                            "<div>\n",
                            "<style scoped>\n",
                            "    .dataframe tbody tr th:only-of-type {\n",
                            "        vertical-align: middle;\n",
                            "    }\n",
                            "\n",
                            "    .dataframe tbody tr th {\n",
                            "        vertical-align: top;\n",
                            "    }\n",
                            "\n",
                            "    .dataframe thead th {\n",
                            "        text-align: right;\n",
                            "    }\n",
                            "</style>\n",
                            "<table border=\"1\" class=\"dataframe\">\n",
                            "  <thead>\n",
                            "    <tr style=\"text-align: right;\">\n",
                            "      <th></th>\n",
                            "      <th>Country_Territory_Country_Territory</th>\n",
                            "      <th>IMF_1__12__Forecast</th>\n",
                            "      <th>IMF_1__12__Year</th>\n",
                            "      <th>World_Bank_13__Estimate</th>\n",
                            "      <th>World_Bank_13__Year</th>\n",
                            "      <th>United_Nations_14__Estimate</th>\n",
                            "      <th>United_Nations_14__Year</th>\n",
                            "      <th>close_time_</th>\n",
                            "    </tr>\n",
                            "  </thead>\n",
                            "  <tbody>\n",
                            "    <tr>\n",
                            "      <th>0</th>\n",
                            "      <td>World</td>\n",
                            "      <td>113795678</td>\n",
                            "      <td>2025</td>\n",
                            "      <td>105435540</td>\n",
                            "      <td>2023</td>\n",
                            "      <td>100834796</td>\n",
                            "      <td>2022</td>\n",
                            "      <td>2025-01-01 00:00:00</td>\n",
                            "    </tr>\n",
                            "    <tr>\n",
                            "      <th>1</th>\n",
                            "      <td>United States</td>\n",
                            "      <td>30507217</td>\n",
                            "      <td>2025</td>\n",
                            "      <td>27360935</td>\n",
                            "      <td>2023</td>\n",
                            "      <td>25744100</td>\n",
                            "      <td>2022</td>\n",
                            "      <td>2025-01-01 00:00:00</td>\n",
                            "    </tr>\n",
                            "    <tr>\n",
                            "      <th>2</th>\n",
                            "      <td>China</td>\n",
                            "      <td>19231705</td>\n",
                            "      <td>[n 1]2025</td>\n",
                            "      <td>17794782</td>\n",
                            "      <td>[n 3]2023</td>\n",
                            "      <td>17963170</td>\n",
                            "      <td>[n 1]2022</td>\n",
                            "      <td>2025-01-01 00:00:00</td>\n",
                            "    </tr>\n",
                            "    <tr>\n",
                            "      <th>3</th>\n",
                            "      <td>Germany</td>\n",
                            "      <td>4744804</td>\n",
                            "      <td>2025</td>\n",
                            "      <td>4456081</td>\n",
                            "      <td>2023</td>\n",
                            "      <td>4076923</td>\n",
                            "      <td>2022</td>\n",
                            "      <td>2025-01-01 00:00:00</td>\n",
                            "    </tr>\n",
                            "    <tr>\n",
                            "      <th>4</th>\n",
                            "      <td>India</td>\n",
                            "      <td>4187017</td>\n",
                            "      <td>2025</td>\n",
                            "      <td>3549919</td>\n",
                            "      <td>2023</td>\n",
                            "      <td>3465541</td>\n",
                            "      <td>2022</td>\n",
                            "      <td>2025-01-01 00:00:00</td>\n",
                            "    </tr>\n",
                            "  </tbody>\n",
                            "</table>\n",
                            "</div>"
                        ],
                        "text/plain": [
                            "  Country_Territory_Country_Territory IMF_1__12__Forecast IMF_1__12__Year  \\\n",
                            "0                               World           113795678            2025   \n",
                            "1                       United States            30507217            2025   \n",
                            "2                               China            19231705       [n 1]2025   \n",
                            "3                             Germany             4744804            2025   \n",
                            "4                               India             4187017            2025   \n",
                            "\n",
                            "  World_Bank_13__Estimate World_Bank_13__Year United_Nations_14__Estimate  \\\n",
                            "0               105435540                2023                   100834796   \n",
                            "1                27360935                2023                    25744100   \n",
                            "2                17794782           [n 3]2023                    17963170   \n",
                            "3                 4456081                2023                     4076923   \n",
                            "4                 3549919                2023                     3465541   \n",
                            "\n",
                            "  United_Nations_14__Year          close_time_  \n",
                            "0                    2022  2025-01-01 00:00:00  \n",
                            "1                    2022  2025-01-01 00:00:00  \n",
                            "2               [n 1]2022  2025-01-01 00:00:00  \n",
                            "3                    2022  2025-01-01 00:00:00  \n",
                            "4                    2022  2025-01-01 00:00:00  "
                        ]
                    },
                    "execution_count": 57,
                    "metadata": {},
                    "output_type": "execute_result"
                }
            ],
            "source": [
                "from lxml import objectify\n",
                "\n",
                "# Sanitize column names to be valid XML tags\n",
                "import re\n",
                "\n",
                "failure2_clean = failure2.copy()\n",
                "def sanitize_xml_tag(tag):\n",
                "    # Replace invalid characters with underscore and remove brackets\n",
                "    tag = re.sub(r'[^a-zA-Z0-9_.-]', '_', str(tag))\n",
                "    tag = re.sub(r'[\\[\\]]', '', tag)\n",
                "    # Ensure tag does not start with a digit\n",
                "    if re.match(r'^\\d', tag):\n",
                "        tag = '_' + tag\n",
                "    return tag\n",
                "\n",
                "failure2_clean.columns = [\n",
                "    sanitize_xml_tag('_'.join([str(c) for c in col])) if isinstance(col, tuple)\n",
                "    else sanitize_xml_tag(col)\n",
                "    for col in failure2_clean.columns\n",
                "]\n",
                "\n",
                "# Save the DataFrame to an XML file\n",
                "xml_path = 'gdp_data.xml'\n",
                "failure2_clean.to_xml(xml_path, index=False)\n",
                "\n",
                "with open(xml_path) as f:\n",
                "    parsed = objectify.parse(f)\n",
                "root = parsed.getroot()\n",
                "\n",
                "# Example: Extract all rows as dicts\n",
                "data_gdp = []\n",
                "for row in root.iterchildren():\n",
                "    row_data = {}\n",
                "    for child in row.iterchildren():\n",
                "        row_data[child.tag] = child.pyval\n",
                "    data_gdp.append(row_data)\n",
                "\n",
                "# Convert the extracted data into a DataFrame\n",
                "performance_df = pd.DataFrame(data_gdp)\n",
                "performance_df.head()"
            ]
        },
        {
            "cell_type": "code",
            "execution_count": null,
            "metadata": {},
            "outputs": [
                {
                    "ename": "AttributeError",
                    "evalue": "no such child: INDICATOR",
                    "output_type": "error",
                    "traceback": [
                        "\u001b[31m---------------------------------------------------------------------------\u001b[39m",
                        "\u001b[31mAttributeError\u001b[39m                            Traceback (most recent call last)",
                        "\u001b[36mCell\u001b[39m\u001b[36m \u001b[39m\u001b[32mIn[64]\u001b[39m\u001b[32m, line 3\u001b[39m\n\u001b[32m      1\u001b[39m skip_rows = [\u001b[33m\"\u001b[39m\u001b[33mclose_time\u001b[39m\u001b[33m\"\u001b[39m,\u001b[33m\"\u001b[39m\u001b[33mIMF[1][12]\u001b[39m\u001b[33m\"\u001b[39m]\n\u001b[32m----> \u001b[39m\u001b[32m3\u001b[39m \u001b[38;5;28;01mfor\u001b[39;00m eliminasi \u001b[38;5;129;01min\u001b[39;00m \u001b[43mroot\u001b[49m\u001b[43m.\u001b[49m\u001b[43mINDICATOR\u001b[49m:\n\u001b[32m      4\u001b[39m     el_data = {}\n\u001b[32m      5\u001b[39m     \u001b[38;5;28;01mfor\u001b[39;00m child \u001b[38;5;129;01min\u001b[39;00m eliminasi.getchildren():\n",
                        "\u001b[36mFile \u001b[39m\u001b[32msrc\\\\lxml\\\\objectify.pyx:221\u001b[39m, in \u001b[36mlxml.objectify.ObjectifiedElement.__getattr__\u001b[39m\u001b[34m()\u001b[39m\n",
                        "\u001b[36mFile \u001b[39m\u001b[32msrc\\\\lxml\\\\objectify.pyx:440\u001b[39m, in \u001b[36mlxml.objectify._lookupChildOrRaise\u001b[39m\u001b[34m()\u001b[39m\n",
                        "\u001b[31mAttributeError\u001b[39m: no such child: INDICATOR"
                    ]
                }
            ],
            "source": [
                "skip_rows = [\"close_time\", \"IMF[1][12]\"]\n",
                "\n",
                "# Clear data_gdp if you want to start fresh, otherwise you will append to existing data\n",
                "data_gdp = []\n",
                "\n",
                "for row in root.iterchildren():\n",
                "    el_data = {}\n",
                "    for child in row.iterchildren():\n",
                "        if child.tag in skip_rows:\n",
                "            continue  # Skip the 'close_time' and 'IMF[1][12]' columns\n",
                "        el_data[child.tag] = child.pyval\n",
                "    data_gdp.append(el_data)\n",
                "\n",
                "performance2 = pd.DataFrame(data_gdp)  # Convert the list of dictionaries to a DataFrame\n",
                "performance2.head()  # Display the first few rows of the DataFrame to verify its structure"
            ]
        }
    ],
    "metadata": {
        "kernelspec": {
            "display_name": "Python 3",
            "language": "python",
            "name": "python3"
        },
        "language_info": {
            "codemirror_mode": {
                "name": "ipython",
                "version": 3
            },
            "file_extension": ".py",
            "mimetype": "text/x-python",
            "name": "python",
            "nbconvert_exporter": "python",
            "pygments_lexer": "ipython3",
            "version": "3.12.0"
        }
    },
    "nbformat": 4,
    "nbformat_minor": 2
}
