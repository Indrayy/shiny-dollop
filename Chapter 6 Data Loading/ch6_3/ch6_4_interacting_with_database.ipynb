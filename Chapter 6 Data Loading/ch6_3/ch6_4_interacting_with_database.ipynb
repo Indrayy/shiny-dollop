{
 "cells": [
  {
   "cell_type": "code",
   "execution_count": 5,
   "id": "858585a3",
   "metadata": {},
   "outputs": [
    {
     "data": {
      "text/plain": [
       "<sqlite3.Cursor at 0x1c69191b140>"
      ]
     },
     "execution_count": 5,
     "metadata": {},
     "output_type": "execute_result"
    }
   ],
   "source": [
    "# 6.4 Interacting with the Database\n",
    "# This script demonstrates how to interact with a database using Python's sqlite3 module.\n",
    "\n",
    "import sqlite3\n",
    "\n",
    "query = \"\"\"\n",
    "CREATE TABLE IF NOT EXISTS users \n",
    "(a VARCHAR(20),\n",
    "b VARCHAR(20),\n",
    "c REAL,\n",
    "d INTEGER\n",
    ");\"\"\"\n",
    "# Connect to the SQLite database (or create it if it doesn't exist)\n",
    "conn = sqlite3.connect('sample_state.sqlite')\n",
    "# Execute SQL commands using the connection object\n",
    "conn.execute(query)\n",
    "# Commit the changes to the database\n",
    "\n"
   ]
  },
  {
   "cell_type": "markdown",
   "id": "1335c906",
   "metadata": {},
   "source": []
  },
  {
   "cell_type": "code",
   "execution_count": 8,
   "id": "fe986f0b",
   "metadata": {},
   "outputs": [
    {
     "data": {
      "text/plain": [
       "<sqlite3.Cursor at 0x1c69189ab40>"
      ]
     },
     "execution_count": 8,
     "metadata": {},
     "output_type": "execute_result"
    }
   ],
   "source": [
    "conn.commit()\n",
    "# Close the connection to the database\n",
    "\n",
    "data = [('Mondstadter', 'Mondo', 1.0, 1),\n",
    "        ('Liyuer', 'Liyue', 2.0, 2),\n",
    "        ('Inazuman', 'Inazuma', 3.0, 3),\n",
    "        ('Sumeru', 'Sumeru', 4.0, 4)]\n",
    "\n",
    "stmt = \"INSERT INTO users VALUES (?, ?, ?, ?)\"\n",
    "# Insert data into the table\n",
    "conn.executemany(stmt, data)"
   ]
  },
  {
   "cell_type": "code",
   "execution_count": 9,
   "id": "e3a2839d",
   "metadata": {},
   "outputs": [
    {
     "data": {
      "text/plain": [
       "[('Mondstadter', 'Mondo', 1.0, 1),\n",
       " ('Liyuer', 'Liyue', 2.0, 2),\n",
       " ('Inazuman', 'Inazuma', 3.0, 3),\n",
       " ('Sumeru', 'Sumeru', 4.0, 4),\n",
       " ('Mondstadter', 'Mondo', 1.0, 1),\n",
       " ('Liyuer', 'Liyue', 2.0, 2),\n",
       " ('Inazuman', 'Inazuma', 3.0, 3),\n",
       " ('Sumeru', 'Sumeru', 4.0, 4)]"
      ]
     },
     "execution_count": 9,
     "metadata": {},
     "output_type": "execute_result"
    }
   ],
   "source": [
    "conn.commit()\n",
    "# Close the connection to the database\n",
    "cursor = conn.execute(\"SELECT * FROM users\")\n",
    "# Fetch and print all rows from the table\n",
    "rows = cursor.fetchall()\n",
    "\n",
    "rows"
   ]
  },
  {
   "cell_type": "code",
   "execution_count": 10,
   "id": "29672892",
   "metadata": {},
   "outputs": [
    {
     "data": {
      "text/plain": [
       "(('a', None, None, None, None, None, None),\n",
       " ('b', None, None, None, None, None, None),\n",
       " ('c', None, None, None, None, None, None),\n",
       " ('d', None, None, None, None, None, None))"
      ]
     },
     "execution_count": 10,
     "metadata": {},
     "output_type": "execute_result"
    }
   ],
   "source": [
    "cursor.description"
   ]
  },
  {
   "cell_type": "code",
   "execution_count": 13,
   "id": "f1a8b7cf",
   "metadata": {},
   "outputs": [
    {
     "data": {
      "text/html": [
       "<div>\n",
       "<style scoped>\n",
       "    .dataframe tbody tr th:only-of-type {\n",
       "        vertical-align: middle;\n",
       "    }\n",
       "\n",
       "    .dataframe tbody tr th {\n",
       "        vertical-align: top;\n",
       "    }\n",
       "\n",
       "    .dataframe thead th {\n",
       "        text-align: right;\n",
       "    }\n",
       "</style>\n",
       "<table border=\"1\" class=\"dataframe\">\n",
       "  <thead>\n",
       "    <tr style=\"text-align: right;\">\n",
       "      <th></th>\n",
       "      <th>a</th>\n",
       "      <th>b</th>\n",
       "      <th>c</th>\n",
       "      <th>d</th>\n",
       "    </tr>\n",
       "  </thead>\n",
       "  <tbody>\n",
       "    <tr>\n",
       "      <th>0</th>\n",
       "      <td>Mondstadter</td>\n",
       "      <td>Mondo</td>\n",
       "      <td>1.0</td>\n",
       "      <td>1</td>\n",
       "    </tr>\n",
       "    <tr>\n",
       "      <th>1</th>\n",
       "      <td>Liyuer</td>\n",
       "      <td>Liyue</td>\n",
       "      <td>2.0</td>\n",
       "      <td>2</td>\n",
       "    </tr>\n",
       "    <tr>\n",
       "      <th>2</th>\n",
       "      <td>Inazuman</td>\n",
       "      <td>Inazuma</td>\n",
       "      <td>3.0</td>\n",
       "      <td>3</td>\n",
       "    </tr>\n",
       "    <tr>\n",
       "      <th>3</th>\n",
       "      <td>Sumeru</td>\n",
       "      <td>Sumeru</td>\n",
       "      <td>4.0</td>\n",
       "      <td>4</td>\n",
       "    </tr>\n",
       "    <tr>\n",
       "      <th>4</th>\n",
       "      <td>Mondstadter</td>\n",
       "      <td>Mondo</td>\n",
       "      <td>1.0</td>\n",
       "      <td>1</td>\n",
       "    </tr>\n",
       "    <tr>\n",
       "      <th>5</th>\n",
       "      <td>Liyuer</td>\n",
       "      <td>Liyue</td>\n",
       "      <td>2.0</td>\n",
       "      <td>2</td>\n",
       "    </tr>\n",
       "    <tr>\n",
       "      <th>6</th>\n",
       "      <td>Inazuman</td>\n",
       "      <td>Inazuma</td>\n",
       "      <td>3.0</td>\n",
       "      <td>3</td>\n",
       "    </tr>\n",
       "    <tr>\n",
       "      <th>7</th>\n",
       "      <td>Sumeru</td>\n",
       "      <td>Sumeru</td>\n",
       "      <td>4.0</td>\n",
       "      <td>4</td>\n",
       "    </tr>\n",
       "  </tbody>\n",
       "</table>\n",
       "</div>"
      ],
      "text/plain": [
       "             a        b    c  d\n",
       "0  Mondstadter    Mondo  1.0  1\n",
       "1       Liyuer    Liyue  2.0  2\n",
       "2     Inazuman  Inazuma  3.0  3\n",
       "3       Sumeru   Sumeru  4.0  4\n",
       "4  Mondstadter    Mondo  1.0  1\n",
       "5       Liyuer    Liyue  2.0  2\n",
       "6     Inazuman  Inazuma  3.0  3\n",
       "7       Sumeru   Sumeru  4.0  4"
      ]
     },
     "execution_count": 13,
     "metadata": {},
     "output_type": "execute_result"
    }
   ],
   "source": [
    "import pandas as pd\n",
    "# Convert the fetched rows into a pandas DataFrame for easier manipulation and display\n",
    "\n",
    "pd.DataFrame(rows, columns=[col[0] for col in cursor.description])"
   ]
  },
  {
   "cell_type": "code",
   "execution_count": 15,
   "id": "02d9e580",
   "metadata": {},
   "outputs": [
    {
     "data": {
      "text/html": [
       "<div>\n",
       "<style scoped>\n",
       "    .dataframe tbody tr th:only-of-type {\n",
       "        vertical-align: middle;\n",
       "    }\n",
       "\n",
       "    .dataframe tbody tr th {\n",
       "        vertical-align: top;\n",
       "    }\n",
       "\n",
       "    .dataframe thead th {\n",
       "        text-align: right;\n",
       "    }\n",
       "</style>\n",
       "<table border=\"1\" class=\"dataframe\">\n",
       "  <thead>\n",
       "    <tr style=\"text-align: right;\">\n",
       "      <th></th>\n",
       "      <th>a</th>\n",
       "      <th>b</th>\n",
       "      <th>c</th>\n",
       "      <th>d</th>\n",
       "    </tr>\n",
       "  </thead>\n",
       "  <tbody>\n",
       "    <tr>\n",
       "      <th>0</th>\n",
       "      <td>Mondstadter</td>\n",
       "      <td>Mondo</td>\n",
       "      <td>1.0</td>\n",
       "      <td>1</td>\n",
       "    </tr>\n",
       "    <tr>\n",
       "      <th>1</th>\n",
       "      <td>Liyuer</td>\n",
       "      <td>Liyue</td>\n",
       "      <td>2.0</td>\n",
       "      <td>2</td>\n",
       "    </tr>\n",
       "    <tr>\n",
       "      <th>2</th>\n",
       "      <td>Inazuman</td>\n",
       "      <td>Inazuma</td>\n",
       "      <td>3.0</td>\n",
       "      <td>3</td>\n",
       "    </tr>\n",
       "    <tr>\n",
       "      <th>3</th>\n",
       "      <td>Sumeru</td>\n",
       "      <td>Sumeru</td>\n",
       "      <td>4.0</td>\n",
       "      <td>4</td>\n",
       "    </tr>\n",
       "    <tr>\n",
       "      <th>4</th>\n",
       "      <td>Mondstadter</td>\n",
       "      <td>Mondo</td>\n",
       "      <td>1.0</td>\n",
       "      <td>1</td>\n",
       "    </tr>\n",
       "    <tr>\n",
       "      <th>5</th>\n",
       "      <td>Liyuer</td>\n",
       "      <td>Liyue</td>\n",
       "      <td>2.0</td>\n",
       "      <td>2</td>\n",
       "    </tr>\n",
       "    <tr>\n",
       "      <th>6</th>\n",
       "      <td>Inazuman</td>\n",
       "      <td>Inazuma</td>\n",
       "      <td>3.0</td>\n",
       "      <td>3</td>\n",
       "    </tr>\n",
       "    <tr>\n",
       "      <th>7</th>\n",
       "      <td>Sumeru</td>\n",
       "      <td>Sumeru</td>\n",
       "      <td>4.0</td>\n",
       "      <td>4</td>\n",
       "    </tr>\n",
       "  </tbody>\n",
       "</table>\n",
       "</div>"
      ],
      "text/plain": [
       "             a        b    c  d\n",
       "0  Mondstadter    Mondo  1.0  1\n",
       "1       Liyuer    Liyue  2.0  2\n",
       "2     Inazuman  Inazuma  3.0  3\n",
       "3       Sumeru   Sumeru  4.0  4\n",
       "4  Mondstadter    Mondo  1.0  1\n",
       "5       Liyuer    Liyue  2.0  2\n",
       "6     Inazuman  Inazuma  3.0  3\n",
       "7       Sumeru   Sumeru  4.0  4"
      ]
     },
     "execution_count": 15,
     "metadata": {},
     "output_type": "execute_result"
    }
   ],
   "source": [
    "import sqlalchemy as sa\n",
    "# Create a SQLAlchemy engine to connect to the SQLite database\n",
    "\n",
    "db = sa.create_engine('sqlite:///sample_state.sqlite')\n",
    "# Use the SQLAlchemy engine to read the table into a pandas DataFrame\n",
    "pd.read_sql('SELECT * FROM users', db)\n"
   ]
  }
 ],
 "metadata": {
  "kernelspec": {
   "display_name": "eienv",
   "language": "python",
   "name": "python3"
  },
  "language_info": {
   "codemirror_mode": {
    "name": "ipython",
    "version": 3
   },
   "file_extension": ".py",
   "mimetype": "text/x-python",
   "name": "python",
   "nbconvert_exporter": "python",
   "pygments_lexer": "ipython3",
   "version": "3.12.0"
  }
 },
 "nbformat": 4,
 "nbformat_minor": 5
}
