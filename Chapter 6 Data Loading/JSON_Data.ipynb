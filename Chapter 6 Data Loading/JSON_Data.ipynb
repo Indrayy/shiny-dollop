{
    "cells": [
        {
            "cell_type": "code",
            "execution_count": null,
            "metadata": {},
            "outputs": [
                {
                    "name": "stdout",
                    "output_type": "stream",
                    "text": [
                        "{'name': 'Raiden Shogun', 'nation': ['Inazuma', 'Mondstad', 'Sumeru', 'Natlan'], 'pet': None, 'siblings': [{'name': 'Makoto', 'age': 1000, 'hobbies': ['katana', 'fishing']}, {'name': 'Yae', 'age': 1000, 'hobbies': ['flirting', 'foxing']}]}\n"
                    ]
                }
            ],
            "source": [
                "import json\n",
                "\n",
                "# Open the file 'obj_raiden.json' and read its content\n",
                "\n",
                "with open('obj_raiden.json', 'r') as f:\n",
                "    content = f.read().strip()\n",
                "    if content:\n",
                "        hasil = json.loads(content)\n",
                "        print(hasil)\n",
                "    else:\n",
                "        print(\"File is empty or does not contain valid JSON.\")\n"
            ]
        },
        {
            "cell_type": "code",
            "execution_count": 26,
            "metadata": {},
            "outputs": [
                {
                    "data": {
                        "text/plain": [
                            "'{\\n    \"name\": \"Raiden Shogun\",\\n    \"nation\": [\\n        \"Inazuma\",\\n        \"Mondstad\",\\n        \"Sumeru\",\\n        \"Natlan\"\\n    ],\\n    \"pet\": null,\\n    \"siblings\": [\\n        {\\n            \"name\": \"Makoto\",\\n            \"age\": 1000,\\n            \"hobbies\": [\\n                \"katana\",\\n                \"fishing\"\\n            ]\\n        },\\n        {\\n            \"name\": \"Yae\",\\n            \"age\": 1000,\\n            \"hobbies\": [\\n                \"flirting\",\\n                \"foxing\"\\n            ]\\n        }\\n    ]\\n}'"
                        ]
                    },
                    "execution_count": 26,
                    "metadata": {},
                    "output_type": "execute_result"
                }
            ],
            "source": [
                "asjson = json.dumps(hasil, indent=4, ensure_ascii=False)\n",
                "\n",
                "asjson "
            ]
        },
        {
            "cell_type": "code",
            "execution_count": 28,
            "metadata": {},
            "outputs": [
                {
                    "data": {
                        "text/plain": [
                            "'{\\\\\"name\\\\\": \\\\\"Raiden Shogun\\\\\", \\\\\"nation\\\\\": [\\\\\"Inazuma\\\\\", \\\\\"Mondstad\\\\\", \\\\\"Sumeru\\\\\", \\\\\"Natlan\\\\\"], \\\\\"pet\\\\\": null, \\\\\"siblings\\\\\": [{\\\\\"name\\\\\": \\\\\"Makoto\\\\\", \\\\\"age\\\\\": 1000, \\\\\"hobbies\\\\\": [\\\\\"katana\\\\\", \\\\\"fishing\\\\\"]}, {\\\\\"name\\\\\": \\\\\"Yae\\\\\", \\\\\"age\\\\\": 1000, \\\\\"hobbies\\\\\": [\\\\\"flirting\\\\\", \\\\\"foxing\\\\\"]}]}'"
                        ]
                    },
                    "execution_count": 28,
                    "metadata": {},
                    "output_type": "execute_result"
                }
            ],
            "source": [
                "asjson = json.dumps(hasil)\n",
                "asjson = asjson.replace('\\\"', '\\\\\"')\n",
                "asjson "
            ]
        },
        {
            "cell_type": "code",
            "execution_count": 30,
            "metadata": {},
            "outputs": [
                {
                    "data": {
                        "text/plain": [
                            "'{\"name\": \"Raiden Shogun\", \"nation\": [\"Inazuma\", \"Mondstad\", \"Sumeru\", \"Natlan\"], \"pet\": null, \"siblings\": [{\"name\": \"Makoto\", \"age\": 1000, \"hobbies\": [\"katana\", \"fishing\"]}, {\"name\": \"Yae\", \"age\": 1000, \"hobbies\": [\"flirting\", \"foxing\"]}]}'"
                        ]
                    },
                    "execution_count": 30,
                    "metadata": {},
                    "output_type": "execute_result"
                }
            ],
            "source": [
                "asjson = json.dumps(hasil)\n",
                "asjson"
            ]
        },
        {
            "cell_type": "code",
            "execution_count": 49,
            "metadata": {},
            "outputs": [
                {
                    "data": {
                        "text/plain": [
                            "{'name': 'Raiden Shogun',\n",
                            " 'nation': ['Inazuma', 'Mondstad', 'Sumeru', 'Natlan'],\n",
                            " 'pet': None,\n",
                            " 'siblings': [{'name': 'Makoto',\n",
                            "   'age': 1000,\n",
                            "   'hobbies': ['katana', 'fishing']},\n",
                            "  {'name': 'Yae', 'age': 1000, 'hobbies': ['flirting', 'foxing']}]}"
                        ]
                    },
                    "execution_count": 49,
                    "metadata": {},
                    "output_type": "execute_result"
                }
            ],
            "source": [
                "# The variable 'hasil' is already defined and contains the loaded JSON data\n",
                "hasil"
            ]
        },
        {
            "cell_type": "code",
            "execution_count": null,
            "metadata": {},
            "outputs": [
                {
                    "name": "stdout",
                    "output_type": "stream",
                    "text": [
                        "Siblings found:\n",
                        "{'name': 'Makoto', 'age': 1000, 'hobbies': ['katana', 'fishing']}\n",
                        "{'name': 'Yae', 'age': 1000, 'hobbies': ['flirting', 'foxing']}\n"
                    ]
                },
                {
                    "data": {
                        "text/plain": [
                            "{'name': 'Yae', 'age': 1000, 'hobbies': ['flirting', 'foxing']}"
                        ]
                    },
                    "execution_count": 51,
                    "metadata": {},
                    "output_type": "execute_result"
                }
            ],
            "source": [
                "siblings = hasil.get('siblings', [])\n",
                "\n",
                "# Print the siblings if they exist\n",
                "if siblings:\n",
                "    print(\"Siblings found:\")\n",
                "    for sibling in siblings:\n",
                "        print(sibling)  \n",
                "else:\n",
                "    print(\"No siblings found in the JSON data.\")\n",
                "# Print the JSON data in a formatted way\n",
                "\n",
                "sibling  "
            ]
        },
        {
            "cell_type": "code",
            "execution_count": null,
            "metadata": {},
            "outputs": [
                {
                    "data": {
                        "text/html": [
                            "<div>\n",
                            "<style scoped>\n",
                            "    .dataframe tbody tr th:only-of-type {\n",
                            "        vertical-align: middle;\n",
                            "    }\n",
                            "\n",
                            "    .dataframe tbody tr th {\n",
                            "        vertical-align: top;\n",
                            "    }\n",
                            "\n",
                            "    .dataframe thead th {\n",
                            "        text-align: right;\n",
                            "    }\n",
                            "</style>\n",
                            "<table border=\"1\" class=\"dataframe\">\n",
                            "  <thead>\n",
                            "    <tr style=\"text-align: right;\">\n",
                            "      <th></th>\n",
                            "      <th>name</th>\n",
                            "      <th>age</th>\n",
                            "    </tr>\n",
                            "  </thead>\n",
                            "  <tbody>\n",
                            "    <tr>\n",
                            "      <th>0</th>\n",
                            "      <td>Makoto</td>\n",
                            "      <td>1000</td>\n",
                            "    </tr>\n",
                            "    <tr>\n",
                            "      <th>1</th>\n",
                            "      <td>Yae</td>\n",
                            "      <td>1000</td>\n",
                            "    </tr>\n",
                            "  </tbody>\n",
                            "</table>\n",
                            "</div>"
                        ],
                        "text/plain": [
                            "     name   age\n",
                            "0  Makoto  1000\n",
                            "1     Yae  1000"
                        ]
                    },
                    "execution_count": 52,
                    "metadata": {},
                    "output_type": "execute_result"
                }
            ],
            "source": [
                "import pandas as pd\n",
                "\n",
                "sister = pd.DataFrame(siblings, columns=['name', 'age'])\n",
                "sister\n",
                "# Display the DataFrame\n"
            ]
        },
        {
            "cell_type": "code",
            "execution_count": 54,
            "metadata": {},
            "outputs": [
                {
                    "name": "stdout",
                    "output_type": "stream",
                    "text": [
                        "File:  ex8.json\n",
                        "Json File {file_path} created successfully with the following data\n"
                    ]
                }
            ],
            "source": [
                "import json\n",
                "\n",
                "file_path = \"ex8.json\"\n",
                "\n",
                "create_data = [\n",
                "    {\"a\": 1, \"b\": 2, \"c\": 3},\n",
                "    {\"a\": 4, \"b\": 5, \"c\": 6},\n",
                "    {\"a\": 7, \"b\": 8, \"c\": 9}\n",
                "]\n",
                "\n",
                "with open(file_path, \"w\", newline=\"\") as f:\n",
                "    json.dump(create_data, f, indent=4)\n",
                "\n",
                "# Read the created JSON file to verify its content \n",
                "print(\"File: \", file_path)\n",
                "print(\"Json File {file_path} created successfully with the following data\")"
            ]
        },
        {
            "cell_type": "code",
            "execution_count": 55,
            "metadata": {},
            "outputs": [
                {
                    "data": {
                        "text/html": [
                            "<div>\n",
                            "<style scoped>\n",
                            "    .dataframe tbody tr th:only-of-type {\n",
                            "        vertical-align: middle;\n",
                            "    }\n",
                            "\n",
                            "    .dataframe tbody tr th {\n",
                            "        vertical-align: top;\n",
                            "    }\n",
                            "\n",
                            "    .dataframe thead th {\n",
                            "        text-align: right;\n",
                            "    }\n",
                            "</style>\n",
                            "<table border=\"1\" class=\"dataframe\">\n",
                            "  <thead>\n",
                            "    <tr style=\"text-align: right;\">\n",
                            "      <th></th>\n",
                            "      <th>a</th>\n",
                            "      <th>b</th>\n",
                            "      <th>c</th>\n",
                            "    </tr>\n",
                            "  </thead>\n",
                            "  <tbody>\n",
                            "    <tr>\n",
                            "      <th>0</th>\n",
                            "      <td>1</td>\n",
                            "      <td>2</td>\n",
                            "      <td>3</td>\n",
                            "    </tr>\n",
                            "    <tr>\n",
                            "      <th>1</th>\n",
                            "      <td>4</td>\n",
                            "      <td>5</td>\n",
                            "      <td>6</td>\n",
                            "    </tr>\n",
                            "    <tr>\n",
                            "      <th>2</th>\n",
                            "      <td>7</td>\n",
                            "      <td>8</td>\n",
                            "      <td>9</td>\n",
                            "    </tr>\n",
                            "  </tbody>\n",
                            "</table>\n",
                            "</div>"
                        ],
                        "text/plain": [
                            "   a  b  c\n",
                            "0  1  2  3\n",
                            "1  4  5  6\n",
                            "2  7  8  9"
                        ]
                    },
                    "execution_count": 55,
                    "metadata": {},
                    "output_type": "execute_result"
                }
            ],
            "source": [
                "data_json = pd.read_json(file_path)\n",
                "data_json\n",
                "# Display the DataFrame"
            ]
        },
        {
            "cell_type": "code",
            "execution_count": 56,
            "metadata": {},
            "outputs": [],
            "source": [
                "# Exporting the DataFrame to a json file to csv file\n",
                "data_json.to_csv(\"ex8.csv\", index=False)"
            ]
        },
        {
            "cell_type": "code",
            "execution_count": 58,
            "metadata": {},
            "outputs": [],
            "source": [
                "# Exporting DataFrame to JSON file\n",
                "data_json.to_json(\"out.json\", orient=\"records\", lines=True)"
            ]
        },
        {
            "cell_type": "code",
            "execution_count": 59,
            "metadata": {},
            "outputs": [
                {
                    "name": "stdout",
                    "output_type": "stream",
                    "text": [
                        "{\"a\":1,\"b\":2,\"c\":3}\n",
                        "{\"a\":4,\"b\":5,\"c\":6}\n",
                        "{\"a\":7,\"b\":8,\"c\":9}\n"
                    ]
                }
            ],
            "source": [
                "!type out.json\n",
                "# Display the DataFrame"
            ]
        }
    ],
    "metadata": {
        "kernelspec": {
            "display_name": "Python 3",
            "language": "python",
            "name": "python3"
        },
        "language_info": {
            "codemirror_mode": {
                "name": "ipython",
                "version": 3
            },
            "file_extension": ".py",
            "mimetype": "text/x-python",
            "name": "python",
            "nbconvert_exporter": "python",
            "pygments_lexer": "ipython3",
            "version": "3.12.0"
        }
    },
    "nbformat": 4,
    "nbformat_minor": 2
}
