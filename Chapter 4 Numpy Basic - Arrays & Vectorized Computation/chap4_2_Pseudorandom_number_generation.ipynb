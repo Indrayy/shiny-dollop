{
 "cells": [
  {
   "cell_type": "code",
   "execution_count": 2,
   "metadata": {},
   "outputs": [
    {
     "data": {
      "text/plain": [
       "array([[-1.16749096,  1.09581939, -0.83424595, -0.5004062 ],\n",
       "       [-1.54663111,  1.79137827,  1.4389199 , -0.33156853],\n",
       "       [-0.08729281, -1.09064332, -0.80194912, -1.55878173],\n",
       "       [-0.22523609,  0.37176048, -1.54732183,  1.33861982]])"
      ]
     },
     "execution_count": 2,
     "metadata": {},
     "output_type": "execute_result"
    }
   ],
   "source": [
    "import numpy as np\n",
    "\n",
    "sample = np.random.standard_normal(size=(4, 4)) # 4x4 matrix of random numbers from a normal distribution\n",
    "sample   "
   ]
  },
  {
   "cell_type": "code",
   "execution_count": 3,
   "metadata": {},
   "outputs": [
    {
     "name": "stdout",
     "output_type": "stream",
     "text": [
      "475 ms ± 16.9 ms per loop (mean ± std. dev. of 7 runs, 1 loop each)\n"
     ]
    }
   ],
   "source": [
    "from random import normalvariate  \n",
    "\n",
    "N = 1_000_000  # Number of samples\n",
    "%timeit sample = [normalvariate(0, 1) for _ in range(N)]  \n",
    "# List comprehension to generate N samples from a normal distribution with mean 0 and stddev 1\n"
   ]
  },
  {
   "cell_type": "code",
   "execution_count": 4,
   "metadata": {},
   "outputs": [
    {
     "name": "stdout",
     "output_type": "stream",
     "text": [
      "18.3 ms ± 405 μs per loop (mean ± std. dev. of 7 runs, 100 loops each)\n"
     ]
    }
   ],
   "source": [
    "%timeit sample = np.random.standard_normal(size=N)\n",
    "# Using numpy to generate N samples from a normal distribution with mean 0 and stddev 1"
   ]
  },
  {
   "cell_type": "code",
   "execution_count": 5,
   "metadata": {},
   "outputs": [
    {
     "data": {
      "text/plain": [
       "array([[ 0.38857362, -1.07808158, -0.33713093],\n",
       "       [ 0.24466868, -1.65151416, -0.65080253]])"
      ]
     },
     "execution_count": 5,
     "metadata": {},
     "output_type": "execute_result"
    }
   ],
   "source": [
    "rng = np.random.default_rng()  # Create a random number generator\n",
    "sample = rng.standard_normal(size=(2, 3)) \n",
    "# 2x3 matrix of random numbers from a normal distribution using the default random number generator in numpy  \n",
    "\n",
    "sample\n",
    "# Using the default random number generator in numpy to generate a 4x4 matrix of random numbers from a normal distribution"
   ]
  },
  {
   "cell_type": "code",
   "execution_count": 6,
   "metadata": {},
   "outputs": [
    {
     "data": {
      "text/plain": [
       "numpy.random._generator.Generator"
      ]
     },
     "execution_count": 6,
     "metadata": {},
     "output_type": "execute_result"
    }
   ],
   "source": [
    "rng = np.random.default_rng(seed=12345)  \n",
    "# Create a random number generator with a fixed seed for reproducibility\n",
    "sample = rng.standard_normal(size=(2, 3))\n",
    "type(rng)\n",
    "# Check the type of the random number generator object"
   ]
  },
  {
   "cell_type": "code",
   "execution_count": 7,
   "metadata": {},
   "outputs": [
    {
     "data": {
      "text/plain": [
       "numpy.ndarray"
      ]
     },
     "execution_count": 7,
     "metadata": {},
     "output_type": "execute_result"
    }
   ],
   "source": [
    "type(sample)\n",
    "# Check the type of the generated sample"
   ]
  }
 ],
 "metadata": {
  "kernelspec": {
   "display_name": "Python 3",
   "language": "python",
   "name": "python3"
  },
  "language_info": {
   "codemirror_mode": {
    "name": "ipython",
    "version": 3
   },
   "file_extension": ".py",
   "mimetype": "text/x-python",
   "name": "python",
   "nbconvert_exporter": "python",
   "pygments_lexer": "ipython3",
   "version": "3.12.0"
  }
 },
 "nbformat": 4,
 "nbformat_minor": 4
}
