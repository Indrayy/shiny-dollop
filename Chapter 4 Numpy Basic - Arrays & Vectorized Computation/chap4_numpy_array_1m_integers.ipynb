{
 "cells": [
  {
   "cell_type": "code",
   "execution_count": 1,
   "id": "9a4d7789-70b8-4856-9eac-26c0a9ba6407",
   "metadata": {
    "scrolled": true
   },
   "outputs": [
    {
     "name": "stdout",
     "output_type": "stream",
     "text": [
      "4.72 ms ± 382 μs per loop (mean ± std. dev. of 7 runs, 100 loops each)\n",
      "85.6 ms ± 6.07 ms per loop (mean ± std. dev. of 7 runs, 10 loops each)\n"
     ]
    }
   ],
   "source": [
    "import numpy as np\n",
    "my_array = np.arange(1_000_000)  # Large NumPy array\n",
    "my_list = list(range(1_000_000))  # Large Python list\n",
    "\n",
    "%timeit my_array2 = my_array * 2\n",
    "%timeit my_list2 = [x * 2 for x in my_list]"
   ]
  },
  {
   "cell_type": "code",
   "execution_count": 2,
   "id": "0295da6b-5a07-437b-bb02-b52cf2f04ac7",
   "metadata": {},
   "outputs": [
    {
     "data": {
      "text/plain": [
       "(4, 5, 6)"
      ]
     },
     "execution_count": 2,
     "metadata": {},
     "output_type": "execute_result"
    }
   ],
   "source": [
    "tup = 4,5,6\n",
    "tup"
   ]
  },
  {
   "cell_type": "code",
   "execution_count": 3,
   "id": "f351eb87-0baf-4dc1-873c-f700dc8f42f4",
   "metadata": {},
   "outputs": [
    {
     "data": {
      "text/plain": [
       "array([[ 1.5, -0.1,  3. ],\n",
       "       [ 0. , -3. ,  6.5]])"
      ]
     },
     "execution_count": 3,
     "metadata": {},
     "output_type": "execute_result"
    }
   ],
   "source": [
    "data = np.array([[1.5,-0.1,3], [0,-3, 6.5]])\n",
    "data  "
   ]
  }
 ],
 "metadata": {
  "kernelspec": {
   "display_name": "Python 3",
   "language": "python",
   "name": "python3"
  },
  "language_info": {
   "codemirror_mode": {
    "name": "ipython",
    "version": 3
   },
   "file_extension": ".py",
   "mimetype": "text/x-python",
   "name": "python",
   "nbconvert_exporter": "python",
   "pygments_lexer": "ipython3",
   "version": "3.12.0"
  }
 },
 "nbformat": 4,
 "nbformat_minor": 5
}
