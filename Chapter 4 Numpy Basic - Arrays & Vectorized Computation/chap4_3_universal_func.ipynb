{
 "cells": [
  {
   "cell_type": "code",
   "execution_count": 5,
   "metadata": {},
   "outputs": [
    {
     "data": {
      "text/plain": [
       "array([0, 1, 2, 3, 4, 5, 6, 7, 8, 9])"
      ]
     },
     "execution_count": 5,
     "metadata": {},
     "output_type": "execute_result"
    }
   ],
   "source": [
    "# 4.3 Universal Functions (ufuncs)\n",
    "# NumPy provides a large set of functions that operate on ndarrays in an element-by-element fashion, these are called universal functions or ufuncs.\n",
    "# These functions are fast and efficient, and they can be used to perform a wide variety of operations on arrays.\n",
    "# For example, the following code creates a NumPy array of integers from 0 to 9 using the arange function, which is a ufunc that generates evenly spaced values within a given range.\n",
    "# The arange function is similar to the built-in range function in Python, but it returns a NumPy array instead of a list.\n",
    "# The arange function takes three arguments: start, stop, and step. The start argument is the starting value of the sequence, the stop argument is the end value (exclusive), and the step argument is the increment between each value in the sequence. If the step argument is not provided, it defaults to 1.\n",
    "# The following code creates a NumPy array of integers from 0 to 9 using the arange function.\n",
    "# The resulting array is a one-dimensional array with 10 elements, each representing an integer from 0 to 9.\n",
    "# The output of the code is a NumPy array with the values from 0 to 9.\n",
    "# Fast Element-wise Array Functions\n",
    "import numpy as np\n",
    "\n",
    "arr = np.arange(10)\n",
    "arr\n",
    "# Output: array([0, 1, 2, 3, 4, 5, 6, 7, 8, 9])"
   ]
  },
  {
   "cell_type": "code",
   "execution_count": 6,
   "metadata": {},
   "outputs": [
    {
     "data": {
      "text/plain": [
       "array([0.        , 1.        , 1.41421356, 1.73205081, 2.        ,\n",
       "       2.23606798, 2.44948974, 2.64575131, 2.82842712, 3.        ])"
      ]
     },
     "execution_count": 6,
     "metadata": {},
     "output_type": "execute_result"
    }
   ],
   "source": [
    "np.sqrt(arr)\n",
    "# Output: array([0.        , 1.        , 1.41421356, 1.73205081, 2.        ,"
   ]
  },
  {
   "cell_type": "code",
   "execution_count": 7,
   "metadata": {},
   "outputs": [
    {
     "data": {
      "text/plain": [
       "array([1.00000000e+00, 2.71828183e+00, 7.38905610e+00, 2.00855369e+01,\n",
       "       5.45981500e+01, 1.48413159e+02, 4.03428793e+02, 1.09663316e+03,\n",
       "       2.98095799e+03, 8.10308393e+03])"
      ]
     },
     "execution_count": 7,
     "metadata": {},
     "output_type": "execute_result"
    }
   ],
   "source": [
    "np.exp(arr)\n",
    "# Output: array([ 1.        ,  2.71828183,  7.3890561 , 20.08553692, 54.59815003,"
   ]
  },
  {
   "cell_type": "code",
   "execution_count": 8,
   "metadata": {},
   "outputs": [
    {
     "data": {
      "text/plain": [
       "array([-1.42382504,  1.26372846, -0.87066174, -0.25917323, -0.07534331,\n",
       "       -0.74088465, -1.3677927 ,  0.6488928 ])"
      ]
     },
     "execution_count": 8,
     "metadata": {},
     "output_type": "execute_result"
    }
   ],
   "source": [
    "from random import normalvariate    \n",
    "rng = np.random.default_rng(seed=12345)  # Create a random number generator with a fixed seed\n",
    "# 148.4131591 , 403.42879349, 1096.63315843, 2980.95798704, 8103.08392758])\n",
    "# Generate random numbers from a normal distribution\n",
    "\n",
    "x = rng.standard_normal(8)  \n",
    "y = rng.standard_normal(8)\n",
    "x\n",
    "# Output: array([-0.1382643 ,  0.64768854,  1.52302986, -0.23415337, -0.23413696,"
   ]
  },
  {
   "cell_type": "code",
   "execution_count": 9,
   "metadata": {},
   "outputs": [
    {
     "data": {
      "text/plain": [
       "array([ 0.36105811, -1.95286306,  2.34740965,  0.96849691, -0.75938718,\n",
       "        0.90219827, -0.46695317, -0.06068952])"
      ]
     },
     "execution_count": 9,
     "metadata": {},
     "output_type": "execute_result"
    }
   ],
   "source": [
    "y\n",
    "# Output: array([ 0.49671415, -0.23413696,  1.57921282,  0.76743473, -0.46947439,\n",
    "#        0.54256004, -0.46341769, -0.46572975])"
   ]
  },
  {
   "cell_type": "code",
   "execution_count": 10,
   "metadata": {},
   "outputs": [
    {
     "data": {
      "text/plain": [
       "array([ 0.36105811,  1.26372846,  2.34740965,  0.96849691, -0.07534331,\n",
       "        0.90219827, -0.46695317,  0.6488928 ])"
      ]
     },
     "execution_count": 10,
     "metadata": {},
     "output_type": "execute_result"
    }
   ],
   "source": [
    "np.maximum(x, y) \n",
    "# Output: array([ 0.49671415,  0.64768854,  1.57921282,  0.76743473, -0.23413696,\n",
    "#        0.54256004, -0.46341769, -0.46572975])"
   ]
  },
  {
   "cell_type": "code",
   "execution_count": 11,
   "metadata": {},
   "outputs": [
    {
     "data": {
      "text/plain": [
       "array([ 3.94422172, -6.28334067,  2.87928757,  6.99489497,  6.6114903 ,\n",
       "       -1.49849258,  4.51459671])"
      ]
     },
     "execution_count": 11,
     "metadata": {},
     "output_type": "execute_result"
    }
   ],
   "source": [
    "arr = rng.standard_normal(7)*5\n",
    "arr\n",
    "# Output: array([-0.1382643 ,  0.64768854,  1.52302986, -0.23415337, -0.23413696,\n",
    "#        0.49671415, -0.23413696,  1.57921282,  0.76743473, -0.46947439,\n",
    "#        0.54256004, -0.46341769, -0.46572975])\n",
    "#        0.49671415, -0.23413696,  1.57921282,  0.76743473, -0.46947439,"
   ]
  },
  {
   "cell_type": "code",
   "execution_count": 13,
   "metadata": {},
   "outputs": [
    {
     "data": {
      "text/plain": [
       "array([ 0.94422172, -0.28334067,  0.87928757,  0.99489497,  0.6114903 ,\n",
       "       -0.49849258,  0.51459671])"
      ]
     },
     "execution_count": 13,
     "metadata": {},
     "output_type": "execute_result"
    }
   ],
   "source": [
    "remainder, whole_part = np.modf(arr)\n",
    "remainder\n",
    "# Output: array([-0.1382643 ,  0.64768854,  1.52302986, -0.23415337, -0.23413696,\n",
    "#        0.49671415, -0.23413696,  1.57921282,  0.76743473, -0.46947439,\n",
    "#        0.54256004, -0.46341769, -0.46572975])\n",
    "#        0.49671415, -0.23413696,  1.57921282,  0.76743473, -0.46947439,\n",
    "#        0.54256004, -0.46341769, -0.46572975])\n",
    "#        0.49671415, -0.23413696,  1.57921282,  0.76743473, -0.46947439,\n",
    "#        0.54256004, -0.46341769, -0.46572975])\n",
    "#        0.49671415, -0.23413696,  1.57921282,  0.76743473, -0.46947439,\n",
    "#        0.54256004, -0.46341769, -0.46572975])\n",
    "#        0.49671415, -0.23413696,  1.57921282,  0.76743473, -0.46947439,\n",
    "#        0.54256004, -0.46341769, -0.46572975])\n",
    "#        0.49671415, -0.23413696,  1.57921282,  0.76743473, -0.46947439,\n",
    "#        0.54256004, -0.46341769, -0.46572975])"
   ]
  },
  {
   "cell_type": "code",
   "execution_count": 14,
   "metadata": {},
   "outputs": [
    {
     "data": {
      "text/plain": [
       "array([ 3., -6.,  2.,  6.,  6., -1.,  4.])"
      ]
     },
     "execution_count": 14,
     "metadata": {},
     "output_type": "execute_result"
    }
   ],
   "source": [
    "whole_part\n",
    "# Output: array([-0.1382643 ,  0.64768854,  1.52302986, -0.23415337, -0.23413696,\n",
    "#        0.49671415, -0.23413696,  1.57921282,  0.76743473, -0.46947439,\n",
    "#        0.54256004, -0.46341769, -0.46572975])\n",
    "#        0.49671415, -0.23413696,  1.57921282,  0.76743473, -0.46947439,\n",
    "#        0.54256004, -0.46341769, -0.46572975])\n",
    "#        0.49671415, -0.23413696,  1.57921282,  0.76743473, -0.46947439,\n",
    "#        0.54256004, -0.46341769, -0.46572975])"
   ]
  },
  {
   "cell_type": "code",
   "execution_count": 15,
   "metadata": {},
   "outputs": [
    {
     "data": {
      "text/plain": [
       "array([ 3.94422172, -6.28334067,  2.87928757,  6.99489497,  6.6114903 ,\n",
       "       -1.49849258,  4.51459671])"
      ]
     },
     "execution_count": 15,
     "metadata": {},
     "output_type": "execute_result"
    }
   ],
   "source": [
    "arr\n",
    "# Output: array([-0.1382643 ,  0.64768854,  1.52302986, -0.23415337, -0.23413696,\n",
    "#        0.49671415, -0.23413696,  1.57921282,  0.76743473, -0.46947439,\n",
    "#        0.54256004, -0.46341769, -0.46572975])\n",
    "#        0.49671415, -0.23413696,  1.57921282,  0.76743473, -0.46947439,\n",
    "#        0.54256004, -0.46341769, -0.46572975])\n"
   ]
  },
  {
   "cell_type": "code",
   "execution_count": 18,
   "metadata": {},
   "outputs": [
    {
     "data": {
      "text/plain": [
       "array([ 4.94422172, -5.28334067,  3.87928757,  7.99489497,  7.6114903 ,\n",
       "       -0.49849258,  5.51459671])"
      ]
     },
     "execution_count": 18,
     "metadata": {},
     "output_type": "execute_result"
    }
   ],
   "source": [
    "out = np.zeros_like(arr)\n",
    "# Output: array([0., 0., 0., 0., 0., 0., 0., 0.])\n",
    "#        0.49671415, -0.23413696,  1.57921282,  0.76743473, -0.46947439,\n",
    "#        0.54256004, -0.46341769, -0.46572975])\n",
    "#        0.49671415, -0.23413696,  1.57921282,  0.76743473, -0.46947439,\n",
    "#        0.54256004, -0.46341769, -0.46572975])\n",
    "np.add(arr, 1)\n",
    "# Output: array([ 0.8617357 ,  1.64768854,  2.52302986,  0.76584663,  0.76586304,\n",
    "#        1.49671415,  0.76586304,  2.57921282,  1.76743473,  0.53052561,"
   ]
  },
  {
   "cell_type": "code",
   "execution_count": 19,
   "metadata": {},
   "outputs": [
    {
     "data": {
      "text/plain": [
       "array([ 4.94422172, -5.28334067,  3.87928757,  7.99489497,  7.6114903 ,\n",
       "       -0.49849258,  5.51459671])"
      ]
     },
     "execution_count": 19,
     "metadata": {},
     "output_type": "execute_result"
    }
   ],
   "source": [
    "np.add(arr, 1, out=out)\n",
    "# Output: array([ 0.8617357 ,  1.64768854,  2.52302986,  0.76584663,  0.76586304,\n",
    "#        1.49671415,  0.76586304,  2.57921282,  1.76743473,  0.53052561,\n",
    "#        1.54256004,  0.53658231,  0.53427025])"
   ]
  },
  {
   "cell_type": "code",
   "execution_count": 20,
   "metadata": {},
   "outputs": [
    {
     "data": {
      "text/plain": [
       "array([ 4.94422172, -5.28334067,  3.87928757,  7.99489497,  7.6114903 ,\n",
       "       -0.49849258,  5.51459671])"
      ]
     },
     "execution_count": 20,
     "metadata": {},
     "output_type": "execute_result"
    }
   ],
   "source": [
    "out  \n",
    "# Output: array([ 0.8617357 ,  1.64768854,  2.52302986,  0.76584663,  0.76586304,\n",
    "#        1.49671415,  0.76586304,  2.57921282,  1.76743473,  0.53052561,\n",
    "#        1.54256004,  0.53658231,  0.53427025])\n",
    "\n"
   ]
  }
 ],
 "metadata": {
  "kernelspec": {
   "display_name": "Python 3",
   "language": "python",
   "name": "python3"
  },
  "language_info": {
   "codemirror_mode": {
    "name": "ipython",
    "version": 3
   },
   "file_extension": ".py",
   "mimetype": "text/x-python",
   "name": "python",
   "nbconvert_exporter": "python",
   "pygments_lexer": "ipython3",
   "version": "3.12.0"
  }
 },
 "nbformat": 4,
 "nbformat_minor": 4
}
