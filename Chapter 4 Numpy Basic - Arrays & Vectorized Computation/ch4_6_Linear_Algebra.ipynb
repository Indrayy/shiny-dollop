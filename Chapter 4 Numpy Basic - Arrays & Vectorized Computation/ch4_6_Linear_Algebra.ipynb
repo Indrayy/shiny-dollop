{
 "cells": [
  {
   "cell_type": "code",
   "execution_count": 2,
   "metadata": {},
   "outputs": [
    {
     "data": {
      "text/plain": [
       "array([[1., 2., 3.],\n",
       "       [4., 5., 6.]])"
      ]
     },
     "execution_count": 2,
     "metadata": {},
     "output_type": "execute_result"
    }
   ],
   "source": [
    "import numpy as np\n",
    "import matplotlib.pyplot as plt\n",
    "\n",
    "x = np.array([[1.,2.,3.], \n",
    "              [4.,5.,6.]])\n",
    "\n",
    "y = np.array([[6.,23.],\n",
    "              [-1,7],\n",
    "              [8,9]])\n",
    "\n",
    "# matrix multiplication using numpy\n",
    "x \n"
   ]
  },
  {
   "cell_type": "code",
   "execution_count": 3,
   "metadata": {},
   "outputs": [
    {
     "data": {
      "text/plain": [
       "array([[ 6., 23.],\n",
       "       [-1.,  7.],\n",
       "       [ 8.,  9.]])"
      ]
     },
     "execution_count": 3,
     "metadata": {},
     "output_type": "execute_result"
    }
   ],
   "source": [
    "y "
   ]
  },
  {
   "cell_type": "code",
   "execution_count": null,
   "metadata": {},
   "outputs": [
    {
     "data": {
      "text/plain": [
       "array([[ 28.,  64.],\n",
       "       [ 67., 181.]])"
      ]
     },
     "execution_count": 4,
     "metadata": {},
     "output_type": "execute_result"
    }
   ],
   "source": [
    "x.dot(y) # matrix multiplication\n",
    "# or using the @ operator\n"
   ]
  },
  {
   "cell_type": "code",
   "execution_count": null,
   "metadata": {},
   "outputs": [
    {
     "data": {
      "text/plain": [
       "array([[ 28.,  64.],\n",
       "       [ 67., 181.]])"
      ]
     },
     "execution_count": 5,
     "metadata": {},
     "output_type": "execute_result"
    }
   ],
   "source": [
    "x @ y # matrix multiplication   "
   ]
  },
  {
   "cell_type": "code",
   "execution_count": 6,
   "metadata": {},
   "outputs": [
    {
     "data": {
      "text/plain": [
       "array([[ 28.,  64.],\n",
       "       [ 67., 181.]])"
      ]
     },
     "execution_count": 6,
     "metadata": {},
     "output_type": "execute_result"
    }
   ],
   "source": [
    "np.dot(x, y) # matrix multiplication\n",
    "# or using the @ operator"
   ]
  },
  {
   "cell_type": "code",
   "execution_count": 7,
   "metadata": {},
   "outputs": [
    {
     "data": {
      "text/plain": [
       "array([ 6., 15.])"
      ]
     },
     "execution_count": 7,
     "metadata": {},
     "output_type": "execute_result"
    }
   ],
   "source": [
    "x @ np.ones(3) # matrix multiplication"
   ]
  },
  {
   "cell_type": "code",
   "execution_count": null,
   "metadata": {},
   "outputs": [],
   "source": [
    "from random import normalvariate    \n",
    "rng = np.random.default_rng(seed=12345)\n",
    "\n",
    "\n",
    "\n",
    "\n"
   ]
  },
  {
   "cell_type": "code",
   "execution_count": 10,
   "metadata": {},
   "outputs": [
    {
     "data": {
      "text/plain": [
       "array([[ 0.44948393, -1.34360107, -0.08168759,  1.72473993,  2.61815943],\n",
       "       [ 0.77736134,  0.8286332 , -0.95898831, -1.20938829, -1.41229201],\n",
       "       [ 0.54154683,  0.7519394 , -0.65876032, -1.22867499,  0.25755777],\n",
       "       [ 0.31290292, -0.13081169,  1.26998312, -0.09296246, -0.06615089],\n",
       "       [-1.10821447,  0.13595685,  1.34707776,  0.06114402,  0.0709146 ]])"
      ]
     },
     "execution_count": 10,
     "metadata": {},
     "output_type": "execute_result"
    }
   ],
   "source": [
    "from numpy.linalg import inv, qr\n",
    "# inverse of a matrix\n",
    "X = rng.standard_normal((5, 5))\n",
    "X "
   ]
  },
  {
   "cell_type": "code",
   "execution_count": 11,
   "metadata": {},
   "outputs": [
    {
     "data": {
      "text/plain": [
       "array([[ 12.32597814,  48.47078428,   4.7395685 ,  33.31917729,\n",
       "          1.53071665],\n",
       "       [ 48.47078428, 204.12279205,  18.52724649, 139.4197772 ,\n",
       "          7.24368453],\n",
       "       [  4.7395685 ,  18.52724649,   2.07089433,  12.60432674,\n",
       "          0.64333227],\n",
       "       [ 33.31917729, 139.4197772 ,  12.60432674,  95.85084362,\n",
       "          4.53620833],\n",
       "       [  1.53071665,   7.24368453,   0.64333227,   4.53620833,\n",
       "          0.64593751]])"
      ]
     },
     "execution_count": 11,
     "metadata": {},
     "output_type": "execute_result"
    }
   ],
   "source": [
    "mat = X.T @ X # make it symmetric positive-definite\n",
    "inv(mat) # inverse of a matrix"
   ]
  },
  {
   "cell_type": "code",
   "execution_count": 12,
   "metadata": {},
   "outputs": [
    {
     "data": {
      "text/plain": [
       "array([[ 1.00000000e+00, -1.26539346e-14,  1.01405894e-15,\n",
       "        -1.45787873e-15, -3.95760973e-16],\n",
       "       [-2.44514270e-14,  1.00000000e+00, -4.17453024e-15,\n",
       "         2.78165026e-15,  5.30822797e-15],\n",
       "       [ 4.21759538e-15,  7.25983678e-15,  1.00000000e+00,\n",
       "        -1.64897034e-15, -6.87413062e-16],\n",
       "       [ 2.38766152e-15, -1.54521884e-13, -1.05086545e-14,\n",
       "         1.00000000e+00, -1.02069303e-14],\n",
       "       [ 4.40087386e-14,  1.75039100e-13,  2.46144353e-14,\n",
       "         1.62189363e-13,  1.00000000e+00]])"
      ]
     },
     "execution_count": 12,
     "metadata": {},
     "output_type": "execute_result"
    }
   ],
   "source": [
    "mat @ inv(mat) # identity matrix\n",
    "# QR decomposition\n"
   ]
  }
 ],
 "metadata": {
  "kernelspec": {
   "display_name": "Python 3",
   "language": "python",
   "name": "python3"
  },
  "language_info": {
   "codemirror_mode": {
    "name": "ipython",
    "version": 3
   },
   "file_extension": ".py",
   "mimetype": "text/x-python",
   "name": "python",
   "nbconvert_exporter": "python",
   "pygments_lexer": "ipython3",
   "version": "3.12.0"
  }
 },
 "nbformat": 4,
 "nbformat_minor": 4
}
