{
 "cells": [
  {
   "cell_type": "code",
   "execution_count": 2,
   "id": "1f6eab1b",
   "metadata": {},
   "outputs": [],
   "source": [
    "# 7.2 Categorical data\n",
    "# --- a/vscode-notebook-cell:/g%3A/Engineering%20%26\n",
    "# 20Design%20Archives/Computing%20Engineering/Data%20Science%20%26%20Engineering%20Work/Python%20Grimoire%20at%20work/Data%20Analyst%20Concepts/Wes%20McKinney-Python%20for%20Data%20Analyst/Chapter%207%20Data%20Cleaning%20%26%20preparations/ch7_4_string_manipulation.ipynb#X64sZmlsZQ%3D%3D\n",
    "# +++ b/vscode-notebook-cell:/g%3A/Engineering%20%\n",
    "# 26%20Design%20Archives/Computing%20Engineering/Data%20Science%20%26%20Engineering%20Work/Python%20Grimoire%20at%20work/Data%20Analyst%20Concepts/Wes%20McKinney-Python%20for%20Data%20Analyst/Chapter%207%20Data%20Cleaning%20%26%20preparations/ch7_4_string_manipulation.ipynb#X64sZmlsZQ%3D%3D\n",
    "# @@ -1,1 +1,1 @@\n",
    "# +data.str.replace(\"gmail\", \"googlemail\", regex=False)\n",
    "# -d --- IGNORE ---\n",
    "# File: ch7_4_string_manipulation.ipynb\n",
    "# --- a/vscode-notebook-cell:/g%3A/Engineering%20%26\n",
    "# 20Design%20Archives/Computing%20Engineering/Data%20Science%20%26%20Engineering%20Work/Python%20Grimoire%20at%20work/Data%20Analyst%20Concepts/Wes%20McKinney-Python%20for%20Data%20Analyst/Chapter%207%20Data%20Cleaning%20%26%20preparations/ch7_4_string_manipulation.ipynb#X65sZmlsZQ%3D%3D\n",
    "# +++ b/vscode-notebook-cell:/g%3A/Engineering%20%26%20Design%20Archives/Computing%20Engineering/Data%20Science%20%26%20Engineering%20Work/Python%20Grimoire%20at%20work/Data%20Analyst%20Concepts/Wes%20McKinney-Python%20for%20Data%20Analyst/Chapter%207%20Data%20Cleaning%20%26%20preparations/ch7_4_string_manipulation.ipynb#X65sZmlsZQ%3D%3D\n"
   ]
  },
  {
   "cell_type": "code",
   "execution_count": 3,
   "id": "94bcbd49",
   "metadata": {},
   "outputs": [
    {
     "data": {
      "text/plain": [
       "0         btc\n",
       "1    litecoin\n",
       "2         btc\n",
       "3         btc\n",
       "4         btc\n",
       "5    litecoin\n",
       "6         btc\n",
       "7         btc\n",
       "dtype: object"
      ]
     },
     "execution_count": 3,
     "metadata": {},
     "output_type": "execute_result"
    }
   ],
   "source": [
    "import pandas as pd\n",
    "import numpy as np\n",
    "import matplotlib.pyplot as plt\n",
    "import re\n",
    "# Sample data\n",
    "\n",
    "values = pd.Series(['btc', 'litecoin', 'btc', 'btc'] * 2)\n",
    "\n",
    "values  \n",
    "# Convert the Series to string type to avoid NaN issues"
   ]
  },
  {
   "cell_type": "code",
   "execution_count": 4,
   "id": "78397449",
   "metadata": {},
   "outputs": [
    {
     "data": {
      "text/plain": [
       "array(['btc', 'litecoin'], dtype=object)"
      ]
     },
     "execution_count": 4,
     "metadata": {},
     "output_type": "execute_result"
    }
   ],
   "source": [
    "pd.unique(values.astype(str))"
   ]
  },
  {
   "cell_type": "code",
   "execution_count": 5,
   "id": "41d60682",
   "metadata": {},
   "outputs": [
    {
     "data": {
      "text/plain": [
       "array(['btc', 'litecoin'], dtype=object)"
      ]
     },
     "execution_count": 5,
     "metadata": {},
     "output_type": "execute_result"
    }
   ],
   "source": [
    "pd.unique(values)"
   ]
  },
  {
   "cell_type": "code",
   "execution_count": 6,
   "id": "0289e58c",
   "metadata": {},
   "outputs": [
    {
     "name": "stderr",
     "output_type": "stream",
     "text": [
      "C:\\Users\\NITRO\\AppData\\Local\\Temp\\ipykernel_9828\\3297668723.py:1: FutureWarning: pandas.value_counts is deprecated and will be removed in a future version. Use pd.Series(obj).value_counts() instead.\n",
      "  pd.value_counts(values)\n"
     ]
    },
    {
     "data": {
      "text/plain": [
       "btc         6\n",
       "litecoin    2\n",
       "Name: count, dtype: int64"
      ]
     },
     "execution_count": 6,
     "metadata": {},
     "output_type": "execute_result"
    }
   ],
   "source": [
    "pd.value_counts(values)"
   ]
  },
  {
   "cell_type": "code",
   "execution_count": 7,
   "id": "08827223",
   "metadata": {},
   "outputs": [
    {
     "data": {
      "text/html": [
       "<div>\n",
       "<style scoped>\n",
       "    .dataframe tbody tr th:only-of-type {\n",
       "        vertical-align: middle;\n",
       "    }\n",
       "\n",
       "    .dataframe tbody tr th {\n",
       "        vertical-align: top;\n",
       "    }\n",
       "\n",
       "    .dataframe thead th {\n",
       "        text-align: right;\n",
       "    }\n",
       "</style>\n",
       "<table border=\"1\" class=\"dataframe\">\n",
       "  <thead>\n",
       "    <tr style=\"text-align: right;\">\n",
       "      <th></th>\n",
       "      <th>values</th>\n",
       "      <th>dim</th>\n",
       "    </tr>\n",
       "  </thead>\n",
       "  <tbody>\n",
       "    <tr>\n",
       "      <th>0</th>\n",
       "      <td>0</td>\n",
       "      <td>bitcoin</td>\n",
       "    </tr>\n",
       "    <tr>\n",
       "      <th>1</th>\n",
       "      <td>1</td>\n",
       "      <td>litecoin</td>\n",
       "    </tr>\n",
       "    <tr>\n",
       "      <th>2</th>\n",
       "      <td>0</td>\n",
       "      <td>NaN</td>\n",
       "    </tr>\n",
       "    <tr>\n",
       "      <th>3</th>\n",
       "      <td>0</td>\n",
       "      <td>NaN</td>\n",
       "    </tr>\n",
       "    <tr>\n",
       "      <th>4</th>\n",
       "      <td>0</td>\n",
       "      <td>NaN</td>\n",
       "    </tr>\n",
       "    <tr>\n",
       "      <th>5</th>\n",
       "      <td>1</td>\n",
       "      <td>NaN</td>\n",
       "    </tr>\n",
       "    <tr>\n",
       "      <th>6</th>\n",
       "      <td>0</td>\n",
       "      <td>NaN</td>\n",
       "    </tr>\n",
       "    <tr>\n",
       "      <th>7</th>\n",
       "      <td>0</td>\n",
       "      <td>NaN</td>\n",
       "    </tr>\n",
       "  </tbody>\n",
       "</table>\n",
       "</div>"
      ],
      "text/plain": [
       "  values       dim\n",
       "0      0   bitcoin\n",
       "1      1  litecoin\n",
       "2      0       NaN\n",
       "3      0       NaN\n",
       "4      0       NaN\n",
       "5      1       NaN\n",
       "6      0       NaN\n",
       "7      0       NaN"
      ]
     },
     "execution_count": 7,
     "metadata": {},
     "output_type": "execute_result"
    }
   ],
   "source": [
    "values1 = pd.Series(['0', '1', '0', '0'] * 2)\n",
    "\n",
    "dim = pd.Series(['bitcoin', 'litecoin'])\n",
    "# Create a DataFrame with the values and dimensions\n",
    "df = pd.DataFrame({'values': values1, 'dim': dim})\n",
    "# Convert the 'values' column to categorical\n",
    "df['values'] = df['values'].astype('category')\n",
    "# Display the DataFrame\n",
    "df"
   ]
  },
  {
   "cell_type": "code",
   "execution_count": 8,
   "id": "cb046451",
   "metadata": {},
   "outputs": [
    {
     "data": {
      "text/plain": [
       "0    0\n",
       "1    1\n",
       "2    0\n",
       "3    0\n",
       "4    0\n",
       "5    1\n",
       "6    0\n",
       "7    0\n",
       "dtype: object"
      ]
     },
     "execution_count": 8,
     "metadata": {},
     "output_type": "execute_result"
    }
   ],
   "source": [
    "values1  "
   ]
  },
  {
   "cell_type": "code",
   "execution_count": 9,
   "id": "676c7ccf",
   "metadata": {},
   "outputs": [
    {
     "data": {
      "text/plain": [
       "0     bitcoin\n",
       "1    litecoin\n",
       "dtype: object"
      ]
     },
     "execution_count": 9,
     "metadata": {},
     "output_type": "execute_result"
    }
   ],
   "source": [
    "dim"
   ]
  },
  {
   "cell_type": "code",
   "execution_count": 10,
   "id": "d6bafac3",
   "metadata": {},
   "outputs": [
    {
     "data": {
      "text/plain": [
       "0     bitcoin\n",
       "1    litecoin\n",
       "0     bitcoin\n",
       "0     bitcoin\n",
       "0     bitcoin\n",
       "1    litecoin\n",
       "0     bitcoin\n",
       "0     bitcoin\n",
       "dtype: object"
      ]
     },
     "execution_count": 10,
     "metadata": {},
     "output_type": "execute_result"
    }
   ],
   "source": [
    "dim.take(values1) "
   ]
  },
  {
   "cell_type": "code",
   "execution_count": 11,
   "id": "d9b99c1b",
   "metadata": {},
   "outputs": [
    {
     "data": {
      "text/html": [
       "<div>\n",
       "<style scoped>\n",
       "    .dataframe tbody tr th:only-of-type {\n",
       "        vertical-align: middle;\n",
       "    }\n",
       "\n",
       "    .dataframe tbody tr th {\n",
       "        vertical-align: top;\n",
       "    }\n",
       "\n",
       "    .dataframe thead th {\n",
       "        text-align: right;\n",
       "    }\n",
       "</style>\n",
       "<table border=\"1\" class=\"dataframe\">\n",
       "  <thead>\n",
       "    <tr style=\"text-align: right;\">\n",
       "      <th></th>\n",
       "      <th>crypto_id</th>\n",
       "      <th>currency</th>\n",
       "      <th>value</th>\n",
       "      <th>volume</th>\n",
       "    </tr>\n",
       "  </thead>\n",
       "  <tbody>\n",
       "    <tr>\n",
       "      <th>0</th>\n",
       "      <td>0</td>\n",
       "      <td>bitcoin</td>\n",
       "      <td>11</td>\n",
       "      <td>1.564438</td>\n",
       "    </tr>\n",
       "    <tr>\n",
       "      <th>1</th>\n",
       "      <td>1</td>\n",
       "      <td>litecoin</td>\n",
       "      <td>5</td>\n",
       "      <td>1.331256</td>\n",
       "    </tr>\n",
       "    <tr>\n",
       "      <th>2</th>\n",
       "      <td>2</td>\n",
       "      <td>bitcoin</td>\n",
       "      <td>12</td>\n",
       "      <td>2.393235</td>\n",
       "    </tr>\n",
       "    <tr>\n",
       "      <th>3</th>\n",
       "      <td>3</td>\n",
       "      <td>bitcoin</td>\n",
       "      <td>6</td>\n",
       "      <td>0.746937</td>\n",
       "    </tr>\n",
       "    <tr>\n",
       "      <th>4</th>\n",
       "      <td>4</td>\n",
       "      <td>bitcoin</td>\n",
       "      <td>5</td>\n",
       "      <td>2.691024</td>\n",
       "    </tr>\n",
       "    <tr>\n",
       "      <th>5</th>\n",
       "      <td>5</td>\n",
       "      <td>litecoin</td>\n",
       "      <td>12</td>\n",
       "      <td>3.767211</td>\n",
       "    </tr>\n",
       "    <tr>\n",
       "      <th>6</th>\n",
       "      <td>6</td>\n",
       "      <td>bitcoin</td>\n",
       "      <td>10</td>\n",
       "      <td>0.992983</td>\n",
       "    </tr>\n",
       "    <tr>\n",
       "      <th>7</th>\n",
       "      <td>7</td>\n",
       "      <td>bitcoin</td>\n",
       "      <td>11</td>\n",
       "      <td>3.795525</td>\n",
       "    </tr>\n",
       "  </tbody>\n",
       "</table>\n",
       "</div>"
      ],
      "text/plain": [
       "   crypto_id  currency  value    volume\n",
       "0          0   bitcoin     11  1.564438\n",
       "1          1  litecoin      5  1.331256\n",
       "2          2   bitcoin     12  2.393235\n",
       "3          3   bitcoin      6  0.746937\n",
       "4          4   bitcoin      5  2.691024\n",
       "5          5  litecoin     12  3.767211\n",
       "6          6   bitcoin     10  0.992983\n",
       "7          7   bitcoin     11  3.795525"
      ]
     },
     "execution_count": 11,
     "metadata": {},
     "output_type": "execute_result"
    }
   ],
   "source": [
    "currencies = ['bitcoin', 'litecoin', 'bitcoin', 'bitcoin'] *2\n",
    "# Create a Series with the currencies\n",
    "N = len(currencies)\n",
    "rng = np.random.default_rng(seed=12345)\n",
    "\n",
    "df1 = pd.DataFrame({'currency': currencies,\n",
    "                   'crypto_id':np.arange(N), \n",
    "                   'value': rng.integers(3, 15, size=N), # random integers between 3 and 15\n",
    "                   'volume': rng.uniform(0, 4, size=N)}, # random floats between 0 and 4\n",
    "                   columns=['crypto_id', 'currency', 'value', 'volume'])\n",
    "# Display the DataFrame\n",
    "df1"
   ]
  },
  {
   "cell_type": "code",
   "execution_count": 12,
   "id": "fed12806",
   "metadata": {},
   "outputs": [
    {
     "data": {
      "text/plain": [
       "['bitcoin', 'litecoin', 'bitcoin', 'bitcoin', 'bitcoin', 'litecoin', 'bitcoin', 'bitcoin']\n",
       "Categories (2, object): ['bitcoin', 'litecoin']"
      ]
     },
     "execution_count": 12,
     "metadata": {},
     "output_type": "execute_result"
    }
   ],
   "source": [
    "currencies_cat = pd.Categorical(currencies)\n",
    "# Display the Categorical object\n",
    "currencies_cat"
   ]
  },
  {
   "cell_type": "code",
   "execution_count": 13,
   "id": "1a318625",
   "metadata": {},
   "outputs": [
    {
     "data": {
      "text/plain": [
       "0     bitcoin\n",
       "1    litecoin\n",
       "2     bitcoin\n",
       "3     bitcoin\n",
       "4     bitcoin\n",
       "5    litecoin\n",
       "6     bitcoin\n",
       "7     bitcoin\n",
       "Name: currency, dtype: category\n",
       "Categories (2, object): ['bitcoin', 'litecoin']"
      ]
     },
     "execution_count": 13,
     "metadata": {},
     "output_type": "execute_result"
    }
   ],
   "source": [
    "currencies_cat = df1['currency'].astype('category')\n",
    "# Display the Categorical object\n",
    "currencies_cat"
   ]
  },
  {
   "cell_type": "code",
   "execution_count": 14,
   "id": "ba834777",
   "metadata": {},
   "outputs": [
    {
     "data": {
      "text/plain": [
       "pandas.core.arrays.categorical.Categorical"
      ]
     },
     "execution_count": 14,
     "metadata": {},
     "output_type": "execute_result"
    }
   ],
   "source": [
    "c = currencies_cat.array\n",
    "\n",
    "type(c)"
   ]
  },
  {
   "cell_type": "code",
   "execution_count": 15,
   "id": "3b610c1a",
   "metadata": {},
   "outputs": [
    {
     "data": {
      "text/plain": [
       "Index(['bitcoin', 'litecoin'], dtype='object')"
      ]
     },
     "execution_count": 15,
     "metadata": {},
     "output_type": "execute_result"
    }
   ],
   "source": [
    "c.categories"
   ]
  },
  {
   "cell_type": "code",
   "execution_count": 16,
   "id": "94317d90",
   "metadata": {},
   "outputs": [
    {
     "data": {
      "text/plain": [
       "array([0, 1, 0, 0, 0, 1, 0, 0], dtype=int8)"
      ]
     },
     "execution_count": 16,
     "metadata": {},
     "output_type": "execute_result"
    }
   ],
   "source": [
    "c.codes"
   ]
  },
  {
   "cell_type": "code",
   "execution_count": 17,
   "id": "862c860d",
   "metadata": {},
   "outputs": [
    {
     "name": "stderr",
     "output_type": "stream",
     "text": [
      "C:\\Users\\NITRO\\AppData\\Local\\Temp\\ipykernel_9828\\1564522419.py:2: FutureWarning: The default value of 'ignore' for the `na_action` parameter in pandas.Categorical.map is deprecated and will be changed to 'None' in a future version. Please set na_action to the desired value to avoid seeing this warning\n",
      "  d = c.map(mapping)\n"
     ]
    },
    {
     "data": {
      "text/plain": [
       "[0, 1, 0, 0, 0, 1, 0, 0]\n",
       "Categories (2, int64): [0, 1]"
      ]
     },
     "execution_count": 17,
     "metadata": {},
     "output_type": "execute_result"
    }
   ],
   "source": [
    "mapping = {'bitcoin': 0, 'litecoin': 1}\n",
    "d = c.map(mapping)\n",
    "d"
   ]
  },
  {
   "cell_type": "code",
   "execution_count": 18,
   "id": "6fce8566",
   "metadata": {},
   "outputs": [],
   "source": [
    "# Restore built-in dict if overwritten\n",
    "if 'dict' in globals() and not isinstance(dict, type):\n",
    "\tdel dict\n",
    "\n",
    "# Convert the Categorical object to a dictionary mapping category codes to category names\n",
    "category_dict = dict(enumerate(c.categories))\n"
   ]
  },
  {
   "cell_type": "code",
   "execution_count": 19,
   "id": "db48b184",
   "metadata": {},
   "outputs": [
    {
     "data": {
      "text/plain": [
       "{0: 'bitcoin', 1: 'litecoin'}"
      ]
     },
     "execution_count": 19,
     "metadata": {},
     "output_type": "execute_result"
    }
   ],
   "source": [
    "category_dict"
   ]
  },
  {
   "cell_type": "code",
   "execution_count": 20,
   "id": "7f438bb2",
   "metadata": {},
   "outputs": [
    {
     "data": {
      "text/html": [
       "<div>\n",
       "<style scoped>\n",
       "    .dataframe tbody tr th:only-of-type {\n",
       "        vertical-align: middle;\n",
       "    }\n",
       "\n",
       "    .dataframe tbody tr th {\n",
       "        vertical-align: top;\n",
       "    }\n",
       "\n",
       "    .dataframe thead th {\n",
       "        text-align: right;\n",
       "    }\n",
       "</style>\n",
       "<table border=\"1\" class=\"dataframe\">\n",
       "  <thead>\n",
       "    <tr style=\"text-align: right;\">\n",
       "      <th></th>\n",
       "      <th>crypto_id</th>\n",
       "      <th>currency</th>\n",
       "      <th>value</th>\n",
       "      <th>volume</th>\n",
       "    </tr>\n",
       "  </thead>\n",
       "  <tbody>\n",
       "    <tr>\n",
       "      <th>0</th>\n",
       "      <td>0</td>\n",
       "      <td>bitcoin</td>\n",
       "      <td>11</td>\n",
       "      <td>1.564438</td>\n",
       "    </tr>\n",
       "    <tr>\n",
       "      <th>1</th>\n",
       "      <td>1</td>\n",
       "      <td>litecoin</td>\n",
       "      <td>5</td>\n",
       "      <td>1.331256</td>\n",
       "    </tr>\n",
       "    <tr>\n",
       "      <th>2</th>\n",
       "      <td>2</td>\n",
       "      <td>bitcoin</td>\n",
       "      <td>12</td>\n",
       "      <td>2.393235</td>\n",
       "    </tr>\n",
       "    <tr>\n",
       "      <th>3</th>\n",
       "      <td>3</td>\n",
       "      <td>bitcoin</td>\n",
       "      <td>6</td>\n",
       "      <td>0.746937</td>\n",
       "    </tr>\n",
       "    <tr>\n",
       "      <th>4</th>\n",
       "      <td>4</td>\n",
       "      <td>bitcoin</td>\n",
       "      <td>5</td>\n",
       "      <td>2.691024</td>\n",
       "    </tr>\n",
       "    <tr>\n",
       "      <th>5</th>\n",
       "      <td>5</td>\n",
       "      <td>litecoin</td>\n",
       "      <td>12</td>\n",
       "      <td>3.767211</td>\n",
       "    </tr>\n",
       "    <tr>\n",
       "      <th>6</th>\n",
       "      <td>6</td>\n",
       "      <td>bitcoin</td>\n",
       "      <td>10</td>\n",
       "      <td>0.992983</td>\n",
       "    </tr>\n",
       "    <tr>\n",
       "      <th>7</th>\n",
       "      <td>7</td>\n",
       "      <td>bitcoin</td>\n",
       "      <td>11</td>\n",
       "      <td>3.795525</td>\n",
       "    </tr>\n",
       "  </tbody>\n",
       "</table>\n",
       "</div>"
      ],
      "text/plain": [
       "   crypto_id  currency  value    volume\n",
       "0          0   bitcoin     11  1.564438\n",
       "1          1  litecoin      5  1.331256\n",
       "2          2   bitcoin     12  2.393235\n",
       "3          3   bitcoin      6  0.746937\n",
       "4          4   bitcoin      5  2.691024\n",
       "5          5  litecoin     12  3.767211\n",
       "6          6   bitcoin     10  0.992983\n",
       "7          7   bitcoin     11  3.795525"
      ]
     },
     "execution_count": 20,
     "metadata": {},
     "output_type": "execute_result"
    }
   ],
   "source": [
    "df1['currency'] = df1['currency'].astype('category')\n",
    "# Display the DataFrame with the categorical column\n",
    "df1"
   ]
  },
  {
   "cell_type": "code",
   "execution_count": 21,
   "id": "584ff9eb",
   "metadata": {},
   "outputs": [
    {
     "data": {
      "text/plain": [
       "0     bitcoin\n",
       "1    litecoin\n",
       "2     bitcoin\n",
       "3     bitcoin\n",
       "4     bitcoin\n",
       "5    litecoin\n",
       "6     bitcoin\n",
       "7     bitcoin\n",
       "Name: currency, dtype: category\n",
       "Categories (2, object): ['bitcoin', 'litecoin']"
      ]
     },
     "execution_count": 21,
     "metadata": {},
     "output_type": "execute_result"
    }
   ],
   "source": [
    "df1['currency']"
   ]
  },
  {
   "cell_type": "code",
   "execution_count": 22,
   "id": "d7148653",
   "metadata": {},
   "outputs": [
    {
     "data": {
      "text/plain": [
       "['bitcoin', 'litecoin', 'dogecoin', 'bitcoin', 'litecoin']\n",
       "Categories (3, object): ['bitcoin', 'dogecoin', 'litecoin']"
      ]
     },
     "execution_count": 22,
     "metadata": {},
     "output_type": "execute_result"
    }
   ],
   "source": [
    "my_categories = pd.Categorical(['bitcoin', 'litecoin', 'dogecoin', 'bitcoin','litecoin'])\n",
    "# Display the Categorical object\n",
    "my_categories"
   ]
  },
  {
   "cell_type": "code",
   "execution_count": 23,
   "id": "6d27b568",
   "metadata": {},
   "outputs": [
    {
     "data": {
      "text/plain": [
       "['bitcoin', 'litecoin', 'dogecoin', 'bitcoin', 'bitcoin', 'litecoin']\n",
       "Categories (3, object): ['bitcoin', 'litecoin', 'dogecoin']"
      ]
     },
     "execution_count": 23,
     "metadata": {},
     "output_type": "execute_result"
    }
   ],
   "source": [
    "categories = ['bitcoin', 'litecoin', 'dogecoin']\n",
    "\n",
    "codes = [0, 1, 2, 0, 0, 1]\n",
    "\n",
    "my_cats_2 = pd.Categorical.from_codes(codes, categories)\n",
    "my_cats_2"
   ]
  },
  {
   "cell_type": "code",
   "execution_count": 24,
   "id": "b1f425ac",
   "metadata": {},
   "outputs": [
    {
     "data": {
      "text/plain": [
       "['bitcoin', 'litecoin', 'dogecoin', 'bitcoin', 'bitcoin', 'litecoin']\n",
       "Categories (3, object): ['bitcoin' < 'litecoin' < 'dogecoin']"
      ]
     },
     "execution_count": 24,
     "metadata": {},
     "output_type": "execute_result"
    }
   ],
   "source": [
    "ordered_cats = pd.Categorical.from_codes(codes, categories, ordered=True)\n",
    "ordered_cats"
   ]
  },
  {
   "cell_type": "code",
   "execution_count": 25,
   "id": "8ddd6695",
   "metadata": {},
   "outputs": [
    {
     "data": {
      "text/plain": [
       "['bitcoin', 'litecoin', 'dogecoin', 'bitcoin', 'bitcoin', 'litecoin']\n",
       "Categories (3, object): ['bitcoin' < 'litecoin' < 'dogecoin']"
      ]
     },
     "execution_count": 25,
     "metadata": {},
     "output_type": "execute_result"
    }
   ],
   "source": [
    "my_cats_2.as_ordered()"
   ]
  },
  {
   "cell_type": "code",
   "execution_count": 26,
   "id": "6e1a3e5f",
   "metadata": {},
   "outputs": [
    {
     "data": {
      "text/plain": [
       "['bitcoin', 'litecoin', 'dogecoin', 'bitcoin', 'bitcoin', 'litecoin']\n",
       "Categories (3, object): ['bitcoin' < 'litecoin' < 'dogecoin']"
      ]
     },
     "execution_count": 26,
     "metadata": {},
     "output_type": "execute_result"
    }
   ],
   "source": [
    "# Computation on Categorical data\n",
    "ordered_cats = my_cats_2.as_ordered()\n",
    "# --- IGNORE ---\n",
    "# End of recent edits\n",
    "ordered_cats"
   ]
  },
  {
   "cell_type": "code",
   "execution_count": 27,
   "id": "8dc0b1a2",
   "metadata": {},
   "outputs": [
    {
     "data": {
      "text/plain": [
       "array(['bitcoin', 'litecoin', 'bitcoin', 'litecoin', 'litecoin',\n",
       "       'bitcoin', 'bitcoin', 'bitcoin', 'litecoin', 'dogecoin',\n",
       "       'litecoin', 'litecoin', 'bitcoin', 'bitcoin', 'litecoin',\n",
       "       'litecoin', 'litecoin', 'bitcoin', 'bitcoin', 'litecoin'],\n",
       "      dtype=object)"
      ]
     },
     "execution_count": 27,
     "metadata": {},
     "output_type": "execute_result"
    }
   ],
   "source": [
    "rng = np.random.default_rng(seed=12345)\n",
    "\n",
    "draws = rng.choice(ordered_cats, size=1000, replace=True)\n",
    "draws[:20]"
   ]
  },
  {
   "cell_type": "code",
   "execution_count": 28,
   "id": "5344ad80",
   "metadata": {},
   "outputs": [
    {
     "ename": "TypeError",
     "evalue": "unsupported operand type(s) for -: 'str' and 'str'",
     "output_type": "error",
     "traceback": [
      "\u001b[31m---------------------------------------------------------------------------\u001b[39m",
      "\u001b[31mTypeError\u001b[39m                                 Traceback (most recent call last)",
      "\u001b[36mCell\u001b[39m\u001b[36m \u001b[39m\u001b[32mIn[28]\u001b[39m\u001b[32m, line 1\u001b[39m\n\u001b[32m----> \u001b[39m\u001b[32m1\u001b[39m bins = \u001b[43mpd\u001b[49m\u001b[43m.\u001b[49m\u001b[43mqcut\u001b[49m\u001b[43m(\u001b[49m\u001b[43mdraws\u001b[49m\u001b[43m,\u001b[49m\u001b[43m \u001b[49m\u001b[32;43m4\u001b[39;49m\u001b[43m,\u001b[49m\u001b[43m \u001b[49m\u001b[43mlabels\u001b[49m\u001b[43m=\u001b[49m\u001b[43m[\u001b[49m\u001b[33;43m'\u001b[39;49m\u001b[33;43mlow\u001b[39;49m\u001b[33;43m'\u001b[39;49m\u001b[43m,\u001b[49m\u001b[43m \u001b[49m\u001b[33;43m'\u001b[39;49m\u001b[33;43mmedium\u001b[39;49m\u001b[33;43m'\u001b[39;49m\u001b[43m,\u001b[49m\u001b[43m \u001b[49m\n\u001b[32m      2\u001b[39m \u001b[43m                                 \u001b[49m\u001b[33;43m'\u001b[39;49m\u001b[33;43mhigh\u001b[39;49m\u001b[33;43m'\u001b[39;49m\u001b[43m,\u001b[49m\u001b[43m \u001b[49m\u001b[33;43m'\u001b[39;49m\u001b[33;43mvery high\u001b[39;49m\u001b[33;43m'\u001b[39;49m\u001b[43m]\u001b[49m\u001b[43m)\u001b[49m\n\u001b[32m      3\u001b[39m \u001b[38;5;66;03m# Display the bins\u001b[39;00m\n\u001b[32m      4\u001b[39m bins\n",
      "\u001b[36mFile \u001b[39m\u001b[32mg:\\Engineering & Design Archives\\Computing Engineering\\Data Science & Engineering Work\\Virtual_Environment_Machine\\eienv\\Lib\\site-packages\\pandas\\core\\reshape\\tile.py:338\u001b[39m, in \u001b[36mqcut\u001b[39m\u001b[34m(x, q, labels, retbins, precision, duplicates)\u001b[39m\n\u001b[32m    334\u001b[39m x_idx, _ = _coerce_to_type(x_idx)\n\u001b[32m    336\u001b[39m quantiles = np.linspace(\u001b[32m0\u001b[39m, \u001b[32m1\u001b[39m, q + \u001b[32m1\u001b[39m) \u001b[38;5;28;01mif\u001b[39;00m is_integer(q) \u001b[38;5;28;01melse\u001b[39;00m q\n\u001b[32m--> \u001b[39m\u001b[32m338\u001b[39m bins = \u001b[43mx_idx\u001b[49m\u001b[43m.\u001b[49m\u001b[43mto_series\u001b[49m\u001b[43m(\u001b[49m\u001b[43m)\u001b[49m\u001b[43m.\u001b[49m\u001b[43mdropna\u001b[49m\u001b[43m(\u001b[49m\u001b[43m)\u001b[49m\u001b[43m.\u001b[49m\u001b[43mquantile\u001b[49m\u001b[43m(\u001b[49m\u001b[43mquantiles\u001b[49m\u001b[43m)\u001b[49m\n\u001b[32m    340\u001b[39m fac, bins = _bins_to_cuts(\n\u001b[32m    341\u001b[39m     x_idx,\n\u001b[32m    342\u001b[39m     Index(bins),\n\u001b[32m   (...)\u001b[39m\u001b[32m    346\u001b[39m     duplicates=duplicates,\n\u001b[32m    347\u001b[39m )\n\u001b[32m    349\u001b[39m \u001b[38;5;28;01mreturn\u001b[39;00m _postprocess_for_cut(fac, bins, retbins, original)\n",
      "\u001b[36mFile \u001b[39m\u001b[32mg:\\Engineering & Design Archives\\Computing Engineering\\Data Science & Engineering Work\\Virtual_Environment_Machine\\eienv\\Lib\\site-packages\\pandas\\core\\series.py:2887\u001b[39m, in \u001b[36mSeries.quantile\u001b[39m\u001b[34m(self, q, interpolation)\u001b[39m\n\u001b[32m   2883\u001b[39m \u001b[38;5;66;03m# We dispatch to DataFrame so that core.internals only has to worry\u001b[39;00m\n\u001b[32m   2884\u001b[39m \u001b[38;5;66;03m#  about 2D cases.\u001b[39;00m\n\u001b[32m   2885\u001b[39m df = \u001b[38;5;28mself\u001b[39m.to_frame()\n\u001b[32m-> \u001b[39m\u001b[32m2887\u001b[39m result = \u001b[43mdf\u001b[49m\u001b[43m.\u001b[49m\u001b[43mquantile\u001b[49m\u001b[43m(\u001b[49m\u001b[43mq\u001b[49m\u001b[43m=\u001b[49m\u001b[43mq\u001b[49m\u001b[43m,\u001b[49m\u001b[43m \u001b[49m\u001b[43minterpolation\u001b[49m\u001b[43m=\u001b[49m\u001b[43minterpolation\u001b[49m\u001b[43m,\u001b[49m\u001b[43m \u001b[49m\u001b[43mnumeric_only\u001b[49m\u001b[43m=\u001b[49m\u001b[38;5;28;43;01mFalse\u001b[39;49;00m\u001b[43m)\u001b[49m\n\u001b[32m   2888\u001b[39m \u001b[38;5;28;01mif\u001b[39;00m result.ndim == \u001b[32m2\u001b[39m:\n\u001b[32m   2889\u001b[39m     result = result.iloc[:, \u001b[32m0\u001b[39m]\n",
      "\u001b[36mFile \u001b[39m\u001b[32mg:\\Engineering & Design Archives\\Computing Engineering\\Data Science & Engineering Work\\Virtual_Environment_Machine\\eienv\\Lib\\site-packages\\pandas\\core\\frame.py:12191\u001b[39m, in \u001b[36mDataFrame.quantile\u001b[39m\u001b[34m(self, q, axis, numeric_only, interpolation, method)\u001b[39m\n\u001b[32m  12187\u001b[39m     \u001b[38;5;28;01mraise\u001b[39;00m \u001b[38;5;167;01mValueError\u001b[39;00m(\n\u001b[32m  12188\u001b[39m         \u001b[33mf\u001b[39m\u001b[33m\"\u001b[39m\u001b[33mInvalid method: \u001b[39m\u001b[38;5;132;01m{\u001b[39;00mmethod\u001b[38;5;132;01m}\u001b[39;00m\u001b[33m. Method must be in \u001b[39m\u001b[38;5;132;01m{\u001b[39;00mvalid_method\u001b[38;5;132;01m}\u001b[39;00m\u001b[33m.\u001b[39m\u001b[33m\"\u001b[39m\n\u001b[32m  12189\u001b[39m     )\n\u001b[32m  12190\u001b[39m \u001b[38;5;28;01mif\u001b[39;00m method == \u001b[33m\"\u001b[39m\u001b[33msingle\u001b[39m\u001b[33m\"\u001b[39m:\n\u001b[32m> \u001b[39m\u001b[32m12191\u001b[39m     res = \u001b[43mdata\u001b[49m\u001b[43m.\u001b[49m\u001b[43m_mgr\u001b[49m\u001b[43m.\u001b[49m\u001b[43mquantile\u001b[49m\u001b[43m(\u001b[49m\u001b[43mqs\u001b[49m\u001b[43m=\u001b[49m\u001b[43mq\u001b[49m\u001b[43m,\u001b[49m\u001b[43m \u001b[49m\u001b[43minterpolation\u001b[49m\u001b[43m=\u001b[49m\u001b[43minterpolation\u001b[49m\u001b[43m)\u001b[49m\n\u001b[32m  12192\u001b[39m \u001b[38;5;28;01melif\u001b[39;00m method == \u001b[33m\"\u001b[39m\u001b[33mtable\u001b[39m\u001b[33m\"\u001b[39m:\n\u001b[32m  12193\u001b[39m     valid_interpolation = {\u001b[33m\"\u001b[39m\u001b[33mnearest\u001b[39m\u001b[33m\"\u001b[39m, \u001b[33m\"\u001b[39m\u001b[33mlower\u001b[39m\u001b[33m\"\u001b[39m, \u001b[33m\"\u001b[39m\u001b[33mhigher\u001b[39m\u001b[33m\"\u001b[39m}\n",
      "\u001b[36mFile \u001b[39m\u001b[32mg:\\Engineering & Design Archives\\Computing Engineering\\Data Science & Engineering Work\\Virtual_Environment_Machine\\eienv\\Lib\\site-packages\\pandas\\core\\internals\\managers.py:1549\u001b[39m, in \u001b[36mBlockManager.quantile\u001b[39m\u001b[34m(self, qs, interpolation)\u001b[39m\n\u001b[32m   1545\u001b[39m new_axes = \u001b[38;5;28mlist\u001b[39m(\u001b[38;5;28mself\u001b[39m.axes)\n\u001b[32m   1546\u001b[39m new_axes[\u001b[32m1\u001b[39m] = Index(qs, dtype=np.float64)\n\u001b[32m   1548\u001b[39m blocks = [\n\u001b[32m-> \u001b[39m\u001b[32m1549\u001b[39m     \u001b[43mblk\u001b[49m\u001b[43m.\u001b[49m\u001b[43mquantile\u001b[49m\u001b[43m(\u001b[49m\u001b[43mqs\u001b[49m\u001b[43m=\u001b[49m\u001b[43mqs\u001b[49m\u001b[43m,\u001b[49m\u001b[43m \u001b[49m\u001b[43minterpolation\u001b[49m\u001b[43m=\u001b[49m\u001b[43minterpolation\u001b[49m\u001b[43m)\u001b[49m \u001b[38;5;28;01mfor\u001b[39;00m blk \u001b[38;5;129;01min\u001b[39;00m \u001b[38;5;28mself\u001b[39m.blocks\n\u001b[32m   1550\u001b[39m ]\n\u001b[32m   1552\u001b[39m \u001b[38;5;28;01mreturn\u001b[39;00m \u001b[38;5;28mtype\u001b[39m(\u001b[38;5;28mself\u001b[39m)(blocks, new_axes)\n",
      "\u001b[36mFile \u001b[39m\u001b[32mg:\\Engineering & Design Archives\\Computing Engineering\\Data Science & Engineering Work\\Virtual_Environment_Machine\\eienv\\Lib\\site-packages\\pandas\\core\\internals\\blocks.py:1891\u001b[39m, in \u001b[36mBlock.quantile\u001b[39m\u001b[34m(self, qs, interpolation)\u001b[39m\n\u001b[32m   1888\u001b[39m \u001b[38;5;28;01massert\u001b[39;00m \u001b[38;5;28mself\u001b[39m.ndim == \u001b[32m2\u001b[39m\n\u001b[32m   1889\u001b[39m \u001b[38;5;28;01massert\u001b[39;00m is_list_like(qs)  \u001b[38;5;66;03m# caller is responsible for this\u001b[39;00m\n\u001b[32m-> \u001b[39m\u001b[32m1891\u001b[39m result = \u001b[43mquantile_compat\u001b[49m\u001b[43m(\u001b[49m\u001b[38;5;28;43mself\u001b[39;49m\u001b[43m.\u001b[49m\u001b[43mvalues\u001b[49m\u001b[43m,\u001b[49m\u001b[43m \u001b[49m\u001b[43mnp\u001b[49m\u001b[43m.\u001b[49m\u001b[43masarray\u001b[49m\u001b[43m(\u001b[49m\u001b[43mqs\u001b[49m\u001b[43m.\u001b[49m\u001b[43m_values\u001b[49m\u001b[43m)\u001b[49m\u001b[43m,\u001b[49m\u001b[43m \u001b[49m\u001b[43minterpolation\u001b[49m\u001b[43m)\u001b[49m\n\u001b[32m   1892\u001b[39m \u001b[38;5;66;03m# ensure_block_shape needed for cases where we start with EA and result\u001b[39;00m\n\u001b[32m   1893\u001b[39m \u001b[38;5;66;03m#  is ndarray, e.g. IntegerArray, SparseArray\u001b[39;00m\n\u001b[32m   1894\u001b[39m result = ensure_block_shape(result, ndim=\u001b[32m2\u001b[39m)\n",
      "\u001b[36mFile \u001b[39m\u001b[32mg:\\Engineering & Design Archives\\Computing Engineering\\Data Science & Engineering Work\\Virtual_Environment_Machine\\eienv\\Lib\\site-packages\\pandas\\core\\array_algos\\quantile.py:39\u001b[39m, in \u001b[36mquantile_compat\u001b[39m\u001b[34m(values, qs, interpolation)\u001b[39m\n\u001b[32m     37\u001b[39m     fill_value = na_value_for_dtype(values.dtype, compat=\u001b[38;5;28;01mFalse\u001b[39;00m)\n\u001b[32m     38\u001b[39m     mask = isna(values)\n\u001b[32m---> \u001b[39m\u001b[32m39\u001b[39m     \u001b[38;5;28;01mreturn\u001b[39;00m \u001b[43mquantile_with_mask\u001b[49m\u001b[43m(\u001b[49m\u001b[43mvalues\u001b[49m\u001b[43m,\u001b[49m\u001b[43m \u001b[49m\u001b[43mmask\u001b[49m\u001b[43m,\u001b[49m\u001b[43m \u001b[49m\u001b[43mfill_value\u001b[49m\u001b[43m,\u001b[49m\u001b[43m \u001b[49m\u001b[43mqs\u001b[49m\u001b[43m,\u001b[49m\u001b[43m \u001b[49m\u001b[43minterpolation\u001b[49m\u001b[43m)\u001b[49m\n\u001b[32m     40\u001b[39m \u001b[38;5;28;01melse\u001b[39;00m:\n\u001b[32m     41\u001b[39m     \u001b[38;5;28;01mreturn\u001b[39;00m values._quantile(qs, interpolation)\n",
      "\u001b[36mFile \u001b[39m\u001b[32mg:\\Engineering & Design Archives\\Computing Engineering\\Data Science & Engineering Work\\Virtual_Environment_Machine\\eienv\\Lib\\site-packages\\pandas\\core\\array_algos\\quantile.py:97\u001b[39m, in \u001b[36mquantile_with_mask\u001b[39m\u001b[34m(values, mask, fill_value, qs, interpolation)\u001b[39m\n\u001b[32m     95\u001b[39m     result = np.repeat(flat, \u001b[38;5;28mlen\u001b[39m(values)).reshape(\u001b[38;5;28mlen\u001b[39m(values), \u001b[38;5;28mlen\u001b[39m(qs))\n\u001b[32m     96\u001b[39m \u001b[38;5;28;01melse\u001b[39;00m:\n\u001b[32m---> \u001b[39m\u001b[32m97\u001b[39m     result = \u001b[43m_nanpercentile\u001b[49m\u001b[43m(\u001b[49m\n\u001b[32m     98\u001b[39m \u001b[43m        \u001b[49m\u001b[43mvalues\u001b[49m\u001b[43m,\u001b[49m\n\u001b[32m     99\u001b[39m \u001b[43m        \u001b[49m\u001b[43mqs\u001b[49m\u001b[43m \u001b[49m\u001b[43m*\u001b[49m\u001b[43m \u001b[49m\u001b[32;43m100.0\u001b[39;49m\u001b[43m,\u001b[49m\n\u001b[32m    100\u001b[39m \u001b[43m        \u001b[49m\u001b[43mna_value\u001b[49m\u001b[43m=\u001b[49m\u001b[43mfill_value\u001b[49m\u001b[43m,\u001b[49m\n\u001b[32m    101\u001b[39m \u001b[43m        \u001b[49m\u001b[43mmask\u001b[49m\u001b[43m=\u001b[49m\u001b[43mmask\u001b[49m\u001b[43m,\u001b[49m\n\u001b[32m    102\u001b[39m \u001b[43m        \u001b[49m\u001b[43minterpolation\u001b[49m\u001b[43m=\u001b[49m\u001b[43minterpolation\u001b[49m\u001b[43m,\u001b[49m\n\u001b[32m    103\u001b[39m \u001b[43m    \u001b[49m\u001b[43m)\u001b[49m\n\u001b[32m    105\u001b[39m     result = np.asarray(result)\n\u001b[32m    106\u001b[39m     result = result.T\n",
      "\u001b[36mFile \u001b[39m\u001b[32mg:\\Engineering & Design Archives\\Computing Engineering\\Data Science & Engineering Work\\Virtual_Environment_Machine\\eienv\\Lib\\site-packages\\pandas\\core\\array_algos\\quantile.py:218\u001b[39m, in \u001b[36m_nanpercentile\u001b[39m\u001b[34m(values, qs, na_value, mask, interpolation)\u001b[39m\n\u001b[32m    216\u001b[39m     \u001b[38;5;28;01mreturn\u001b[39;00m result\n\u001b[32m    217\u001b[39m \u001b[38;5;28;01melse\u001b[39;00m:\n\u001b[32m--> \u001b[39m\u001b[32m218\u001b[39m     \u001b[38;5;28;01mreturn\u001b[39;00m \u001b[43mnp\u001b[49m\u001b[43m.\u001b[49m\u001b[43mpercentile\u001b[49m\u001b[43m(\u001b[49m\n\u001b[32m    219\u001b[39m \u001b[43m        \u001b[49m\u001b[43mvalues\u001b[49m\u001b[43m,\u001b[49m\n\u001b[32m    220\u001b[39m \u001b[43m        \u001b[49m\u001b[43mqs\u001b[49m\u001b[43m,\u001b[49m\n\u001b[32m    221\u001b[39m \u001b[43m        \u001b[49m\u001b[43maxis\u001b[49m\u001b[43m=\u001b[49m\u001b[32;43m1\u001b[39;49m\u001b[43m,\u001b[49m\n\u001b[32m    222\u001b[39m \u001b[43m        \u001b[49m\u001b[38;5;66;43;03m# error: No overload variant of \"percentile\" matches argument types\u001b[39;49;00m\n\u001b[32m    223\u001b[39m \u001b[43m        \u001b[49m\u001b[38;5;66;43;03m# \"ndarray[Any, Any]\", \"ndarray[Any, dtype[floating[_64Bit]]]\",\u001b[39;49;00m\n\u001b[32m    224\u001b[39m \u001b[43m        \u001b[49m\u001b[38;5;66;43;03m# \"int\", \"Dict[str, str]\"  [call-overload]\u001b[39;49;00m\n\u001b[32m    225\u001b[39m \u001b[43m        \u001b[49m\u001b[43mmethod\u001b[49m\u001b[43m=\u001b[49m\u001b[43minterpolation\u001b[49m\u001b[43m,\u001b[49m\u001b[43m  \u001b[49m\u001b[38;5;66;43;03m# type: ignore[call-overload]\u001b[39;49;00m\n\u001b[32m    226\u001b[39m \u001b[43m    \u001b[49m\u001b[43m)\u001b[49m\n",
      "\u001b[36mFile \u001b[39m\u001b[32mg:\\Engineering & Design Archives\\Computing Engineering\\Data Science & Engineering Work\\Virtual_Environment_Machine\\eienv\\Lib\\site-packages\\numpy\\lib\\_function_base_impl.py:4273\u001b[39m, in \u001b[36mpercentile\u001b[39m\u001b[34m(a, q, axis, out, overwrite_input, method, keepdims, weights, interpolation)\u001b[39m\n\u001b[32m   4270\u001b[39m     \u001b[38;5;28;01mif\u001b[39;00m np.any(weights < \u001b[32m0\u001b[39m):\n\u001b[32m   4271\u001b[39m         \u001b[38;5;28;01mraise\u001b[39;00m \u001b[38;5;167;01mValueError\u001b[39;00m(\u001b[33m\"\u001b[39m\u001b[33mWeights must be non-negative.\u001b[39m\u001b[33m\"\u001b[39m)\n\u001b[32m-> \u001b[39m\u001b[32m4273\u001b[39m \u001b[38;5;28;01mreturn\u001b[39;00m \u001b[43m_quantile_unchecked\u001b[49m\u001b[43m(\u001b[49m\n\u001b[32m   4274\u001b[39m \u001b[43m    \u001b[49m\u001b[43ma\u001b[49m\u001b[43m,\u001b[49m\u001b[43m \u001b[49m\u001b[43mq\u001b[49m\u001b[43m,\u001b[49m\u001b[43m \u001b[49m\u001b[43maxis\u001b[49m\u001b[43m,\u001b[49m\u001b[43m \u001b[49m\u001b[43mout\u001b[49m\u001b[43m,\u001b[49m\u001b[43m \u001b[49m\u001b[43moverwrite_input\u001b[49m\u001b[43m,\u001b[49m\u001b[43m \u001b[49m\u001b[43mmethod\u001b[49m\u001b[43m,\u001b[49m\u001b[43m \u001b[49m\u001b[43mkeepdims\u001b[49m\u001b[43m,\u001b[49m\u001b[43m \u001b[49m\u001b[43mweights\u001b[49m\u001b[43m)\u001b[49m\n",
      "\u001b[36mFile \u001b[39m\u001b[32mg:\\Engineering & Design Archives\\Computing Engineering\\Data Science & Engineering Work\\Virtual_Environment_Machine\\eienv\\Lib\\site-packages\\numpy\\lib\\_function_base_impl.py:4550\u001b[39m, in \u001b[36m_quantile_unchecked\u001b[39m\u001b[34m(a, q, axis, out, overwrite_input, method, keepdims, weights)\u001b[39m\n\u001b[32m   4541\u001b[39m \u001b[38;5;28;01mdef\u001b[39;00m \u001b[34m_quantile_unchecked\u001b[39m(a,\n\u001b[32m   4542\u001b[39m                         q,\n\u001b[32m   4543\u001b[39m                         axis=\u001b[38;5;28;01mNone\u001b[39;00m,\n\u001b[32m   (...)\u001b[39m\u001b[32m   4547\u001b[39m                         keepdims=\u001b[38;5;28;01mFalse\u001b[39;00m,\n\u001b[32m   4548\u001b[39m                         weights=\u001b[38;5;28;01mNone\u001b[39;00m):\n\u001b[32m   4549\u001b[39m \u001b[38;5;250m    \u001b[39m\u001b[33;03m\"\"\"Assumes that q is in [0, 1], and is an ndarray\"\"\"\u001b[39;00m\n\u001b[32m-> \u001b[39m\u001b[32m4550\u001b[39m     \u001b[38;5;28;01mreturn\u001b[39;00m \u001b[43m_ureduce\u001b[49m\u001b[43m(\u001b[49m\u001b[43ma\u001b[49m\u001b[43m,\u001b[49m\n\u001b[32m   4551\u001b[39m \u001b[43m                    \u001b[49m\u001b[43mfunc\u001b[49m\u001b[43m=\u001b[49m\u001b[43m_quantile_ureduce_func\u001b[49m\u001b[43m,\u001b[49m\n\u001b[32m   4552\u001b[39m \u001b[43m                    \u001b[49m\u001b[43mq\u001b[49m\u001b[43m=\u001b[49m\u001b[43mq\u001b[49m\u001b[43m,\u001b[49m\n\u001b[32m   4553\u001b[39m \u001b[43m                    \u001b[49m\u001b[43mweights\u001b[49m\u001b[43m=\u001b[49m\u001b[43mweights\u001b[49m\u001b[43m,\u001b[49m\n\u001b[32m   4554\u001b[39m \u001b[43m                    \u001b[49m\u001b[43mkeepdims\u001b[49m\u001b[43m=\u001b[49m\u001b[43mkeepdims\u001b[49m\u001b[43m,\u001b[49m\n\u001b[32m   4555\u001b[39m \u001b[43m                    \u001b[49m\u001b[43maxis\u001b[49m\u001b[43m=\u001b[49m\u001b[43maxis\u001b[49m\u001b[43m,\u001b[49m\n\u001b[32m   4556\u001b[39m \u001b[43m                    \u001b[49m\u001b[43mout\u001b[49m\u001b[43m=\u001b[49m\u001b[43mout\u001b[49m\u001b[43m,\u001b[49m\n\u001b[32m   4557\u001b[39m \u001b[43m                    \u001b[49m\u001b[43moverwrite_input\u001b[49m\u001b[43m=\u001b[49m\u001b[43moverwrite_input\u001b[49m\u001b[43m,\u001b[49m\n\u001b[32m   4558\u001b[39m \u001b[43m                    \u001b[49m\u001b[43mmethod\u001b[49m\u001b[43m=\u001b[49m\u001b[43mmethod\u001b[49m\u001b[43m)\u001b[49m\n",
      "\u001b[36mFile \u001b[39m\u001b[32mg:\\Engineering & Design Archives\\Computing Engineering\\Data Science & Engineering Work\\Virtual_Environment_Machine\\eienv\\Lib\\site-packages\\numpy\\lib\\_function_base_impl.py:3894\u001b[39m, in \u001b[36m_ureduce\u001b[39m\u001b[34m(a, func, keepdims, **kwargs)\u001b[39m\n\u001b[32m   3891\u001b[39m             index_out = (\u001b[32m0\u001b[39m, ) * nd\n\u001b[32m   3892\u001b[39m             kwargs[\u001b[33m'\u001b[39m\u001b[33mout\u001b[39m\u001b[33m'\u001b[39m] = out[(\u001b[38;5;28mEllipsis\u001b[39m, ) + index_out]\n\u001b[32m-> \u001b[39m\u001b[32m3894\u001b[39m r = \u001b[43mfunc\u001b[49m\u001b[43m(\u001b[49m\u001b[43ma\u001b[49m\u001b[43m,\u001b[49m\u001b[43m \u001b[49m\u001b[43m*\u001b[49m\u001b[43m*\u001b[49m\u001b[43mkwargs\u001b[49m\u001b[43m)\u001b[49m\n\u001b[32m   3896\u001b[39m \u001b[38;5;28;01mif\u001b[39;00m out \u001b[38;5;129;01mis\u001b[39;00m \u001b[38;5;129;01mnot\u001b[39;00m \u001b[38;5;28;01mNone\u001b[39;00m:\n\u001b[32m   3897\u001b[39m     \u001b[38;5;28;01mreturn\u001b[39;00m out\n",
      "\u001b[36mFile \u001b[39m\u001b[32mg:\\Engineering & Design Archives\\Computing Engineering\\Data Science & Engineering Work\\Virtual_Environment_Machine\\eienv\\Lib\\site-packages\\numpy\\lib\\_function_base_impl.py:4727\u001b[39m, in \u001b[36m_quantile_ureduce_func\u001b[39m\u001b[34m(a, q, weights, axis, out, overwrite_input, method)\u001b[39m\n\u001b[32m   4725\u001b[39m         arr = a.copy()\n\u001b[32m   4726\u001b[39m         wgt = weights\n\u001b[32m-> \u001b[39m\u001b[32m4727\u001b[39m result = \u001b[43m_quantile\u001b[49m\u001b[43m(\u001b[49m\u001b[43marr\u001b[49m\u001b[43m,\u001b[49m\n\u001b[32m   4728\u001b[39m \u001b[43m                   \u001b[49m\u001b[43mquantiles\u001b[49m\u001b[43m=\u001b[49m\u001b[43mq\u001b[49m\u001b[43m,\u001b[49m\n\u001b[32m   4729\u001b[39m \u001b[43m                   \u001b[49m\u001b[43maxis\u001b[49m\u001b[43m=\u001b[49m\u001b[43maxis\u001b[49m\u001b[43m,\u001b[49m\n\u001b[32m   4730\u001b[39m \u001b[43m                   \u001b[49m\u001b[43mmethod\u001b[49m\u001b[43m=\u001b[49m\u001b[43mmethod\u001b[49m\u001b[43m,\u001b[49m\n\u001b[32m   4731\u001b[39m \u001b[43m                   \u001b[49m\u001b[43mout\u001b[49m\u001b[43m=\u001b[49m\u001b[43mout\u001b[49m\u001b[43m,\u001b[49m\n\u001b[32m   4732\u001b[39m \u001b[43m                   \u001b[49m\u001b[43mweights\u001b[49m\u001b[43m=\u001b[49m\u001b[43mwgt\u001b[49m\u001b[43m)\u001b[49m\n\u001b[32m   4733\u001b[39m \u001b[38;5;28;01mreturn\u001b[39;00m result\n",
      "\u001b[36mFile \u001b[39m\u001b[32mg:\\Engineering & Design Archives\\Computing Engineering\\Data Science & Engineering Work\\Virtual_Environment_Machine\\eienv\\Lib\\site-packages\\numpy\\lib\\_function_base_impl.py:4859\u001b[39m, in \u001b[36m_quantile\u001b[39m\u001b[34m(arr, quantiles, axis, method, out, weights)\u001b[39m\n\u001b[32m   4857\u001b[39m         result_shape = virtual_indexes.shape + (\u001b[32m1\u001b[39m,) * (arr.ndim - \u001b[32m1\u001b[39m)\n\u001b[32m   4858\u001b[39m         gamma = gamma.reshape(result_shape)\n\u001b[32m-> \u001b[39m\u001b[32m4859\u001b[39m         result = \u001b[43m_lerp\u001b[49m\u001b[43m(\u001b[49m\u001b[43mprevious\u001b[49m\u001b[43m,\u001b[49m\n\u001b[32m   4860\u001b[39m \u001b[43m                    \u001b[49m\u001b[38;5;28;43mnext\u001b[39;49m\u001b[43m,\u001b[49m\n\u001b[32m   4861\u001b[39m \u001b[43m                    \u001b[49m\u001b[43mgamma\u001b[49m\u001b[43m,\u001b[49m\n\u001b[32m   4862\u001b[39m \u001b[43m                    \u001b[49m\u001b[43mout\u001b[49m\u001b[43m=\u001b[49m\u001b[43mout\u001b[49m\u001b[43m)\u001b[49m\n\u001b[32m   4863\u001b[39m \u001b[38;5;28;01melse\u001b[39;00m:\n\u001b[32m   4864\u001b[39m     \u001b[38;5;66;03m# Weighted case\u001b[39;00m\n\u001b[32m   4865\u001b[39m     \u001b[38;5;66;03m# This implements method=\"inverted_cdf\", the only supported weighted\u001b[39;00m\n\u001b[32m   4866\u001b[39m     \u001b[38;5;66;03m# method, which needs to sort anyway.\u001b[39;00m\n\u001b[32m   4867\u001b[39m     weights = np.asanyarray(weights)\n",
      "\u001b[36mFile \u001b[39m\u001b[32mg:\\Engineering & Design Archives\\Computing Engineering\\Data Science & Engineering Work\\Virtual_Environment_Machine\\eienv\\Lib\\site-packages\\numpy\\lib\\_function_base_impl.py:4653\u001b[39m, in \u001b[36m_lerp\u001b[39m\u001b[34m(a, b, t, out)\u001b[39m\n\u001b[32m   4639\u001b[39m \u001b[38;5;28;01mdef\u001b[39;00m \u001b[34m_lerp\u001b[39m(a, b, t, out=\u001b[38;5;28;01mNone\u001b[39;00m):\n\u001b[32m   4640\u001b[39m \u001b[38;5;250m    \u001b[39m\u001b[33;03m\"\"\"\u001b[39;00m\n\u001b[32m   4641\u001b[39m \u001b[33;03m    Compute the linear interpolation weighted by gamma on each point of\u001b[39;00m\n\u001b[32m   4642\u001b[39m \u001b[33;03m    two same shape array.\u001b[39;00m\n\u001b[32m   (...)\u001b[39m\u001b[32m   4651\u001b[39m \u001b[33;03m        Output array.\u001b[39;00m\n\u001b[32m   4652\u001b[39m \u001b[33;03m    \"\"\"\u001b[39;00m\n\u001b[32m-> \u001b[39m\u001b[32m4653\u001b[39m     diff_b_a = \u001b[43msubtract\u001b[49m\u001b[43m(\u001b[49m\u001b[43mb\u001b[49m\u001b[43m,\u001b[49m\u001b[43m \u001b[49m\u001b[43ma\u001b[49m\u001b[43m)\u001b[49m\n\u001b[32m   4654\u001b[39m     \u001b[38;5;66;03m# asanyarray is a stop-gap until gh-13105\u001b[39;00m\n\u001b[32m   4655\u001b[39m     lerp_interpolation = asanyarray(add(a, diff_b_a * t, out=out))\n",
      "\u001b[31mTypeError\u001b[39m: unsupported operand type(s) for -: 'str' and 'str'"
     ]
    }
   ],
   "source": [
    "bins = pd.qcut(draws, 4, labels=['low', 'medium', \n",
    "                                 'high', 'very high'])\n",
    "# Display the bins\n",
    "bins\n",
    "\n",
    "# it will be error because qcut command only worrks with \n",
    "# numerical data\n",
    "# bins = pd.qcut(my_cats_2, 4, labels=['low', 'medium',\n"
   ]
  },
  {
   "cell_type": "code",
   "execution_count": null,
   "id": "97e10405",
   "metadata": {},
   "outputs": [
    {
     "data": {
      "text/plain": [
       "0    1.564438\n",
       "1    1.331256\n",
       "2    2.393235\n",
       "3    0.746937\n",
       "4    2.691024\n",
       "5    3.767211\n",
       "6    0.992983\n",
       "7    3.795525\n",
       "Name: volume, dtype: float64"
      ]
     },
     "execution_count": 127,
     "metadata": {},
     "output_type": "execute_result"
    }
   ],
   "source": [
    "df1['volume']\n",
    "# Display the DataFrame with the categorical column"
   ]
  },
  {
   "cell_type": "code",
   "execution_count": 32,
   "id": "ca8b9516",
   "metadata": {},
   "outputs": [
    {
     "data": {
      "text/plain": [
       "0         high\n",
       "1          low\n",
       "2    very high\n",
       "3       medium\n",
       "4          low\n",
       "5    very high\n",
       "6       medium\n",
       "7         high\n",
       "Name: value, dtype: category\n",
       "Categories (4, object): ['low' < 'medium' < 'high' < 'very high']"
      ]
     },
     "execution_count": 32,
     "metadata": {},
     "output_type": "execute_result"
    }
   ],
   "source": [
    "# pd.qcut only works with 1D numerical data, not with a DataFrame.\n",
    "# Let's use the 'value' column of df1 for binning.\n",
    "bins1 = pd.qcut(df1['value'], 4, labels=['low', 'medium', 'high', 'very high'])\n",
    "bins1"
   ]
  },
  {
   "cell_type": "code",
   "execution_count": 30,
   "id": "2963951e",
   "metadata": {},
   "outputs": [
    {
     "data": {
      "text/plain": [
       "0    (1.247, 1.979]\n",
       "1    (1.247, 1.979]\n",
       "2     (1.979, 2.96]\n",
       "3    (0.746, 1.247]\n",
       "4     (1.979, 2.96]\n",
       "5     (2.96, 3.796]\n",
       "6    (0.746, 1.247]\n",
       "7     (2.96, 3.796]\n",
       "Name: volume, dtype: category\n",
       "Categories (4, interval[float64, right]): [(0.746, 1.247] < (1.247, 1.979] < (1.979, 2.96] < (2.96, 3.796]]"
      ]
     },
     "execution_count": 30,
     "metadata": {},
     "output_type": "execute_result"
    }
   ],
   "source": [
    "bins2 = pd.qcut(df1['volume'].astype(float), 4)\n",
    "bins2"
   ]
  },
  {
   "cell_type": "code",
   "execution_count": 33,
   "id": "ec83b198",
   "metadata": {},
   "outputs": [
    {
     "data": {
      "text/plain": [
       "Index(['low', 'medium', 'high', 'very high'], dtype='object')"
      ]
     },
     "execution_count": 33,
     "metadata": {},
     "output_type": "execute_result"
    }
   ],
   "source": [
    "bins1.cat.categories"
   ]
  },
  {
   "cell_type": "code",
   "execution_count": 34,
   "id": "9c7effcd",
   "metadata": {},
   "outputs": [
    {
     "name": "stderr",
     "output_type": "stream",
     "text": [
      "C:\\Users\\NITRO\\AppData\\Local\\Temp\\ipykernel_9828\\1331518340.py:4: FutureWarning: The default of observed=False is deprecated and will be changed to True in a future version of pandas. Pass observed=False to retain current behavior or observed=True to adopt the future default and silence this warning.\n",
      "  .groupby(himpunan)\n"
     ]
    },
    {
     "data": {
      "text/html": [
       "<div>\n",
       "<style scoped>\n",
       "    .dataframe tbody tr th:only-of-type {\n",
       "        vertical-align: middle;\n",
       "    }\n",
       "\n",
       "    .dataframe tbody tr th {\n",
       "        vertical-align: top;\n",
       "    }\n",
       "\n",
       "    .dataframe thead th {\n",
       "        text-align: right;\n",
       "    }\n",
       "</style>\n",
       "<table border=\"1\" class=\"dataframe\">\n",
       "  <thead>\n",
       "    <tr style=\"text-align: right;\">\n",
       "      <th></th>\n",
       "      <th>classification</th>\n",
       "      <th>count</th>\n",
       "      <th>min</th>\n",
       "      <th>max</th>\n",
       "    </tr>\n",
       "  </thead>\n",
       "  <tbody>\n",
       "    <tr>\n",
       "      <th>0</th>\n",
       "      <td>low</td>\n",
       "      <td>2</td>\n",
       "      <td>litecoin</td>\n",
       "      <td>litecoin</td>\n",
       "    </tr>\n",
       "    <tr>\n",
       "      <th>1</th>\n",
       "      <td>medium</td>\n",
       "      <td>2</td>\n",
       "      <td>bitcoin</td>\n",
       "      <td>litecoin</td>\n",
       "    </tr>\n",
       "    <tr>\n",
       "      <th>2</th>\n",
       "      <td>high</td>\n",
       "      <td>2</td>\n",
       "      <td>bitcoin</td>\n",
       "      <td>bitcoin</td>\n",
       "    </tr>\n",
       "    <tr>\n",
       "      <th>3</th>\n",
       "      <td>very high</td>\n",
       "      <td>2</td>\n",
       "      <td>bitcoin</td>\n",
       "      <td>bitcoin</td>\n",
       "    </tr>\n",
       "  </tbody>\n",
       "</table>\n",
       "</div>"
      ],
      "text/plain": [
       "  classification  count       min       max\n",
       "0            low      2  litecoin  litecoin\n",
       "1         medium      2   bitcoin  litecoin\n",
       "2           high      2   bitcoin   bitcoin\n",
       "3      very high      2   bitcoin   bitcoin"
      ]
     },
     "execution_count": 34,
     "metadata": {},
     "output_type": "execute_result"
    }
   ],
   "source": [
    "himpunan = pd.Series(bins1, name='classification')\n",
    "# Display the Series\n",
    "results = (pd.Series(draws[:len(bins1)])\n",
    "           .groupby(himpunan)\n",
    "           .agg(['count', 'min', 'max'])\n",
    "           .reset_index())\n",
    "results"
   ]
  },
  {
   "cell_type": "code",
   "execution_count": 35,
   "id": "c8ad6eb0",
   "metadata": {},
   "outputs": [
    {
     "data": {
      "text/plain": [
       "0          low\n",
       "1       medium\n",
       "2         high\n",
       "3    very high\n",
       "Name: classification, dtype: category\n",
       "Categories (4, object): ['low' < 'medium' < 'high' < 'very high']"
      ]
     },
     "execution_count": 35,
     "metadata": {},
     "output_type": "execute_result"
    }
   ],
   "source": [
    "results['classification']"
   ]
  },
  {
   "cell_type": "code",
   "execution_count": 36,
   "id": "73dd354a",
   "metadata": {},
   "outputs": [
    {
     "data": {
      "text/plain": [
       "0               btc\n",
       "1          litecoin\n",
       "2          dogecoin\n",
       "3               bch\n",
       "4               btc\n",
       "             ...   \n",
       "9999995         bch\n",
       "9999996         btc\n",
       "9999997    litecoin\n",
       "9999998    dogecoin\n",
       "9999999         bch\n",
       "Length: 10000000, dtype: category\n",
       "Categories (4, object): ['bch', 'btc', 'dogecoin', 'litecoin']"
      ]
     },
     "execution_count": 36,
     "metadata": {},
     "output_type": "execute_result"
    }
   ],
   "source": [
    "N = 10_000_000\n",
    "labels = pd.Series(['btc', 'litecoin', 'dogecoin', 'bch'] * (N // 4))\n",
    "my_labels = labels.astype('category')\n",
    "# Display the Categorical object\n",
    "my_labels"
   ]
  },
  {
   "cell_type": "code",
   "execution_count": 37,
   "id": "5f82270a",
   "metadata": {},
   "outputs": [
    {
     "data": {
      "text/plain": [
       "10000522"
      ]
     },
     "execution_count": 37,
     "metadata": {},
     "output_type": "execute_result"
    }
   ],
   "source": [
    "my_labels.memory_usage(deep=True)"
   ]
  },
  {
   "cell_type": "code",
   "execution_count": 38,
   "id": "0229d0dd",
   "metadata": {},
   "outputs": [
    {
     "data": {
      "text/plain": [
       "545000132"
      ]
     },
     "execution_count": 38,
     "metadata": {},
     "output_type": "execute_result"
    }
   ],
   "source": [
    "labels.memory_usage(deep=True)"
   ]
  },
  {
   "cell_type": "code",
   "execution_count": 39,
   "id": "0534e6d7",
   "metadata": {},
   "outputs": [
    {
     "name": "stdout",
     "output_type": "stream",
     "text": [
      "CPU times: total: 0 ns\n",
      "Wall time: 5.46 ms\n"
     ]
    }
   ],
   "source": [
    "%time _ = my_labels.astype('category')"
   ]
  },
  {
   "cell_type": "code",
   "execution_count": 40,
   "id": "1f5e0641",
   "metadata": {},
   "outputs": [
    {
     "name": "stdout",
     "output_type": "stream",
     "text": [
      "CPU times: total: 359 ms\n",
      "Wall time: 347 ms\n"
     ]
    }
   ],
   "source": [
    "%time _ = labels.astype('category')"
   ]
  },
  {
   "cell_type": "code",
   "execution_count": 41,
   "id": "89dd7a4a",
   "metadata": {},
   "outputs": [
    {
     "name": "stdout",
     "output_type": "stream",
     "text": [
      "303 ms ± 2.75 ms per loop (mean ± std. dev. of 7 runs, 1 loop each)\n"
     ]
    }
   ],
   "source": [
    "%timeit labels.value_counts() "
   ]
  },
  {
   "cell_type": "code",
   "execution_count": 42,
   "id": "b58b8053",
   "metadata": {},
   "outputs": [
    {
     "name": "stdout",
     "output_type": "stream",
     "text": [
      "3.17 μs ± 32.2 ns per loop (mean ± std. dev. of 7 runs, 100,000 loops each)\n"
     ]
    }
   ],
   "source": [
    "%timeit my_labels.memory_usage(deep=True)"
   ]
  },
  {
   "cell_type": "code",
   "execution_count": 43,
   "id": "f1355353",
   "metadata": {},
   "outputs": [
    {
     "name": "stdout",
     "output_type": "stream",
     "text": [
      "41.8 ms ± 1.14 ms per loop (mean ± std. dev. of 7 runs, 10 loops each)\n"
     ]
    }
   ],
   "source": [
    "%timeit my_labels.value_counts()"
   ]
  },
  {
   "cell_type": "code",
   "execution_count": 44,
   "id": "e915b452",
   "metadata": {},
   "outputs": [
    {
     "data": {
      "text/plain": [
       "0         btc\n",
       "1    litecoin\n",
       "2    dogecoin\n",
       "3         bch\n",
       "4         btc\n",
       "5    litecoin\n",
       "6    dogecoin\n",
       "7         bch\n",
       "dtype: object"
      ]
     },
     "execution_count": 44,
     "metadata": {},
     "output_type": "execute_result"
    }
   ],
   "source": [
    "# Categorical Methods\n",
    "\n",
    "s = pd.Series(['btc', 'litecoin', 'dogecoin', 'bch'] * 2)\n",
    "s "
   ]
  },
  {
   "cell_type": "code",
   "execution_count": 45,
   "id": "4d5c89a3",
   "metadata": {},
   "outputs": [
    {
     "data": {
      "text/plain": [
       "0         btc\n",
       "1    litecoin\n",
       "2    dogecoin\n",
       "3         bch\n",
       "4         btc\n",
       "5    litecoin\n",
       "6    dogecoin\n",
       "7         bch\n",
       "dtype: category\n",
       "Categories (4, object): ['bch', 'btc', 'dogecoin', 'litecoin']"
      ]
     },
     "execution_count": 45,
     "metadata": {},
     "output_type": "execute_result"
    }
   ],
   "source": [
    "cat_s = s.astype('category')\n",
    "cat_s"
   ]
  },
  {
   "cell_type": "code",
   "execution_count": 46,
   "id": "ef10d1da",
   "metadata": {},
   "outputs": [
    {
     "data": {
      "text/plain": [
       "0    1\n",
       "1    3\n",
       "2    2\n",
       "3    0\n",
       "4    1\n",
       "5    3\n",
       "6    2\n",
       "7    0\n",
       "dtype: int8"
      ]
     },
     "execution_count": 46,
     "metadata": {},
     "output_type": "execute_result"
    }
   ],
   "source": [
    "cat_s.cat.codes"
   ]
  },
  {
   "cell_type": "code",
   "execution_count": 47,
   "id": "56861ef3",
   "metadata": {},
   "outputs": [
    {
     "data": {
      "text/plain": [
       "Index(['bch', 'btc', 'dogecoin', 'litecoin'], dtype='object')"
      ]
     },
     "execution_count": 47,
     "metadata": {},
     "output_type": "execute_result"
    }
   ],
   "source": [
    "cat_s.cat.categories"
   ]
  },
  {
   "cell_type": "code",
   "execution_count": null,
   "id": "3d79caa4",
   "metadata": {},
   "outputs": [
    {
     "data": {
      "text/plain": [
       "0         NaN\n",
       "1    litecoin\n",
       "2    dogecoin\n",
       "3         bch\n",
       "4         NaN\n",
       "5    litecoin\n",
       "6    dogecoin\n",
       "7         bch\n",
       "dtype: category\n",
       "Categories (5, object): ['bitcoin' < 'litecoin' < 'dogecoin' < 'bch' < 'usdt']"
      ]
     },
     "execution_count": 48,
     "metadata": {},
     "output_type": "execute_result"
    }
   ],
   "source": [
    "actual_currencies = ['bitcoin', 'litecoin', 'dogecoin', 'bch','usdt']\n",
    "cat_s2 = cat_s.cat.set_categories(actual_currencies, ordered=True)\n",
    "cat_s2\n",
    "\n",
    "# notes that btc and bitcoin are not the same in this case \n",
    "# data type - this is a categorical data type"
   ]
  },
  {
   "cell_type": "code",
   "execution_count": 52,
   "id": "9055aea0",
   "metadata": {},
   "outputs": [
    {
     "data": {
      "text/plain": [
       "Index(['bitcoin', 'litecoin', 'dogecoin', 'bch', 'usdt'], dtype='object')"
      ]
     },
     "execution_count": 52,
     "metadata": {},
     "output_type": "execute_result"
    }
   ],
   "source": [
    "cat_s2.cat.categories"
   ]
  },
  {
   "cell_type": "code",
   "execution_count": 49,
   "id": "18d65679",
   "metadata": {},
   "outputs": [
    {
     "data": {
      "text/plain": [
       "bch         2\n",
       "btc         2\n",
       "dogecoin    2\n",
       "litecoin    2\n",
       "Name: count, dtype: int64"
      ]
     },
     "execution_count": 49,
     "metadata": {},
     "output_type": "execute_result"
    }
   ],
   "source": [
    "cat_s.value_counts()"
   ]
  },
  {
   "cell_type": "code",
   "execution_count": 53,
   "id": "bed76d3d",
   "metadata": {},
   "outputs": [
    {
     "data": {
      "text/plain": [
       "litecoin    2\n",
       "bch         2\n",
       "dogecoin    2\n",
       "bitcoin     0\n",
       "usdt        0\n",
       "Name: count, dtype: int64"
      ]
     },
     "execution_count": 53,
     "metadata": {},
     "output_type": "execute_result"
    }
   ],
   "source": [
    "cat_s2.value_counts()"
   ]
  },
  {
   "cell_type": "code",
   "execution_count": 54,
   "id": "2ec7a0ee",
   "metadata": {},
   "outputs": [
    {
     "data": {
      "text/plain": [
       "1    litecoin\n",
       "2    dogecoin\n",
       "3         bch\n",
       "5    litecoin\n",
       "6    dogecoin\n",
       "7         bch\n",
       "dtype: category\n",
       "Categories (4, object): ['bch', 'btc', 'dogecoin', 'litecoin']"
      ]
     },
     "execution_count": 54,
     "metadata": {},
     "output_type": "execute_result"
    }
   ],
   "source": [
    "cat_s3 = cat_s[cat_s.isin(actual_currencies)]\n",
    "cat_s3"
   ]
  },
  {
   "cell_type": "code",
   "execution_count": 55,
   "id": "dc860230",
   "metadata": {},
   "outputs": [
    {
     "data": {
      "text/plain": [
       "Index(['bch', 'btc', 'dogecoin', 'litecoin'], dtype='object')"
      ]
     },
     "execution_count": 55,
     "metadata": {},
     "output_type": "execute_result"
    }
   ],
   "source": [
    "cat_s3.cat.categories"
   ]
  },
  {
   "cell_type": "code",
   "execution_count": 56,
   "id": "25f5d6d2",
   "metadata": {},
   "outputs": [
    {
     "data": {
      "text/plain": [
       "1    litecoin\n",
       "2    dogecoin\n",
       "3         bch\n",
       "5    litecoin\n",
       "6    dogecoin\n",
       "7         bch\n",
       "dtype: category\n",
       "Categories (3, object): ['bch', 'dogecoin', 'litecoin']"
      ]
     },
     "execution_count": 56,
     "metadata": {},
     "output_type": "execute_result"
    }
   ],
   "source": [
    "cat_s3.cat.remove_unused_categories()"
   ]
  },
  {
   "cell_type": "code",
   "execution_count": 57,
   "id": "5f41186c",
   "metadata": {},
   "outputs": [
    {
     "data": {
      "text/plain": [
       "1    litecoin\n",
       "2    dogecoin\n",
       "3         bch\n",
       "5    litecoin\n",
       "6    dogecoin\n",
       "7         bch\n",
       "dtype: category\n",
       "Categories (4, object): ['bch', 'btc', 'dogecoin', 'litecoin']"
      ]
     },
     "execution_count": 57,
     "metadata": {},
     "output_type": "execute_result"
    }
   ],
   "source": [
    "cat_s3  "
   ]
  },
  {
   "cell_type": "code",
   "execution_count": 58,
   "id": "b29f89be",
   "metadata": {},
   "outputs": [
    {
     "data": {
      "text/html": [
       "<div>\n",
       "<style scoped>\n",
       "    .dataframe tbody tr th:only-of-type {\n",
       "        vertical-align: middle;\n",
       "    }\n",
       "\n",
       "    .dataframe tbody tr th {\n",
       "        vertical-align: top;\n",
       "    }\n",
       "\n",
       "    .dataframe thead th {\n",
       "        text-align: right;\n",
       "    }\n",
       "</style>\n",
       "<table border=\"1\" class=\"dataframe\">\n",
       "  <thead>\n",
       "    <tr style=\"text-align: right;\">\n",
       "      <th></th>\n",
       "      <th>currency::bch</th>\n",
       "      <th>currency::btc</th>\n",
       "      <th>currency::dogecoin</th>\n",
       "      <th>currency::litecoin</th>\n",
       "    </tr>\n",
       "  </thead>\n",
       "  <tbody>\n",
       "    <tr>\n",
       "      <th>0</th>\n",
       "      <td>0</td>\n",
       "      <td>1</td>\n",
       "      <td>0</td>\n",
       "      <td>0</td>\n",
       "    </tr>\n",
       "    <tr>\n",
       "      <th>1</th>\n",
       "      <td>0</td>\n",
       "      <td>0</td>\n",
       "      <td>0</td>\n",
       "      <td>1</td>\n",
       "    </tr>\n",
       "    <tr>\n",
       "      <th>2</th>\n",
       "      <td>0</td>\n",
       "      <td>0</td>\n",
       "      <td>1</td>\n",
       "      <td>0</td>\n",
       "    </tr>\n",
       "    <tr>\n",
       "      <th>3</th>\n",
       "      <td>1</td>\n",
       "      <td>0</td>\n",
       "      <td>0</td>\n",
       "      <td>0</td>\n",
       "    </tr>\n",
       "    <tr>\n",
       "      <th>4</th>\n",
       "      <td>0</td>\n",
       "      <td>1</td>\n",
       "      <td>0</td>\n",
       "      <td>0</td>\n",
       "    </tr>\n",
       "    <tr>\n",
       "      <th>5</th>\n",
       "      <td>0</td>\n",
       "      <td>0</td>\n",
       "      <td>0</td>\n",
       "      <td>1</td>\n",
       "    </tr>\n",
       "    <tr>\n",
       "      <th>6</th>\n",
       "      <td>0</td>\n",
       "      <td>0</td>\n",
       "      <td>1</td>\n",
       "      <td>0</td>\n",
       "    </tr>\n",
       "    <tr>\n",
       "      <th>7</th>\n",
       "      <td>1</td>\n",
       "      <td>0</td>\n",
       "      <td>0</td>\n",
       "      <td>0</td>\n",
       "    </tr>\n",
       "  </tbody>\n",
       "</table>\n",
       "</div>"
      ],
      "text/plain": [
       "   currency::bch  currency::btc  currency::dogecoin  currency::litecoin\n",
       "0              0              1                   0                   0\n",
       "1              0              0                   0                   1\n",
       "2              0              0                   1                   0\n",
       "3              1              0                   0                   0\n",
       "4              0              1                   0                   0\n",
       "5              0              0                   0                   1\n",
       "6              0              0                   1                   0\n",
       "7              1              0                   0                   0"
      ]
     },
     "execution_count": 58,
     "metadata": {},
     "output_type": "execute_result"
    }
   ],
   "source": [
    "# Creating dummy variables from categorical data for modeling\n",
    "# --- IGNORE ---\n",
    "\n",
    "cat_s = pd.Series(['btc', 'litecoin', 'dogecoin', 'bch'] * 2, \n",
    "                  dtype='category')\n",
    "pd.get_dummies(cat_s, prefix='currency', \n",
    "               prefix_sep='::', drop_first=False, dtype=int)"
   ]
  }
 ],
 "metadata": {
  "kernelspec": {
   "display_name": "eienv",
   "language": "python",
   "name": "python3"
  },
  "language_info": {
   "codemirror_mode": {
    "name": "ipython",
    "version": 3
   },
   "file_extension": ".py",
   "mimetype": "text/x-python",
   "name": "python",
   "nbconvert_exporter": "python",
   "pygments_lexer": "ipython3",
   "version": "3.12.0"
  }
 },
 "nbformat": 4,
 "nbformat_minor": 5
}
