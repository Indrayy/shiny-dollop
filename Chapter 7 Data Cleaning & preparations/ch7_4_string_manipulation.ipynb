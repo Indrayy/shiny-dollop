{
 "cells": [
  {
   "cell_type": "code",
   "execution_count": 11,
   "id": "c048ef70",
   "metadata": {},
   "outputs": [
    {
     "data": {
      "text/plain": [
       "['a', ' b', ' Yelan']"
      ]
     },
     "execution_count": 11,
     "metadata": {},
     "output_type": "execute_result"
    }
   ],
   "source": [
    "# 7.1 String Manipulation\n",
    "\n",
    "# Python Built-In String Object Methods\n",
    "\n",
    "val = \"a, b, Yelan\"\n",
    "val.split(\",\")"
   ]
  },
  {
   "cell_type": "code",
   "execution_count": 12,
   "id": "3bf3196e",
   "metadata": {},
   "outputs": [
    {
     "data": {
      "text/plain": [
       "['a', 'b', 'Yelan']"
      ]
     },
     "execution_count": 12,
     "metadata": {},
     "output_type": "execute_result"
    }
   ],
   "source": [
    "pieces = [x.strip() for x in val.split(\",\")]\n",
    "\n",
    "pieces"
   ]
  },
  {
   "cell_type": "code",
   "execution_count": 13,
   "id": "340e1286",
   "metadata": {},
   "outputs": [
    {
     "data": {
      "text/plain": [
       "'a::b::Yelan'"
      ]
     },
     "execution_count": 13,
     "metadata": {},
     "output_type": "execute_result"
    }
   ],
   "source": [
    "# Make sure 'pieces' is defined\n",
    "# pieces = [x.strip() for x in val.split(\",\")]\n",
    "\n",
    "pertama, kedua, ketiga = pieces\n",
    "\n",
    "pertama + \"::\" + kedua + \"::\" + ketiga"
   ]
  },
  {
   "cell_type": "code",
   "execution_count": 14,
   "id": "9ffd8e37",
   "metadata": {},
   "outputs": [
    {
     "data": {
      "text/plain": [
       "'a|b|Yelan'"
      ]
     },
     "execution_count": 14,
     "metadata": {},
     "output_type": "execute_result"
    }
   ],
   "source": [
    "# pieces = [x.strip() for x in val.split(\",\")]\n",
    "\"|\".join(pieces)"
   ]
  },
  {
   "cell_type": "code",
   "execution_count": 15,
   "id": "c82a500d",
   "metadata": {},
   "outputs": [
    {
     "data": {
      "text/plain": [
       "False"
      ]
     },
     "execution_count": 15,
     "metadata": {},
     "output_type": "execute_result"
    }
   ],
   "source": [
    "\"yelan\" in val"
   ]
  },
  {
   "cell_type": "code",
   "execution_count": 16,
   "id": "dbaaf8b1",
   "metadata": {},
   "outputs": [
    {
     "data": {
      "text/plain": [
       "True"
      ]
     },
     "execution_count": 16,
     "metadata": {},
     "output_type": "execute_result"
    }
   ],
   "source": [
    "\"Yelan\" in val"
   ]
  },
  {
   "cell_type": "code",
   "execution_count": 17,
   "id": "ec4f4073",
   "metadata": {},
   "outputs": [
    {
     "data": {
      "text/plain": [
       "1"
      ]
     },
     "execution_count": 17,
     "metadata": {},
     "output_type": "execute_result"
    }
   ],
   "source": [
    "val.index(\",\")"
   ]
  },
  {
   "cell_type": "code",
   "execution_count": 18,
   "id": "0deecf03",
   "metadata": {},
   "outputs": [
    {
     "data": {
      "text/plain": [
       "-1"
      ]
     },
     "execution_count": 18,
     "metadata": {},
     "output_type": "execute_result"
    }
   ],
   "source": [
    "val.find(\":\")"
   ]
  },
  {
   "cell_type": "code",
   "execution_count": 19,
   "id": "a98bb5dc",
   "metadata": {},
   "outputs": [
    {
     "data": {
      "text/plain": [
       "-1"
      ]
     },
     "execution_count": 19,
     "metadata": {},
     "output_type": "execute_result"
    }
   ],
   "source": [
    "val.find(\"::\")"
   ]
  },
  {
   "cell_type": "code",
   "execution_count": 22,
   "id": "0eec556f",
   "metadata": {},
   "outputs": [
    {
     "ename": "ValueError",
     "evalue": "substring not found",
     "output_type": "error",
     "traceback": [
      "\u001b[31m---------------------------------------------------------------------------\u001b[39m",
      "\u001b[31mValueError\u001b[39m                                Traceback (most recent call last)",
      "\u001b[36mCell\u001b[39m\u001b[36m \u001b[39m\u001b[32mIn[22]\u001b[39m\u001b[32m, line 1\u001b[39m\n\u001b[32m----> \u001b[39m\u001b[32m1\u001b[39m \u001b[43mval\u001b[49m\u001b[43m.\u001b[49m\u001b[43mindex\u001b[49m\u001b[43m(\u001b[49m\u001b[33;43m\"\u001b[39;49m\u001b[33;43m:\u001b[39;49m\u001b[33;43m\"\u001b[39;49m\u001b[43m)\u001b[49m \u001b[38;5;66;03m# index raises an exception if string isn't found\u001b[39;00m\n\u001b[32m      2\u001b[39m                \u001b[38;5;66;03m# (versus retruning -1)\u001b[39;00m\n",
      "\u001b[31mValueError\u001b[39m: substring not found"
     ]
    }
   ],
   "source": [
    "val.index(\":\") # index raises an exception if string isn't found\n",
    "               # (versus retruning -1)"
   ]
  },
  {
   "cell_type": "code",
   "execution_count": 21,
   "id": "56a531b8",
   "metadata": {},
   "outputs": [
    {
     "ename": "ValueError",
     "evalue": "substring not found",
     "output_type": "error",
     "traceback": [
      "\u001b[31m---------------------------------------------------------------------------\u001b[39m",
      "\u001b[31mValueError\u001b[39m                                Traceback (most recent call last)",
      "\u001b[36mCell\u001b[39m\u001b[36m \u001b[39m\u001b[32mIn[21]\u001b[39m\u001b[32m, line 1\u001b[39m\n\u001b[32m----> \u001b[39m\u001b[32m1\u001b[39m \u001b[43mval\u001b[49m\u001b[43m.\u001b[49m\u001b[43mindex\u001b[49m\u001b[43m(\u001b[49m\u001b[33;43m\"\u001b[39;49m\u001b[33;43m::\u001b[39;49m\u001b[33;43m\"\u001b[39;49m\u001b[43m)\u001b[49m\n",
      "\u001b[31mValueError\u001b[39m: substring not found"
     ]
    }
   ],
   "source": [
    "val.index(\"::\")"
   ]
  },
  {
   "cell_type": "code",
   "execution_count": null,
   "id": "b2a8a390",
   "metadata": {},
   "outputs": [
    {
     "ename": "ValueError",
     "evalue": "substring not found",
     "output_type": "error",
     "traceback": [
      "\u001b[31m---------------------------------------------------------------------------\u001b[39m",
      "\u001b[31mValueError\u001b[39m                                Traceback (most recent call last)",
      "\u001b[36mCell\u001b[39m\u001b[36m \u001b[39m\u001b[32mIn[14]\u001b[39m\u001b[32m, line 1\u001b[39m\n\u001b[32m----> \u001b[39m\u001b[32m1\u001b[39m \u001b[43mval\u001b[49m\u001b[43m.\u001b[49m\u001b[43mindex\u001b[49m\u001b[43m(\u001b[49m\u001b[33;43m\"\u001b[39;49m\u001b[33;43m|\u001b[39;49m\u001b[33;43m\"\u001b[39;49m\u001b[43m)\u001b[49m\n",
      "\u001b[31mValueError\u001b[39m: substring not found"
     ]
    }
   ],
   "source": [
    "val.index(\"|\")               # index raises an exception if string isn't found"
   ]
  },
  {
   "cell_type": "code",
   "execution_count": null,
   "id": "f680e408",
   "metadata": {},
   "outputs": [
    {
     "data": {
      "text/plain": [
       "2"
      ]
     },
     "execution_count": 15,
     "metadata": {},
     "output_type": "execute_result"
    }
   ],
   "source": [
    "val.count(\",\")"
   ]
  },
  {
   "cell_type": "code",
   "execution_count": null,
   "id": "831bd8a4",
   "metadata": {},
   "outputs": [
    {
     "data": {
      "text/plain": [
       "'a:: b:: Yelan'"
      ]
     },
     "execution_count": 29,
     "metadata": {},
     "output_type": "execute_result"
    }
   ],
   "source": [
    "val.replace(\",\",\"::\")"
   ]
  },
  {
   "cell_type": "code",
   "execution_count": null,
   "id": "a27049fb",
   "metadata": {},
   "outputs": [
    {
     "data": {
      "text/plain": [
       "'a b Yelan'"
      ]
     },
     "execution_count": 32,
     "metadata": {},
     "output_type": "execute_result"
    }
   ],
   "source": [
    "val.replace(\",\", \"\")"
   ]
  },
  {
   "cell_type": "code",
   "execution_count": null,
   "id": "dcc5f82d",
   "metadata": {},
   "outputs": [
    {
     "data": {
      "text/plain": [
       "['mona', 'sucrose', 'citlali', 'ganyu']"
      ]
     },
     "execution_count": 35,
     "metadata": {},
     "output_type": "execute_result"
    }
   ],
   "source": [
    "import re\n",
    "\n",
    "text = \"mona sucrose\\t citlali \\tganyu\"\n",
    "re.split(r\"\\s+\", text)\n"
   ]
  },
  {
   "cell_type": "code",
   "execution_count": null,
   "id": "209777cf",
   "metadata": {},
   "outputs": [
    {
     "data": {
      "text/plain": [
       "['mona', 'sucrose', 'citlali', 'ganyu']"
      ]
     },
     "execution_count": 36,
     "metadata": {},
     "output_type": "execute_result"
    }
   ],
   "source": [
    "regex = re.compile(r\"\\s+\")\n",
    "\n",
    "regex.split(text)"
   ]
  },
  {
   "cell_type": "code",
   "execution_count": null,
   "id": "59c0f60d",
   "metadata": {},
   "outputs": [
    {
     "data": {
      "text/plain": [
       "[' ', '\\t ', ' \\t']"
      ]
     },
     "execution_count": 37,
     "metadata": {},
     "output_type": "execute_result"
    }
   ],
   "source": [
    "regex.findall(text)"
   ]
  },
  {
   "cell_type": "code",
   "execution_count": null,
   "id": "782102b0",
   "metadata": {},
   "outputs": [],
   "source": [
    "text1 = \"\"\"angga tinggarta.ahmad@gmail.com\n",
    "ning mad_indra@proton.me\n",
    "lisa lisa_monds@tutamail.com\n",
    "navia anggabazar_st@yahoo.co.id\"\"\"\n",
    "\n",
    "pattern = r\"[A-Z0-9._%+-]+@[A-Z0-9.-]+\\.[A-Z]{2,4}\""
   ]
  },
  {
   "cell_type": "code",
   "execution_count": null,
   "id": "47652902",
   "metadata": {},
   "outputs": [
    {
     "data": {
      "text/plain": [
       "[' ', '\\n', ' ', '\\n', ' ', '\\n', ' ']"
      ]
     },
     "execution_count": 39,
     "metadata": {},
     "output_type": "execute_result"
    }
   ],
   "source": [
    "regex.findall(text1)"
   ]
  },
  {
   "cell_type": "code",
   "execution_count": null,
   "id": "6887597a",
   "metadata": {},
   "outputs": [],
   "source": [
    "regex1 = re.compile(pattern, flags=re.IGNORECASE)"
   ]
  },
  {
   "cell_type": "code",
   "execution_count": null,
   "id": "8a137448",
   "metadata": {},
   "outputs": [
    {
     "data": {
      "text/plain": [
       "['tinggarta.ahmad@gmail.com',\n",
       " 'mad_indra@proton.me',\n",
       " 'lisa_monds@tutamail.com',\n",
       " 'anggabazar_st@yahoo.co.id']"
      ]
     },
     "execution_count": 41,
     "metadata": {},
     "output_type": "execute_result"
    }
   ],
   "source": [
    "regex1.findall(text1)"
   ]
  },
  {
   "cell_type": "code",
   "execution_count": null,
   "id": "2b55359a",
   "metadata": {},
   "outputs": [
    {
     "data": {
      "text/plain": [
       "<re.Match object; span=(6, 31), match='tinggarta.ahmad@gmail.com'>"
      ]
     },
     "execution_count": 42,
     "metadata": {},
     "output_type": "execute_result"
    }
   ],
   "source": [
    "m = regex1.search(text1)\n",
    "m"
   ]
  },
  {
   "cell_type": "code",
   "execution_count": null,
   "id": "f7435150",
   "metadata": {},
   "outputs": [
    {
     "data": {
      "text/plain": [
       "'ucrose\\t citlali \\tganyu'"
      ]
     },
     "execution_count": 43,
     "metadata": {},
     "output_type": "execute_result"
    }
   ],
   "source": [
    "text[m.start():m.end()]"
   ]
  },
  {
   "cell_type": "code",
   "execution_count": null,
   "id": "1a3208da",
   "metadata": {},
   "outputs": [
    {
     "data": {
      "text/plain": [
       "'tinggarta.ahmad@gmail.com'"
      ]
     },
     "execution_count": 44,
     "metadata": {},
     "output_type": "execute_result"
    }
   ],
   "source": [
    "text1[m.start():m.end()]"
   ]
  },
  {
   "cell_type": "code",
   "execution_count": null,
   "id": "c4aab3bb",
   "metadata": {},
   "outputs": [
    {
     "name": "stdout",
     "output_type": "stream",
     "text": [
      "angga REDACTED\n",
      "ning REDACTED\n",
      "lisa REDACTED\n",
      "navia REDACTED\n"
     ]
    }
   ],
   "source": [
    "print(regex1.sub(\"REDACTED\", text1))\n",
    "# regex1.sub replaces all matches of the pattern \n",
    "# in text1 with \"REDACTED\"\n",
    "\n",
    "# This is useful for redacting sensitive information \n",
    "# like email addresses.\n"
   ]
  },
  {
   "cell_type": "code",
   "execution_count": null,
   "id": "79e34b15",
   "metadata": {},
   "outputs": [
    {
     "name": "stdout",
     "output_type": "stream",
     "text": [
      "None\n"
     ]
    }
   ],
   "source": [
    "print(regex1.match(text1))"
   ]
  },
  {
   "cell_type": "code",
   "execution_count": null,
   "id": "8ef9eb1d",
   "metadata": {},
   "outputs": [
    {
     "data": {
      "text/plain": [
       "('angga', 'ning', 'keqi')"
      ]
     },
     "execution_count": 55,
     "metadata": {},
     "output_type": "execute_result"
    }
   ],
   "source": [
    "pattern = r\"([A-Z0-9._%+-]+)@([A-Z0-9.-]+)\\.([A-Z]{2,4})\"\n",
    "regex2 = re.compile(pattern, flags=re.IGNORECASE)\n",
    "\n",
    "m1 = regex2.match(\"angga@ning.keqing\")\n",
    "m1.groups()\n",
    "\n",
    "# {2.4} means 2 to 4 characters\n",
    "# {2,4} means 2 or more characters, up to 4 characters"
   ]
  },
  {
   "cell_type": "code",
   "execution_count": null,
   "id": "4a9f1ad7",
   "metadata": {},
   "outputs": [
    {
     "data": {
      "text/plain": [
       "[('tinggarta.ahmad', 'gmail', 'com'),\n",
       " ('mad_indra', 'proton', 'me'),\n",
       " ('lisa_monds', 'tutamail', 'com'),\n",
       " ('anggabazar_st', 'yahoo.co', 'id')]"
      ]
     },
     "execution_count": 56,
     "metadata": {},
     "output_type": "execute_result"
    }
   ],
   "source": [
    "regex2.findall(text1)"
   ]
  },
  {
   "cell_type": "code",
   "execution_count": null,
   "id": "09dd6653",
   "metadata": {},
   "outputs": [
    {
     "name": "stdout",
     "output_type": "stream",
     "text": [
      "angga Username: tinggarta.ahmad, Domain: gmail, TLD: com\n",
      "ning Username: mad_indra, Domain: proton, TLD: me\n",
      "lisa Username: lisa_monds, Domain: tutamail, TLD: com\n",
      "navia Username: anggabazar_st, Domain: yahoo.co, TLD: id\n"
     ]
    }
   ],
   "source": [
    "print(regex2.sub(r\"Username: \\1, Domain: \\2, TLD: \\3\", text1))"
   ]
  },
  {
   "cell_type": "code",
   "execution_count": null,
   "id": "141e0aad",
   "metadata": {},
   "outputs": [],
   "source": [
    "# String FUnctions in Pandas\n",
    "import pandas as pd\n",
    "import numpy as np\n",
    "# Create a DataFrame with a column of email addresses\n",
    "data = {\"Angga\": \"tinggarta.ahmad@gmail.com\", \n",
    "        \"Ning\": \"mad_indra@proton.me\",\n",
    "        \"Lisa\": \"lisa_monds@tutamail.com\",\n",
    "        \"Yelan\": np.nan }\n",
    "\n",
    "data = pd.Series(data)"
   ]
  },
  {
   "cell_type": "code",
   "execution_count": null,
   "id": "18487237",
   "metadata": {},
   "outputs": [
    {
     "data": {
      "text/plain": [
       "Angga    tinggarta.ahmad@gmail.com\n",
       "Ning           mad_indra@proton.me\n",
       "Lisa       lisa_monds@tutamail.com\n",
       "Yelan                          NaN\n",
       "dtype: object"
      ]
     },
     "execution_count": 62,
     "metadata": {},
     "output_type": "execute_result"
    }
   ],
   "source": [
    "data "
   ]
  },
  {
   "cell_type": "code",
   "execution_count": null,
   "id": "9d2f46e5",
   "metadata": {},
   "outputs": [
    {
     "data": {
      "text/plain": [
       "Angga    False\n",
       "Ning     False\n",
       "Lisa     False\n",
       "Yelan     True\n",
       "dtype: bool"
      ]
     },
     "execution_count": 63,
     "metadata": {},
     "output_type": "execute_result"
    }
   ],
   "source": [
    "data.isna()\n",
    "# String Functions in Pandas\n",
    "# Pandas provides a rich set of string functions for Series objects."
   ]
  },
  {
   "cell_type": "code",
   "execution_count": null,
   "id": "eab8acaf",
   "metadata": {},
   "outputs": [
    {
     "data": {
      "text/plain": [
       "Angga     True\n",
       "Ning      True\n",
       "Lisa      True\n",
       "Yelan    False\n",
       "dtype: bool"
      ]
     },
     "execution_count": 64,
     "metadata": {},
     "output_type": "execute_result"
    }
   ],
   "source": [
    "data.notna()"
   ]
  },
  {
   "cell_type": "code",
   "execution_count": null,
   "id": "85bccafc",
   "metadata": {},
   "outputs": [
    {
     "data": {
      "text/plain": [
       "Angga    tinggarta.ahmad@gmail.com\n",
       "Ning           mad_indra@proton.me\n",
       "Lisa       lisa_monds@tutamail.com\n",
       "Yelan                          NaN\n",
       "dtype: object"
      ]
     },
     "execution_count": 65,
     "metadata": {},
     "output_type": "execute_result"
    }
   ],
   "source": [
    "data.str.lower()"
   ]
  },
  {
   "cell_type": "code",
   "execution_count": null,
   "id": "1dd86bbe",
   "metadata": {},
   "outputs": [
    {
     "data": {
      "text/plain": [
       "Angga     True\n",
       "Ning     False\n",
       "Lisa     False\n",
       "Yelan      NaN\n",
       "dtype: object"
      ]
     },
     "execution_count": 66,
     "metadata": {},
     "output_type": "execute_result"
    }
   ],
   "source": [
    "data.str.contains(\"gmail\")"
   ]
  },
  {
   "cell_type": "code",
   "execution_count": null,
   "id": "82faf34a",
   "metadata": {},
   "outputs": [
    {
     "data": {
      "text/plain": [
       "Angga    tinggarta.ahmad@gmail.com\n",
       "Ning           mad_indra@proton.me\n",
       "Lisa       lisa_monds@tutamail.com\n",
       "Yelan                          nan\n",
       "dtype: object"
      ]
     },
     "execution_count": 67,
     "metadata": {},
     "output_type": "execute_result"
    }
   ],
   "source": [
    "data_as_str_ext = data.astype(str)\n",
    "\n",
    "data_as_str_ext.str.lower()"
   ]
  },
  {
   "cell_type": "code",
   "execution_count": null,
   "id": "bc020524",
   "metadata": {},
   "outputs": [
    {
     "data": {
      "text/plain": [
       "Angga    tinggarta.ahmad@gmail.com\n",
       "Ning           mad_indra@proton.me\n",
       "Lisa       lisa_monds@tutamail.com\n",
       "Yelan                          nan\n",
       "dtype: object"
      ]
     },
     "execution_count": 68,
     "metadata": {},
     "output_type": "execute_result"
    }
   ],
   "source": [
    "data_as_str_ext  # Convert the Series to string type to avoid NaN issues"
   ]
  },
  {
   "cell_type": "code",
   "execution_count": null,
   "id": "ef4886c3",
   "metadata": {},
   "outputs": [
    {
     "data": {
      "text/plain": [
       "Angga    tinggarta.ahmad@gmail.com\n",
       "Ning           mad_indra@proton.me\n",
       "Lisa       lisa_monds@tutamail.com\n",
       "Yelan                         <NA>\n",
       "dtype: string"
      ]
     },
     "execution_count": 69,
     "metadata": {},
     "output_type": "execute_result"
    }
   ],
   "source": [
    "data_as_str_ext = data.astype('string')\n",
    "data_as_str_ext"
   ]
  },
  {
   "cell_type": "code",
   "execution_count": null,
   "id": "5ccd2cb9",
   "metadata": {},
   "outputs": [
    {
     "data": {
      "text/plain": [
       "Angga     True\n",
       "Ning     False\n",
       "Lisa     False\n",
       "Yelan     <NA>\n",
       "dtype: boolean"
      ]
     },
     "execution_count": 70,
     "metadata": {},
     "output_type": "execute_result"
    }
   ],
   "source": [
    "data_as_str_ext.str.contains(\"gmail\")"
   ]
  },
  {
   "cell_type": "code",
   "execution_count": null,
   "id": "5eda9a90",
   "metadata": {},
   "outputs": [
    {
     "data": {
      "text/plain": [
       "Angga    [(tinggarta.ahmad, gmail, com)]\n",
       "Ning           [(mad_indra, proton, me)]\n",
       "Lisa       [(lisa_monds, tutamail, com)]\n",
       "Yelan                                NaN\n",
       "dtype: object"
      ]
     },
     "execution_count": 71,
     "metadata": {},
     "output_type": "execute_result"
    }
   ],
   "source": [
    "\n",
    "data.str.findall(pattern, flags=re.IGNORECASE)"
   ]
  },
  {
   "cell_type": "code",
   "execution_count": null,
   "id": "c60520a8",
   "metadata": {},
   "outputs": [
    {
     "data": {
      "text/plain": [
       "Angga    (tinggarta.ahmad, gmail, com)\n",
       "Ning           (mad_indra, proton, me)\n",
       "Lisa       (lisa_monds, tutamail, com)\n",
       "Yelan                              NaN\n",
       "dtype: object"
      ]
     },
     "execution_count": 72,
     "metadata": {},
     "output_type": "execute_result"
    }
   ],
   "source": [
    "matches = data.str.findall(pattern, flags=re.IGNORECASE).str[0]\n",
    "\n",
    "matches"
   ]
  },
  {
   "cell_type": "code",
   "execution_count": null,
   "id": "3630f23b",
   "metadata": {},
   "outputs": [
    {
     "data": {
      "text/plain": [
       "Angga       gmail\n",
       "Ning       proton\n",
       "Lisa     tutamail\n",
       "Yelan         NaN\n",
       "dtype: object"
      ]
     },
     "execution_count": 73,
     "metadata": {},
     "output_type": "execute_result"
    }
   ],
   "source": [
    "matches.str.get(1)\n",
    "# matches.str.get(0)"
   ]
  },
  {
   "cell_type": "code",
   "execution_count": null,
   "id": "b1d1fccb",
   "metadata": {},
   "outputs": [
    {
     "data": {
      "text/plain": [
       "Angga    tingg\n",
       "Ning     mad_i\n",
       "Lisa     lisa_\n",
       "Yelan      NaN\n",
       "dtype: object"
      ]
     },
     "execution_count": 74,
     "metadata": {},
     "output_type": "execute_result"
    }
   ],
   "source": [
    "data.str[:5]"
   ]
  },
  {
   "cell_type": "code",
   "execution_count": null,
   "id": "42edee56",
   "metadata": {},
   "outputs": [
    {
     "data": {
      "text/html": [
       "<div>\n",
       "<style scoped>\n",
       "    .dataframe tbody tr th:only-of-type {\n",
       "        vertical-align: middle;\n",
       "    }\n",
       "\n",
       "    .dataframe tbody tr th {\n",
       "        vertical-align: top;\n",
       "    }\n",
       "\n",
       "    .dataframe thead th {\n",
       "        text-align: right;\n",
       "    }\n",
       "</style>\n",
       "<table border=\"1\" class=\"dataframe\">\n",
       "  <thead>\n",
       "    <tr style=\"text-align: right;\">\n",
       "      <th></th>\n",
       "      <th>0</th>\n",
       "      <th>1</th>\n",
       "      <th>2</th>\n",
       "    </tr>\n",
       "  </thead>\n",
       "  <tbody>\n",
       "    <tr>\n",
       "      <th>Angga</th>\n",
       "      <td>tinggarta.ahmad</td>\n",
       "      <td>gmail</td>\n",
       "      <td>com</td>\n",
       "    </tr>\n",
       "    <tr>\n",
       "      <th>Ning</th>\n",
       "      <td>mad_indra</td>\n",
       "      <td>proton</td>\n",
       "      <td>me</td>\n",
       "    </tr>\n",
       "    <tr>\n",
       "      <th>Lisa</th>\n",
       "      <td>lisa_monds</td>\n",
       "      <td>tutamail</td>\n",
       "      <td>com</td>\n",
       "    </tr>\n",
       "    <tr>\n",
       "      <th>Yelan</th>\n",
       "      <td>NaN</td>\n",
       "      <td>NaN</td>\n",
       "      <td>NaN</td>\n",
       "    </tr>\n",
       "  </tbody>\n",
       "</table>\n",
       "</div>"
      ],
      "text/plain": [
       "                     0         1    2\n",
       "Angga  tinggarta.ahmad     gmail  com\n",
       "Ning         mad_indra    proton   me\n",
       "Lisa        lisa_monds  tutamail  com\n",
       "Yelan              NaN       NaN  NaN"
      ]
     },
     "execution_count": 75,
     "metadata": {},
     "output_type": "execute_result"
    }
   ],
   "source": [
    "data.str.extract(pattern, flags=re.IGNORECASE)"
   ]
  },
  {
   "cell_type": "code",
   "execution_count": null,
   "id": "29f09ded",
   "metadata": {},
   "outputs": [],
   "source": [
    "# cat -- The 'cat' command is not applicable \n",
    "#        in this context as it is a shell command. Linux and Unix systems use 'cat' to \n",
    "#        concatenate and display file contents.\n",
    "#        In Python, you can use built-in functions like 'open' to read files or\n",
    "\n",
    "# contains -- returns a boolean Series indicating whether \n",
    "#             each string contains the specified substring.\n",
    "#             In Pandas, you can use the 'str.contains' method \n",
    "#             on a Series to\n",
    "\n",
    "# count -- The 'count' method in Pandas counts \n",
    "#           the number of occurrences \n",
    "#           of a substring in each string of a Series.\n",
    "#           It returns a Series of integers.\n",
    "#           In Python, you can use the 'count' \n",
    "#           method on a string object.\n",
    "\n",
    "# extract -- The 'extract' method in Pandas\n",
    "#            extracts substrings from each string in a Series   \n",
    "#            based on a regular expression pattern.\n",
    "#            It returns a DataFrame with the extracted substrings.\n",
    "#            In Python, you can use the 're' module \n",
    "#            to extract substrings\n",
    "\n"
   ]
  }
 ],
 "metadata": {
  "kernelspec": {
   "display_name": "eienv",
   "language": "python",
   "name": "python3"
  },
  "language_info": {
   "codemirror_mode": {
    "name": "ipython",
    "version": 3
   },
   "file_extension": ".py",
   "mimetype": "text/x-python",
   "name": "python",
   "nbconvert_exporter": "python",
   "pygments_lexer": "ipython3",
   "version": "3.12.0"
  }
 },
 "nbformat": 4,
 "nbformat_minor": 5
}
