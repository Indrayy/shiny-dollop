{
 "cells": [
  {
   "cell_type": "code",
   "execution_count": 1,
   "id": "c2a8727e",
   "metadata": {},
   "outputs": [],
   "source": [
    "import numpy as np\n",
    "import pandas as pd\n",
    "\n",
    "from datetime import datetime"
   ]
  },
  {
   "cell_type": "code",
   "execution_count": 2,
   "id": "4ff7e97b",
   "metadata": {},
   "outputs": [
    {
     "data": {
      "text/plain": [
       "datetime.datetime(2025, 9, 1, 8, 43, 18, 245805)"
      ]
     },
     "execution_count": 2,
     "metadata": {},
     "output_type": "execute_result"
    }
   ],
   "source": [
    "now = datetime.now()\n",
    "\n",
    "now"
   ]
  },
  {
   "cell_type": "code",
   "execution_count": 3,
   "id": "8b9371ab",
   "metadata": {},
   "outputs": [
    {
     "data": {
      "text/plain": [
       "(2025, 9, 1)"
      ]
     },
     "execution_count": 3,
     "metadata": {},
     "output_type": "execute_result"
    }
   ],
   "source": [
    "now.year, now.month, now.day"
   ]
  },
  {
   "cell_type": "code",
   "execution_count": 4,
   "id": "4fa4cf98",
   "metadata": {},
   "outputs": [
    {
     "data": {
      "text/plain": [
       "datetime.timedelta(days=1583, seconds=56700)"
      ]
     },
     "execution_count": 4,
     "metadata": {},
     "output_type": "execute_result"
    }
   ],
   "source": [
    "delta = datetime(2025, 8, 11) - datetime(2021, 4, 10, 8, 15)\n",
    "\n",
    "delta"
   ]
  },
  {
   "cell_type": "code",
   "execution_count": 5,
   "id": "899f046a",
   "metadata": {},
   "outputs": [
    {
     "data": {
      "text/plain": [
       "1583"
      ]
     },
     "execution_count": 5,
     "metadata": {},
     "output_type": "execute_result"
    }
   ],
   "source": [
    "delta.days"
   ]
  },
  {
   "cell_type": "code",
   "execution_count": 6,
   "id": "eba53ca4",
   "metadata": {},
   "outputs": [
    {
     "data": {
      "text/plain": [
       "56700"
      ]
     },
     "execution_count": 6,
     "metadata": {},
     "output_type": "execute_result"
    }
   ],
   "source": [
    "delta.seconds"
   ]
  },
  {
   "cell_type": "code",
   "execution_count": 7,
   "id": "b2eeeea8",
   "metadata": {},
   "outputs": [
    {
     "data": {
      "text/plain": [
       "datetime.datetime(2021, 9, 7, 0, 0)"
      ]
     },
     "execution_count": 7,
     "metadata": {},
     "output_type": "execute_result"
    }
   ],
   "source": [
    "from datetime import timedelta\n",
    "\n",
    "start = datetime(2021, 8 , 26)\n",
    "\n",
    "start + timedelta(12)\n"
   ]
  },
  {
   "cell_type": "code",
   "execution_count": 8,
   "id": "dc0205af",
   "metadata": {},
   "outputs": [
    {
     "data": {
      "text/plain": [
       "datetime.datetime(2021, 8, 2, 0, 0)"
      ]
     },
     "execution_count": 8,
     "metadata": {},
     "output_type": "execute_result"
    }
   ],
   "source": [
    "start - 2 * timedelta(12)\n"
   ]
  },
  {
   "cell_type": "code",
   "execution_count": 9,
   "id": "5327eb29",
   "metadata": {},
   "outputs": [
    {
     "data": {
      "text/plain": [
       "'2011-08-26 00:00:00'"
      ]
     },
     "execution_count": 9,
     "metadata": {},
     "output_type": "execute_result"
    }
   ],
   "source": [
    "stamp = datetime(2011, 8, 26)\n",
    "\n",
    "str(stamp)"
   ]
  },
  {
   "cell_type": "code",
   "execution_count": 10,
   "id": "22fde97a",
   "metadata": {},
   "outputs": [
    {
     "data": {
      "text/plain": [
       "'2011-08-26'"
      ]
     },
     "execution_count": 10,
     "metadata": {},
     "output_type": "execute_result"
    }
   ],
   "source": [
    "stamp.strftime(\"%Y-%m-%d\")"
   ]
  },
  {
   "cell_type": "code",
   "execution_count": 11,
   "id": "f06942b5",
   "metadata": {},
   "outputs": [],
   "source": [
    "# %d - 2 digit day [01, 31]\n",
    "# %H - Hour(24-hours clock) [00, 23]\n",
    "# %I - Hour(12-hours clock) [01, 12]\n",
    "# %M - 2 digit minutes [00, 59]\n",
    "# %S - Second [00, 61] (second 60, 61 account for leap seconds)\n",
    "# %f - Microsecond as an integer, zero-padded (from 000000 to 999999)\n",
    "# %j - Day of the year as a zero-padded integer (from 001 to 336)\n",
    "# %w - Weekday as an integer [0 (Sunday), 6]\n",
    "# %u - Weekday as integer starting from 1, and 1 is Monday\n",
    "# %U - Week number of the year [00, 53]; Sunday is the first day of the week \n",
    "# and days before the first Sunday of the year are \"week 0\"\n",
    "\n",
    "# %W - Week number of the year [00, 53]; Monday is the first day of the week \n",
    "# and days before the first Monday of the year are \"week 0\"\n",
    "\n",
    "# %z - UTC time zone offset as +HHMM or -HHMM; empty if time zone naive\n",
    "# %Z - Time zone name as a string, or empty string if no time zone\n",
    "# %F - Shortcut for %Y-%m-%d (e.g 1982-8-31)\n",
    "# %D - Shortcut for %m/%d/%y (e.g 8/31/82)\n"
   ]
  },
  {
   "cell_type": "code",
   "execution_count": 12,
   "id": "23c83246",
   "metadata": {},
   "outputs": [
    {
     "data": {
      "text/plain": [
       "datetime.datetime(1999, 4, 10, 0, 0)"
      ]
     },
     "execution_count": 12,
     "metadata": {},
     "output_type": "execute_result"
    }
   ],
   "source": [
    "value = \"1999-04-10\"\n",
    "\n",
    "datetime.strptime(value, \"%Y-%m-%d\")"
   ]
  },
  {
   "cell_type": "code",
   "execution_count": 13,
   "id": "fdb30abb",
   "metadata": {},
   "outputs": [
    {
     "data": {
      "text/plain": [
       "[datetime.datetime(2011, 7, 6, 0, 0), datetime.datetime(2011, 8, 6, 0, 0)]"
      ]
     },
     "execution_count": 13,
     "metadata": {},
     "output_type": "execute_result"
    }
   ],
   "source": [
    "datestrs = ['7/6/2011', '8/6/2011']\n",
    "\n",
    "[datetime.strptime(x, \"%m/%d/%Y\") for x in datestrs]"
   ]
  },
  {
   "cell_type": "code",
   "execution_count": 14,
   "id": "3c5492a2",
   "metadata": {},
   "outputs": [
    {
     "data": {
      "text/plain": [
       "DatetimeIndex(['2023-08-10 12:00:00', '2025-08-10 00:00:00'], dtype='datetime64[ns]', freq=None)"
      ]
     },
     "execution_count": 14,
     "metadata": {},
     "output_type": "execute_result"
    }
   ],
   "source": [
    "datestrs = ['2023-08-10 12:00:00', '2025-08-10 00:00:00']\n",
    "\n",
    "pd.to_datetime(datestrs)"
   ]
  },
  {
   "cell_type": "code",
   "execution_count": 15,
   "id": "895b93c3",
   "metadata": {},
   "outputs": [
    {
     "data": {
      "text/plain": [
       "DatetimeIndex(['2023-08-10 12:00:00', '2025-08-10 00:00:00', 'NaT'], dtype='datetime64[ns]', freq=None)"
      ]
     },
     "execution_count": 15,
     "metadata": {},
     "output_type": "execute_result"
    }
   ],
   "source": [
    "idx = pd.to_datetime(datestrs + [None])\n",
    "\n",
    "idx"
   ]
  },
  {
   "cell_type": "code",
   "execution_count": 16,
   "id": "a3aa5b01",
   "metadata": {},
   "outputs": [
    {
     "data": {
      "text/plain": [
       "NaT"
      ]
     },
     "execution_count": 16,
     "metadata": {},
     "output_type": "execute_result"
    }
   ],
   "source": [
    "idx[2]"
   ]
  },
  {
   "cell_type": "code",
   "execution_count": 17,
   "id": "ee8e836b",
   "metadata": {},
   "outputs": [
    {
     "data": {
      "text/plain": [
       "array([False, False,  True])"
      ]
     },
     "execution_count": 17,
     "metadata": {},
     "output_type": "execute_result"
    }
   ],
   "source": [
    "pd.isna(idx)"
   ]
  },
  {
   "cell_type": "code",
   "execution_count": 18,
   "id": "bae00372",
   "metadata": {},
   "outputs": [],
   "source": [
    "# %a - Abbreviated weekday name\n",
    "# %A - Full weekday name\n",
    "# %b - Abbreviated month name\n",
    "# %B - Full month name\n",
    "# %c - Full date & time  \n",
    "# %p - Locale equivalent of AM or PM\n",
    "# %x - Locale-appropriate formatted date (e.g US -> June 26, 2022 yields '06/26/2022')\n",
    "# %X - Locale-approriate time (e.g: '04:24:12 PM')\n"
   ]
  },
  {
   "cell_type": "code",
   "execution_count": 19,
   "id": "1df48a80",
   "metadata": {},
   "outputs": [
    {
     "data": {
      "text/plain": [
       "2011-01-02   -0.415246\n",
       "2011-01-05    0.769713\n",
       "2011-01-07   -1.479425\n",
       "2011-01-08    0.155847\n",
       "2011-01-10   -0.116247\n",
       "2011-01-12   -0.663480\n",
       "dtype: float64"
      ]
     },
     "execution_count": 19,
     "metadata": {},
     "output_type": "execute_result"
    }
   ],
   "source": [
    "# 11.2 Time Series Basics\n",
    "\n",
    "dates = [datetime(2011, 1, 2), datetime(2011, 1, 5),\n",
    "         datetime(2011, 1, 7), datetime(2011, 1, 8),\n",
    "         datetime(2011, 1, 10), datetime(2011,1,12)]\n",
    "\n",
    "ts = pd.Series(np.random.standard_normal(6), index=dates)\n",
    "\n",
    "ts"
   ]
  },
  {
   "cell_type": "code",
   "execution_count": 20,
   "id": "c65982f7",
   "metadata": {},
   "outputs": [
    {
     "data": {
      "text/plain": [
       "DatetimeIndex(['2011-01-02', '2011-01-05', '2011-01-07', '2011-01-08',\n",
       "               '2011-01-10', '2011-01-12'],\n",
       "              dtype='datetime64[ns]', freq=None)"
      ]
     },
     "execution_count": 20,
     "metadata": {},
     "output_type": "execute_result"
    }
   ],
   "source": [
    "ts.index"
   ]
  },
  {
   "cell_type": "code",
   "execution_count": 21,
   "id": "66b0d2fb",
   "metadata": {},
   "outputs": [
    {
     "data": {
      "text/plain": [
       "2011-01-02   -0.830491\n",
       "2011-01-05         NaN\n",
       "2011-01-07   -2.958851\n",
       "2011-01-08         NaN\n",
       "2011-01-10   -0.232495\n",
       "2011-01-12         NaN\n",
       "dtype: float64"
      ]
     },
     "execution_count": 21,
     "metadata": {},
     "output_type": "execute_result"
    }
   ],
   "source": [
    "ts + ts[::2]\n",
    "\n",
    "# Recall ts[::2] selects every second element in ts"
   ]
  },
  {
   "cell_type": "code",
   "execution_count": 22,
   "id": "049c0149",
   "metadata": {},
   "outputs": [
    {
     "data": {
      "text/plain": [
       "dtype('<M8[ns]')"
      ]
     },
     "execution_count": 22,
     "metadata": {},
     "output_type": "execute_result"
    }
   ],
   "source": [
    "ts.index.dtype\n",
    "\n",
    "# Pandas store timestamps sing NumPy's datetime64 data type at the nanosecond"
   ]
  },
  {
   "cell_type": "code",
   "execution_count": 23,
   "id": "94ea0975",
   "metadata": {},
   "outputs": [
    {
     "data": {
      "text/plain": [
       "Timestamp('2011-01-02 00:00:00')"
      ]
     },
     "execution_count": 23,
     "metadata": {},
     "output_type": "execute_result"
    }
   ],
   "source": [
    "stamp = ts.index[0]\n",
    "\n",
    "stamp"
   ]
  },
  {
   "cell_type": "code",
   "execution_count": 24,
   "id": "5e5770b5",
   "metadata": {},
   "outputs": [
    {
     "data": {
      "text/plain": [
       "np.float64(-1.4794254134567897)"
      ]
     },
     "execution_count": 24,
     "metadata": {},
     "output_type": "execute_result"
    }
   ],
   "source": [
    "# Indexing, Selection, Subsetting\n",
    "\n",
    "stamp = ts.index[2]\n",
    "\n",
    "ts[stamp]"
   ]
  },
  {
   "cell_type": "code",
   "execution_count": 25,
   "id": "45108a05",
   "metadata": {},
   "outputs": [
    {
     "data": {
      "text/plain": [
       "np.float64(-0.11624740262794618)"
      ]
     },
     "execution_count": 25,
     "metadata": {},
     "output_type": "execute_result"
    }
   ],
   "source": [
    "ts['2011-01-10']"
   ]
  },
  {
   "cell_type": "code",
   "execution_count": 26,
   "id": "f177a45d",
   "metadata": {},
   "outputs": [
    {
     "data": {
      "text/plain": [
       "2022-08-10    0.712041\n",
       "2022-08-11   -0.156867\n",
       "2022-08-12   -0.186183\n",
       "2022-08-13   -0.548291\n",
       "2022-08-14   -1.313236\n",
       "                ...   \n",
       "2025-05-01    0.352401\n",
       "2025-05-02    0.291106\n",
       "2025-05-03   -0.122679\n",
       "2025-05-04   -1.640561\n",
       "2025-05-05   -1.347358\n",
       "Freq: D, Length: 1000, dtype: float64"
      ]
     },
     "execution_count": 26,
     "metadata": {},
     "output_type": "execute_result"
    }
   ],
   "source": [
    "longer_ts = pd.Series(np.random.standard_normal(1000),\n",
    "                      index=pd.date_range('2022-08-10', periods=1000))\n",
    "\n",
    "longer_ts"
   ]
  },
  {
   "cell_type": "code",
   "execution_count": 27,
   "id": "44de55f8",
   "metadata": {},
   "outputs": [
    {
     "data": {
      "text/plain": [
       "2022-08-10    0.712041\n",
       "2022-08-11   -0.156867\n",
       "2022-08-12   -0.186183\n",
       "2022-08-13   -0.548291\n",
       "2022-08-14   -1.313236\n",
       "                ...   \n",
       "2022-12-27    1.053668\n",
       "2022-12-28   -0.442076\n",
       "2022-12-29    0.322976\n",
       "2022-12-30   -2.832541\n",
       "2022-12-31    2.134528\n",
       "Freq: D, Length: 144, dtype: float64"
      ]
     },
     "execution_count": 27,
     "metadata": {},
     "output_type": "execute_result"
    }
   ],
   "source": [
    "longer_ts['2022']"
   ]
  },
  {
   "cell_type": "code",
   "execution_count": 28,
   "id": "05f4becb",
   "metadata": {},
   "outputs": [
    {
     "data": {
      "text/plain": [
       "2011-01-07   -1.479425\n",
       "2011-01-08    0.155847\n",
       "2011-01-10   -0.116247\n",
       "2011-01-12   -0.663480\n",
       "dtype: float64"
      ]
     },
     "execution_count": 28,
     "metadata": {},
     "output_type": "execute_result"
    }
   ],
   "source": [
    "ts[datetime(2011, 1, 7):]\n",
    "\n",
    "# Slicing with datetime objects works as well"
   ]
  },
  {
   "cell_type": "code",
   "execution_count": 29,
   "id": "ea4c6098",
   "metadata": {},
   "outputs": [
    {
     "data": {
      "text/plain": [
       "Series([], dtype: float64)"
      ]
     },
     "execution_count": 29,
     "metadata": {},
     "output_type": "execute_result"
    }
   ],
   "source": [
    "ts[datetime(2011, 1, 7):datetime(2001, 1, 10)]"
   ]
  },
  {
   "cell_type": "code",
   "execution_count": 30,
   "id": "a654d1e5",
   "metadata": {},
   "outputs": [
    {
     "data": {
      "text/plain": [
       "2011-01-02   -0.415246\n",
       "2011-01-05    0.769713\n",
       "2011-01-07   -1.479425\n",
       "2011-01-08    0.155847\n",
       "2011-01-10   -0.116247\n",
       "2011-01-12   -0.663480\n",
       "dtype: float64"
      ]
     },
     "execution_count": 30,
     "metadata": {},
     "output_type": "execute_result"
    }
   ],
   "source": [
    "ts\n",
    "\n",
    "# Because most time series datas is ordered chronologically, you can slice with \n",
    "# time-stamps not contained in a time series to perform a range query"
   ]
  },
  {
   "cell_type": "code",
   "execution_count": 31,
   "id": "b01b0336",
   "metadata": {},
   "outputs": [
    {
     "data": {
      "text/plain": [
       "2011-01-07   -1.479425\n",
       "2011-01-08    0.155847\n",
       "2011-01-10   -0.116247\n",
       "dtype: float64"
      ]
     },
     "execution_count": 31,
     "metadata": {},
     "output_type": "execute_result"
    }
   ],
   "source": [
    "ts['2011-01-06':'2011-01-11']"
   ]
  },
  {
   "cell_type": "code",
   "execution_count": 32,
   "id": "c547f3c7",
   "metadata": {},
   "outputs": [
    {
     "data": {
      "text/plain": [
       "2011-01-02   -0.415246\n",
       "2011-01-05    0.769713\n",
       "2011-01-07   -1.479425\n",
       "2011-01-08    0.155847\n",
       "dtype: float64"
      ]
     },
     "execution_count": 32,
     "metadata": {},
     "output_type": "execute_result"
    }
   ],
   "source": [
    "ts.truncate(after='2011-01-09')"
   ]
  },
  {
   "cell_type": "code",
   "execution_count": 33,
   "id": "2b143424",
   "metadata": {},
   "outputs": [
    {
     "data": {
      "text/html": [
       "<div>\n",
       "<style scoped>\n",
       "    .dataframe tbody tr th:only-of-type {\n",
       "        vertical-align: middle;\n",
       "    }\n",
       "\n",
       "    .dataframe tbody tr th {\n",
       "        vertical-align: top;\n",
       "    }\n",
       "\n",
       "    .dataframe thead th {\n",
       "        text-align: right;\n",
       "    }\n",
       "</style>\n",
       "<table border=\"1\" class=\"dataframe\">\n",
       "  <thead>\n",
       "    <tr style=\"text-align: right;\">\n",
       "      <th></th>\n",
       "      <th>Mondstadt</th>\n",
       "      <th>Liyue</th>\n",
       "      <th>Inazuma</th>\n",
       "      <th>Sumeru</th>\n",
       "    </tr>\n",
       "  </thead>\n",
       "  <tbody>\n",
       "    <tr>\n",
       "      <th>2001-05-02</th>\n",
       "      <td>0.764678</td>\n",
       "      <td>0.188880</td>\n",
       "      <td>1.724890</td>\n",
       "      <td>-0.524180</td>\n",
       "    </tr>\n",
       "    <tr>\n",
       "      <th>2001-05-09</th>\n",
       "      <td>-1.262415</td>\n",
       "      <td>-0.463127</td>\n",
       "      <td>1.730778</td>\n",
       "      <td>0.324467</td>\n",
       "    </tr>\n",
       "    <tr>\n",
       "      <th>2001-05-16</th>\n",
       "      <td>-0.537797</td>\n",
       "      <td>2.301252</td>\n",
       "      <td>1.321939</td>\n",
       "      <td>0.116451</td>\n",
       "    </tr>\n",
       "    <tr>\n",
       "      <th>2001-05-23</th>\n",
       "      <td>0.427118</td>\n",
       "      <td>-1.349818</td>\n",
       "      <td>0.350756</td>\n",
       "      <td>-1.773713</td>\n",
       "    </tr>\n",
       "    <tr>\n",
       "      <th>2001-05-30</th>\n",
       "      <td>-0.495889</td>\n",
       "      <td>0.037782</td>\n",
       "      <td>1.297295</td>\n",
       "      <td>1.519513</td>\n",
       "    </tr>\n",
       "  </tbody>\n",
       "</table>\n",
       "</div>"
      ],
      "text/plain": [
       "            Mondstadt     Liyue   Inazuma    Sumeru\n",
       "2001-05-02   0.764678  0.188880  1.724890 -0.524180\n",
       "2001-05-09  -1.262415 -0.463127  1.730778  0.324467\n",
       "2001-05-16  -0.537797  2.301252  1.321939  0.116451\n",
       "2001-05-23   0.427118 -1.349818  0.350756 -1.773713\n",
       "2001-05-30  -0.495889  0.037782  1.297295  1.519513"
      ]
     },
     "execution_count": 33,
     "metadata": {},
     "output_type": "execute_result"
    }
   ],
   "source": [
    "dates = pd.date_range(\"2000-01-01\", periods=100, \n",
    "freq=\"W-WED\")\n",
    "\n",
    "long_df = pd.DataFrame(np.random.standard_normal((100, 4)),\n",
    "                       index=dates,\n",
    "                       columns=['Mondstadt', 'Liyue',\n",
    "                                'Inazuma', 'Sumeru'])\n",
    "\n",
    "long_df.loc['2001-05']"
   ]
  },
  {
   "cell_type": "code",
   "execution_count": 34,
   "id": "6ae82815",
   "metadata": {},
   "outputs": [
    {
     "data": {
      "text/plain": [
       "2000-01-01    0\n",
       "2000-01-02    1\n",
       "2000-01-02    2\n",
       "2000-01-02    3\n",
       "2000-01-03    4\n",
       "dtype: int64"
      ]
     },
     "execution_count": 34,
     "metadata": {},
     "output_type": "execute_result"
    }
   ],
   "source": [
    "# Time Series with Duplicate\n",
    "\n",
    "# Multiple data observations falling on \n",
    "# a particular timestamp\n",
    "\n",
    "dates = pd.DatetimeIndex(['2000-01-01', '2000-01-02', '2000-01-02', \n",
    "                         '2000-01-02', '2000-01-03'])\n",
    "\n",
    "dup_ts = pd.Series(np.arange(5), index=dates)\n",
    "\n",
    "dup_ts"
   ]
  },
  {
   "cell_type": "code",
   "execution_count": 35,
   "id": "651e858d",
   "metadata": {},
   "outputs": [
    {
     "data": {
      "text/plain": [
       "2000-01-01    0.0\n",
       "2000-01-02    2.0\n",
       "2000-01-03    4.0\n",
       "dtype: float64"
      ]
     },
     "execution_count": 35,
     "metadata": {},
     "output_type": "execute_result"
    }
   ],
   "source": [
    "grouped = dup_ts.groupby(level=0)\n",
    "\n",
    "grouped.mean()"
   ]
  },
  {
   "cell_type": "code",
   "execution_count": 36,
   "id": "c48fd6e3",
   "metadata": {},
   "outputs": [
    {
     "data": {
      "text/plain": [
       "2000-01-01    1\n",
       "2000-01-02    3\n",
       "2000-01-03    1\n",
       "dtype: int64"
      ]
     },
     "execution_count": 36,
     "metadata": {},
     "output_type": "execute_result"
    }
   ],
   "source": [
    "grouped.count()"
   ]
  },
  {
   "cell_type": "code",
   "execution_count": 37,
   "id": "11712ef9",
   "metadata": {},
   "outputs": [
    {
     "data": {
      "text/plain": [
       "DatetimeIndex(['2012-04-01', '2012-04-02', '2012-04-03', '2012-04-04',\n",
       "               '2012-04-05', '2012-04-06', '2012-04-07', '2012-04-08',\n",
       "               '2012-04-09', '2012-04-10', '2012-04-11', '2012-04-12',\n",
       "               '2012-04-13', '2012-04-14', '2012-04-15', '2012-04-16',\n",
       "               '2012-04-17', '2012-04-18', '2012-04-19', '2012-04-20',\n",
       "               '2012-04-21', '2012-04-22', '2012-04-23', '2012-04-24',\n",
       "               '2012-04-25', '2012-04-26', '2012-04-27', '2012-04-28',\n",
       "               '2012-04-29', '2012-04-30', '2012-05-01', '2012-05-02',\n",
       "               '2012-05-03', '2012-05-04', '2012-05-05', '2012-05-06',\n",
       "               '2012-05-07', '2012-05-08', '2012-05-09', '2012-05-10',\n",
       "               '2012-05-11', '2012-05-12', '2012-05-13', '2012-05-14',\n",
       "               '2012-05-15', '2012-05-16', '2012-05-17', '2012-05-18',\n",
       "               '2012-05-19', '2012-05-20', '2012-05-21', '2012-05-22',\n",
       "               '2012-05-23', '2012-05-24', '2012-05-25', '2012-05-26',\n",
       "               '2012-05-27', '2012-05-28', '2012-05-29', '2012-05-30',\n",
       "               '2012-05-31', '2012-06-01'],\n",
       "              dtype='datetime64[ns]', freq='D')"
      ]
     },
     "execution_count": 37,
     "metadata": {},
     "output_type": "execute_result"
    }
   ],
   "source": [
    "# 11.3 Date Ranges, Frequencies, and Shifting\n",
    "\n",
    "# Generating Date Ranges\n",
    "\n",
    "indeks = pd.date_range(\"2012-04-01\", \"2012-06-01\")\n",
    "\n",
    "indeks\n",
    "\n"
   ]
  },
  {
   "cell_type": "code",
   "execution_count": 38,
   "id": "8f9e97f3",
   "metadata": {},
   "outputs": [
    {
     "name": "stderr",
     "output_type": "stream",
     "text": [
      "C:\\Users\\NITRO\\AppData\\Local\\Temp\\ipykernel_21608\\2886312902.py:1: FutureWarning: 'BM' is deprecated and will be removed in a future version, please use 'BME' instead.\n",
      "  pd.date_range(\"2000-01-01\",\"2000-12-01\", freq=\"BM\")\n"
     ]
    },
    {
     "data": {
      "text/plain": [
       "DatetimeIndex(['2000-01-31', '2000-02-29', '2000-03-31', '2000-04-28',\n",
       "               '2000-05-31', '2000-06-30', '2000-07-31', '2000-08-31',\n",
       "               '2000-09-29', '2000-10-31', '2000-11-30'],\n",
       "              dtype='datetime64[ns]', freq='BME')"
      ]
     },
     "execution_count": 38,
     "metadata": {},
     "output_type": "execute_result"
    }
   ],
   "source": [
    "pd.date_range(\"2000-01-01\",\"2000-12-01\", freq=\"BM\")"
   ]
  },
  {
   "cell_type": "code",
   "execution_count": 39,
   "id": "4598dde0",
   "metadata": {},
   "outputs": [],
   "source": [
    "#    Alias              | Offset Type           |  Description\n",
    "\n",
    "# W-MON, W-TUE,....     - Week                  -  Weekly on given day of week \n",
    "                                                #  (senin hingga Minggu)\n",
    "\n",
    "# WOM-1MON, WOM-2MON    - WeekOfMonth           -  Generate weekly dates in the first,\n",
    "                                                #  second, \n",
    "                                                #  3rd or 4th week of the month \n",
    "                                                #  (e.g WOM-3FRI for third (3rd) \n",
    "                                                #  Friday of each month)\n",
    "\n",
    "# Q-JAN, Q-FEB,...      - QuarterEnd            #  Quarterly dates anchored on last calendar day\n",
    "                                                #  of each month, for year ending in indicated month \n",
    "                                                #  (Januari -> Desember)  \n",
    "\n",
    "# BQ-JAN, BQ-FEB,...    - BusinessQuarrerEnd    #  Quarterly dates anchored on last \n",
    "                                                #  weekday day of each month, \n",
    "                                                #  for year ending in indicated month\n",
    "\n",
    "# QS-JAN, QS-FEB,...    - QuarterBegin          #  Quarterly dates anchored on first \n",
    "                                                #  calendar day of each month, \n",
    "                                                #  for year ending in indicated month\n",
    "\n",
    "# BQS-JAN, BQS-FEB,...  - Busin.sQuartrBegin    #  Quarterly dates anchored on first \n",
    "                                                #  weekday day of each month, \n",
    "                                                #  for year ending in indicated month\n",
    "\n",
    "# A-JAN, A-FEB,...      - YearEnd               #  Annual dates anchored on last \n",
    "                                                #  calendar of given month\n",
    "                                                #  (Januari -> Desember) \n",
    "\n",
    "# BA-JAN, BA-FEB,...    - BusinessYearEnd       #  Annual dates anchored on last \n",
    "                                                #  weekday of given month  \n",
    "\n",
    "# AS-JAN. AS-FEB,...    - YearBegin             #  Annual dates anchored on first \n",
    "                                                #  day of given month  \n",
    "\n",
    "# BAS-JAN, BAS-FEB,...  - Business.Y.Begin      #  Annual dates anchored on first \n",
    "                                                #  weekday of given month  \n",
    "\n"
   ]
  },
  {
   "cell_type": "code",
   "execution_count": 40,
   "id": "92edf4c3",
   "metadata": {},
   "outputs": [
    {
     "data": {
      "text/plain": [
       "DatetimeIndex(['2012-05-02 12:56:31', '2012-05-03 12:56:31',\n",
       "               '2012-05-04 12:56:31', '2012-05-05 12:56:31',\n",
       "               '2012-05-06 12:56:31'],\n",
       "              dtype='datetime64[ns]', freq='D')"
      ]
     },
     "execution_count": 40,
     "metadata": {},
     "output_type": "execute_result"
    }
   ],
   "source": [
    "pd.date_range(\"2012-05-02 12:56:31\", periods=5)\n",
    "\n",
    "# Preserve the time (if any) of the start or end time-stamp"
   ]
  },
  {
   "cell_type": "code",
   "execution_count": 41,
   "id": "f93d3e60",
   "metadata": {},
   "outputs": [
    {
     "data": {
      "text/plain": [
       "DatetimeIndex(['2012-05-02', '2012-05-03', '2012-05-04', '2012-05-05',\n",
       "               '2012-05-06'],\n",
       "              dtype='datetime64[ns]', freq='D')"
      ]
     },
     "execution_count": 41,
     "metadata": {},
     "output_type": "execute_result"
    }
   ],
   "source": [
    "pd.date_range(\"2012-05-02 12:56:31\", periods=5, normalize=True)\n",
    "\n",
    "# Sometimes have to start or end dates with time information  \n",
    "# but generating a set of timestamps normalized \n",
    "# to midnight as a convention"
   ]
  },
  {
   "cell_type": "code",
   "execution_count": 42,
   "id": "3fae2b83",
   "metadata": {},
   "outputs": [
    {
     "data": {
      "text/plain": [
       "<Hour>"
      ]
     },
     "execution_count": 42,
     "metadata": {},
     "output_type": "execute_result"
    }
   ],
   "source": [
    "# Frequencies and Date Offsets\n",
    "\n",
    "from pandas.tseries.offsets import Hour, Minute\n",
    "\n",
    "hour = Hour()\n",
    "\n",
    "hour\n",
    "\n",
    "# hourly freqency can be represented with the Hour class  \n",
    "# frequencies are typically referred to by a string alias, like \"M\"(monthly) or \"H\"(hourly)"
   ]
  },
  {
   "cell_type": "code",
   "execution_count": 43,
   "id": "7aca0b92",
   "metadata": {},
   "outputs": [
    {
     "data": {
      "text/plain": [
       "<4 * Hours>"
      ]
     },
     "execution_count": 43,
     "metadata": {},
     "output_type": "execute_result"
    }
   ],
   "source": [
    "four_hours = Hour(4)\n",
    "\n",
    "four_hours\n",
    "\n",
    "# Defining multiple of an offset by passing integer"
   ]
  },
  {
   "cell_type": "code",
   "execution_count": 44,
   "id": "ebc2e9a4",
   "metadata": {},
   "outputs": [
    {
     "name": "stderr",
     "output_type": "stream",
     "text": [
      "C:\\Users\\NITRO\\AppData\\Local\\Temp\\ipykernel_21608\\3644948081.py:1: FutureWarning: 'H' is deprecated and will be removed in a future version, please use 'h' instead.\n",
      "  pd.date_range(\"2000-01-01\", \"2000-01-03 23:59\", freq=\"4H\")\n"
     ]
    },
    {
     "data": {
      "text/plain": [
       "DatetimeIndex(['2000-01-01 00:00:00', '2000-01-01 04:00:00',\n",
       "               '2000-01-01 08:00:00', '2000-01-01 12:00:00',\n",
       "               '2000-01-01 16:00:00', '2000-01-01 20:00:00',\n",
       "               '2000-01-02 00:00:00', '2000-01-02 04:00:00',\n",
       "               '2000-01-02 08:00:00', '2000-01-02 12:00:00',\n",
       "               '2000-01-02 16:00:00', '2000-01-02 20:00:00',\n",
       "               '2000-01-03 00:00:00', '2000-01-03 04:00:00',\n",
       "               '2000-01-03 08:00:00', '2000-01-03 12:00:00',\n",
       "               '2000-01-03 16:00:00', '2000-01-03 20:00:00'],\n",
       "              dtype='datetime64[ns]', freq='4h')"
      ]
     },
     "execution_count": 44,
     "metadata": {},
     "output_type": "execute_result"
    }
   ],
   "source": [
    "pd.date_range(\"2000-01-01\", \"2000-01-03 23:59\", freq=\"4H\")\n",
    "\n",
    "# using a string alias like \"H\" or \"4H\". \n",
    "# Putting a integer before the base frequency creates a multiple"
   ]
  },
  {
   "cell_type": "code",
   "execution_count": 45,
   "id": "78880ebe",
   "metadata": {},
   "outputs": [
    {
     "data": {
      "text/plain": [
       "<150 * Minutes>"
      ]
     },
     "execution_count": 45,
     "metadata": {},
     "output_type": "execute_result"
    }
   ],
   "source": [
    "Hour(2) + Minute(30)\n",
    "\n",
    "# Offset can be combined by addition"
   ]
  },
  {
   "cell_type": "code",
   "execution_count": 46,
   "id": "afe37002",
   "metadata": {},
   "outputs": [
    {
     "data": {
      "text/plain": [
       "DatetimeIndex(['2000-01-01 00:00:00', '2000-01-01 01:30:00',\n",
       "               '2000-01-01 03:00:00', '2000-01-01 04:30:00',\n",
       "               '2000-01-01 06:00:00', '2000-01-01 07:30:00',\n",
       "               '2000-01-01 09:00:00', '2000-01-01 10:30:00',\n",
       "               '2000-01-01 12:00:00', '2000-01-01 13:30:00'],\n",
       "              dtype='datetime64[ns]', freq='90min')"
      ]
     },
     "execution_count": 46,
     "metadata": {},
     "output_type": "execute_result"
    }
   ],
   "source": [
    "pd.date_range(\"2000-01-01\", periods=10, freq=\"1h30min\")"
   ]
  },
  {
   "cell_type": "code",
   "execution_count": 47,
   "id": "ae47e9bb",
   "metadata": {},
   "outputs": [
    {
     "data": {
      "text/plain": [
       "[Timestamp('2025-01-17 00:00:00'),\n",
       " Timestamp('2025-02-21 00:00:00'),\n",
       " Timestamp('2025-03-21 00:00:00'),\n",
       " Timestamp('2025-04-18 00:00:00'),\n",
       " Timestamp('2025-05-16 00:00:00'),\n",
       " Timestamp('2025-06-20 00:00:00'),\n",
       " Timestamp('2025-07-18 00:00:00')]"
      ]
     },
     "execution_count": 47,
     "metadata": {},
     "output_type": "execute_result"
    }
   ],
   "source": [
    "monthly_dates = pd.date_range('2025-01-01', '2025-07-30', freq=\"WOM-3FRI\")\n",
    "\n",
    "list(monthly_dates)\n",
    "\n",
    "# The third (3rd) week of Friday - Daftar Kalender Hari Jumat Minggu ke 3"
   ]
  },
  {
   "cell_type": "code",
   "execution_count": 48,
   "id": "35fc520a",
   "metadata": {},
   "outputs": [
    {
     "name": "stderr",
     "output_type": "stream",
     "text": [
      "C:\\Users\\NITRO\\AppData\\Local\\Temp\\ipykernel_21608\\1782819049.py:4: FutureWarning: 'M' is deprecated and will be removed in a future version, please use 'ME' instead.\n",
      "  index=pd.date_range(\"2025-01-01\", periods=4,\n"
     ]
    },
    {
     "data": {
      "text/plain": [
       "2025-01-31    1.096402\n",
       "2025-02-28   -2.007827\n",
       "2025-03-31    1.169452\n",
       "2025-04-30    2.186277\n",
       "Freq: ME, dtype: float64"
      ]
     },
     "execution_count": 48,
     "metadata": {},
     "output_type": "execute_result"
    }
   ],
   "source": [
    "# Shifting (Leading and Lagging) Data\n",
    "\n",
    "ts = pd.Series(np.random.standard_normal(4),\n",
    "               index=pd.date_range(\"2025-01-01\", periods=4,\n",
    "                                   freq=\"M\"))\n",
    "\n",
    "ts"
   ]
  },
  {
   "cell_type": "code",
   "execution_count": 49,
   "id": "247b002a",
   "metadata": {},
   "outputs": [
    {
     "data": {
      "text/plain": [
       "2025-01-31         NaN\n",
       "2025-02-28         NaN\n",
       "2025-03-31    1.096402\n",
       "2025-04-30   -2.007827\n",
       "Freq: ME, dtype: float64"
      ]
     },
     "execution_count": 49,
     "metadata": {},
     "output_type": "execute_result"
    }
   ],
   "source": [
    "ts.shift(2)\n",
    "\n",
    "# shifting this meaningly missing data is introduced at the start of the time series"
   ]
  },
  {
   "cell_type": "code",
   "execution_count": 50,
   "id": "bf75de7a",
   "metadata": {},
   "outputs": [
    {
     "data": {
      "text/plain": [
       "2025-01-31    1.169452\n",
       "2025-02-28    2.186277\n",
       "2025-03-31         NaN\n",
       "2025-04-30         NaN\n",
       "Freq: ME, dtype: float64"
      ]
     },
     "execution_count": 50,
     "metadata": {},
     "output_type": "execute_result"
    }
   ],
   "source": [
    "ts.shift(-2)\n",
    "\n",
    "# shifting this meaningly missing data is introduced at the end of the time series"
   ]
  },
  {
   "cell_type": "code",
   "execution_count": 51,
   "id": "a8813252",
   "metadata": {},
   "outputs": [
    {
     "data": {
      "text/plain": [
       "2025-01-31         NaN\n",
       "2025-02-28    1.096402\n",
       "2025-03-31   -2.007827\n",
       "2025-04-30    1.169452\n",
       "Freq: ME, dtype: float64"
      ]
     },
     "execution_count": 51,
     "metadata": {},
     "output_type": "execute_result"
    }
   ],
   "source": [
    "ts.shift(1)"
   ]
  },
  {
   "cell_type": "code",
   "execution_count": 52,
   "id": "ec71cdfa",
   "metadata": {},
   "outputs": [
    {
     "data": {
      "text/plain": [
       "2025-01-31         NaN\n",
       "2025-02-28   -2.831287\n",
       "2025-03-31   -1.582447\n",
       "2025-04-30    0.869488\n",
       "Freq: ME, dtype: float64"
      ]
     },
     "execution_count": 52,
     "metadata": {},
     "output_type": "execute_result"
    }
   ],
   "source": [
    "ts/ts.shift(1) - 1\n"
   ]
  },
  {
   "cell_type": "code",
   "execution_count": 53,
   "id": "a8db9cb7",
   "metadata": {},
   "outputs": [
    {
     "name": "stderr",
     "output_type": "stream",
     "text": [
      "C:\\Users\\NITRO\\AppData\\Local\\Temp\\ipykernel_21608\\3842595926.py:1: FutureWarning: 'M' is deprecated and will be removed in a future version, please use 'ME' instead.\n",
      "  ts.shift(2, freq='M')\n"
     ]
    },
    {
     "data": {
      "text/plain": [
       "2025-03-31    1.096402\n",
       "2025-04-30   -2.007827\n",
       "2025-05-31    1.169452\n",
       "2025-06-30    2.186277\n",
       "Freq: ME, dtype: float64"
      ]
     },
     "execution_count": 53,
     "metadata": {},
     "output_type": "execute_result"
    }
   ],
   "source": [
    "ts.shift(2, freq='M')\n",
    "\n",
    "# naive shifts leave the index unmodified, some data is discarded. \n",
    "# Thus if the frequency is known , it can be passed to shift to advance \n",
    "# the timestamps instead of simply the data"
   ]
  },
  {
   "cell_type": "code",
   "execution_count": 54,
   "id": "afc15d62",
   "metadata": {},
   "outputs": [
    {
     "data": {
      "text/plain": [
       "2025-02-03    1.096402\n",
       "2025-03-03   -2.007827\n",
       "2025-04-03    1.169452\n",
       "2025-05-03    2.186277\n",
       "dtype: float64"
      ]
     },
     "execution_count": 54,
     "metadata": {},
     "output_type": "execute_result"
    }
   ],
   "source": [
    "ts.shift(3, freq='D')\n",
    "\n",
    "# Other frequencies can be passed too giving some flexibility \n",
    "# in how to lead and lag the data"
   ]
  },
  {
   "cell_type": "code",
   "execution_count": 55,
   "id": "f63ad141",
   "metadata": {},
   "outputs": [
    {
     "name": "stderr",
     "output_type": "stream",
     "text": [
      "C:\\Users\\NITRO\\AppData\\Local\\Temp\\ipykernel_21608\\1924217989.py:1: FutureWarning: 'T' is deprecated and will be removed in a future version, please use 'min' instead.\n",
      "  ts.shift(1, freq=\"90T\")\n"
     ]
    },
    {
     "data": {
      "text/plain": [
       "2025-01-31 01:30:00    1.096402\n",
       "2025-02-28 01:30:00   -2.007827\n",
       "2025-03-31 01:30:00    1.169452\n",
       "2025-04-30 01:30:00    2.186277\n",
       "dtype: float64"
      ]
     },
     "execution_count": 55,
     "metadata": {},
     "output_type": "execute_result"
    }
   ],
   "source": [
    "ts.shift(1, freq=\"90T\")\n",
    "\n",
    "# T is minutes."
   ]
  },
  {
   "cell_type": "code",
   "execution_count": 56,
   "id": "d1788da1",
   "metadata": {},
   "outputs": [],
   "source": [
    "from pandas.tseries.offsets import Day, MonthEnd"
   ]
  },
  {
   "cell_type": "code",
   "execution_count": 57,
   "id": "6ec600d7",
   "metadata": {},
   "outputs": [
    {
     "data": {
      "text/plain": [
       "Timestamp('2011-11-20 00:00:00')"
      ]
     },
     "execution_count": 57,
     "metadata": {},
     "output_type": "execute_result"
    }
   ],
   "source": [
    "now = datetime(2011, 11, 17)\n",
    "\n",
    "now + 3 * Day()"
   ]
  },
  {
   "cell_type": "code",
   "execution_count": 58,
   "id": "ad05a788",
   "metadata": {},
   "outputs": [
    {
     "data": {
      "text/plain": [
       "Timestamp('2011-11-30 00:00:00')"
      ]
     },
     "execution_count": 58,
     "metadata": {},
     "output_type": "execute_result"
    }
   ],
   "source": [
    "now + MonthEnd()\n"
   ]
  },
  {
   "cell_type": "code",
   "execution_count": 59,
   "id": "67dc3489",
   "metadata": {},
   "outputs": [
    {
     "data": {
      "text/plain": [
       "Timestamp('2011-12-31 00:00:00')"
      ]
     },
     "execution_count": 59,
     "metadata": {},
     "output_type": "execute_result"
    }
   ],
   "source": [
    "now + MonthEnd(2)"
   ]
  },
  {
   "cell_type": "code",
   "execution_count": 60,
   "id": "a60d9da6",
   "metadata": {},
   "outputs": [
    {
     "data": {
      "text/plain": [
       "Timestamp('2011-11-30 00:00:00')"
      ]
     },
     "execution_count": 60,
     "metadata": {},
     "output_type": "execute_result"
    }
   ],
   "source": [
    "offset = MonthEnd()\n",
    "\n",
    "offset.rollforward(now)"
   ]
  },
  {
   "cell_type": "code",
   "execution_count": 61,
   "id": "270d5a09",
   "metadata": {},
   "outputs": [
    {
     "data": {
      "text/plain": [
       "Timestamp('2011-10-31 00:00:00')"
      ]
     },
     "execution_count": 61,
     "metadata": {},
     "output_type": "execute_result"
    }
   ],
   "source": [
    "offset.rollback(now)"
   ]
  },
  {
   "cell_type": "code",
   "execution_count": 62,
   "id": "789f6329",
   "metadata": {},
   "outputs": [],
   "source": [
    "ts = pd.Series(np.random.standard_normal(20),\n",
    "               index=pd.date_range('2025-01-15',\n",
    "               periods= 20,\n",
    "               freq='4D')\n",
    ")"
   ]
  },
  {
   "cell_type": "code",
   "execution_count": 63,
   "id": "2d8453de",
   "metadata": {},
   "outputs": [
    {
     "data": {
      "text/plain": [
       "2025-01-15   -2.207631\n",
       "2025-01-19    0.223762\n",
       "2025-01-23    1.842464\n",
       "2025-01-27    1.277232\n",
       "2025-01-31   -1.747852\n",
       "2025-02-04   -0.021965\n",
       "2025-02-08    0.475360\n",
       "2025-02-12    2.818954\n",
       "2025-02-16   -1.317746\n",
       "2025-02-20    0.338421\n",
       "2025-02-24    0.507167\n",
       "2025-02-28   -0.065238\n",
       "2025-03-04   -0.465221\n",
       "2025-03-08    0.605882\n",
       "2025-03-12    0.343787\n",
       "2025-03-16   -1.481336\n",
       "2025-03-20    2.383267\n",
       "2025-03-24   -0.025743\n",
       "2025-03-28   -0.626230\n",
       "2025-04-01    0.455794\n",
       "Freq: 4D, dtype: float64"
      ]
     },
     "execution_count": 63,
     "metadata": {},
     "output_type": "execute_result"
    }
   ],
   "source": [
    "ts"
   ]
  },
  {
   "cell_type": "code",
   "execution_count": 64,
   "id": "42a7a633",
   "metadata": {},
   "outputs": [
    {
     "data": {
      "text/plain": [
       "2025-01-31   -0.122405\n",
       "2025-02-28    0.390708\n",
       "2025-03-31    0.104915\n",
       "2025-04-30    0.455794\n",
       "dtype: float64"
      ]
     },
     "execution_count": 64,
     "metadata": {},
     "output_type": "execute_result"
    }
   ],
   "source": [
    "ts.groupby(MonthEnd().rollforward).mean()"
   ]
  },
  {
   "cell_type": "code",
   "execution_count": 65,
   "id": "08be875f",
   "metadata": {},
   "outputs": [
    {
     "name": "stderr",
     "output_type": "stream",
     "text": [
      "C:\\Users\\NITRO\\AppData\\Local\\Temp\\ipykernel_21608\\271265782.py:1: FutureWarning: 'M' is deprecated and will be removed in a future version, please use 'ME' instead.\n",
      "  ts.resample('M').mean()\n"
     ]
    },
    {
     "data": {
      "text/plain": [
       "2025-01-31   -0.122405\n",
       "2025-02-28    0.390708\n",
       "2025-03-31    0.104915\n",
       "2025-04-30    0.455794\n",
       "Freq: ME, dtype: float64"
      ]
     },
     "execution_count": 65,
     "metadata": {},
     "output_type": "execute_result"
    }
   ],
   "source": [
    "ts.resample('M').mean()\n",
    "\n",
    "# discuss it later"
   ]
  },
  {
   "cell_type": "code",
   "execution_count": 66,
   "id": "4e6b1fee",
   "metadata": {},
   "outputs": [
    {
     "data": {
      "text/plain": [
       "['US/Eastern', 'US/Hawaii', 'US/Mountain', 'US/Pacific', 'UTC']"
      ]
     },
     "execution_count": 66,
     "metadata": {},
     "output_type": "execute_result"
    }
   ],
   "source": [
    "# 11.4 Time Zone Handling\n",
    "\n",
    "import pytz\n",
    "\n",
    "pytz.common_timezones[-5:]\n"
   ]
  },
  {
   "cell_type": "code",
   "execution_count": 67,
   "id": "b65ae9e9",
   "metadata": {},
   "outputs": [
    {
     "data": {
      "text/plain": [
       "<DstTzInfo 'Asia/Jakarta' LMT+7:07:00 STD>"
      ]
     },
     "execution_count": 67,
     "metadata": {},
     "output_type": "execute_result"
    }
   ],
   "source": [
    "tz = pytz.timezone('Asia/Jakarta')\n",
    "\n",
    "tz"
   ]
  },
  {
   "cell_type": "code",
   "execution_count": 68,
   "id": "873b85de",
   "metadata": {},
   "outputs": [
    {
     "data": {
      "text/plain": [
       "2023-03-05 09:30:00    0.400769\n",
       "2023-03-06 09:30:00    1.133176\n",
       "2023-03-07 09:30:00   -0.714846\n",
       "2023-03-08 09:30:00   -0.363880\n",
       "2023-03-09 09:30:00    1.223155\n",
       "2023-03-10 09:30:00    0.525003\n",
       "Freq: D, dtype: float64"
      ]
     },
     "execution_count": 68,
     "metadata": {},
     "output_type": "execute_result"
    }
   ],
   "source": [
    "# Time Zone Localization and Conversion\n",
    "\n",
    "dates = pd.date_range('2023-03-05 09:30', periods=6)\n",
    "\n",
    "ts = pd.Series(np.random.standard_normal(len(dates)), index=dates)\n",
    "\n",
    "ts"
   ]
  },
  {
   "cell_type": "code",
   "execution_count": 69,
   "id": "2f6be584",
   "metadata": {},
   "outputs": [
    {
     "data": {
      "text/plain": [
       "2023-03-05 09:30:00+00:00    0.400769\n",
       "2023-03-06 09:30:00+00:00    1.133176\n",
       "2023-03-07 09:30:00+00:00   -0.714846\n",
       "2023-03-08 09:30:00+00:00   -0.363880\n",
       "2023-03-09 09:30:00+00:00    1.223155\n",
       "2023-03-10 09:30:00+00:00    0.525003\n",
       "Freq: D, dtype: float64"
      ]
     },
     "execution_count": 69,
     "metadata": {},
     "output_type": "execute_result"
    }
   ],
   "source": [
    "\n",
    "ts_utc = ts.tz_localize('UTC')\n",
    "\n",
    "ts_utc"
   ]
  },
  {
   "cell_type": "code",
   "execution_count": 70,
   "id": "ea9dd86a",
   "metadata": {},
   "outputs": [
    {
     "data": {
      "text/plain": [
       "DatetimeIndex(['2023-03-05 09:30:00+00:00', '2023-03-06 09:30:00+00:00',\n",
       "               '2023-03-07 09:30:00+00:00', '2023-03-08 09:30:00+00:00',\n",
       "               '2023-03-09 09:30:00+00:00', '2023-03-10 09:30:00+00:00'],\n",
       "              dtype='datetime64[ns, UTC]', freq='D')"
      ]
     },
     "execution_count": 70,
     "metadata": {},
     "output_type": "execute_result"
    }
   ],
   "source": [
    "ts_utc.index"
   ]
  },
  {
   "cell_type": "code",
   "execution_count": 71,
   "id": "ff12fdd3",
   "metadata": {},
   "outputs": [
    {
     "data": {
      "text/plain": [
       "2023-03-05 16:30:00+07:00    0.400769\n",
       "2023-03-06 16:30:00+07:00    1.133176\n",
       "2023-03-07 16:30:00+07:00   -0.714846\n",
       "2023-03-08 16:30:00+07:00   -0.363880\n",
       "2023-03-09 16:30:00+07:00    1.223155\n",
       "2023-03-10 16:30:00+07:00    0.525003\n",
       "Freq: D, dtype: float64"
      ]
     },
     "execution_count": 71,
     "metadata": {},
     "output_type": "execute_result"
    }
   ],
   "source": [
    "ts_utc.tz_convert('Asia/Jakarta')"
   ]
  },
  {
   "cell_type": "code",
   "execution_count": 72,
   "id": "58b66494",
   "metadata": {},
   "outputs": [],
   "source": [
    "ts_eastern = ts.tz_localize('Asia/Jakarta')"
   ]
  },
  {
   "cell_type": "code",
   "execution_count": 73,
   "id": "b8061a7c",
   "metadata": {},
   "outputs": [
    {
     "data": {
      "text/plain": [
       "2023-03-05 02:30:00+00:00    0.400769\n",
       "2023-03-06 02:30:00+00:00    1.133176\n",
       "2023-03-07 02:30:00+00:00   -0.714846\n",
       "2023-03-08 02:30:00+00:00   -0.363880\n",
       "2023-03-09 02:30:00+00:00    1.223155\n",
       "2023-03-10 02:30:00+00:00    0.525003\n",
       "dtype: float64"
      ]
     },
     "execution_count": 73,
     "metadata": {},
     "output_type": "execute_result"
    }
   ],
   "source": [
    "ts_eastern.tz_convert('UTC')"
   ]
  },
  {
   "cell_type": "code",
   "execution_count": 74,
   "id": "604b453f",
   "metadata": {},
   "outputs": [
    {
     "data": {
      "text/plain": [
       "2023-03-05 10:30:00+08:00    0.400769\n",
       "2023-03-06 10:30:00+08:00    1.133176\n",
       "2023-03-07 10:30:00+08:00   -0.714846\n",
       "2023-03-08 10:30:00+08:00   -0.363880\n",
       "2023-03-09 10:30:00+08:00    1.223155\n",
       "2023-03-10 10:30:00+08:00    0.525003\n",
       "dtype: float64"
      ]
     },
     "execution_count": 74,
     "metadata": {},
     "output_type": "execute_result"
    }
   ],
   "source": [
    "ts_eastern.tz_convert('Asia/Makassar')"
   ]
  },
  {
   "cell_type": "code",
   "execution_count": 75,
   "id": "1d6322d8",
   "metadata": {},
   "outputs": [
    {
     "data": {
      "text/plain": [
       "DatetimeIndex(['2023-03-05 09:30:00+07:00', '2023-03-06 09:30:00+07:00',\n",
       "               '2023-03-07 09:30:00+07:00', '2023-03-08 09:30:00+07:00',\n",
       "               '2023-03-09 09:30:00+07:00', '2023-03-10 09:30:00+07:00'],\n",
       "              dtype='datetime64[ns, Asia/Jakarta]', freq=None)"
      ]
     },
     "execution_count": 75,
     "metadata": {},
     "output_type": "execute_result"
    }
   ],
   "source": [
    "ts.index.tz_localize('Asia/Jakarta')"
   ]
  },
  {
   "cell_type": "code",
   "execution_count": 76,
   "id": "b3e6e53c",
   "metadata": {},
   "outputs": [],
   "source": [
    "stamp = pd.Timestamp(\"2025-03-12 04:00\")"
   ]
  },
  {
   "cell_type": "code",
   "execution_count": 77,
   "id": "d04dee1e",
   "metadata": {},
   "outputs": [],
   "source": [
    "stamp_utc = stamp.tz_localize(\"utc\")"
   ]
  },
  {
   "cell_type": "code",
   "execution_count": 78,
   "id": "d1cf49ff",
   "metadata": {},
   "outputs": [
    {
     "data": {
      "text/plain": [
       "Timestamp('2025-03-12 11:00:00+0700', tz='Asia/Jakarta')"
      ]
     },
     "execution_count": 78,
     "metadata": {},
     "output_type": "execute_result"
    }
   ],
   "source": [
    "stamp_utc.tz_convert('Asia/Jakarta')"
   ]
  },
  {
   "cell_type": "code",
   "execution_count": 79,
   "id": "5ccb36a9",
   "metadata": {},
   "outputs": [],
   "source": [
    "stamp_krasnoyarsk = pd.Timestamp(\"2025-03-12 04:00\", tz=\"Asia/Krasnoyarsk\")"
   ]
  },
  {
   "cell_type": "code",
   "execution_count": 80,
   "id": "8c5160cb",
   "metadata": {},
   "outputs": [
    {
     "data": {
      "text/plain": [
       "Timestamp('2025-03-12 04:00:00+0700', tz='Asia/Krasnoyarsk')"
      ]
     },
     "execution_count": 80,
     "metadata": {},
     "output_type": "execute_result"
    }
   ],
   "source": [
    "stamp_krasnoyarsk"
   ]
  },
  {
   "cell_type": "code",
   "execution_count": 81,
   "id": "17f4b0ec",
   "metadata": {},
   "outputs": [
    {
     "data": {
      "text/plain": [
       "1741752000000000000"
      ]
     },
     "execution_count": 81,
     "metadata": {},
     "output_type": "execute_result"
    }
   ],
   "source": [
    "stamp_utc.value"
   ]
  },
  {
   "cell_type": "code",
   "execution_count": 82,
   "id": "608b27e6",
   "metadata": {},
   "outputs": [
    {
     "data": {
      "text/plain": [
       "1741752000000000000"
      ]
     },
     "execution_count": 82,
     "metadata": {},
     "output_type": "execute_result"
    }
   ],
   "source": [
    "stamp_utc.tz_convert(\"Asia/Jakarta\").value"
   ]
  },
  {
   "cell_type": "code",
   "execution_count": 83,
   "id": "75febe48",
   "metadata": {},
   "outputs": [
    {
     "data": {
      "text/plain": [
       "Timestamp('2025-03-11 01:30:00+0900', tz='Asia/Jayapura')"
      ]
     },
     "execution_count": 83,
     "metadata": {},
     "output_type": "execute_result"
    }
   ],
   "source": [
    "stamp = pd.Timestamp(\"2025-03-11 01:30\", tz=\"Asia/Jayapura\")\n",
    "\n",
    "stamp\n"
   ]
  },
  {
   "cell_type": "code",
   "execution_count": 84,
   "id": "52ee60b8",
   "metadata": {},
   "outputs": [
    {
     "data": {
      "text/plain": [
       "Timestamp('2025-03-11 02:30:00+0900', tz='Asia/Jayapura')"
      ]
     },
     "execution_count": 84,
     "metadata": {},
     "output_type": "execute_result"
    }
   ],
   "source": [
    "stamp + Hour()"
   ]
  },
  {
   "cell_type": "code",
   "execution_count": 85,
   "id": "9729858b",
   "metadata": {},
   "outputs": [
    {
     "data": {
      "text/plain": [
       "Timestamp('2025-11-04 00:30:00+0900', tz='Asia/Jayapura')"
      ]
     },
     "execution_count": 85,
     "metadata": {},
     "output_type": "execute_result"
    }
   ],
   "source": [
    "stamp = pd.Timestamp(\"2025-11-04 00:30\", tz='Asia/Jayapura')\n",
    "\n",
    "stamp"
   ]
  },
  {
   "cell_type": "code",
   "execution_count": 86,
   "id": "fefcdfc2",
   "metadata": {},
   "outputs": [
    {
     "data": {
      "text/plain": [
       "Timestamp('2025-11-04 02:30:00+0900', tz='Asia/Jayapura')"
      ]
     },
     "execution_count": 86,
     "metadata": {},
     "output_type": "execute_result"
    }
   ],
   "source": [
    "stamp + 2 * Hour()"
   ]
  },
  {
   "cell_type": "code",
   "execution_count": 87,
   "id": "899164f6",
   "metadata": {},
   "outputs": [],
   "source": [
    "dates = pd.date_range(\"2025-03-07 09:30\", periods=10, freq='B')"
   ]
  },
  {
   "cell_type": "code",
   "execution_count": 88,
   "id": "35e6ff99",
   "metadata": {},
   "outputs": [
    {
     "data": {
      "text/plain": [
       "2025-03-07 09:30:00   -0.061909\n",
       "2025-03-10 09:30:00    0.181514\n",
       "2025-03-11 09:30:00   -0.066100\n",
       "2025-03-12 09:30:00   -1.001200\n",
       "2025-03-13 09:30:00   -0.517891\n",
       "2025-03-14 09:30:00   -1.471545\n",
       "2025-03-17 09:30:00   -0.355084\n",
       "2025-03-18 09:30:00   -0.325449\n",
       "2025-03-19 09:30:00   -0.401878\n",
       "2025-03-20 09:30:00   -0.331777\n",
       "Freq: B, dtype: float64"
      ]
     },
     "execution_count": 88,
     "metadata": {},
     "output_type": "execute_result"
    }
   ],
   "source": [
    "ts = pd.Series(np.random.standard_normal(len(dates)), index=dates)\n",
    "\n",
    "ts"
   ]
  },
  {
   "cell_type": "code",
   "execution_count": 89,
   "id": "8ab46cf4",
   "metadata": {},
   "outputs": [],
   "source": [
    "# 11.5 Periods and Period Arithmetic\n",
    "\n",
    "# Periods represent time spans, like days, month, quarters, or years."
   ]
  },
  {
   "cell_type": "code",
   "execution_count": 90,
   "id": "b13f1ca3",
   "metadata": {},
   "outputs": [
    {
     "name": "stderr",
     "output_type": "stream",
     "text": [
      "C:\\Users\\NITRO\\AppData\\Local\\Temp\\ipykernel_21608\\1478794786.py:1: FutureWarning: 'A-DEC' is deprecated and will be removed in a future version, please use 'Y-DEC' instead.\n",
      "  p = pd.Period(\"2024\", freq=\"A-DEC\")\n"
     ]
    }
   ],
   "source": [
    "p = pd.Period(\"2024\", freq=\"A-DEC\")"
   ]
  },
  {
   "cell_type": "code",
   "execution_count": 91,
   "id": "fb6b7a36",
   "metadata": {},
   "outputs": [
    {
     "data": {
      "text/plain": [
       "Period('2024', 'Y-DEC')"
      ]
     },
     "execution_count": 91,
     "metadata": {},
     "output_type": "execute_result"
    }
   ],
   "source": [
    "p\n"
   ]
  },
  {
   "cell_type": "code",
   "execution_count": 92,
   "id": "151a0c62",
   "metadata": {},
   "outputs": [
    {
     "data": {
      "text/plain": [
       "Period('2029', 'Y-DEC')"
      ]
     },
     "execution_count": 92,
     "metadata": {},
     "output_type": "execute_result"
    }
   ],
   "source": [
    "p + 5"
   ]
  },
  {
   "cell_type": "code",
   "execution_count": 93,
   "id": "6e08d362",
   "metadata": {},
   "outputs": [
    {
     "data": {
      "text/plain": [
       "Period('2022', 'Y-DEC')"
      ]
     },
     "execution_count": 93,
     "metadata": {},
     "output_type": "execute_result"
    }
   ],
   "source": [
    "p - 2"
   ]
  },
  {
   "cell_type": "code",
   "execution_count": 94,
   "id": "5922af5e",
   "metadata": {},
   "outputs": [
    {
     "name": "stderr",
     "output_type": "stream",
     "text": [
      "C:\\Users\\NITRO\\AppData\\Local\\Temp\\ipykernel_21608\\1037055430.py:1: FutureWarning: 'A-DEC' is deprecated and will be removed in a future version, please use 'Y-DEC' instead.\n",
      "  pd.Period('2023', freq='A-DEC') - p\n"
     ]
    },
    {
     "data": {
      "text/plain": [
       "<-1 * YearEnd: month=12>"
      ]
     },
     "execution_count": 94,
     "metadata": {},
     "output_type": "execute_result"
    }
   ],
   "source": [
    "pd.Period('2023', freq='A-DEC') - p"
   ]
  },
  {
   "cell_type": "code",
   "execution_count": 95,
   "id": "4f331d62",
   "metadata": {},
   "outputs": [
    {
     "data": {
      "text/plain": [
       "PeriodIndex(['2017-01', '2017-02', '2017-03', '2017-04', '2017-05', '2017-06',\n",
       "             '2017-07', '2017-08', '2017-09', '2017-10',\n",
       "             ...\n",
       "             '2024-09', '2024-10', '2024-11', '2024-12', '2025-01', '2025-02',\n",
       "             '2025-03', '2025-04', '2025-05', '2025-06'],\n",
       "            dtype='period[M]', length=102)"
      ]
     },
     "execution_count": 95,
     "metadata": {},
     "output_type": "execute_result"
    }
   ],
   "source": [
    "periods = pd.period_range('2017-01-01', '2025-06-30', freq=\"M\")\n",
    "\n",
    "periods"
   ]
  },
  {
   "cell_type": "code",
   "execution_count": 96,
   "id": "284dea34",
   "metadata": {},
   "outputs": [
    {
     "data": {
      "text/plain": [
       "2017-01   -0.396175\n",
       "2017-02   -1.860020\n",
       "2017-03   -0.791157\n",
       "2017-04   -1.532661\n",
       "2017-05   -0.413405\n",
       "             ...   \n",
       "2025-02   -1.008058\n",
       "2025-03    1.780132\n",
       "2025-04    0.119403\n",
       "2025-05    0.666150\n",
       "2025-06    0.704618\n",
       "Freq: M, Length: 102, dtype: float64"
      ]
     },
     "execution_count": 96,
     "metadata": {},
     "output_type": "execute_result"
    }
   ],
   "source": [
    "pd.Series(np.random.standard_normal(len(periods)), index=periods)"
   ]
  },
  {
   "cell_type": "code",
   "execution_count": 97,
   "id": "70a0aeb3",
   "metadata": {},
   "outputs": [
    {
     "data": {
      "text/plain": [
       "PeriodIndex(['2001Q3', '2002Q2', '2003Q1'], dtype='period[Q-DEC]')"
      ]
     },
     "execution_count": 97,
     "metadata": {},
     "output_type": "execute_result"
    }
   ],
   "source": [
    "values = [\"2001Q3\", \"2002Q2\", \"2003Q1\"]\n",
    "\n",
    "indeks = pd.PeriodIndex(values, freq=\"Q-DEC\")\n",
    "\n",
    "indeks"
   ]
  },
  {
   "cell_type": "code",
   "execution_count": 98,
   "id": "31c92962",
   "metadata": {},
   "outputs": [],
   "source": [
    "# Period Frequency Conversion\n",
    "\n",
    "# Periods and PeriodIndex Objects can be \n",
    "# converted to another frequency with their asfreq method"
   ]
  },
  {
   "cell_type": "code",
   "execution_count": 99,
   "id": "1928d85e",
   "metadata": {},
   "outputs": [
    {
     "name": "stderr",
     "output_type": "stream",
     "text": [
      "C:\\Users\\NITRO\\AppData\\Local\\Temp\\ipykernel_21608\\1478794786.py:1: FutureWarning: 'A-DEC' is deprecated and will be removed in a future version, please use 'Y-DEC' instead.\n",
      "  p = pd.Period(\"2024\", freq=\"A-DEC\")\n"
     ]
    }
   ],
   "source": [
    "p = pd.Period(\"2024\", freq=\"A-DEC\")"
   ]
  },
  {
   "cell_type": "code",
   "execution_count": 100,
   "id": "c539da5a",
   "metadata": {},
   "outputs": [
    {
     "data": {
      "text/plain": [
       "Period('2024', 'Y-DEC')"
      ]
     },
     "execution_count": 100,
     "metadata": {},
     "output_type": "execute_result"
    }
   ],
   "source": [
    "p"
   ]
  },
  {
   "cell_type": "code",
   "execution_count": 101,
   "id": "1999b164",
   "metadata": {},
   "outputs": [
    {
     "data": {
      "text/plain": [
       "Period('2024-01', 'M')"
      ]
     },
     "execution_count": 101,
     "metadata": {},
     "output_type": "execute_result"
    }
   ],
   "source": [
    "p.asfreq(\"M\", how=\"start\")"
   ]
  },
  {
   "cell_type": "code",
   "execution_count": 102,
   "id": "578752ab",
   "metadata": {},
   "outputs": [
    {
     "data": {
      "text/plain": [
       "Period('2024-12', 'M')"
      ]
     },
     "execution_count": 102,
     "metadata": {},
     "output_type": "execute_result"
    }
   ],
   "source": [
    "p.asfreq(\"M\", how=\"end\")"
   ]
  },
  {
   "cell_type": "code",
   "execution_count": 103,
   "id": "ec5d2e64",
   "metadata": {},
   "outputs": [
    {
     "name": "stderr",
     "output_type": "stream",
     "text": [
      "C:\\Users\\NITRO\\AppData\\Local\\Temp\\ipykernel_21608\\43701047.py:3: FutureWarning: 'A-JUN' is deprecated and will be removed in a future version, please use 'Y-JUN' instead.\n",
      "  p.asfreq(\"A-JUN\")\n"
     ]
    },
    {
     "data": {
      "text/plain": [
       "Period('2025', 'Y-JUN')"
      ]
     },
     "execution_count": 103,
     "metadata": {},
     "output_type": "execute_result"
    }
   ],
   "source": [
    "p = pd.Period(\"Aug-2024\", \"M\")\n",
    "\n",
    "p.asfreq(\"A-JUN\")"
   ]
  },
  {
   "cell_type": "code",
   "execution_count": 104,
   "id": "151f5280",
   "metadata": {},
   "outputs": [],
   "source": [
    "# Quarterly Period Frequencies\n",
    "\n"
   ]
  },
  {
   "cell_type": "code",
   "execution_count": 105,
   "id": "ff377c5f",
   "metadata": {},
   "outputs": [
    {
     "data": {
      "text/plain": [
       "Period('2024Q4', 'Q-JAN')"
      ]
     },
     "execution_count": 105,
     "metadata": {},
     "output_type": "execute_result"
    }
   ],
   "source": [
    "p = pd.Period('2024Q4', freq=\"Q-JAN\")\n",
    "\n",
    "p"
   ]
  },
  {
   "cell_type": "code",
   "execution_count": 106,
   "id": "e86d8f81",
   "metadata": {},
   "outputs": [
    {
     "name": "stderr",
     "output_type": "stream",
     "text": [
      "C:\\Users\\NITRO\\AppData\\Local\\Temp\\ipykernel_21608\\2204560885.py:1: FutureWarning: Period with BDay freq is deprecated and will be removed in a future version. Use a DatetimeIndex with BDay freq instead.\n",
      "  p4pm = (p.asfreq(\"B\", how=\"end\") - 1).asfreq(\"T\", how=\"start\") + 16 * 60\n",
      "C:\\Users\\NITRO\\AppData\\Local\\Temp\\ipykernel_21608\\2204560885.py:1: FutureWarning: 'T' is deprecated and will be removed in a future version, please use 'min' instead.\n",
      "  p4pm = (p.asfreq(\"B\", how=\"end\") - 1).asfreq(\"T\", how=\"start\") + 16 * 60\n"
     ]
    }
   ],
   "source": [
    "p4pm = (p.asfreq(\"B\", how=\"end\") - 1).asfreq(\"T\", how=\"start\") + 16 * 60"
   ]
  },
  {
   "cell_type": "code",
   "execution_count": 107,
   "id": "bd451a3c",
   "metadata": {},
   "outputs": [
    {
     "data": {
      "text/plain": [
       "Period('2024-01-30 16:00', 'min')"
      ]
     },
     "execution_count": 107,
     "metadata": {},
     "output_type": "execute_result"
    }
   ],
   "source": [
    "p4pm"
   ]
  },
  {
   "cell_type": "code",
   "execution_count": 108,
   "id": "f3d17e6a",
   "metadata": {},
   "outputs": [
    {
     "data": {
      "text/plain": [
       "Timestamp('2024-01-30 16:00:00')"
      ]
     },
     "execution_count": 108,
     "metadata": {},
     "output_type": "execute_result"
    }
   ],
   "source": [
    "\n",
    "p4pm.to_timestamp()"
   ]
  },
  {
   "cell_type": "code",
   "execution_count": 109,
   "id": "cbcf31e6",
   "metadata": {},
   "outputs": [],
   "source": [
    "periods = pd.period_range('2023Q3', '2024Q4', freq=\"Q-JAN\")\n",
    "\n",
    "ts = pd.Series(np.arange(len(periods)), index=periods)"
   ]
  },
  {
   "cell_type": "code",
   "execution_count": 110,
   "id": "25a840e2",
   "metadata": {},
   "outputs": [
    {
     "data": {
      "text/plain": [
       "2023Q3    0\n",
       "2023Q4    1\n",
       "2024Q1    2\n",
       "2024Q2    3\n",
       "2024Q3    4\n",
       "2024Q4    5\n",
       "Freq: Q-JAN, dtype: int64"
      ]
     },
     "execution_count": 110,
     "metadata": {},
     "output_type": "execute_result"
    }
   ],
   "source": [
    "ts"
   ]
  },
  {
   "cell_type": "code",
   "execution_count": 111,
   "id": "6aef455b",
   "metadata": {},
   "outputs": [
    {
     "name": "stderr",
     "output_type": "stream",
     "text": [
      "C:\\Users\\NITRO\\AppData\\Local\\Temp\\ipykernel_21608\\36793528.py:1: FutureWarning: PeriodDtype[B] is deprecated and will be removed in a future version. Use a DatetimeIndex with freq='B' instead\n",
      "  new_periods = (periods.asfreq(\"B\", \"end\") - 1).asfreq(\"H\", \"start\") + 1\n",
      "C:\\Users\\NITRO\\AppData\\Local\\Temp\\ipykernel_21608\\36793528.py:1: FutureWarning: 'H' is deprecated and will be removed in a future version, please use 'h' instead.\n",
      "  new_periods = (periods.asfreq(\"B\", \"end\") - 1).asfreq(\"H\", \"start\") + 1\n"
     ]
    }
   ],
   "source": [
    "new_periods = (periods.asfreq(\"B\", \"end\") - 1).asfreq(\"H\", \"start\") + 1"
   ]
  },
  {
   "cell_type": "code",
   "execution_count": 112,
   "id": "db903ac1",
   "metadata": {},
   "outputs": [
    {
     "data": {
      "text/plain": [
       "2022-10-28 01:00:00    0\n",
       "2023-01-30 01:00:00    1\n",
       "2023-04-27 01:00:00    2\n",
       "2023-07-28 01:00:00    3\n",
       "2023-10-30 01:00:00    4\n",
       "2024-01-30 01:00:00    5\n",
       "dtype: int64"
      ]
     },
     "execution_count": 112,
     "metadata": {},
     "output_type": "execute_result"
    }
   ],
   "source": [
    "ts.index = new_periods.to_timestamp()\n",
    "\n",
    "ts"
   ]
  },
  {
   "cell_type": "code",
   "execution_count": 113,
   "id": "fc67427c",
   "metadata": {},
   "outputs": [
    {
     "name": "stderr",
     "output_type": "stream",
     "text": [
      "C:\\Users\\NITRO\\AppData\\Local\\Temp\\ipykernel_21608\\135993185.py:3: FutureWarning: 'M' is deprecated and will be removed in a future version, please use 'ME' instead.\n",
      "  dates = pd.date_range(\"2024-01-01\", periods=3, freq=\"M\")\n"
     ]
    },
    {
     "data": {
      "text/plain": [
       "2024-01-31    0.440525\n",
       "2024-02-29   -1.544873\n",
       "2024-03-31    0.728840\n",
       "Freq: ME, dtype: float64"
      ]
     },
     "execution_count": 113,
     "metadata": {},
     "output_type": "execute_result"
    }
   ],
   "source": [
    "# Converting Timestamps to Periods (and back)\n",
    "\n",
    "dates = pd.date_range(\"2024-01-01\", periods=3, freq=\"M\")\n",
    "\n",
    "ts = pd.Series(np.random.standard_normal(3), index=dates)\n",
    "\n",
    "ts"
   ]
  },
  {
   "cell_type": "code",
   "execution_count": 114,
   "id": "a4763007",
   "metadata": {},
   "outputs": [
    {
     "data": {
      "text/plain": [
       "2024-01    0.440525\n",
       "2024-02   -1.544873\n",
       "2024-03    0.728840\n",
       "Freq: M, dtype: float64"
      ]
     },
     "execution_count": 114,
     "metadata": {},
     "output_type": "execute_result"
    }
   ],
   "source": [
    "pts = ts.to_period()\n",
    "\n",
    "pts"
   ]
  },
  {
   "cell_type": "code",
   "execution_count": 115,
   "id": "e543f389",
   "metadata": {},
   "outputs": [
    {
     "data": {
      "text/plain": [
       "2024-01-29    0.319972\n",
       "2024-01-30    0.033550\n",
       "2024-01-31    0.249257\n",
       "2024-02-01    0.892306\n",
       "2024-02-02    0.167674\n",
       "2024-02-03    0.437568\n",
       "Freq: D, dtype: float64"
      ]
     },
     "execution_count": 115,
     "metadata": {},
     "output_type": "execute_result"
    }
   ],
   "source": [
    "dates = pd.date_range(\"2024-01-29\", periods=6)\n",
    "\n",
    "ts2 = pd.Series(np.random.standard_normal(6), index=dates)\n",
    "\n",
    "ts2"
   ]
  },
  {
   "cell_type": "code",
   "execution_count": 116,
   "id": "1dd6da0a",
   "metadata": {},
   "outputs": [
    {
     "data": {
      "text/plain": [
       "2024-01-29    0.319972\n",
       "2024-01-30    0.033550\n",
       "2024-01-31    0.249257\n",
       "2024-02-01    0.892306\n",
       "2024-02-02    0.167674\n",
       "2024-02-03    0.437568\n",
       "Freq: D, dtype: float64"
      ]
     },
     "execution_count": 116,
     "metadata": {},
     "output_type": "execute_result"
    }
   ],
   "source": [
    "pts = ts2.to_period()\n",
    "\n",
    "pts"
   ]
  },
  {
   "cell_type": "code",
   "execution_count": 117,
   "id": "0af4fa9f",
   "metadata": {},
   "outputs": [
    {
     "data": {
      "text/plain": [
       "2024-01-29 23:59:59.999999999    0.319972\n",
       "2024-01-30 23:59:59.999999999    0.033550\n",
       "2024-01-31 23:59:59.999999999    0.249257\n",
       "2024-02-01 23:59:59.999999999    0.892306\n",
       "2024-02-02 23:59:59.999999999    0.167674\n",
       "2024-02-03 23:59:59.999999999    0.437568\n",
       "Freq: D, dtype: float64"
      ]
     },
     "execution_count": 117,
     "metadata": {},
     "output_type": "execute_result"
    }
   ],
   "source": [
    "pts.to_timestamp(how=\"end\")"
   ]
  },
  {
   "cell_type": "code",
   "execution_count": 118,
   "id": "335cec49",
   "metadata": {},
   "outputs": [
    {
     "data": {
      "text/html": [
       "<div>\n",
       "<style scoped>\n",
       "    .dataframe tbody tr th:only-of-type {\n",
       "        vertical-align: middle;\n",
       "    }\n",
       "\n",
       "    .dataframe tbody tr th {\n",
       "        vertical-align: top;\n",
       "    }\n",
       "\n",
       "    .dataframe thead th {\n",
       "        text-align: right;\n",
       "    }\n",
       "</style>\n",
       "<table border=\"1\" class=\"dataframe\">\n",
       "  <thead>\n",
       "    <tr style=\"text-align: right;\">\n",
       "      <th></th>\n",
       "      <th>year</th>\n",
       "      <th>quarter</th>\n",
       "      <th>realgdp</th>\n",
       "      <th>realcons</th>\n",
       "      <th>realinv</th>\n",
       "      <th>realgovt</th>\n",
       "      <th>realdpi</th>\n",
       "      <th>cpi</th>\n",
       "      <th>m1</th>\n",
       "      <th>tbilrate</th>\n",
       "      <th>unemp</th>\n",
       "      <th>pop</th>\n",
       "      <th>infl</th>\n",
       "      <th>realint</th>\n",
       "    </tr>\n",
       "  </thead>\n",
       "  <tbody>\n",
       "    <tr>\n",
       "      <th>0</th>\n",
       "      <td>1959</td>\n",
       "      <td>1</td>\n",
       "      <td>2710.349</td>\n",
       "      <td>1707.4</td>\n",
       "      <td>286.898</td>\n",
       "      <td>470.045</td>\n",
       "      <td>1886.9</td>\n",
       "      <td>28.98</td>\n",
       "      <td>139.7</td>\n",
       "      <td>2.82</td>\n",
       "      <td>5.8</td>\n",
       "      <td>177.146</td>\n",
       "      <td>0.00</td>\n",
       "      <td>0.00</td>\n",
       "    </tr>\n",
       "    <tr>\n",
       "      <th>1</th>\n",
       "      <td>1959</td>\n",
       "      <td>2</td>\n",
       "      <td>2778.801</td>\n",
       "      <td>1733.7</td>\n",
       "      <td>310.859</td>\n",
       "      <td>481.301</td>\n",
       "      <td>1919.7</td>\n",
       "      <td>29.15</td>\n",
       "      <td>141.7</td>\n",
       "      <td>3.08</td>\n",
       "      <td>5.1</td>\n",
       "      <td>177.830</td>\n",
       "      <td>2.34</td>\n",
       "      <td>0.74</td>\n",
       "    </tr>\n",
       "    <tr>\n",
       "      <th>2</th>\n",
       "      <td>1959</td>\n",
       "      <td>3</td>\n",
       "      <td>2775.488</td>\n",
       "      <td>1751.8</td>\n",
       "      <td>289.226</td>\n",
       "      <td>491.260</td>\n",
       "      <td>1916.4</td>\n",
       "      <td>29.35</td>\n",
       "      <td>140.5</td>\n",
       "      <td>3.82</td>\n",
       "      <td>5.3</td>\n",
       "      <td>178.657</td>\n",
       "      <td>2.74</td>\n",
       "      <td>1.09</td>\n",
       "    </tr>\n",
       "    <tr>\n",
       "      <th>3</th>\n",
       "      <td>1959</td>\n",
       "      <td>4</td>\n",
       "      <td>2785.204</td>\n",
       "      <td>1753.7</td>\n",
       "      <td>299.356</td>\n",
       "      <td>484.052</td>\n",
       "      <td>1931.3</td>\n",
       "      <td>29.37</td>\n",
       "      <td>140.0</td>\n",
       "      <td>4.33</td>\n",
       "      <td>5.6</td>\n",
       "      <td>179.386</td>\n",
       "      <td>0.27</td>\n",
       "      <td>4.06</td>\n",
       "    </tr>\n",
       "    <tr>\n",
       "      <th>4</th>\n",
       "      <td>1960</td>\n",
       "      <td>1</td>\n",
       "      <td>2847.699</td>\n",
       "      <td>1770.5</td>\n",
       "      <td>331.722</td>\n",
       "      <td>462.199</td>\n",
       "      <td>1955.5</td>\n",
       "      <td>29.54</td>\n",
       "      <td>139.6</td>\n",
       "      <td>3.50</td>\n",
       "      <td>5.2</td>\n",
       "      <td>180.007</td>\n",
       "      <td>2.31</td>\n",
       "      <td>1.19</td>\n",
       "    </tr>\n",
       "  </tbody>\n",
       "</table>\n",
       "</div>"
      ],
      "text/plain": [
       "   year  quarter   realgdp  realcons  realinv  realgovt  realdpi    cpi  \\\n",
       "0  1959        1  2710.349    1707.4  286.898   470.045   1886.9  28.98   \n",
       "1  1959        2  2778.801    1733.7  310.859   481.301   1919.7  29.15   \n",
       "2  1959        3  2775.488    1751.8  289.226   491.260   1916.4  29.35   \n",
       "3  1959        4  2785.204    1753.7  299.356   484.052   1931.3  29.37   \n",
       "4  1960        1  2847.699    1770.5  331.722   462.199   1955.5  29.54   \n",
       "\n",
       "      m1  tbilrate  unemp      pop  infl  realint  \n",
       "0  139.7      2.82    5.8  177.146  0.00     0.00  \n",
       "1  141.7      3.08    5.1  177.830  2.34     0.74  \n",
       "2  140.5      3.82    5.3  178.657  2.74     1.09  \n",
       "3  140.0      4.33    5.6  179.386  0.27     4.06  \n",
       "4  139.6      3.50    5.2  180.007  2.31     1.19  "
      ]
     },
     "execution_count": 118,
     "metadata": {},
     "output_type": "execute_result"
    }
   ],
   "source": [
    "# Creating a PeriodIndex from Arrays\n",
    "\n",
    "data = pd.read_csv(\"macrodata.csv\")\n",
    "\n",
    "data.head()"
   ]
  },
  {
   "cell_type": "code",
   "execution_count": 119,
   "id": "156e592e",
   "metadata": {},
   "outputs": [
    {
     "data": {
      "text/plain": [
       "0      1959\n",
       "1      1959\n",
       "2      1959\n",
       "3      1959\n",
       "4      1960\n",
       "       ... \n",
       "198    2008\n",
       "199    2008\n",
       "200    2009\n",
       "201    2009\n",
       "202    2009\n",
       "Name: year, Length: 203, dtype: int64"
      ]
     },
     "execution_count": 119,
     "metadata": {},
     "output_type": "execute_result"
    }
   ],
   "source": [
    "data[\"year\"]"
   ]
  },
  {
   "cell_type": "code",
   "execution_count": 120,
   "id": "54d98e53",
   "metadata": {},
   "outputs": [
    {
     "data": {
      "text/plain": [
       "0      1\n",
       "1      2\n",
       "2      3\n",
       "3      4\n",
       "4      1\n",
       "      ..\n",
       "198    3\n",
       "199    4\n",
       "200    1\n",
       "201    2\n",
       "202    3\n",
       "Name: quarter, Length: 203, dtype: int64"
      ]
     },
     "execution_count": 120,
     "metadata": {},
     "output_type": "execute_result"
    }
   ],
   "source": [
    "data[\"quarter\"]"
   ]
  },
  {
   "cell_type": "code",
   "execution_count": 121,
   "id": "e58e713e",
   "metadata": {},
   "outputs": [
    {
     "name": "stderr",
     "output_type": "stream",
     "text": [
      "C:\\Users\\NITRO\\AppData\\Local\\Temp\\ipykernel_21608\\3335696594.py:1: FutureWarning: Constructing PeriodIndex from fields is deprecated. Use PeriodIndex.from_fields instead.\n",
      "  indeks = pd.PeriodIndex(year=data['year'],\n"
     ]
    },
    {
     "data": {
      "text/plain": [
       "PeriodIndex(['1959Q1', '1959Q2', '1959Q3', '1959Q4', '1960Q1', '1960Q2',\n",
       "             '1960Q3', '1960Q4', '1961Q1', '1961Q2',\n",
       "             ...\n",
       "             '2007Q2', '2007Q3', '2007Q4', '2008Q1', '2008Q2', '2008Q3',\n",
       "             '2008Q4', '2009Q1', '2009Q2', '2009Q3'],\n",
       "            dtype='period[Q-DEC]', length=203)"
      ]
     },
     "execution_count": 121,
     "metadata": {},
     "output_type": "execute_result"
    }
   ],
   "source": [
    "indeks = pd.PeriodIndex(year=data['year'],\n",
    "                        quarter=data['quarter'],\n",
    "                        freq=\"Q-DEC\")\n",
    "\n",
    "indeks"
   ]
  },
  {
   "cell_type": "code",
   "execution_count": 122,
   "id": "1ca871c4",
   "metadata": {},
   "outputs": [
    {
     "data": {
      "text/plain": [
       "1959Q1    0.00\n",
       "1959Q2    2.34\n",
       "1959Q3    2.74\n",
       "1959Q4    0.27\n",
       "1960Q1    2.31\n",
       "          ... \n",
       "2008Q3   -3.16\n",
       "2008Q4   -8.79\n",
       "2009Q1    0.94\n",
       "2009Q2    3.37\n",
       "2009Q3    3.56\n",
       "Freq: Q-DEC, Name: infl, Length: 203, dtype: float64"
      ]
     },
     "execution_count": 122,
     "metadata": {},
     "output_type": "execute_result"
    }
   ],
   "source": [
    "data.index = indeks\n",
    "\n",
    "data['infl']"
   ]
  },
  {
   "cell_type": "code",
   "execution_count": 123,
   "id": "b3e8191e",
   "metadata": {},
   "outputs": [],
   "source": [
    "# 11.6 Resampling and Frequency Conversion\n",
    "\n",
    "dates = pd.date_range(\"2024-01-01\", periods=100)\n",
    "\n",
    "ts = pd.Series(np.random.standard_normal(len(dates)), index=dates)\n"
   ]
  },
  {
   "cell_type": "code",
   "execution_count": 124,
   "id": "c50cedcb",
   "metadata": {},
   "outputs": [
    {
     "data": {
      "text/plain": [
       "2024-01-01   -0.942407\n",
       "2024-01-02   -0.654277\n",
       "2024-01-03    2.528663\n",
       "2024-01-04    0.088865\n",
       "2024-01-05   -0.957756\n",
       "                ...   \n",
       "2024-04-05   -0.092612\n",
       "2024-04-06   -0.331086\n",
       "2024-04-07    0.396289\n",
       "2024-04-08    0.291837\n",
       "2024-04-09    0.517200\n",
       "Freq: D, Length: 100, dtype: float64"
      ]
     },
     "execution_count": 124,
     "metadata": {},
     "output_type": "execute_result"
    }
   ],
   "source": [
    "ts"
   ]
  },
  {
   "cell_type": "code",
   "execution_count": 125,
   "id": "620ca02c",
   "metadata": {},
   "outputs": [],
   "source": [
    "# Table of resample method arguments\n",
    "\n",
    "# rule - String, DateOffset, or timedelta \n",
    "# indicating desired resample frequency\n",
    "\n",
    "# axis          - Axis to resample on; default axis = 0\n",
    "\n",
    "# fill_method   - How to interpolate when upsampling, \n",
    "# as in \"ffill\" or \"bfill\"; by default does no interpolation\n",
    "\n",
    "# closed        - In downsampling which end of \n",
    "#                 each interval is closed (indusive), \"right\" or \"left\"\n",
    "\n",
    "# label         - In downsampling how to label the aggregated result, with\n",
    "#                 the \"right\" or \"left\" bin edge (e.g. the 9:30 to 9:35)\n",
    "\n",
    "# limit         - When forward or backward filling, \n",
    "#                 the maximum number of periods to fill\n",
    "\n",
    "# kind          - Aggregate to periods (\"period\") or timestamp (\"timestamp\");\n",
    "#                 default to the type of index the time series has\n",
    "\n",
    "# convention    - When resampling periods, the convention (\"start\" or \"end\") \n",
    "#                 for converting the low-frequency period to high frequency; \n",
    "#                 default to \"start\" \n",
    "\n",
    "# origin        - The \"base\" timestamp from which to determine the resampling \n",
    "#                 bin edges; can also be one of \"epoch\", \"start\", \n",
    "#                 \"start_day\", \"end_day\"; see the resample docstring \n",
    "#                 for full details\n",
    "\n",
    "# offset        - An offset timedelta added to the origin; defaults to None"
   ]
  },
  {
   "cell_type": "code",
   "execution_count": 126,
   "id": "7ea885c5",
   "metadata": {},
   "outputs": [],
   "source": [
    "# Downsampling\n",
    "# It is aggregating data to a regular, lower frequency. The data you are \n",
    "# aggregating doesn't need to be fixed frequently; the desired frequency \n",
    "# defines bin edges that are used to slice the time series into \n",
    "# pieces to aggregate\n",
    "\n",
    "\n"
   ]
  },
  {
   "cell_type": "code",
   "execution_count": 127,
   "id": "2dd226cd",
   "metadata": {},
   "outputs": [
    {
     "name": "stderr",
     "output_type": "stream",
     "text": [
      "C:\\Users\\NITRO\\AppData\\Local\\Temp\\ipykernel_21608\\1797380148.py:1: FutureWarning: 'T' is deprecated and will be removed in a future version, please use 'min' instead.\n",
      "  dates = pd.date_range(\"2023-01-01\", periods=12, freq=\"T\")\n"
     ]
    }
   ],
   "source": [
    "dates = pd.date_range(\"2023-01-01\", periods=12, freq=\"T\")\n",
    "\n",
    "ts = pd.Series(np.arange(len(dates)), index=dates)\n"
   ]
  },
  {
   "cell_type": "code",
   "execution_count": 128,
   "id": "9005f9ea",
   "metadata": {},
   "outputs": [
    {
     "data": {
      "text/plain": [
       "2023-01-01 00:00:00     0\n",
       "2023-01-01 00:01:00     1\n",
       "2023-01-01 00:02:00     2\n",
       "2023-01-01 00:03:00     3\n",
       "2023-01-01 00:04:00     4\n",
       "2023-01-01 00:05:00     5\n",
       "2023-01-01 00:06:00     6\n",
       "2023-01-01 00:07:00     7\n",
       "2023-01-01 00:08:00     8\n",
       "2023-01-01 00:09:00     9\n",
       "2023-01-01 00:10:00    10\n",
       "2023-01-01 00:11:00    11\n",
       "Freq: min, dtype: int64"
      ]
     },
     "execution_count": 128,
     "metadata": {},
     "output_type": "execute_result"
    }
   ],
   "source": [
    "ts"
   ]
  },
  {
   "cell_type": "code",
   "execution_count": 129,
   "id": "3af5a0a8",
   "metadata": {},
   "outputs": [
    {
     "data": {
      "text/plain": [
       "2023-01-01 00:00:00    10\n",
       "2023-01-01 00:05:00    35\n",
       "2023-01-01 00:10:00    21\n",
       "Freq: 5min, dtype: int64"
      ]
     },
     "execution_count": 129,
     "metadata": {},
     "output_type": "execute_result"
    }
   ],
   "source": [
    "ts.resample(\"5min\").sum()"
   ]
  },
  {
   "cell_type": "code",
   "execution_count": 130,
   "id": "fea0d57e",
   "metadata": {},
   "outputs": [
    {
     "data": {
      "text/plain": [
       "2022-12-31 23:55:00     0\n",
       "2023-01-01 00:00:00    15\n",
       "2023-01-01 00:05:00    40\n",
       "2023-01-01 00:10:00    11\n",
       "Freq: 5min, dtype: int64"
      ]
     },
     "execution_count": 130,
     "metadata": {},
     "output_type": "execute_result"
    }
   ],
   "source": [
    "ts.resample(\"5min\", closed=\"right\").sum()"
   ]
  },
  {
   "cell_type": "code",
   "execution_count": 131,
   "id": "a78c00e4",
   "metadata": {},
   "outputs": [
    {
     "data": {
      "text/plain": [
       "2023-01-01 00:00:00     0\n",
       "2023-01-01 00:05:00    15\n",
       "2023-01-01 00:10:00    40\n",
       "2023-01-01 00:15:00    11\n",
       "Freq: 5min, dtype: int64"
      ]
     },
     "execution_count": 131,
     "metadata": {},
     "output_type": "execute_result"
    }
   ],
   "source": [
    "ts.resample(\"5min\", closed=\"right\", label=\"right\").sum()"
   ]
  },
  {
   "cell_type": "code",
   "execution_count": 132,
   "id": "be02f990",
   "metadata": {},
   "outputs": [],
   "source": [
    "from pandas.tseries.frequencies import to_offset"
   ]
  },
  {
   "cell_type": "code",
   "execution_count": 133,
   "id": "952417c8",
   "metadata": {},
   "outputs": [],
   "source": [
    "result = ts.resample(\"5min\", closed=\"right\", label=\"right\").sum()\n",
    "\n",
    "result.index = result.index + to_offset(\"-1s\")"
   ]
  },
  {
   "cell_type": "code",
   "execution_count": 134,
   "id": "d1331490",
   "metadata": {},
   "outputs": [
    {
     "data": {
      "text/plain": [
       "2022-12-31 23:59:59     0\n",
       "2023-01-01 00:04:59    15\n",
       "2023-01-01 00:09:59    40\n",
       "2023-01-01 00:14:59    11\n",
       "Freq: 5min, dtype: int64"
      ]
     },
     "execution_count": 134,
     "metadata": {},
     "output_type": "execute_result"
    }
   ],
   "source": [
    "result"
   ]
  },
  {
   "cell_type": "code",
   "execution_count": 135,
   "id": "0a178603",
   "metadata": {},
   "outputs": [
    {
     "data": {
      "text/html": [
       "<div>\n",
       "<style scoped>\n",
       "    .dataframe tbody tr th:only-of-type {\n",
       "        vertical-align: middle;\n",
       "    }\n",
       "\n",
       "    .dataframe tbody tr th {\n",
       "        vertical-align: top;\n",
       "    }\n",
       "\n",
       "    .dataframe thead th {\n",
       "        text-align: right;\n",
       "    }\n",
       "</style>\n",
       "<table border=\"1\" class=\"dataframe\">\n",
       "  <thead>\n",
       "    <tr style=\"text-align: right;\">\n",
       "      <th></th>\n",
       "      <th>open</th>\n",
       "      <th>high</th>\n",
       "      <th>low</th>\n",
       "      <th>close</th>\n",
       "    </tr>\n",
       "  </thead>\n",
       "  <tbody>\n",
       "    <tr>\n",
       "      <th>2023-01-01 00:00:00</th>\n",
       "      <td>8</td>\n",
       "      <td>9</td>\n",
       "      <td>3</td>\n",
       "      <td>5</td>\n",
       "    </tr>\n",
       "    <tr>\n",
       "      <th>2023-01-01 00:05:00</th>\n",
       "      <td>6</td>\n",
       "      <td>10</td>\n",
       "      <td>0</td>\n",
       "      <td>7</td>\n",
       "    </tr>\n",
       "    <tr>\n",
       "      <th>2023-01-01 00:10:00</th>\n",
       "      <td>11</td>\n",
       "      <td>11</td>\n",
       "      <td>2</td>\n",
       "      <td>2</td>\n",
       "    </tr>\n",
       "  </tbody>\n",
       "</table>\n",
       "</div>"
      ],
      "text/plain": [
       "                     open  high  low  close\n",
       "2023-01-01 00:00:00     8     9    3      5\n",
       "2023-01-01 00:05:00     6    10    0      7\n",
       "2023-01-01 00:10:00    11    11    2      2"
      ]
     },
     "execution_count": 135,
     "metadata": {},
     "output_type": "execute_result"
    }
   ],
   "source": [
    "ts = pd.Series(np.random.permutation(np.arange(len(dates))),\n",
    "               index=dates)\n",
    "\n",
    "ts.resample(\"5min\").ohlc()"
   ]
  },
  {
   "cell_type": "code",
   "execution_count": 136,
   "id": "39ef0aa3",
   "metadata": {},
   "outputs": [
    {
     "data": {
      "text/html": [
       "<div>\n",
       "<style scoped>\n",
       "    .dataframe tbody tr th:only-of-type {\n",
       "        vertical-align: middle;\n",
       "    }\n",
       "\n",
       "    .dataframe tbody tr th {\n",
       "        vertical-align: top;\n",
       "    }\n",
       "\n",
       "    .dataframe thead th {\n",
       "        text-align: right;\n",
       "    }\n",
       "</style>\n",
       "<table border=\"1\" class=\"dataframe\">\n",
       "  <thead>\n",
       "    <tr style=\"text-align: right;\">\n",
       "      <th></th>\n",
       "      <th>Navia</th>\n",
       "      <th>Ningguang</th>\n",
       "      <th>Cascha</th>\n",
       "      <th>Clorinde</th>\n",
       "    </tr>\n",
       "  </thead>\n",
       "  <tbody>\n",
       "    <tr>\n",
       "      <th>2023-01-04</th>\n",
       "      <td>1.219651</td>\n",
       "      <td>-0.450909</td>\n",
       "      <td>1.238407</td>\n",
       "      <td>1.074526</td>\n",
       "    </tr>\n",
       "    <tr>\n",
       "      <th>2023-01-11</th>\n",
       "      <td>0.456701</td>\n",
       "      <td>0.887775</td>\n",
       "      <td>1.752889</td>\n",
       "      <td>0.112113</td>\n",
       "    </tr>\n",
       "  </tbody>\n",
       "</table>\n",
       "</div>"
      ],
      "text/plain": [
       "               Navia  Ningguang    Cascha  Clorinde\n",
       "2023-01-04  1.219651  -0.450909  1.238407  1.074526\n",
       "2023-01-11  0.456701   0.887775  1.752889  0.112113"
      ]
     },
     "execution_count": 136,
     "metadata": {},
     "output_type": "execute_result"
    }
   ],
   "source": [
    "frame = pd.DataFrame(np.random.standard_normal((2, 4)),\n",
    "                     index=pd.date_range(\"2023-01-01\",periods=2,freq=\"W-WED\"),\n",
    "                     columns=['Navia', 'Ningguang', 'Cascha', 'Clorinde'])\n",
    "\n",
    "frame"
   ]
  },
  {
   "cell_type": "code",
   "execution_count": 137,
   "id": "ecf15da2",
   "metadata": {},
   "outputs": [
    {
     "data": {
      "text/html": [
       "<div>\n",
       "<style scoped>\n",
       "    .dataframe tbody tr th:only-of-type {\n",
       "        vertical-align: middle;\n",
       "    }\n",
       "\n",
       "    .dataframe tbody tr th {\n",
       "        vertical-align: top;\n",
       "    }\n",
       "\n",
       "    .dataframe thead th {\n",
       "        text-align: right;\n",
       "    }\n",
       "</style>\n",
       "<table border=\"1\" class=\"dataframe\">\n",
       "  <thead>\n",
       "    <tr style=\"text-align: right;\">\n",
       "      <th></th>\n",
       "      <th>Navia</th>\n",
       "      <th>Ningguang</th>\n",
       "      <th>Cascha</th>\n",
       "      <th>Clorinde</th>\n",
       "    </tr>\n",
       "  </thead>\n",
       "  <tbody>\n",
       "    <tr>\n",
       "      <th>2023-01-04</th>\n",
       "      <td>1.219651</td>\n",
       "      <td>-0.450909</td>\n",
       "      <td>1.238407</td>\n",
       "      <td>1.074526</td>\n",
       "    </tr>\n",
       "    <tr>\n",
       "      <th>2023-01-05</th>\n",
       "      <td>NaN</td>\n",
       "      <td>NaN</td>\n",
       "      <td>NaN</td>\n",
       "      <td>NaN</td>\n",
       "    </tr>\n",
       "    <tr>\n",
       "      <th>2023-01-06</th>\n",
       "      <td>NaN</td>\n",
       "      <td>NaN</td>\n",
       "      <td>NaN</td>\n",
       "      <td>NaN</td>\n",
       "    </tr>\n",
       "    <tr>\n",
       "      <th>2023-01-07</th>\n",
       "      <td>NaN</td>\n",
       "      <td>NaN</td>\n",
       "      <td>NaN</td>\n",
       "      <td>NaN</td>\n",
       "    </tr>\n",
       "    <tr>\n",
       "      <th>2023-01-08</th>\n",
       "      <td>NaN</td>\n",
       "      <td>NaN</td>\n",
       "      <td>NaN</td>\n",
       "      <td>NaN</td>\n",
       "    </tr>\n",
       "    <tr>\n",
       "      <th>2023-01-09</th>\n",
       "      <td>NaN</td>\n",
       "      <td>NaN</td>\n",
       "      <td>NaN</td>\n",
       "      <td>NaN</td>\n",
       "    </tr>\n",
       "    <tr>\n",
       "      <th>2023-01-10</th>\n",
       "      <td>NaN</td>\n",
       "      <td>NaN</td>\n",
       "      <td>NaN</td>\n",
       "      <td>NaN</td>\n",
       "    </tr>\n",
       "    <tr>\n",
       "      <th>2023-01-11</th>\n",
       "      <td>0.456701</td>\n",
       "      <td>0.887775</td>\n",
       "      <td>1.752889</td>\n",
       "      <td>0.112113</td>\n",
       "    </tr>\n",
       "  </tbody>\n",
       "</table>\n",
       "</div>"
      ],
      "text/plain": [
       "               Navia  Ningguang    Cascha  Clorinde\n",
       "2023-01-04  1.219651  -0.450909  1.238407  1.074526\n",
       "2023-01-05       NaN        NaN       NaN       NaN\n",
       "2023-01-06       NaN        NaN       NaN       NaN\n",
       "2023-01-07       NaN        NaN       NaN       NaN\n",
       "2023-01-08       NaN        NaN       NaN       NaN\n",
       "2023-01-09       NaN        NaN       NaN       NaN\n",
       "2023-01-10       NaN        NaN       NaN       NaN\n",
       "2023-01-11  0.456701   0.887775  1.752889  0.112113"
      ]
     },
     "execution_count": 137,
     "metadata": {},
     "output_type": "execute_result"
    }
   ],
   "source": [
    "df_daily = frame.resample(\"D\").asfreq()\n",
    "\n",
    "df_daily"
   ]
  },
  {
   "cell_type": "code",
   "execution_count": 138,
   "id": "71968f99",
   "metadata": {},
   "outputs": [
    {
     "data": {
      "text/html": [
       "<div>\n",
       "<style scoped>\n",
       "    .dataframe tbody tr th:only-of-type {\n",
       "        vertical-align: middle;\n",
       "    }\n",
       "\n",
       "    .dataframe tbody tr th {\n",
       "        vertical-align: top;\n",
       "    }\n",
       "\n",
       "    .dataframe thead th {\n",
       "        text-align: right;\n",
       "    }\n",
       "</style>\n",
       "<table border=\"1\" class=\"dataframe\">\n",
       "  <thead>\n",
       "    <tr style=\"text-align: right;\">\n",
       "      <th></th>\n",
       "      <th>Navia</th>\n",
       "      <th>Ningguang</th>\n",
       "      <th>Cascha</th>\n",
       "      <th>Clorinde</th>\n",
       "    </tr>\n",
       "  </thead>\n",
       "  <tbody>\n",
       "    <tr>\n",
       "      <th>2023-01-04</th>\n",
       "      <td>1.219651</td>\n",
       "      <td>-0.450909</td>\n",
       "      <td>1.238407</td>\n",
       "      <td>1.074526</td>\n",
       "    </tr>\n",
       "    <tr>\n",
       "      <th>2023-01-05</th>\n",
       "      <td>1.219651</td>\n",
       "      <td>-0.450909</td>\n",
       "      <td>1.238407</td>\n",
       "      <td>1.074526</td>\n",
       "    </tr>\n",
       "    <tr>\n",
       "      <th>2023-01-06</th>\n",
       "      <td>1.219651</td>\n",
       "      <td>-0.450909</td>\n",
       "      <td>1.238407</td>\n",
       "      <td>1.074526</td>\n",
       "    </tr>\n",
       "    <tr>\n",
       "      <th>2023-01-07</th>\n",
       "      <td>1.219651</td>\n",
       "      <td>-0.450909</td>\n",
       "      <td>1.238407</td>\n",
       "      <td>1.074526</td>\n",
       "    </tr>\n",
       "    <tr>\n",
       "      <th>2023-01-08</th>\n",
       "      <td>1.219651</td>\n",
       "      <td>-0.450909</td>\n",
       "      <td>1.238407</td>\n",
       "      <td>1.074526</td>\n",
       "    </tr>\n",
       "    <tr>\n",
       "      <th>2023-01-09</th>\n",
       "      <td>1.219651</td>\n",
       "      <td>-0.450909</td>\n",
       "      <td>1.238407</td>\n",
       "      <td>1.074526</td>\n",
       "    </tr>\n",
       "    <tr>\n",
       "      <th>2023-01-10</th>\n",
       "      <td>1.219651</td>\n",
       "      <td>-0.450909</td>\n",
       "      <td>1.238407</td>\n",
       "      <td>1.074526</td>\n",
       "    </tr>\n",
       "    <tr>\n",
       "      <th>2023-01-11</th>\n",
       "      <td>0.456701</td>\n",
       "      <td>0.887775</td>\n",
       "      <td>1.752889</td>\n",
       "      <td>0.112113</td>\n",
       "    </tr>\n",
       "  </tbody>\n",
       "</table>\n",
       "</div>"
      ],
      "text/plain": [
       "               Navia  Ningguang    Cascha  Clorinde\n",
       "2023-01-04  1.219651  -0.450909  1.238407  1.074526\n",
       "2023-01-05  1.219651  -0.450909  1.238407  1.074526\n",
       "2023-01-06  1.219651  -0.450909  1.238407  1.074526\n",
       "2023-01-07  1.219651  -0.450909  1.238407  1.074526\n",
       "2023-01-08  1.219651  -0.450909  1.238407  1.074526\n",
       "2023-01-09  1.219651  -0.450909  1.238407  1.074526\n",
       "2023-01-10  1.219651  -0.450909  1.238407  1.074526\n",
       "2023-01-11  0.456701   0.887775  1.752889  0.112113"
      ]
     },
     "execution_count": 138,
     "metadata": {},
     "output_type": "execute_result"
    }
   ],
   "source": [
    "frame.resample(\"D\").ffill()\n",
    "\n",
    "# Suppose you wanted to fill forward each weekly value on \n",
    "# the non-Wednesdays. The same filling or interpolation methods \n",
    "# in the fillna and reindex methods are available for resampling"
   ]
  },
  {
   "cell_type": "code",
   "execution_count": 139,
   "id": "9edfcaf2",
   "metadata": {},
   "outputs": [
    {
     "data": {
      "text/html": [
       "<div>\n",
       "<style scoped>\n",
       "    .dataframe tbody tr th:only-of-type {\n",
       "        vertical-align: middle;\n",
       "    }\n",
       "\n",
       "    .dataframe tbody tr th {\n",
       "        vertical-align: top;\n",
       "    }\n",
       "\n",
       "    .dataframe thead th {\n",
       "        text-align: right;\n",
       "    }\n",
       "</style>\n",
       "<table border=\"1\" class=\"dataframe\">\n",
       "  <thead>\n",
       "    <tr style=\"text-align: right;\">\n",
       "      <th></th>\n",
       "      <th>Navia</th>\n",
       "      <th>Ningguang</th>\n",
       "      <th>Cascha</th>\n",
       "      <th>Clorinde</th>\n",
       "    </tr>\n",
       "  </thead>\n",
       "  <tbody>\n",
       "    <tr>\n",
       "      <th>2023-01-04</th>\n",
       "      <td>1.219651</td>\n",
       "      <td>-0.450909</td>\n",
       "      <td>1.238407</td>\n",
       "      <td>1.074526</td>\n",
       "    </tr>\n",
       "    <tr>\n",
       "      <th>2023-01-05</th>\n",
       "      <td>1.219651</td>\n",
       "      <td>-0.450909</td>\n",
       "      <td>1.238407</td>\n",
       "      <td>1.074526</td>\n",
       "    </tr>\n",
       "    <tr>\n",
       "      <th>2023-01-06</th>\n",
       "      <td>1.219651</td>\n",
       "      <td>-0.450909</td>\n",
       "      <td>1.238407</td>\n",
       "      <td>1.074526</td>\n",
       "    </tr>\n",
       "    <tr>\n",
       "      <th>2023-01-07</th>\n",
       "      <td>NaN</td>\n",
       "      <td>NaN</td>\n",
       "      <td>NaN</td>\n",
       "      <td>NaN</td>\n",
       "    </tr>\n",
       "    <tr>\n",
       "      <th>2023-01-08</th>\n",
       "      <td>NaN</td>\n",
       "      <td>NaN</td>\n",
       "      <td>NaN</td>\n",
       "      <td>NaN</td>\n",
       "    </tr>\n",
       "    <tr>\n",
       "      <th>2023-01-09</th>\n",
       "      <td>NaN</td>\n",
       "      <td>NaN</td>\n",
       "      <td>NaN</td>\n",
       "      <td>NaN</td>\n",
       "    </tr>\n",
       "    <tr>\n",
       "      <th>2023-01-10</th>\n",
       "      <td>NaN</td>\n",
       "      <td>NaN</td>\n",
       "      <td>NaN</td>\n",
       "      <td>NaN</td>\n",
       "    </tr>\n",
       "    <tr>\n",
       "      <th>2023-01-11</th>\n",
       "      <td>0.456701</td>\n",
       "      <td>0.887775</td>\n",
       "      <td>1.752889</td>\n",
       "      <td>0.112113</td>\n",
       "    </tr>\n",
       "  </tbody>\n",
       "</table>\n",
       "</div>"
      ],
      "text/plain": [
       "               Navia  Ningguang    Cascha  Clorinde\n",
       "2023-01-04  1.219651  -0.450909  1.238407  1.074526\n",
       "2023-01-05  1.219651  -0.450909  1.238407  1.074526\n",
       "2023-01-06  1.219651  -0.450909  1.238407  1.074526\n",
       "2023-01-07       NaN        NaN       NaN       NaN\n",
       "2023-01-08       NaN        NaN       NaN       NaN\n",
       "2023-01-09       NaN        NaN       NaN       NaN\n",
       "2023-01-10       NaN        NaN       NaN       NaN\n",
       "2023-01-11  0.456701   0.887775  1.752889  0.112113"
      ]
     },
     "execution_count": 139,
     "metadata": {},
     "output_type": "execute_result"
    }
   ],
   "source": [
    "frame.resample(\"D\").ffill(limit=2)\n",
    "\n",
    "# you can similarly choose to only fill a certain number of \n",
    "# periods forward to limit how far to continue using an observed value\n",
    "# "
   ]
  },
  {
   "cell_type": "code",
   "execution_count": 140,
   "id": "6a3b4c7b",
   "metadata": {},
   "outputs": [
    {
     "data": {
      "text/html": [
       "<div>\n",
       "<style scoped>\n",
       "    .dataframe tbody tr th:only-of-type {\n",
       "        vertical-align: middle;\n",
       "    }\n",
       "\n",
       "    .dataframe tbody tr th {\n",
       "        vertical-align: top;\n",
       "    }\n",
       "\n",
       "    .dataframe thead th {\n",
       "        text-align: right;\n",
       "    }\n",
       "</style>\n",
       "<table border=\"1\" class=\"dataframe\">\n",
       "  <thead>\n",
       "    <tr style=\"text-align: right;\">\n",
       "      <th></th>\n",
       "      <th>Navia</th>\n",
       "      <th>Ningguang</th>\n",
       "      <th>Cascha</th>\n",
       "      <th>Clorinde</th>\n",
       "    </tr>\n",
       "  </thead>\n",
       "  <tbody>\n",
       "    <tr>\n",
       "      <th>2023-01-05</th>\n",
       "      <td>1.219651</td>\n",
       "      <td>-0.450909</td>\n",
       "      <td>1.238407</td>\n",
       "      <td>1.074526</td>\n",
       "    </tr>\n",
       "    <tr>\n",
       "      <th>2023-01-12</th>\n",
       "      <td>0.456701</td>\n",
       "      <td>0.887775</td>\n",
       "      <td>1.752889</td>\n",
       "      <td>0.112113</td>\n",
       "    </tr>\n",
       "  </tbody>\n",
       "</table>\n",
       "</div>"
      ],
      "text/plain": [
       "               Navia  Ningguang    Cascha  Clorinde\n",
       "2023-01-05  1.219651  -0.450909  1.238407  1.074526\n",
       "2023-01-12  0.456701   0.887775  1.752889  0.112113"
      ]
     },
     "execution_count": 140,
     "metadata": {},
     "output_type": "execute_result"
    }
   ],
   "source": [
    "frame.resample(\"W-THU\").ffill()"
   ]
  },
  {
   "cell_type": "code",
   "execution_count": 141,
   "id": "6e660274",
   "metadata": {},
   "outputs": [],
   "source": [
    "# Resampling with Periods\n",
    "\n",
    "frame = pd.DataFrame(np.random.standard_normal((24,4)),\n",
    "                     index=pd.period_range(\"1-2023\", \"12-2024\", freq=\"M\"),\n",
    "                     columns=['Mona', 'Noelle', 'Citlali', 'Lanyan'])\n",
    "\n"
   ]
  },
  {
   "cell_type": "code",
   "execution_count": 142,
   "id": "4a99c621",
   "metadata": {},
   "outputs": [
    {
     "data": {
      "text/html": [
       "<div>\n",
       "<style scoped>\n",
       "    .dataframe tbody tr th:only-of-type {\n",
       "        vertical-align: middle;\n",
       "    }\n",
       "\n",
       "    .dataframe tbody tr th {\n",
       "        vertical-align: top;\n",
       "    }\n",
       "\n",
       "    .dataframe thead th {\n",
       "        text-align: right;\n",
       "    }\n",
       "</style>\n",
       "<table border=\"1\" class=\"dataframe\">\n",
       "  <thead>\n",
       "    <tr style=\"text-align: right;\">\n",
       "      <th></th>\n",
       "      <th>Mona</th>\n",
       "      <th>Noelle</th>\n",
       "      <th>Citlali</th>\n",
       "      <th>Lanyan</th>\n",
       "    </tr>\n",
       "  </thead>\n",
       "  <tbody>\n",
       "    <tr>\n",
       "      <th>2023-01</th>\n",
       "      <td>-0.815974</td>\n",
       "      <td>-0.268037</td>\n",
       "      <td>0.367592</td>\n",
       "      <td>0.431618</td>\n",
       "    </tr>\n",
       "    <tr>\n",
       "      <th>2023-02</th>\n",
       "      <td>-0.652722</td>\n",
       "      <td>-0.552422</td>\n",
       "      <td>-1.316411</td>\n",
       "      <td>1.037136</td>\n",
       "    </tr>\n",
       "    <tr>\n",
       "      <th>2023-03</th>\n",
       "      <td>0.090370</td>\n",
       "      <td>1.072497</td>\n",
       "      <td>0.034706</td>\n",
       "      <td>-0.732020</td>\n",
       "    </tr>\n",
       "    <tr>\n",
       "      <th>2023-04</th>\n",
       "      <td>-0.405833</td>\n",
       "      <td>0.041517</td>\n",
       "      <td>0.923042</td>\n",
       "      <td>-0.789128</td>\n",
       "    </tr>\n",
       "    <tr>\n",
       "      <th>2023-05</th>\n",
       "      <td>-0.692302</td>\n",
       "      <td>0.495869</td>\n",
       "      <td>0.042273</td>\n",
       "      <td>0.960983</td>\n",
       "    </tr>\n",
       "  </tbody>\n",
       "</table>\n",
       "</div>"
      ],
      "text/plain": [
       "             Mona    Noelle   Citlali    Lanyan\n",
       "2023-01 -0.815974 -0.268037  0.367592  0.431618\n",
       "2023-02 -0.652722 -0.552422 -1.316411  1.037136\n",
       "2023-03  0.090370  1.072497  0.034706 -0.732020\n",
       "2023-04 -0.405833  0.041517  0.923042 -0.789128\n",
       "2023-05 -0.692302  0.495869  0.042273  0.960983"
      ]
     },
     "execution_count": 142,
     "metadata": {},
     "output_type": "execute_result"
    }
   ],
   "source": [
    "frame.head()"
   ]
  },
  {
   "cell_type": "code",
   "execution_count": 143,
   "id": "b5005921",
   "metadata": {},
   "outputs": [
    {
     "name": "stderr",
     "output_type": "stream",
     "text": [
      "C:\\Users\\NITRO\\AppData\\Local\\Temp\\ipykernel_21608\\1452418181.py:1: FutureWarning: 'A-DEC' is deprecated and will be removed in a future version, please use 'Y-DEC' instead.\n",
      "  annual_frame = frame.resample(\"A-DEC\").mean()\n",
      "C:\\Users\\NITRO\\AppData\\Local\\Temp\\ipykernel_21608\\1452418181.py:1: FutureWarning: Resampling with a PeriodIndex is deprecated. Cast index to DatetimeIndex before resampling instead.\n",
      "  annual_frame = frame.resample(\"A-DEC\").mean()\n"
     ]
    },
    {
     "data": {
      "text/html": [
       "<div>\n",
       "<style scoped>\n",
       "    .dataframe tbody tr th:only-of-type {\n",
       "        vertical-align: middle;\n",
       "    }\n",
       "\n",
       "    .dataframe tbody tr th {\n",
       "        vertical-align: top;\n",
       "    }\n",
       "\n",
       "    .dataframe thead th {\n",
       "        text-align: right;\n",
       "    }\n",
       "</style>\n",
       "<table border=\"1\" class=\"dataframe\">\n",
       "  <thead>\n",
       "    <tr style=\"text-align: right;\">\n",
       "      <th></th>\n",
       "      <th>Mona</th>\n",
       "      <th>Noelle</th>\n",
       "      <th>Citlali</th>\n",
       "      <th>Lanyan</th>\n",
       "    </tr>\n",
       "  </thead>\n",
       "  <tbody>\n",
       "    <tr>\n",
       "      <th>2023</th>\n",
       "      <td>-0.267404</td>\n",
       "      <td>0.060149</td>\n",
       "      <td>0.459347</td>\n",
       "      <td>0.178578</td>\n",
       "    </tr>\n",
       "    <tr>\n",
       "      <th>2024</th>\n",
       "      <td>-0.231278</td>\n",
       "      <td>-0.011754</td>\n",
       "      <td>-0.113158</td>\n",
       "      <td>-0.092877</td>\n",
       "    </tr>\n",
       "  </tbody>\n",
       "</table>\n",
       "</div>"
      ],
      "text/plain": [
       "          Mona    Noelle   Citlali    Lanyan\n",
       "2023 -0.267404  0.060149  0.459347  0.178578\n",
       "2024 -0.231278 -0.011754 -0.113158 -0.092877"
      ]
     },
     "execution_count": 143,
     "metadata": {},
     "output_type": "execute_result"
    }
   ],
   "source": [
    "annual_frame = frame.resample(\"A-DEC\").mean()\n",
    "\n",
    "annual_frame"
   ]
  },
  {
   "cell_type": "code",
   "execution_count": 144,
   "id": "66693c07",
   "metadata": {},
   "outputs": [
    {
     "name": "stderr",
     "output_type": "stream",
     "text": [
      "C:\\Users\\NITRO\\AppData\\Local\\Temp\\ipykernel_21608\\663142359.py:1: FutureWarning: Resampling with a PeriodIndex is deprecated. Cast index to DatetimeIndex before resampling instead.\n",
      "  annual_frame.resample('Q-DEC').ffill()\n"
     ]
    },
    {
     "data": {
      "text/html": [
       "<div>\n",
       "<style scoped>\n",
       "    .dataframe tbody tr th:only-of-type {\n",
       "        vertical-align: middle;\n",
       "    }\n",
       "\n",
       "    .dataframe tbody tr th {\n",
       "        vertical-align: top;\n",
       "    }\n",
       "\n",
       "    .dataframe thead th {\n",
       "        text-align: right;\n",
       "    }\n",
       "</style>\n",
       "<table border=\"1\" class=\"dataframe\">\n",
       "  <thead>\n",
       "    <tr style=\"text-align: right;\">\n",
       "      <th></th>\n",
       "      <th>Mona</th>\n",
       "      <th>Noelle</th>\n",
       "      <th>Citlali</th>\n",
       "      <th>Lanyan</th>\n",
       "    </tr>\n",
       "  </thead>\n",
       "  <tbody>\n",
       "    <tr>\n",
       "      <th>2023Q1</th>\n",
       "      <td>-0.267404</td>\n",
       "      <td>0.060149</td>\n",
       "      <td>0.459347</td>\n",
       "      <td>0.178578</td>\n",
       "    </tr>\n",
       "    <tr>\n",
       "      <th>2023Q2</th>\n",
       "      <td>-0.267404</td>\n",
       "      <td>0.060149</td>\n",
       "      <td>0.459347</td>\n",
       "      <td>0.178578</td>\n",
       "    </tr>\n",
       "    <tr>\n",
       "      <th>2023Q3</th>\n",
       "      <td>-0.267404</td>\n",
       "      <td>0.060149</td>\n",
       "      <td>0.459347</td>\n",
       "      <td>0.178578</td>\n",
       "    </tr>\n",
       "    <tr>\n",
       "      <th>2023Q4</th>\n",
       "      <td>-0.267404</td>\n",
       "      <td>0.060149</td>\n",
       "      <td>0.459347</td>\n",
       "      <td>0.178578</td>\n",
       "    </tr>\n",
       "    <tr>\n",
       "      <th>2024Q1</th>\n",
       "      <td>-0.231278</td>\n",
       "      <td>-0.011754</td>\n",
       "      <td>-0.113158</td>\n",
       "      <td>-0.092877</td>\n",
       "    </tr>\n",
       "    <tr>\n",
       "      <th>2024Q2</th>\n",
       "      <td>-0.231278</td>\n",
       "      <td>-0.011754</td>\n",
       "      <td>-0.113158</td>\n",
       "      <td>-0.092877</td>\n",
       "    </tr>\n",
       "    <tr>\n",
       "      <th>2024Q3</th>\n",
       "      <td>-0.231278</td>\n",
       "      <td>-0.011754</td>\n",
       "      <td>-0.113158</td>\n",
       "      <td>-0.092877</td>\n",
       "    </tr>\n",
       "    <tr>\n",
       "      <th>2024Q4</th>\n",
       "      <td>-0.231278</td>\n",
       "      <td>-0.011754</td>\n",
       "      <td>-0.113158</td>\n",
       "      <td>-0.092877</td>\n",
       "    </tr>\n",
       "  </tbody>\n",
       "</table>\n",
       "</div>"
      ],
      "text/plain": [
       "            Mona    Noelle   Citlali    Lanyan\n",
       "2023Q1 -0.267404  0.060149  0.459347  0.178578\n",
       "2023Q2 -0.267404  0.060149  0.459347  0.178578\n",
       "2023Q3 -0.267404  0.060149  0.459347  0.178578\n",
       "2023Q4 -0.267404  0.060149  0.459347  0.178578\n",
       "2024Q1 -0.231278 -0.011754 -0.113158 -0.092877\n",
       "2024Q2 -0.231278 -0.011754 -0.113158 -0.092877\n",
       "2024Q3 -0.231278 -0.011754 -0.113158 -0.092877\n",
       "2024Q4 -0.231278 -0.011754 -0.113158 -0.092877"
      ]
     },
     "execution_count": 144,
     "metadata": {},
     "output_type": "execute_result"
    }
   ],
   "source": [
    "annual_frame.resample('Q-DEC').ffill()\n",
    "\n",
    "# Unsampling is more nuanced, as before resampling you must make \n",
    "# a decision about which end of the time span in the new frequency \n",
    "# to place the value\n",
    "# Q-DEC --> Quarterly, year ending in December "
   ]
  },
  {
   "cell_type": "code",
   "execution_count": 145,
   "id": "bb101f7b",
   "metadata": {},
   "outputs": [
    {
     "name": "stderr",
     "output_type": "stream",
     "text": [
      "C:\\Users\\NITRO\\AppData\\Local\\Temp\\ipykernel_21608\\1067917637.py:1: FutureWarning: The 'convention' keyword in DataFrame.resample is deprecated and will be removed in a future version. Explicitly cast PeriodIndex to DatetimeIndex before resampling instead.\n",
      "  annual_frame.resample(\"Q-DEC\", convention=\"end\").asfreq()\n",
      "C:\\Users\\NITRO\\AppData\\Local\\Temp\\ipykernel_21608\\1067917637.py:1: FutureWarning: Resampling with a PeriodIndex is deprecated. Cast index to DatetimeIndex before resampling instead.\n",
      "  annual_frame.resample(\"Q-DEC\", convention=\"end\").asfreq()\n"
     ]
    },
    {
     "data": {
      "text/html": [
       "<div>\n",
       "<style scoped>\n",
       "    .dataframe tbody tr th:only-of-type {\n",
       "        vertical-align: middle;\n",
       "    }\n",
       "\n",
       "    .dataframe tbody tr th {\n",
       "        vertical-align: top;\n",
       "    }\n",
       "\n",
       "    .dataframe thead th {\n",
       "        text-align: right;\n",
       "    }\n",
       "</style>\n",
       "<table border=\"1\" class=\"dataframe\">\n",
       "  <thead>\n",
       "    <tr style=\"text-align: right;\">\n",
       "      <th></th>\n",
       "      <th>Mona</th>\n",
       "      <th>Noelle</th>\n",
       "      <th>Citlali</th>\n",
       "      <th>Lanyan</th>\n",
       "    </tr>\n",
       "  </thead>\n",
       "  <tbody>\n",
       "    <tr>\n",
       "      <th>2023Q4</th>\n",
       "      <td>-0.267404</td>\n",
       "      <td>0.060149</td>\n",
       "      <td>0.459347</td>\n",
       "      <td>0.178578</td>\n",
       "    </tr>\n",
       "    <tr>\n",
       "      <th>2024Q1</th>\n",
       "      <td>NaN</td>\n",
       "      <td>NaN</td>\n",
       "      <td>NaN</td>\n",
       "      <td>NaN</td>\n",
       "    </tr>\n",
       "    <tr>\n",
       "      <th>2024Q2</th>\n",
       "      <td>NaN</td>\n",
       "      <td>NaN</td>\n",
       "      <td>NaN</td>\n",
       "      <td>NaN</td>\n",
       "    </tr>\n",
       "    <tr>\n",
       "      <th>2024Q3</th>\n",
       "      <td>NaN</td>\n",
       "      <td>NaN</td>\n",
       "      <td>NaN</td>\n",
       "      <td>NaN</td>\n",
       "    </tr>\n",
       "    <tr>\n",
       "      <th>2024Q4</th>\n",
       "      <td>-0.231278</td>\n",
       "      <td>-0.011754</td>\n",
       "      <td>-0.113158</td>\n",
       "      <td>-0.092877</td>\n",
       "    </tr>\n",
       "  </tbody>\n",
       "</table>\n",
       "</div>"
      ],
      "text/plain": [
       "            Mona    Noelle   Citlali    Lanyan\n",
       "2023Q4 -0.267404  0.060149  0.459347  0.178578\n",
       "2024Q1       NaN       NaN       NaN       NaN\n",
       "2024Q2       NaN       NaN       NaN       NaN\n",
       "2024Q3       NaN       NaN       NaN       NaN\n",
       "2024Q4 -0.231278 -0.011754 -0.113158 -0.092877"
      ]
     },
     "execution_count": 145,
     "metadata": {},
     "output_type": "execute_result"
    }
   ],
   "source": [
    "annual_frame.resample(\"Q-DEC\", convention=\"end\").asfreq()\n"
   ]
  },
  {
   "cell_type": "code",
   "execution_count": 146,
   "id": "6893409c",
   "metadata": {},
   "outputs": [
    {
     "name": "stderr",
     "output_type": "stream",
     "text": [
      "C:\\Users\\NITRO\\AppData\\Local\\Temp\\ipykernel_21608\\1394285948.py:1: FutureWarning: Resampling with a PeriodIndex is deprecated. Cast index to DatetimeIndex before resampling instead.\n",
      "  annual_frame.resample('Q-MAR').ffill()\n"
     ]
    },
    {
     "data": {
      "text/html": [
       "<div>\n",
       "<style scoped>\n",
       "    .dataframe tbody tr th:only-of-type {\n",
       "        vertical-align: middle;\n",
       "    }\n",
       "\n",
       "    .dataframe tbody tr th {\n",
       "        vertical-align: top;\n",
       "    }\n",
       "\n",
       "    .dataframe thead th {\n",
       "        text-align: right;\n",
       "    }\n",
       "</style>\n",
       "<table border=\"1\" class=\"dataframe\">\n",
       "  <thead>\n",
       "    <tr style=\"text-align: right;\">\n",
       "      <th></th>\n",
       "      <th>Mona</th>\n",
       "      <th>Noelle</th>\n",
       "      <th>Citlali</th>\n",
       "      <th>Lanyan</th>\n",
       "    </tr>\n",
       "  </thead>\n",
       "  <tbody>\n",
       "    <tr>\n",
       "      <th>2023Q4</th>\n",
       "      <td>-0.267404</td>\n",
       "      <td>0.060149</td>\n",
       "      <td>0.459347</td>\n",
       "      <td>0.178578</td>\n",
       "    </tr>\n",
       "    <tr>\n",
       "      <th>2024Q1</th>\n",
       "      <td>-0.267404</td>\n",
       "      <td>0.060149</td>\n",
       "      <td>0.459347</td>\n",
       "      <td>0.178578</td>\n",
       "    </tr>\n",
       "    <tr>\n",
       "      <th>2024Q2</th>\n",
       "      <td>-0.267404</td>\n",
       "      <td>0.060149</td>\n",
       "      <td>0.459347</td>\n",
       "      <td>0.178578</td>\n",
       "    </tr>\n",
       "    <tr>\n",
       "      <th>2024Q3</th>\n",
       "      <td>-0.267404</td>\n",
       "      <td>0.060149</td>\n",
       "      <td>0.459347</td>\n",
       "      <td>0.178578</td>\n",
       "    </tr>\n",
       "    <tr>\n",
       "      <th>2024Q4</th>\n",
       "      <td>-0.231278</td>\n",
       "      <td>-0.011754</td>\n",
       "      <td>-0.113158</td>\n",
       "      <td>-0.092877</td>\n",
       "    </tr>\n",
       "    <tr>\n",
       "      <th>2025Q1</th>\n",
       "      <td>-0.231278</td>\n",
       "      <td>-0.011754</td>\n",
       "      <td>-0.113158</td>\n",
       "      <td>-0.092877</td>\n",
       "    </tr>\n",
       "    <tr>\n",
       "      <th>2025Q2</th>\n",
       "      <td>-0.231278</td>\n",
       "      <td>-0.011754</td>\n",
       "      <td>-0.113158</td>\n",
       "      <td>-0.092877</td>\n",
       "    </tr>\n",
       "    <tr>\n",
       "      <th>2025Q3</th>\n",
       "      <td>-0.231278</td>\n",
       "      <td>-0.011754</td>\n",
       "      <td>-0.113158</td>\n",
       "      <td>-0.092877</td>\n",
       "    </tr>\n",
       "  </tbody>\n",
       "</table>\n",
       "</div>"
      ],
      "text/plain": [
       "            Mona    Noelle   Citlali    Lanyan\n",
       "2023Q4 -0.267404  0.060149  0.459347  0.178578\n",
       "2024Q1 -0.267404  0.060149  0.459347  0.178578\n",
       "2024Q2 -0.267404  0.060149  0.459347  0.178578\n",
       "2024Q3 -0.267404  0.060149  0.459347  0.178578\n",
       "2024Q4 -0.231278 -0.011754 -0.113158 -0.092877\n",
       "2025Q1 -0.231278 -0.011754 -0.113158 -0.092877\n",
       "2025Q2 -0.231278 -0.011754 -0.113158 -0.092877\n",
       "2025Q3 -0.231278 -0.011754 -0.113158 -0.092877"
      ]
     },
     "execution_count": 146,
     "metadata": {},
     "output_type": "execute_result"
    }
   ],
   "source": [
    "annual_frame.resample('Q-MAR').ffill()\n",
    "\n",
    "# if these rules are not satisfied, \n",
    "# an exception will be raised. This mainly affects \n",
    "# the quarterly, annual, and weekly frequencies\n",
    "\n",
    "# for example --> the time spans defined by Q-MAR only line up with \n",
    "# A-MAR, A-JUN, A-SEP, and A-DEC"
   ]
  },
  {
   "cell_type": "code",
   "execution_count": 147,
   "id": "e2394bce",
   "metadata": {},
   "outputs": [],
   "source": [
    "# Grouped TIme Resampling\n",
    "\n",
    "N = 15\n",
    "\n",
    "times = pd.date_range(\"2020-05-20 00:00\", \n",
    "                      freq='1min',\n",
    "                      periods=N)\n",
    "\n",
    "df = pd.DataFrame({\"time\": times,\n",
    "                   \"Value\": np.arange(N)})"
   ]
  },
  {
   "cell_type": "code",
   "execution_count": 148,
   "id": "86edf290",
   "metadata": {},
   "outputs": [
    {
     "data": {
      "text/html": [
       "<div>\n",
       "<style scoped>\n",
       "    .dataframe tbody tr th:only-of-type {\n",
       "        vertical-align: middle;\n",
       "    }\n",
       "\n",
       "    .dataframe tbody tr th {\n",
       "        vertical-align: top;\n",
       "    }\n",
       "\n",
       "    .dataframe thead th {\n",
       "        text-align: right;\n",
       "    }\n",
       "</style>\n",
       "<table border=\"1\" class=\"dataframe\">\n",
       "  <thead>\n",
       "    <tr style=\"text-align: right;\">\n",
       "      <th></th>\n",
       "      <th>time</th>\n",
       "      <th>Value</th>\n",
       "    </tr>\n",
       "  </thead>\n",
       "  <tbody>\n",
       "    <tr>\n",
       "      <th>0</th>\n",
       "      <td>2020-05-20 00:00:00</td>\n",
       "      <td>0</td>\n",
       "    </tr>\n",
       "    <tr>\n",
       "      <th>1</th>\n",
       "      <td>2020-05-20 00:01:00</td>\n",
       "      <td>1</td>\n",
       "    </tr>\n",
       "    <tr>\n",
       "      <th>2</th>\n",
       "      <td>2020-05-20 00:02:00</td>\n",
       "      <td>2</td>\n",
       "    </tr>\n",
       "    <tr>\n",
       "      <th>3</th>\n",
       "      <td>2020-05-20 00:03:00</td>\n",
       "      <td>3</td>\n",
       "    </tr>\n",
       "    <tr>\n",
       "      <th>4</th>\n",
       "      <td>2020-05-20 00:04:00</td>\n",
       "      <td>4</td>\n",
       "    </tr>\n",
       "    <tr>\n",
       "      <th>5</th>\n",
       "      <td>2020-05-20 00:05:00</td>\n",
       "      <td>5</td>\n",
       "    </tr>\n",
       "    <tr>\n",
       "      <th>6</th>\n",
       "      <td>2020-05-20 00:06:00</td>\n",
       "      <td>6</td>\n",
       "    </tr>\n",
       "    <tr>\n",
       "      <th>7</th>\n",
       "      <td>2020-05-20 00:07:00</td>\n",
       "      <td>7</td>\n",
       "    </tr>\n",
       "    <tr>\n",
       "      <th>8</th>\n",
       "      <td>2020-05-20 00:08:00</td>\n",
       "      <td>8</td>\n",
       "    </tr>\n",
       "    <tr>\n",
       "      <th>9</th>\n",
       "      <td>2020-05-20 00:09:00</td>\n",
       "      <td>9</td>\n",
       "    </tr>\n",
       "    <tr>\n",
       "      <th>10</th>\n",
       "      <td>2020-05-20 00:10:00</td>\n",
       "      <td>10</td>\n",
       "    </tr>\n",
       "    <tr>\n",
       "      <th>11</th>\n",
       "      <td>2020-05-20 00:11:00</td>\n",
       "      <td>11</td>\n",
       "    </tr>\n",
       "    <tr>\n",
       "      <th>12</th>\n",
       "      <td>2020-05-20 00:12:00</td>\n",
       "      <td>12</td>\n",
       "    </tr>\n",
       "    <tr>\n",
       "      <th>13</th>\n",
       "      <td>2020-05-20 00:13:00</td>\n",
       "      <td>13</td>\n",
       "    </tr>\n",
       "    <tr>\n",
       "      <th>14</th>\n",
       "      <td>2020-05-20 00:14:00</td>\n",
       "      <td>14</td>\n",
       "    </tr>\n",
       "  </tbody>\n",
       "</table>\n",
       "</div>"
      ],
      "text/plain": [
       "                  time  Value\n",
       "0  2020-05-20 00:00:00      0\n",
       "1  2020-05-20 00:01:00      1\n",
       "2  2020-05-20 00:02:00      2\n",
       "3  2020-05-20 00:03:00      3\n",
       "4  2020-05-20 00:04:00      4\n",
       "5  2020-05-20 00:05:00      5\n",
       "6  2020-05-20 00:06:00      6\n",
       "7  2020-05-20 00:07:00      7\n",
       "8  2020-05-20 00:08:00      8\n",
       "9  2020-05-20 00:09:00      9\n",
       "10 2020-05-20 00:10:00     10\n",
       "11 2020-05-20 00:11:00     11\n",
       "12 2020-05-20 00:12:00     12\n",
       "13 2020-05-20 00:13:00     13\n",
       "14 2020-05-20 00:14:00     14"
      ]
     },
     "execution_count": 148,
     "metadata": {},
     "output_type": "execute_result"
    }
   ],
   "source": [
    "df"
   ]
  },
  {
   "cell_type": "code",
   "execution_count": 149,
   "id": "72338ae4",
   "metadata": {},
   "outputs": [
    {
     "data": {
      "text/html": [
       "<div>\n",
       "<style scoped>\n",
       "    .dataframe tbody tr th:only-of-type {\n",
       "        vertical-align: middle;\n",
       "    }\n",
       "\n",
       "    .dataframe tbody tr th {\n",
       "        vertical-align: top;\n",
       "    }\n",
       "\n",
       "    .dataframe thead th {\n",
       "        text-align: right;\n",
       "    }\n",
       "</style>\n",
       "<table border=\"1\" class=\"dataframe\">\n",
       "  <thead>\n",
       "    <tr style=\"text-align: right;\">\n",
       "      <th></th>\n",
       "      <th>time</th>\n",
       "      <th>key</th>\n",
       "      <th>value</th>\n",
       "    </tr>\n",
       "  </thead>\n",
       "  <tbody>\n",
       "    <tr>\n",
       "      <th>0</th>\n",
       "      <td>2020-05-20 00:00:00</td>\n",
       "      <td>a</td>\n",
       "      <td>0</td>\n",
       "    </tr>\n",
       "    <tr>\n",
       "      <th>1</th>\n",
       "      <td>2020-05-20 00:00:00</td>\n",
       "      <td>b</td>\n",
       "      <td>1</td>\n",
       "    </tr>\n",
       "    <tr>\n",
       "      <th>2</th>\n",
       "      <td>2020-05-20 00:00:00</td>\n",
       "      <td>c</td>\n",
       "      <td>2</td>\n",
       "    </tr>\n",
       "    <tr>\n",
       "      <th>3</th>\n",
       "      <td>2020-05-20 00:01:00</td>\n",
       "      <td>a</td>\n",
       "      <td>3</td>\n",
       "    </tr>\n",
       "    <tr>\n",
       "      <th>4</th>\n",
       "      <td>2020-05-20 00:01:00</td>\n",
       "      <td>b</td>\n",
       "      <td>4</td>\n",
       "    </tr>\n",
       "    <tr>\n",
       "      <th>5</th>\n",
       "      <td>2020-05-20 00:01:00</td>\n",
       "      <td>c</td>\n",
       "      <td>5</td>\n",
       "    </tr>\n",
       "    <tr>\n",
       "      <th>6</th>\n",
       "      <td>2020-05-20 00:02:00</td>\n",
       "      <td>a</td>\n",
       "      <td>6</td>\n",
       "    </tr>\n",
       "    <tr>\n",
       "      <th>7</th>\n",
       "      <td>2020-05-20 00:02:00</td>\n",
       "      <td>b</td>\n",
       "      <td>7</td>\n",
       "    </tr>\n",
       "  </tbody>\n",
       "</table>\n",
       "</div>"
      ],
      "text/plain": [
       "                 time key  value\n",
       "0 2020-05-20 00:00:00   a      0\n",
       "1 2020-05-20 00:00:00   b      1\n",
       "2 2020-05-20 00:00:00   c      2\n",
       "3 2020-05-20 00:01:00   a      3\n",
       "4 2020-05-20 00:01:00   b      4\n",
       "5 2020-05-20 00:01:00   c      5\n",
       "6 2020-05-20 00:02:00   a      6\n",
       "7 2020-05-20 00:02:00   b      7"
      ]
     },
     "execution_count": 149,
     "metadata": {},
     "output_type": "execute_result"
    }
   ],
   "source": [
    "df2 = pd.DataFrame({'time': times.repeat(3),\n",
    "                    'key': np.tile(['a', 'b', 'c'], N),\n",
    "                    'value': np.arange(N * 3)})\n",
    "\n",
    "df2.head(8)"
   ]
  },
  {
   "cell_type": "code",
   "execution_count": 150,
   "id": "f981abe5",
   "metadata": {},
   "outputs": [],
   "source": [
    "time_key = pd.Grouper(freq='5min')"
   ]
  },
  {
   "cell_type": "code",
   "execution_count": 151,
   "id": "f3b0da6f",
   "metadata": {},
   "outputs": [
    {
     "data": {
      "text/html": [
       "<div>\n",
       "<style scoped>\n",
       "    .dataframe tbody tr th:only-of-type {\n",
       "        vertical-align: middle;\n",
       "    }\n",
       "\n",
       "    .dataframe tbody tr th {\n",
       "        vertical-align: top;\n",
       "    }\n",
       "\n",
       "    .dataframe thead th {\n",
       "        text-align: right;\n",
       "    }\n",
       "</style>\n",
       "<table border=\"1\" class=\"dataframe\">\n",
       "  <thead>\n",
       "    <tr style=\"text-align: right;\">\n",
       "      <th></th>\n",
       "      <th></th>\n",
       "      <th>value</th>\n",
       "    </tr>\n",
       "    <tr>\n",
       "      <th>key</th>\n",
       "      <th>time</th>\n",
       "      <th></th>\n",
       "    </tr>\n",
       "  </thead>\n",
       "  <tbody>\n",
       "    <tr>\n",
       "      <th rowspan=\"3\" valign=\"top\">a</th>\n",
       "      <th>2020-05-20 00:00:00</th>\n",
       "      <td>30</td>\n",
       "    </tr>\n",
       "    <tr>\n",
       "      <th>2020-05-20 00:05:00</th>\n",
       "      <td>105</td>\n",
       "    </tr>\n",
       "    <tr>\n",
       "      <th>2020-05-20 00:10:00</th>\n",
       "      <td>180</td>\n",
       "    </tr>\n",
       "    <tr>\n",
       "      <th rowspan=\"3\" valign=\"top\">b</th>\n",
       "      <th>2020-05-20 00:00:00</th>\n",
       "      <td>35</td>\n",
       "    </tr>\n",
       "    <tr>\n",
       "      <th>2020-05-20 00:05:00</th>\n",
       "      <td>110</td>\n",
       "    </tr>\n",
       "    <tr>\n",
       "      <th>2020-05-20 00:10:00</th>\n",
       "      <td>185</td>\n",
       "    </tr>\n",
       "    <tr>\n",
       "      <th rowspan=\"3\" valign=\"top\">c</th>\n",
       "      <th>2020-05-20 00:00:00</th>\n",
       "      <td>40</td>\n",
       "    </tr>\n",
       "    <tr>\n",
       "      <th>2020-05-20 00:05:00</th>\n",
       "      <td>115</td>\n",
       "    </tr>\n",
       "    <tr>\n",
       "      <th>2020-05-20 00:10:00</th>\n",
       "      <td>190</td>\n",
       "    </tr>\n",
       "  </tbody>\n",
       "</table>\n",
       "</div>"
      ],
      "text/plain": [
       "                         value\n",
       "key time                      \n",
       "a   2020-05-20 00:00:00     30\n",
       "    2020-05-20 00:05:00    105\n",
       "    2020-05-20 00:10:00    180\n",
       "b   2020-05-20 00:00:00     35\n",
       "    2020-05-20 00:05:00    110\n",
       "    2020-05-20 00:10:00    185\n",
       "c   2020-05-20 00:00:00     40\n",
       "    2020-05-20 00:05:00    115\n",
       "    2020-05-20 00:10:00    190"
      ]
     },
     "execution_count": 151,
     "metadata": {},
     "output_type": "execute_result"
    }
   ],
   "source": [
    "resampled = (df2.set_index('time').\n",
    "             groupby(['key', time_key]).\n",
    "             sum())\n",
    "\n",
    "resampled"
   ]
  },
  {
   "cell_type": "code",
   "execution_count": 152,
   "id": "15d82257",
   "metadata": {},
   "outputs": [
    {
     "data": {
      "text/html": [
       "<div>\n",
       "<style scoped>\n",
       "    .dataframe tbody tr th:only-of-type {\n",
       "        vertical-align: middle;\n",
       "    }\n",
       "\n",
       "    .dataframe tbody tr th {\n",
       "        vertical-align: top;\n",
       "    }\n",
       "\n",
       "    .dataframe thead th {\n",
       "        text-align: right;\n",
       "    }\n",
       "</style>\n",
       "<table border=\"1\" class=\"dataframe\">\n",
       "  <thead>\n",
       "    <tr style=\"text-align: right;\">\n",
       "      <th></th>\n",
       "      <th>key</th>\n",
       "      <th>time</th>\n",
       "      <th>value</th>\n",
       "    </tr>\n",
       "  </thead>\n",
       "  <tbody>\n",
       "    <tr>\n",
       "      <th>0</th>\n",
       "      <td>a</td>\n",
       "      <td>2020-05-20 00:00:00</td>\n",
       "      <td>30</td>\n",
       "    </tr>\n",
       "    <tr>\n",
       "      <th>1</th>\n",
       "      <td>a</td>\n",
       "      <td>2020-05-20 00:05:00</td>\n",
       "      <td>105</td>\n",
       "    </tr>\n",
       "    <tr>\n",
       "      <th>2</th>\n",
       "      <td>a</td>\n",
       "      <td>2020-05-20 00:10:00</td>\n",
       "      <td>180</td>\n",
       "    </tr>\n",
       "    <tr>\n",
       "      <th>3</th>\n",
       "      <td>b</td>\n",
       "      <td>2020-05-20 00:00:00</td>\n",
       "      <td>35</td>\n",
       "    </tr>\n",
       "    <tr>\n",
       "      <th>4</th>\n",
       "      <td>b</td>\n",
       "      <td>2020-05-20 00:05:00</td>\n",
       "      <td>110</td>\n",
       "    </tr>\n",
       "    <tr>\n",
       "      <th>5</th>\n",
       "      <td>b</td>\n",
       "      <td>2020-05-20 00:10:00</td>\n",
       "      <td>185</td>\n",
       "    </tr>\n",
       "    <tr>\n",
       "      <th>6</th>\n",
       "      <td>c</td>\n",
       "      <td>2020-05-20 00:00:00</td>\n",
       "      <td>40</td>\n",
       "    </tr>\n",
       "    <tr>\n",
       "      <th>7</th>\n",
       "      <td>c</td>\n",
       "      <td>2020-05-20 00:05:00</td>\n",
       "      <td>115</td>\n",
       "    </tr>\n",
       "    <tr>\n",
       "      <th>8</th>\n",
       "      <td>c</td>\n",
       "      <td>2020-05-20 00:10:00</td>\n",
       "      <td>190</td>\n",
       "    </tr>\n",
       "  </tbody>\n",
       "</table>\n",
       "</div>"
      ],
      "text/plain": [
       "  key                time  value\n",
       "0   a 2020-05-20 00:00:00     30\n",
       "1   a 2020-05-20 00:05:00    105\n",
       "2   a 2020-05-20 00:10:00    180\n",
       "3   b 2020-05-20 00:00:00     35\n",
       "4   b 2020-05-20 00:05:00    110\n",
       "5   b 2020-05-20 00:10:00    185\n",
       "6   c 2020-05-20 00:00:00     40\n",
       "7   c 2020-05-20 00:05:00    115\n",
       "8   c 2020-05-20 00:10:00    190"
      ]
     },
     "execution_count": 152,
     "metadata": {},
     "output_type": "execute_result"
    }
   ],
   "source": [
    "resampled.reset_index()"
   ]
  },
  {
   "cell_type": "code",
   "execution_count": 153,
   "id": "2a605bc5",
   "metadata": {},
   "outputs": [],
   "source": [
    "# 11.7 Moving Window Functions\n",
    "\n"
   ]
  },
  {
   "cell_type": "code",
   "execution_count": 154,
   "id": "9f7eb64a",
   "metadata": {},
   "outputs": [],
   "source": [
    "close_px_all = pd.read_csv('stock_px.csv',\n",
    "                           parse_dates=True,\n",
    "                           index_col=0)\n",
    "\n",
    "close_px = close_px_all[['AAPL', 'MSFT', 'XOM']]\n",
    "\n",
    "close_px = close_px.resample('B').ffill()"
   ]
  },
  {
   "cell_type": "code",
   "execution_count": 155,
   "id": "e0db02e5",
   "metadata": {},
   "outputs": [
    {
     "data": {
      "text/plain": [
       "<Axes: >"
      ]
     },
     "execution_count": 155,
     "metadata": {},
     "output_type": "execute_result"
    },
    {
     "data": {
      "image/png": "[encoded data removed]",
      "text/plain": [
       "<Figure size 640x480 with 1 Axes>"
      ]
     },
     "metadata": {},
     "output_type": "display_data"
    }
   ],
   "source": [
    "close_px['AAPL'].plot()"
   ]
  },
  {
   "cell_type": "code",
   "execution_count": 156,
   "id": "6ccf1042",
   "metadata": {},
   "outputs": [
    {
     "data": {
      "text/plain": [
       "<Axes: >"
      ]
     },
     "execution_count": 156,
     "metadata": {},
     "output_type": "execute_result"
    },
    {
     "data": {
      "image/png": "[encoded data removed]",
      "text/plain": [
       "<Figure size 640x480 with 1 Axes>"
      ]
     },
     "metadata": {},
     "output_type": "display_data"
    }
   ],
   "source": [
    "close_px[\"AAPL\"].rolling(250).mean().plot()"
   ]
  },
  {
   "cell_type": "code",
   "execution_count": 157,
   "id": "066e73f3",
   "metadata": {},
   "outputs": [
    {
     "data": {
      "text/plain": [
       "<Axes: >"
      ]
     },
     "execution_count": 157,
     "metadata": {},
     "output_type": "execute_result"
    },
    {
     "data": {
      "image/png": "[encoded data removed]",
      "text/plain": [
       "<Figure size 640x480 with 1 Axes>"
      ]
     },
     "metadata": {},
     "output_type": "display_data"
    }
   ],
   "source": [
    "close_px['AAPL'].plot()\n",
    "close_px[\"AAPL\"].rolling(250).mean().plot()\n"
   ]
  },
  {
   "cell_type": "code",
   "execution_count": 158,
   "id": "1478675d",
   "metadata": {},
   "outputs": [
    {
     "data": {
      "text/plain": [
       "<Figure size 640x480 with 0 Axes>"
      ]
     },
     "execution_count": 158,
     "metadata": {},
     "output_type": "execute_result"
    },
    {
     "data": {
      "text/plain": [
       "<Figure size 640x480 with 0 Axes>"
      ]
     },
     "metadata": {},
     "output_type": "display_data"
    }
   ],
   "source": [
    "import matplotlib.pyplot as plt\n",
    "\n",
    "\n",
    "plt.figure()\n"
   ]
  },
  {
   "cell_type": "code",
   "execution_count": 159,
   "id": "23922376",
   "metadata": {},
   "outputs": [],
   "source": [
    "std250 = close_px['AAPL'].pct_change().rolling(250, min_periods=10).std()\n"
   ]
  },
  {
   "cell_type": "code",
   "execution_count": 160,
   "id": "31f6454d",
   "metadata": {},
   "outputs": [
    {
     "data": {
      "text/plain": [
       "2003-01-09         NaN\n",
       "2003-01-10         NaN\n",
       "2003-01-13         NaN\n",
       "2003-01-14         NaN\n",
       "2003-01-15         NaN\n",
       "2003-01-16    0.009628\n",
       "2003-01-17    0.013818\n",
       "Freq: B, Name: AAPL, dtype: float64"
      ]
     },
     "execution_count": 160,
     "metadata": {},
     "output_type": "execute_result"
    }
   ],
   "source": [
    "std250[5:12]"
   ]
  },
  {
   "cell_type": "code",
   "execution_count": 161,
   "id": "17beb5b3",
   "metadata": {},
   "outputs": [
    {
     "data": {
      "text/plain": [
       "<Axes: >"
      ]
     },
     "execution_count": 161,
     "metadata": {},
     "output_type": "execute_result"
    },
    {
     "data": {
      "image/png": "[encoded data removed]",
      "text/plain": [
       "<Figure size 640x480 with 1 Axes>"
      ]
     },
     "metadata": {},
     "output_type": "display_data"
    }
   ],
   "source": [
    "std250.plot()"
   ]
  },
  {
   "cell_type": "code",
   "execution_count": 162,
   "id": "b83e7b3f",
   "metadata": {},
   "outputs": [],
   "source": [
    "expanding_mean = std250.expanding().mean()"
   ]
  },
  {
   "cell_type": "code",
   "execution_count": 163,
   "id": "d1428e12",
   "metadata": {},
   "outputs": [
    {
     "data": {
      "text/plain": [
       "<Axes: >"
      ]
     },
     "execution_count": 163,
     "metadata": {},
     "output_type": "execute_result"
    },
    {
     "data": {
      "image/png": "[encoded data removed]",
      "text/plain": [
       "<Figure size 800x550 with 1 Axes>"
      ]
     },
     "metadata": {},
     "output_type": "display_data"
    }
   ],
   "source": [
    "plt.style.use('seaborn-v0_8')\n",
    "\n",
    "close_px.rolling(60).mean().plot(logy=True)"
   ]
  },
  {
   "cell_type": "code",
   "execution_count": 164,
   "id": "cb52b797",
   "metadata": {},
   "outputs": [
    {
     "data": {
      "text/html": [
       "<div>\n",
       "<style scoped>\n",
       "    .dataframe tbody tr th:only-of-type {\n",
       "        vertical-align: middle;\n",
       "    }\n",
       "\n",
       "    .dataframe tbody tr th {\n",
       "        vertical-align: top;\n",
       "    }\n",
       "\n",
       "    .dataframe thead th {\n",
       "        text-align: right;\n",
       "    }\n",
       "</style>\n",
       "<table border=\"1\" class=\"dataframe\">\n",
       "  <thead>\n",
       "    <tr style=\"text-align: right;\">\n",
       "      <th></th>\n",
       "      <th>AAPL</th>\n",
       "      <th>MSFT</th>\n",
       "      <th>XOM</th>\n",
       "    </tr>\n",
       "  </thead>\n",
       "  <tbody>\n",
       "    <tr>\n",
       "      <th>2003-01-02</th>\n",
       "      <td>7.400000</td>\n",
       "      <td>21.110000</td>\n",
       "      <td>29.220000</td>\n",
       "    </tr>\n",
       "    <tr>\n",
       "      <th>2003-01-03</th>\n",
       "      <td>7.425000</td>\n",
       "      <td>21.125000</td>\n",
       "      <td>29.230000</td>\n",
       "    </tr>\n",
       "    <tr>\n",
       "      <th>2003-01-06</th>\n",
       "      <td>7.433333</td>\n",
       "      <td>21.256667</td>\n",
       "      <td>29.473333</td>\n",
       "    </tr>\n",
       "    <tr>\n",
       "      <th>2003-01-07</th>\n",
       "      <td>7.432500</td>\n",
       "      <td>21.425000</td>\n",
       "      <td>29.342500</td>\n",
       "    </tr>\n",
       "    <tr>\n",
       "      <th>2003-01-08</th>\n",
       "      <td>7.402000</td>\n",
       "      <td>21.402000</td>\n",
       "      <td>29.240000</td>\n",
       "    </tr>\n",
       "    <tr>\n",
       "      <th>...</th>\n",
       "      <td>...</td>\n",
       "      <td>...</td>\n",
       "      <td>...</td>\n",
       "    </tr>\n",
       "    <tr>\n",
       "      <th>2011-10-10</th>\n",
       "      <td>389.351429</td>\n",
       "      <td>25.602143</td>\n",
       "      <td>72.527857</td>\n",
       "    </tr>\n",
       "    <tr>\n",
       "      <th>2011-10-11</th>\n",
       "      <td>388.505000</td>\n",
       "      <td>25.674286</td>\n",
       "      <td>72.835000</td>\n",
       "    </tr>\n",
       "    <tr>\n",
       "      <th>2011-10-12</th>\n",
       "      <td>388.531429</td>\n",
       "      <td>25.810000</td>\n",
       "      <td>73.400714</td>\n",
       "    </tr>\n",
       "    <tr>\n",
       "      <th>2011-10-13</th>\n",
       "      <td>388.826429</td>\n",
       "      <td>25.961429</td>\n",
       "      <td>73.905000</td>\n",
       "    </tr>\n",
       "    <tr>\n",
       "      <th>2011-10-14</th>\n",
       "      <td>391.038000</td>\n",
       "      <td>26.048667</td>\n",
       "      <td>74.185333</td>\n",
       "    </tr>\n",
       "  </tbody>\n",
       "</table>\n",
       "<p>2292 rows × 3 columns</p>\n",
       "</div>"
      ],
      "text/plain": [
       "                  AAPL       MSFT        XOM\n",
       "2003-01-02    7.400000  21.110000  29.220000\n",
       "2003-01-03    7.425000  21.125000  29.230000\n",
       "2003-01-06    7.433333  21.256667  29.473333\n",
       "2003-01-07    7.432500  21.425000  29.342500\n",
       "2003-01-08    7.402000  21.402000  29.240000\n",
       "...                ...        ...        ...\n",
       "2011-10-10  389.351429  25.602143  72.527857\n",
       "2011-10-11  388.505000  25.674286  72.835000\n",
       "2011-10-12  388.531429  25.810000  73.400714\n",
       "2011-10-13  388.826429  25.961429  73.905000\n",
       "2011-10-14  391.038000  26.048667  74.185333\n",
       "\n",
       "[2292 rows x 3 columns]"
      ]
     },
     "execution_count": 164,
     "metadata": {},
     "output_type": "execute_result"
    }
   ],
   "source": [
    "close_px.rolling('20D').mean()\n",
    "\n",
    "# compute a 20 days rolling mean"
   ]
  },
  {
   "cell_type": "code",
   "execution_count": 165,
   "id": "6d305449",
   "metadata": {},
   "outputs": [],
   "source": [
    "# Exponentially Weighted Functions\n",
    "\n",
    "aapl_px = close_px['AAPL']['2006':'2007']"
   ]
  },
  {
   "cell_type": "code",
   "execution_count": 166,
   "id": "5b1584fe",
   "metadata": {},
   "outputs": [],
   "source": [
    "ma30 = aapl_px.rolling(30, min_periods=20).mean()"
   ]
  },
  {
   "cell_type": "code",
   "execution_count": 167,
   "id": "434cbca4",
   "metadata": {},
   "outputs": [
    {
     "data": {
      "text/plain": [
       "<matplotlib.legend.Legend at 0x16325640050>"
      ]
     },
     "execution_count": 167,
     "metadata": {},
     "output_type": "execute_result"
    },
    {
     "data": {
      "image/png": "[encoded data removed]",
      "text/plain": [
       "<Figure size 800x550 with 1 Axes>"
      ]
     },
     "metadata": {},
     "output_type": "display_data"
    }
   ],
   "source": [
    "ewma30 = aapl_px.ewm(span=30).mean()\n",
    "\n",
    "aapl_px.plot(style='k-', label='Price')\n",
    "\n",
    "ma30.plot(style='k--', label='Simple Moving Avg')\n",
    "\n",
    "ewma30.plot(style='k-', label='EW MA')\n",
    "\n",
    "plt.legend()"
   ]
  },
  {
   "cell_type": "code",
   "execution_count": 168,
   "id": "59279354",
   "metadata": {},
   "outputs": [],
   "source": [
    "# Binary Moving Window Functions\n",
    "\n",
    "spx_px = close_px_all[\"SPX\"]\n",
    "\n",
    "spx_rets = spx_px.pct_change()\n",
    "\n",
    "returns = close_px.pct_change() "
   ]
  },
  {
   "cell_type": "code",
   "execution_count": 169,
   "id": "8518ea04",
   "metadata": {},
   "outputs": [
    {
     "data": {
      "text/plain": [
       "<Axes: >"
      ]
     },
     "execution_count": 169,
     "metadata": {},
     "output_type": "execute_result"
    },
    {
     "data": {
      "image/png": "[encoded data removed]",
      "text/plain": [
       "<Figure size 800x550 with 1 Axes>"
      ]
     },
     "metadata": {},
     "output_type": "display_data"
    }
   ],
   "source": [
    "corr = returns['AAPL'].rolling(125, min_periods=100).corr(spx_rets)\n",
    "\n",
    "corr.plot()"
   ]
  },
  {
   "cell_type": "code",
   "execution_count": 170,
   "id": "acbab2ff",
   "metadata": {},
   "outputs": [],
   "source": [
    "# Some statistical operators, like corrlaton and covariance need to \n",
    "# operate on two time series.\n",
    "# As an example, financial analysts are often interested in \n",
    "# a stock correlation to a benchmark index like the S&P 500.\n",
    "\n",
    "# Suppose you wanted to compute the rolling correlation of \n",
    "# the S&P 500 index with many stocks at once\n"
   ]
  },
  {
   "cell_type": "code",
   "execution_count": 171,
   "id": "c22eee76",
   "metadata": {},
   "outputs": [],
   "source": [
    "# User-Defined Moving Window Functions\n",
    "\n",
    "from scipy.stats import percentileofscore"
   ]
  },
  {
   "cell_type": "code",
   "execution_count": 172,
   "id": "5460befc",
   "metadata": {},
   "outputs": [],
   "source": [
    "def score_at_2percent(x):\n",
    "    return percentileofscore(x, 0.02)\n",
    "\n",
    "result = returns['AAPL'].rolling(250).apply(score_at_2percent)"
   ]
  },
  {
   "cell_type": "code",
   "execution_count": 173,
   "id": "b9c7b824",
   "metadata": {},
   "outputs": [
    {
     "data": {
      "text/plain": [
       "<Axes: >"
      ]
     },
     "execution_count": 173,
     "metadata": {},
     "output_type": "execute_result"
    },
    {
     "data": {
      "image/png": "[encoded data removed]",
      "text/plain": [
       "<Figure size 800x550 with 1 Axes>"
      ]
     },
     "metadata": {},
     "output_type": "display_data"
    }
   ],
   "source": [
    "result.plot()"
   ]
  },
  {
   "cell_type": "code",
   "execution_count": 174,
   "id": "af785b2f",
   "metadata": {},
   "outputs": [],
   "source": [
    "# 11.8 Conclusion\n",
    "\n",
    "# Time series data calls for different types of analysis and data transformation tools \n",
    "# than the other types of data we have explored in previous chapters.\n",
    "\n",
    "# In the following chapter, we will show how to start \n",
    "# using modeling libraries like statsmodels and scikit-learn"
   ]
  }
 ],
 "metadata": {
  "kernelspec": {
   "display_name": "eienv (Python 3.12)",
   "language": "python",
   "name": "eienv"
  },
  "language_info": {
   "codemirror_mode": {
    "name": "ipython",
    "version": 3
   },
   "file_extension": ".py",
   "mimetype": "text/x-python",
   "name": "python",
   "nbconvert_exporter": "python",
   "pygments_lexer": "ipython3",
   "version": "3.12.0"
  }
 },
 "nbformat": 4,
 "nbformat_minor": 5
}
