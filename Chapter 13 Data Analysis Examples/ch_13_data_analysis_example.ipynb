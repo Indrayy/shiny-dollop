{
 "cells": [
  {
   "cell_type": "code",
   "execution_count": 1,
   "id": "e0aaaa7b",
   "metadata": {},
   "outputs": [],
   "source": [
    "# Chapter 13 \n",
    "\n",
    "# Data Analysis Examples"
   ]
  },
  {
   "cell_type": "code",
   "execution_count": 2,
   "id": "e2cfb539",
   "metadata": {},
   "outputs": [],
   "source": [
    "import numpy as np\n",
    "import seaborn as sns\n",
    "import matplotlib.pyplot as plt\n",
    "import pandas as pd\n",
    "import sklearn as sk"
   ]
  },
  {
   "cell_type": "code",
   "execution_count": 3,
   "id": "80a494b3",
   "metadata": {},
   "outputs": [
    {
     "name": "stdout",
     "output_type": "stream",
     "text": [
      "{ \"a\": \"Mozilla\\/5.0 (Windows NT 6.1; WOW64) AppleWebKit\\/535.11 (KHTML, like Gecko) Chrome\\/17.0.963.78 Safari\\/535.11\", \"c\": \"US\", \"nk\": 1, \"tz\": \"America\\/New_York\", \"gr\": \"MA\", \"g\": \"A6qOVH\", \"h\": \"wfLQtf\", \"l\": \"orofrog\", \"al\": \"en-US,en;q=0.8\", \"hh\": \"1.usa.gov\", \"r\": \"http:\\/\\/www.facebook.com\\/l\\/7AQEFzjSi\\/1.usa.gov\\/wfLQtf\", \"u\": \"http:\\/\\/www.ncbi.nlm.nih.gov\\/pubmed\\/22415991\", \"t\": 1331923247, \"hc\": 1331822918, \"cy\": \"Danvers\", \"ll\": [ 42.576698, -70.954903 ] }\n",
      "\n"
     ]
    }
   ],
   "source": [
    "# https://github.com/Emaasit/pydata-book/blob/master/datasets/bitly_usagov/example.txt\n",
    "\n",
    "# Bitly Data from 1.USA.gov\n",
    "\n",
    "path = \"example.txt\"\n",
    "\n",
    "with open(path) as f:\n",
    "    print(f.readline())\n"
   ]
  },
  {
   "cell_type": "code",
   "execution_count": 4,
   "id": "00c4aae6",
   "metadata": {},
   "outputs": [
    {
     "data": {
      "text/plain": [
       "{'a': 'Mozilla/5.0 (Windows NT 5.1) AppleWebKit/535.11 (KHTML, like Gecko) Chrome/17.0.963.79 Safari/535.11',\n",
       " 'c': 'PL',\n",
       " 'nk': 0,\n",
       " 'tz': 'Europe/Warsaw',\n",
       " 'gr': '77',\n",
       " 'g': 'wcndER',\n",
       " 'h': 'zkpJBR',\n",
       " 'l': 'bnjacobs',\n",
       " 'al': 'pl-PL,pl;q=0.8,en-US;q=0.6,en;q=0.4',\n",
       " 'hh': '1.usa.gov',\n",
       " 'r': 'http://plus.url.google.com/url?sa=z&n=1331923253510&url=http%3A%2F%2F1.usa.gov%2FzkpJBR&usg=TF5iGSqK1_GSADtHqTqjuUZyMIY.',\n",
       " 'u': 'http://www.nasa.gov/mission_pages/nustar/main/index.html',\n",
       " 't': 1331923255,\n",
       " 'hc': 1331922854,\n",
       " 'cy': 'Luban',\n",
       " 'll': [51.116699, 15.2833]}"
      ]
     },
     "execution_count": 4,
     "metadata": {},
     "output_type": "execute_result"
    }
   ],
   "source": [
    "import json \n",
    "\n",
    "with open(path) as f:\n",
    "    records = [json.loads(line) for line in f]\n",
    "\n",
    "records[6]\n"
   ]
  },
  {
   "cell_type": "code",
   "execution_count": 5,
   "id": "16747014",
   "metadata": {},
   "outputs": [
    {
     "data": {
      "text/plain": [
       "['America/New_York',\n",
       " 'America/Denver',\n",
       " 'America/New_York',\n",
       " 'America/Sao_Paulo',\n",
       " 'America/New_York',\n",
       " 'America/New_York',\n",
       " 'Europe/Warsaw',\n",
       " '',\n",
       " '',\n",
       " '']"
      ]
     },
     "execution_count": 5,
     "metadata": {},
     "output_type": "execute_result"
    }
   ],
   "source": [
    "time_zones = [rec['tz'] for rec in records if 'tz' in rec]\n",
    "\n",
    "time_zones[:10]"
   ]
  },
  {
   "cell_type": "code",
   "execution_count": 6,
   "id": "854b2703",
   "metadata": {},
   "outputs": [],
   "source": [
    "def get_counts(sequence):\n",
    "    counts = {}\n",
    "    for x in sequence:\n",
    "        if x in counts:\n",
    "            counts[x] += 1\n",
    "        else:\n",
    "            counts[x] = 1\n",
    "    return counts"
   ]
  },
  {
   "cell_type": "code",
   "execution_count": 7,
   "id": "72c8269c",
   "metadata": {},
   "outputs": [],
   "source": [
    "def get_counts1(sequence):\n",
    "    counts = {}\n",
    "    for x in sequence:\n",
    "        counts[x] = counts.get(x, 0) + 1\n",
    "    return counts\n"
   ]
  },
  {
   "cell_type": "code",
   "execution_count": 8,
   "id": "87abe470",
   "metadata": {},
   "outputs": [],
   "source": [
    "from collections import defaultdict\n",
    "\n",
    "def get_counts2(sequence):\n",
    "    counts = defaultdict(int)  # Initialize with int to default to 0\n",
    "    for x in sequence:\n",
    "        counts[x] += 1\n",
    "    return counts\n"
   ]
  },
  {
   "cell_type": "code",
   "execution_count": 9,
   "id": "70b553ca",
   "metadata": {},
   "outputs": [
    {
     "name": "stdout",
     "output_type": "stream",
     "text": [
      "[('America/New_York', 1251), ('', 521), ('America/Chicago', 400), ('America/Los_Angeles', 382), ('America/Denver', 191), ('Europe/London', 74), ('Asia/Tokyo', 37), ('Pacific/Honolulu', 36), ('Europe/Madrid', 35), ('America/Sao_Paulo', 33)]\n"
     ]
    }
   ],
   "source": [
    "from collections import Counter\n",
    "\n",
    "counts = get_counts(time_zones)\n",
    "\n",
    "top_10 = Counter(counts).most_common(10)\n",
    "print(top_10)"
   ]
  },
  {
   "cell_type": "code",
   "execution_count": 10,
   "id": "7ce539f4",
   "metadata": {},
   "outputs": [
    {
     "data": {
      "text/plain": [
       "1251"
      ]
     },
     "execution_count": 10,
     "metadata": {},
     "output_type": "execute_result"
    }
   ],
   "source": [
    "counts['America/New_York']"
   ]
  },
  {
   "cell_type": "code",
   "execution_count": 11,
   "id": "6dde86b8",
   "metadata": {},
   "outputs": [
    {
     "data": {
      "text/plain": [
       "3440"
      ]
     },
     "execution_count": 11,
     "metadata": {},
     "output_type": "execute_result"
    }
   ],
   "source": [
    "len(time_zones)"
   ]
  },
  {
   "cell_type": "code",
   "execution_count": 12,
   "id": "75ad70aa",
   "metadata": {},
   "outputs": [
    {
     "name": "stdout",
     "output_type": "stream",
     "text": [
      "[('America/New_York', 1251), ('', 521), ('America/Chicago', 400), ('America/Los_Angeles', 382), ('America/Denver', 191), ('Europe/London', 74), ('Asia/Tokyo', 37), ('Pacific/Honolulu', 36), ('Europe/Madrid', 35), ('America/Sao_Paulo', 33)]\n"
     ]
    }
   ],
   "source": [
    "counts1 = get_counts1(time_zones)\n",
    "top_10_1 = Counter(counts1).most_common(10)\n",
    "print(top_10_1)"
   ]
  },
  {
   "cell_type": "code",
   "execution_count": 13,
   "id": "0232cb99",
   "metadata": {},
   "outputs": [
    {
     "data": {
      "text/plain": [
       "[(1251, 'America/New_York'),\n",
       " (521, ''),\n",
       " (400, 'America/Chicago'),\n",
       " (382, 'America/Los_Angeles'),\n",
       " (191, 'America/Denver'),\n",
       " (74, 'Europe/London'),\n",
       " (37, 'Asia/Tokyo'),\n",
       " (36, 'Pacific/Honolulu'),\n",
       " (35, 'Europe/Madrid'),\n",
       " (33, 'America/Sao_Paulo')]"
      ]
     },
     "execution_count": 13,
     "metadata": {},
     "output_type": "execute_result"
    }
   ],
   "source": [
    "def top_counts(count_dict, n=10):\n",
    "    value_key_pairs = [(count, tz) for tz, count in count_dict.items()]\n",
    "    value_key_pairs.sort(reverse=True)\n",
    "    return value_key_pairs[:n]\n",
    "\n",
    "top_counts(counts)"
   ]
  },
  {
   "cell_type": "code",
   "execution_count": 14,
   "id": "2f2269e0",
   "metadata": {},
   "outputs": [
    {
     "data": {
      "text/plain": [
       "[(1251, 'America/New_York'),\n",
       " (521, ''),\n",
       " (400, 'America/Chicago'),\n",
       " (382, 'America/Los_Angeles'),\n",
       " (191, 'America/Denver'),\n",
       " (74, 'Europe/London'),\n",
       " (37, 'Asia/Tokyo'),\n",
       " (36, 'Pacific/Honolulu'),\n",
       " (35, 'Europe/Madrid'),\n",
       " (33, 'America/Sao_Paulo')]"
      ]
     },
     "execution_count": 14,
     "metadata": {},
     "output_type": "execute_result"
    }
   ],
   "source": [
    "top_counts(counts1)"
   ]
  },
  {
   "cell_type": "code",
   "execution_count": 15,
   "id": "9269fedd",
   "metadata": {},
   "outputs": [
    {
     "data": {
      "text/plain": [
       "[('America/New_York', 1251),\n",
       " ('', 521),\n",
       " ('America/Chicago', 400),\n",
       " ('America/Los_Angeles', 382),\n",
       " ('America/Denver', 191),\n",
       " ('Europe/London', 74),\n",
       " ('Asia/Tokyo', 37),\n",
       " ('Pacific/Honolulu', 36),\n",
       " ('Europe/Madrid', 35),\n",
       " ('America/Sao_Paulo', 33)]"
      ]
     },
     "execution_count": 15,
     "metadata": {},
     "output_type": "execute_result"
    }
   ],
   "source": [
    "counts = Counter(time_zones)\n",
    "\n",
    "counts.most_common(10)"
   ]
  },
  {
   "cell_type": "code",
   "execution_count": 16,
   "id": "452e2ca9",
   "metadata": {},
   "outputs": [],
   "source": [
    "# Counting Time Zones with Pandas\n",
    "# you can create a dataframe from the original set of records \n",
    "# by passing the list of records to pandas.Dataframe\n"
   ]
  },
  {
   "cell_type": "code",
   "execution_count": 17,
   "id": "882f85bb",
   "metadata": {},
   "outputs": [
    {
     "name": "stdout",
     "output_type": "stream",
     "text": [
      "<class 'pandas.core.frame.DataFrame'>\n",
      "RangeIndex: 3560 entries, 0 to 3559\n",
      "Data columns (total 18 columns):\n",
      " #   Column       Non-Null Count  Dtype  \n",
      "---  ------       --------------  -----  \n",
      " 0   a            3440 non-null   object \n",
      " 1   c            2919 non-null   object \n",
      " 2   nk           3440 non-null   float64\n",
      " 3   tz           3440 non-null   object \n",
      " 4   gr           2919 non-null   object \n",
      " 5   g            3440 non-null   object \n",
      " 6   h            3440 non-null   object \n",
      " 7   l            3440 non-null   object \n",
      " 8   al           3094 non-null   object \n",
      " 9   hh           3440 non-null   object \n",
      " 10  r            3440 non-null   object \n",
      " 11  u            3440 non-null   object \n",
      " 12  t            3440 non-null   float64\n",
      " 13  hc           3440 non-null   float64\n",
      " 14  cy           2919 non-null   object \n",
      " 15  ll           2919 non-null   object \n",
      " 16  _heartbeat_  120 non-null    float64\n",
      " 17  kw           93 non-null     object \n",
      "dtypes: float64(4), object(14)\n",
      "memory usage: 500.8+ KB\n"
     ]
    }
   ],
   "source": [
    "frame = pd.DataFrame(records)\n",
    "\n",
    "frame.info()"
   ]
  },
  {
   "cell_type": "code",
   "execution_count": 18,
   "id": "c51dcd04",
   "metadata": {},
   "outputs": [
    {
     "data": {
      "text/plain": [
       "0     America/New_York\n",
       "1       America/Denver\n",
       "2     America/New_York\n",
       "3    America/Sao_Paulo\n",
       "4     America/New_York\n",
       "Name: tz, dtype: object"
      ]
     },
     "execution_count": 18,
     "metadata": {},
     "output_type": "execute_result"
    }
   ],
   "source": [
    "frame[\"tz\"].head()"
   ]
  },
  {
   "cell_type": "code",
   "execution_count": 19,
   "id": "f729b22b",
   "metadata": {},
   "outputs": [
    {
     "data": {
      "text/plain": [
       "tz\n",
       "America/New_York       1251\n",
       "                        521\n",
       "America/Chicago         400\n",
       "America/Los_Angeles     382\n",
       "America/Denver          191\n",
       "Europe/London            74\n",
       "Asia/Tokyo               37\n",
       "Pacific/Honolulu         36\n",
       "Europe/Madrid            35\n",
       "America/Sao_Paulo        33\n",
       "Name: count, dtype: int64"
      ]
     },
     "execution_count": 19,
     "metadata": {},
     "output_type": "execute_result"
    }
   ],
   "source": [
    "tz_counts = frame['tz'].value_counts()\n",
    "\n",
    "tz_counts[:10]"
   ]
  },
  {
   "cell_type": "code",
   "execution_count": 20,
   "id": "68a190fe",
   "metadata": {},
   "outputs": [
    {
     "data": {
      "text/plain": [
       "<Axes: ylabel='tz'>"
      ]
     },
     "execution_count": 20,
     "metadata": {},
     "output_type": "execute_result"
    },
    {
     "data": {
      "image/png": "[encoded data removed]",
      "text/plain": [
       "<Figure size 640x480 with 1 Axes>"
      ]
     },
     "metadata": {},
     "output_type": "display_data"
    }
   ],
   "source": [
    "subset = tz_counts[:10]\n",
    "\n",
    "sns.barplot(y=subset.index, x=subset.to_numpy())"
   ]
  },
  {
   "cell_type": "code",
   "execution_count": 21,
   "id": "c16bdf5d",
   "metadata": {},
   "outputs": [
    {
     "data": {
      "text/plain": [
       "'GoogleMaps/RochesterNY'"
      ]
     },
     "execution_count": 21,
     "metadata": {},
     "output_type": "execute_result"
    }
   ],
   "source": [
    "frame['a'][1]"
   ]
  },
  {
   "cell_type": "code",
   "execution_count": 22,
   "id": "4942f9bd",
   "metadata": {},
   "outputs": [
    {
     "data": {
      "text/plain": [
       "'Mozilla/5.0 (Windows NT 5.1; rv:10.0.2) Gecko/20100101 Firefox/10.0.2'"
      ]
     },
     "execution_count": 22,
     "metadata": {},
     "output_type": "execute_result"
    }
   ],
   "source": [
    "frame['a'][50]"
   ]
  },
  {
   "cell_type": "code",
   "execution_count": 23,
   "id": "e47e3d82",
   "metadata": {},
   "outputs": [
    {
     "data": {
      "text/plain": [
       "'Mozilla/5.0 (Linux; U; Android 2.2.2; en-us; LG-P9'"
      ]
     },
     "execution_count": 23,
     "metadata": {},
     "output_type": "execute_result"
    }
   ],
   "source": [
    "frame['a'][51][:50]"
   ]
  },
  {
   "cell_type": "code",
   "execution_count": 24,
   "id": "c2a8ff03",
   "metadata": {},
   "outputs": [
    {
     "data": {
      "text/plain": [
       "0               Mozilla/5.0\n",
       "1    GoogleMaps/RochesterNY\n",
       "2               Mozilla/4.0\n",
       "3               Mozilla/5.0\n",
       "4               Mozilla/5.0\n",
       "dtype: object"
      ]
     },
     "execution_count": 24,
     "metadata": {},
     "output_type": "execute_result"
    }
   ],
   "source": [
    "results = pd.Series([x.split()[0] for x in frame.a.dropna()])\n",
    "\n",
    "results.head()"
   ]
  },
  {
   "cell_type": "code",
   "execution_count": 25,
   "id": "ad5705c0",
   "metadata": {},
   "outputs": [
    {
     "data": {
      "text/plain": [
       "Mozilla/5.0                 2594\n",
       "Mozilla/4.0                  601\n",
       "GoogleMaps/RochesterNY       121\n",
       "Opera/9.80                    34\n",
       "TEST_INTERNET_AGENT           24\n",
       "GoogleProducer                21\n",
       "Mozilla/6.0                    5\n",
       "BlackBerry8520/5.0.0.681       4\n",
       "Name: count, dtype: int64"
      ]
     },
     "execution_count": 25,
     "metadata": {},
     "output_type": "execute_result"
    }
   ],
   "source": [
    "results.value_counts().head(8)"
   ]
  },
  {
   "cell_type": "code",
   "execution_count": 26,
   "id": "2a9f870a",
   "metadata": {},
   "outputs": [],
   "source": [
    "cframe = frame[frame.a.notnull()].copy()\n",
    "\n",
    "# Suppose you want to decompose the top time zones into \n",
    "# Windows and non-Windows users.\n"
   ]
  },
  {
   "cell_type": "code",
   "execution_count": 27,
   "id": "cb495607",
   "metadata": {},
   "outputs": [],
   "source": [
    "cframe['os'] = np.where(cframe['a'].\n",
    "                        str.contains('Windows'), 'Windows', 'Non-Windows')"
   ]
  },
  {
   "cell_type": "code",
   "execution_count": 28,
   "id": "2a2ec5f9",
   "metadata": {},
   "outputs": [
    {
     "data": {
      "text/plain": [
       "0        Windows\n",
       "1    Non-Windows\n",
       "2        Windows\n",
       "3    Non-Windows\n",
       "4        Windows\n",
       "Name: os, dtype: object"
      ]
     },
     "execution_count": 28,
     "metadata": {},
     "output_type": "execute_result"
    }
   ],
   "source": [
    "cframe['os'].head(5)\n"
   ]
  },
  {
   "cell_type": "code",
   "execution_count": 29,
   "id": "5318de3e",
   "metadata": {},
   "outputs": [],
   "source": [
    "by_tz_os = cframe.groupby(['tz', 'os'])\n",
    "\n",
    "agg_counts = by_tz_os.size().unstack().fillna(0)\n",
    "\n",
    "# grouping the data by its time zone column and \n",
    "# this new list of operating systems\n",
    "\n",
    "# The group counts, analogous to a contingency table, can be visualized\n",
    "# to the value_counts function, can be computed with size"
   ]
  },
  {
   "cell_type": "code",
   "execution_count": 30,
   "id": "8b125ccc",
   "metadata": {},
   "outputs": [
    {
     "data": {
      "text/html": [
       "<div>\n",
       "<style scoped>\n",
       "    .dataframe tbody tr th:only-of-type {\n",
       "        vertical-align: middle;\n",
       "    }\n",
       "\n",
       "    .dataframe tbody tr th {\n",
       "        vertical-align: top;\n",
       "    }\n",
       "\n",
       "    .dataframe thead th {\n",
       "        text-align: right;\n",
       "    }\n",
       "</style>\n",
       "<table border=\"1\" class=\"dataframe\">\n",
       "  <thead>\n",
       "    <tr style=\"text-align: right;\">\n",
       "      <th>os</th>\n",
       "      <th>Non-Windows</th>\n",
       "      <th>Windows</th>\n",
       "    </tr>\n",
       "    <tr>\n",
       "      <th>tz</th>\n",
       "      <th></th>\n",
       "      <th></th>\n",
       "    </tr>\n",
       "  </thead>\n",
       "  <tbody>\n",
       "    <tr>\n",
       "      <th></th>\n",
       "      <td>245.0</td>\n",
       "      <td>276.0</td>\n",
       "    </tr>\n",
       "    <tr>\n",
       "      <th>Africa/Cairo</th>\n",
       "      <td>0.0</td>\n",
       "      <td>3.0</td>\n",
       "    </tr>\n",
       "    <tr>\n",
       "      <th>Africa/Casablanca</th>\n",
       "      <td>0.0</td>\n",
       "      <td>1.0</td>\n",
       "    </tr>\n",
       "    <tr>\n",
       "      <th>Africa/Ceuta</th>\n",
       "      <td>0.0</td>\n",
       "      <td>2.0</td>\n",
       "    </tr>\n",
       "    <tr>\n",
       "      <th>Africa/Johannesburg</th>\n",
       "      <td>0.0</td>\n",
       "      <td>1.0</td>\n",
       "    </tr>\n",
       "    <tr>\n",
       "      <th>Africa/Lusaka</th>\n",
       "      <td>0.0</td>\n",
       "      <td>1.0</td>\n",
       "    </tr>\n",
       "    <tr>\n",
       "      <th>America/Anchorage</th>\n",
       "      <td>4.0</td>\n",
       "      <td>1.0</td>\n",
       "    </tr>\n",
       "    <tr>\n",
       "      <th>America/Argentina/Buenos_Aires</th>\n",
       "      <td>1.0</td>\n",
       "      <td>0.0</td>\n",
       "    </tr>\n",
       "    <tr>\n",
       "      <th>America/Argentina/Cordoba</th>\n",
       "      <td>0.0</td>\n",
       "      <td>1.0</td>\n",
       "    </tr>\n",
       "    <tr>\n",
       "      <th>America/Argentina/Mendoza</th>\n",
       "      <td>0.0</td>\n",
       "      <td>1.0</td>\n",
       "    </tr>\n",
       "  </tbody>\n",
       "</table>\n",
       "</div>"
      ],
      "text/plain": [
       "os                              Non-Windows  Windows\n",
       "tz                                                  \n",
       "                                      245.0    276.0\n",
       "Africa/Cairo                            0.0      3.0\n",
       "Africa/Casablanca                       0.0      1.0\n",
       "Africa/Ceuta                            0.0      2.0\n",
       "Africa/Johannesburg                     0.0      1.0\n",
       "Africa/Lusaka                           0.0      1.0\n",
       "America/Anchorage                       4.0      1.0\n",
       "America/Argentina/Buenos_Aires          1.0      0.0\n",
       "America/Argentina/Cordoba               0.0      1.0\n",
       "America/Argentina/Mendoza               0.0      1.0"
      ]
     },
     "execution_count": 30,
     "metadata": {},
     "output_type": "execute_result"
    }
   ],
   "source": [
    "agg_counts[:10]"
   ]
  },
  {
   "cell_type": "code",
   "execution_count": 31,
   "id": "e0ec439f",
   "metadata": {},
   "outputs": [
    {
     "data": {
      "text/plain": [
       "array([ 2,  7,  5,  4, 14, 11,  9,  8, 24, 26])"
      ]
     },
     "execution_count": 31,
     "metadata": {},
     "output_type": "execute_result"
    }
   ],
   "source": [
    "indexer = agg_counts.sum(axis=1).argsort()\n",
    "\n",
    "indexer.values[:10]"
   ]
  },
  {
   "cell_type": "code",
   "execution_count": 32,
   "id": "2eb2a8f5",
   "metadata": {},
   "outputs": [
    {
     "data": {
      "text/html": [
       "<div>\n",
       "<style scoped>\n",
       "    .dataframe tbody tr th:only-of-type {\n",
       "        vertical-align: middle;\n",
       "    }\n",
       "\n",
       "    .dataframe tbody tr th {\n",
       "        vertical-align: top;\n",
       "    }\n",
       "\n",
       "    .dataframe thead th {\n",
       "        text-align: right;\n",
       "    }\n",
       "</style>\n",
       "<table border=\"1\" class=\"dataframe\">\n",
       "  <thead>\n",
       "    <tr style=\"text-align: right;\">\n",
       "      <th>os</th>\n",
       "      <th>Non-Windows</th>\n",
       "      <th>Windows</th>\n",
       "    </tr>\n",
       "    <tr>\n",
       "      <th>tz</th>\n",
       "      <th></th>\n",
       "      <th></th>\n",
       "    </tr>\n",
       "  </thead>\n",
       "  <tbody>\n",
       "    <tr>\n",
       "      <th>America/Sao_Paulo</th>\n",
       "      <td>13.0</td>\n",
       "      <td>20.0</td>\n",
       "    </tr>\n",
       "    <tr>\n",
       "      <th>Europe/Madrid</th>\n",
       "      <td>16.0</td>\n",
       "      <td>19.0</td>\n",
       "    </tr>\n",
       "    <tr>\n",
       "      <th>Pacific/Honolulu</th>\n",
       "      <td>0.0</td>\n",
       "      <td>36.0</td>\n",
       "    </tr>\n",
       "    <tr>\n",
       "      <th>Asia/Tokyo</th>\n",
       "      <td>2.0</td>\n",
       "      <td>35.0</td>\n",
       "    </tr>\n",
       "    <tr>\n",
       "      <th>Europe/London</th>\n",
       "      <td>43.0</td>\n",
       "      <td>31.0</td>\n",
       "    </tr>\n",
       "    <tr>\n",
       "      <th>America/Denver</th>\n",
       "      <td>132.0</td>\n",
       "      <td>59.0</td>\n",
       "    </tr>\n",
       "    <tr>\n",
       "      <th>America/Los_Angeles</th>\n",
       "      <td>130.0</td>\n",
       "      <td>252.0</td>\n",
       "    </tr>\n",
       "    <tr>\n",
       "      <th>America/Chicago</th>\n",
       "      <td>115.0</td>\n",
       "      <td>285.0</td>\n",
       "    </tr>\n",
       "    <tr>\n",
       "      <th></th>\n",
       "      <td>245.0</td>\n",
       "      <td>276.0</td>\n",
       "    </tr>\n",
       "    <tr>\n",
       "      <th>America/New_York</th>\n",
       "      <td>339.0</td>\n",
       "      <td>912.0</td>\n",
       "    </tr>\n",
       "  </tbody>\n",
       "</table>\n",
       "</div>"
      ],
      "text/plain": [
       "os                   Non-Windows  Windows\n",
       "tz                                       \n",
       "America/Sao_Paulo           13.0     20.0\n",
       "Europe/Madrid               16.0     19.0\n",
       "Pacific/Honolulu             0.0     36.0\n",
       "Asia/Tokyo                   2.0     35.0\n",
       "Europe/London               43.0     31.0\n",
       "America/Denver             132.0     59.0\n",
       "America/Los_Angeles        130.0    252.0\n",
       "America/Chicago            115.0    285.0\n",
       "                           245.0    276.0\n",
       "America/New_York           339.0    912.0"
      ]
     },
     "execution_count": 32,
     "metadata": {},
     "output_type": "execute_result"
    }
   ],
   "source": [
    "count_subset = agg_counts.take(indexer.values[-10:])\n",
    "count_subset \n",
    "\n",
    "# slices off the last 10 or '[-10:]' rows (largest values)"
   ]
  },
  {
   "cell_type": "code",
   "execution_count": 33,
   "id": "22b49f38",
   "metadata": {},
   "outputs": [
    {
     "data": {
      "text/plain": [
       "tz\n",
       "America/New_York       1251.0\n",
       "                        521.0\n",
       "America/Chicago         400.0\n",
       "America/Los_Angeles     382.0\n",
       "America/Denver          191.0\n",
       "Europe/London            74.0\n",
       "Asia/Tokyo               37.0\n",
       "Pacific/Honolulu         36.0\n",
       "Europe/Madrid            35.0\n",
       "America/Sao_Paulo        33.0\n",
       "dtype: float64"
      ]
     },
     "execution_count": 33,
     "metadata": {},
     "output_type": "execute_result"
    }
   ],
   "source": [
    "agg_counts.sum(axis='columns').nlargest(10)\n",
    "\n",
    "# pandas has a convenience method called nlargest to call those"
   ]
  },
  {
   "cell_type": "code",
   "execution_count": 34,
   "id": "2b70db97",
   "metadata": {},
   "outputs": [],
   "source": [
    "count_subset = count_subset.stack()\n",
    "\n",
    "count_subset.name = 'total'\n",
    "\n",
    "count_subset = count_subset.reset_index()"
   ]
  },
  {
   "cell_type": "code",
   "execution_count": 35,
   "id": "b6d680e9",
   "metadata": {},
   "outputs": [
    {
     "data": {
      "text/html": [
       "<div>\n",
       "<style scoped>\n",
       "    .dataframe tbody tr th:only-of-type {\n",
       "        vertical-align: middle;\n",
       "    }\n",
       "\n",
       "    .dataframe tbody tr th {\n",
       "        vertical-align: top;\n",
       "    }\n",
       "\n",
       "    .dataframe thead th {\n",
       "        text-align: right;\n",
       "    }\n",
       "</style>\n",
       "<table border=\"1\" class=\"dataframe\">\n",
       "  <thead>\n",
       "    <tr style=\"text-align: right;\">\n",
       "      <th></th>\n",
       "      <th>tz</th>\n",
       "      <th>os</th>\n",
       "      <th>total</th>\n",
       "    </tr>\n",
       "  </thead>\n",
       "  <tbody>\n",
       "    <tr>\n",
       "      <th>0</th>\n",
       "      <td>America/Sao_Paulo</td>\n",
       "      <td>Non-Windows</td>\n",
       "      <td>13.0</td>\n",
       "    </tr>\n",
       "    <tr>\n",
       "      <th>1</th>\n",
       "      <td>America/Sao_Paulo</td>\n",
       "      <td>Windows</td>\n",
       "      <td>20.0</td>\n",
       "    </tr>\n",
       "    <tr>\n",
       "      <th>2</th>\n",
       "      <td>Europe/Madrid</td>\n",
       "      <td>Non-Windows</td>\n",
       "      <td>16.0</td>\n",
       "    </tr>\n",
       "    <tr>\n",
       "      <th>3</th>\n",
       "      <td>Europe/Madrid</td>\n",
       "      <td>Windows</td>\n",
       "      <td>19.0</td>\n",
       "    </tr>\n",
       "    <tr>\n",
       "      <th>4</th>\n",
       "      <td>Pacific/Honolulu</td>\n",
       "      <td>Non-Windows</td>\n",
       "      <td>0.0</td>\n",
       "    </tr>\n",
       "    <tr>\n",
       "      <th>5</th>\n",
       "      <td>Pacific/Honolulu</td>\n",
       "      <td>Windows</td>\n",
       "      <td>36.0</td>\n",
       "    </tr>\n",
       "    <tr>\n",
       "      <th>6</th>\n",
       "      <td>Asia/Tokyo</td>\n",
       "      <td>Non-Windows</td>\n",
       "      <td>2.0</td>\n",
       "    </tr>\n",
       "    <tr>\n",
       "      <th>7</th>\n",
       "      <td>Asia/Tokyo</td>\n",
       "      <td>Windows</td>\n",
       "      <td>35.0</td>\n",
       "    </tr>\n",
       "    <tr>\n",
       "      <th>8</th>\n",
       "      <td>Europe/London</td>\n",
       "      <td>Non-Windows</td>\n",
       "      <td>43.0</td>\n",
       "    </tr>\n",
       "    <tr>\n",
       "      <th>9</th>\n",
       "      <td>Europe/London</td>\n",
       "      <td>Windows</td>\n",
       "      <td>31.0</td>\n",
       "    </tr>\n",
       "  </tbody>\n",
       "</table>\n",
       "</div>"
      ],
      "text/plain": [
       "                  tz           os  total\n",
       "0  America/Sao_Paulo  Non-Windows   13.0\n",
       "1  America/Sao_Paulo      Windows   20.0\n",
       "2      Europe/Madrid  Non-Windows   16.0\n",
       "3      Europe/Madrid      Windows   19.0\n",
       "4   Pacific/Honolulu  Non-Windows    0.0\n",
       "5   Pacific/Honolulu      Windows   36.0\n",
       "6         Asia/Tokyo  Non-Windows    2.0\n",
       "7         Asia/Tokyo      Windows   35.0\n",
       "8      Europe/London  Non-Windows   43.0\n",
       "9      Europe/London      Windows   31.0"
      ]
     },
     "execution_count": 35,
     "metadata": {},
     "output_type": "execute_result"
    }
   ],
   "source": [
    "count_subset.head(10)"
   ]
  },
  {
   "cell_type": "code",
   "execution_count": 36,
   "id": "454b6bef",
   "metadata": {},
   "outputs": [
    {
     "data": {
      "text/plain": [
       "<Axes: xlabel='total', ylabel='tz'>"
      ]
     },
     "execution_count": 36,
     "metadata": {},
     "output_type": "execute_result"
    },
    {
     "data": {
      "image/png": "[encoded data removed]",
      "text/plain": [
       "<Figure size 640x480 with 1 Axes>"
      ]
     },
     "metadata": {},
     "output_type": "display_data"
    }
   ],
   "source": [
    "sns.barplot(x='total', y='tz', hue='os', data=count_subset)\n"
   ]
  },
  {
   "cell_type": "code",
   "execution_count": 37,
   "id": "93d55ec2",
   "metadata": {},
   "outputs": [
    {
     "name": "stderr",
     "output_type": "stream",
     "text": [
      "C:\\Users\\NITRO\\AppData\\Local\\Temp\\ipykernel_21940\\2216811166.py:5: DeprecationWarning: DataFrameGroupBy.apply operated on the grouping columns. This behavior is deprecated, and in a future version of pandas the grouping columns will be excluded from the operation. Either pass `include_groups=False` to exclude the groupings or explicitly select the grouping columns after groupby to silence this warning.\n",
      "  results = count_subset.groupby('tz').apply(norm_total)\n"
     ]
    }
   ],
   "source": [
    "def norm_total(group):\n",
    "    group['normed_total'] = group.total / group.total.sum()\n",
    "    return group\n",
    "\n",
    "results = count_subset.groupby('tz').apply(norm_total)\n",
    "\n",
    "# it is a bit difficult to see the relative percentages with the current plot\n"
   ]
  },
  {
   "cell_type": "code",
   "execution_count": 38,
   "id": "58757e11",
   "metadata": {},
   "outputs": [
    {
     "data": {
      "text/plain": [
       "<Axes: xlabel='normed_total', ylabel='tz'>"
      ]
     },
     "execution_count": 38,
     "metadata": {},
     "output_type": "execute_result"
    },
    {
     "data": {
      "image/png": "[encoded data removed]",
      "text/plain": [
       "<Figure size 640x480 with 1 Axes>"
      ]
     },
     "metadata": {},
     "output_type": "display_data"
    }
   ],
   "source": [
    "sns.barplot(x='normed_total', y='tz', hue='os', data=results)"
   ]
  },
  {
   "cell_type": "code",
   "execution_count": 39,
   "id": "d7dd2746",
   "metadata": {},
   "outputs": [],
   "source": [
    "g = count_subset.groupby('tz') \n",
    "\n",
    "results2 = count_subset['total'] / g['total'].transform('sum')\n",
    "\n",
    "# we could have computed the normalized sum more efficiently by using\n",
    "# the `transform` method directly on the groupby object"
   ]
  },
  {
   "cell_type": "code",
   "execution_count": 40,
   "id": "1719a24d",
   "metadata": {},
   "outputs": [],
   "source": [
    "# 13.2 MovieLens 1M Dataset\n",
    "\n",
    "# here i am using tmdb.dat files from Kaggle\n"
   ]
  },
  {
   "cell_type": "code",
   "execution_count": null,
   "id": "d5420fbe",
   "metadata": {},
   "outputs": [],
   "source": [
    "unames = ['user_id', 'gender', 'age', 'occupation', 'zip']\n",
    "\n",
    "users = pd.read_table(\n",
    "\tr\"F:\\terrabox download\\tmdb_movie_dataset.dat\",\n",
    "\tsep='|',\n",
    "\theader=None,\n",
    "\tnames=unames,\n",
    "\tengine='python',\n",
    "\tquoting=3,  # 3 means csv.QUOTE_NONE\n",
    "\ton_bad_lines='skip'     # skip bad lines and warn about them\n",
    ")"
   ]
  },
  {
   "cell_type": "code",
   "execution_count": null,
   "id": "0f342758",
   "metadata": {},
   "outputs": [],
   "source": [
    "rnames = ['user_id', 'movie_id', 'rating', 'timestamp']\n",
    "\n",
    "ratings = pd.read_table(\n",
    "\tr\"F:\\terrabox download\\tmdb_movie_dataset.dat\",\n",
    "\tsep='|',\n",
    "\theader=None,\n",
    "\tnames=rnames,\n",
    "\tengine='python',\n",
    "\tquoting=3,  # 3 means csv.QUOTE_NONE\n",
    "\ton_bad_lines='skip'     # skip bad lines and warn about them\n",
    ")\n"
   ]
  },
  {
   "cell_type": "code",
   "execution_count": null,
   "id": "fd0a4f2e",
   "metadata": {},
   "outputs": [],
   "source": [
    "mnames = ['movie_id', 'title', 'genres']\n",
    "\n",
    "movies = pd.read_table(\n",
    "\tr\"F:\\terrabox download\\tmdb_movie_dataset.dat\",\n",
    "\tsep='|',\n",
    "\theader=None,\n",
    "\tnames=mnames,\n",
    "\tengine='python',\n",
    "\tquoting=3,  # 3 means csv.QUOTE_NONE\n",
    "\ton_bad_lines='skip'     # skip bad lines and warn about them\n",
    ")\n"
   ]
  },
  {
   "cell_type": "code",
   "execution_count": null,
   "id": "4ededc82",
   "metadata": {},
   "outputs": [
    {
     "data": {
      "text/html": [
       "<div>\n",
       "<style scoped>\n",
       "    .dataframe tbody tr th:only-of-type {\n",
       "        vertical-align: middle;\n",
       "    }\n",
       "\n",
       "    .dataframe tbody tr th {\n",
       "        vertical-align: top;\n",
       "    }\n",
       "\n",
       "    .dataframe thead th {\n",
       "        text-align: right;\n",
       "    }\n",
       "</style>\n",
       "<table border=\"1\" class=\"dataframe\">\n",
       "  <thead>\n",
       "    <tr style=\"text-align: right;\">\n",
       "      <th></th>\n",
       "      <th></th>\n",
       "      <th></th>\n",
       "      <th></th>\n",
       "      <th></th>\n",
       "      <th></th>\n",
       "      <th></th>\n",
       "      <th></th>\n",
       "      <th></th>\n",
       "      <th></th>\n",
       "      <th></th>\n",
       "      <th></th>\n",
       "      <th></th>\n",
       "      <th></th>\n",
       "      <th></th>\n",
       "      <th></th>\n",
       "      <th></th>\n",
       "      <th></th>\n",
       "      <th></th>\n",
       "      <th>user_id</th>\n",
       "      <th>gender</th>\n",
       "      <th>age</th>\n",
       "      <th>occupation</th>\n",
       "      <th>zip</th>\n",
       "    </tr>\n",
       "  </thead>\n",
       "  <tbody>\n",
       "    <tr>\n",
       "      <th>id</th>\n",
       "      <th>title</th>\n",
       "      <th>vote_average</th>\n",
       "      <th>vote_count</th>\n",
       "      <th>status</th>\n",
       "      <th>release_date</th>\n",
       "      <th>revenue</th>\n",
       "      <th>runtime</th>\n",
       "      <th>adult</th>\n",
       "      <th>backdrop_path</th>\n",
       "      <th>budget</th>\n",
       "      <th>homepage</th>\n",
       "      <th>imdb_id</th>\n",
       "      <th>original_language</th>\n",
       "      <th>original_title</th>\n",
       "      <th>overview</th>\n",
       "      <th>popularity</th>\n",
       "      <th>poster_path</th>\n",
       "      <th>tagline</th>\n",
       "      <td>genres</td>\n",
       "      <td>production_companies</td>\n",
       "      <td>production_countries</td>\n",
       "      <td>spoken_languages</td>\n",
       "      <td>keywords</td>\n",
       "    </tr>\n",
       "    <tr>\n",
       "      <th>27205</th>\n",
       "      <th>Inception</th>\n",
       "      <th>8.364</th>\n",
       "      <th>34495</th>\n",
       "      <th>Released</th>\n",
       "      <th>2010-07-15</th>\n",
       "      <th>825532764</th>\n",
       "      <th>148</th>\n",
       "      <th>False</th>\n",
       "      <th>/8ZTVqvKDQ8emSGUEMjsS4yHAwrp.jpg</th>\n",
       "      <th>160000000</th>\n",
       "      <th>https://www.warnerbros.com/movies/inception</th>\n",
       "      <th>tt1375666</th>\n",
       "      <th>en</th>\n",
       "      <th>Inception</th>\n",
       "      <th>Cobb, a skilled thief who commits corporate espionage by infiltrating the subconscious of his targets is offered a chance to regain his old life as payment for a task considered to be impossible: \"inception\", the implantation of another person's idea into a target's subconscious.</th>\n",
       "      <th>83.952</th>\n",
       "      <th>/oYuLEt3zVCKq57qu2F8dT7NIa6f.jpg</th>\n",
       "      <th>Your mind is the scene of the crime.</th>\n",
       "      <td>Action, Science Fiction, Adventure</td>\n",
       "      <td>Legendary Pictures, Syncopy, Warner Bros. Pic...</td>\n",
       "      <td>United Kingdom, United States of America</td>\n",
       "      <td>English, French, Japanese, Swahili</td>\n",
       "      <td>rescue, mission, dream, airplane, paris, fran...</td>\n",
       "    </tr>\n",
       "  </tbody>\n",
       "</table>\n",
       "</div>"
      ],
      "text/plain": [
       "                                                                                                                                                                                                                                                                                                                                                                                                            user_id  \\\n",
       "id     title      vote_average  vote_count  status    release_date  revenue    runtime  adult  backdrop_path                     budget     homepage                                     imdb_id    original_language  original_title  overview                                           popularity  poster_path                       tagline                                                             genres    \n",
       "27205  Inception  8.364         34495       Released  2010-07-15    825532764  148      False  /8ZTVqvKDQ8emSGUEMjsS4yHAwrp.jpg  160000000  https://www.warnerbros.com/movies/inception  tt1375666  en                 Inception       Cobb, a skilled thief who commits corporate esp... 83.952      /oYuLEt3zVCKq57qu2F8dT7NIa6f.jpg  Your mind is the scene of the crime.    Action, Science Fiction, Adventure    \n",
       "\n",
       "                                                                                                                                                                                                                                                                                                                                                                                                                          gender  \\\n",
       "id     title      vote_average  vote_count  status    release_date  revenue    runtime  adult  backdrop_path                     budget     homepage                                     imdb_id    original_language  original_title  overview                                           popularity  poster_path                       tagline                                                            production_companies    \n",
       "27205  Inception  8.364         34495       Released  2010-07-15    825532764  148      False  /8ZTVqvKDQ8emSGUEMjsS4yHAwrp.jpg  160000000  https://www.warnerbros.com/movies/inception  tt1375666  en                 Inception       Cobb, a skilled thief who commits corporate esp... 83.952      /oYuLEt3zVCKq57qu2F8dT7NIa6f.jpg  Your mind is the scene of the crime.    Legendary Pictures, Syncopy, Warner Bros. Pic...   \n",
       "\n",
       "                                                                                                                                                                                                                                                                                                                                                                                                                      age  \\\n",
       "id     title      vote_average  vote_count  status    release_date  revenue    runtime  adult  backdrop_path                     budget     homepage                                     imdb_id    original_language  original_title  overview                                           popularity  poster_path                       tagline                                                     production_countries    \n",
       "27205  Inception  8.364         34495       Released  2010-07-15    825532764  148      False  /8ZTVqvKDQ8emSGUEMjsS4yHAwrp.jpg  160000000  https://www.warnerbros.com/movies/inception  tt1375666  en                 Inception       Cobb, a skilled thief who commits corporate esp... 83.952      /oYuLEt3zVCKq57qu2F8dT7NIa6f.jpg  Your mind is the scene of the crime.    United Kingdom, United States of America    \n",
       "\n",
       "                                                                                                                                                                                                                                                                                                                                                                                                         occupation  \\\n",
       "id     title      vote_average  vote_count  status    release_date  revenue    runtime  adult  backdrop_path                     budget     homepage                                     imdb_id    original_language  original_title  overview                                           popularity  poster_path                       tagline                                                   spoken_languages    \n",
       "27205  Inception  8.364         34495       Released  2010-07-15    825532764  148      False  /8ZTVqvKDQ8emSGUEMjsS4yHAwrp.jpg  160000000  https://www.warnerbros.com/movies/inception  tt1375666  en                 Inception       Cobb, a skilled thief who commits corporate esp... 83.952      /oYuLEt3zVCKq57qu2F8dT7NIa6f.jpg  Your mind is the scene of the crime.    English, French, Japanese, Swahili    \n",
       "\n",
       "                                                                                                                                                                                                                                                                                                                                                                                                                             zip  \n",
       "id     title      vote_average  vote_count  status    release_date  revenue    runtime  adult  backdrop_path                     budget     homepage                                     imdb_id    original_language  original_title  overview                                           popularity  poster_path                       tagline                                                                         keywords  \n",
       "27205  Inception  8.364         34495       Released  2010-07-15    825532764  148      False  /8ZTVqvKDQ8emSGUEMjsS4yHAwrp.jpg  160000000  https://www.warnerbros.com/movies/inception  tt1375666  en                 Inception       Cobb, a skilled thief who commits corporate esp... 83.952      /oYuLEt3zVCKq57qu2F8dT7NIa6f.jpg  Your mind is the scene of the crime.    rescue, mission, dream, airplane, paris, fran...  "
      ]
     },
     "execution_count": 171,
     "metadata": {},
     "output_type": "execute_result"
    }
   ],
   "source": [
    "users.head(2)"
   ]
  }
 ],
 "metadata": {
  "kernelspec": {
   "display_name": "eienv (Python 3.12)",
   "language": "python",
   "name": "eienv"
  },
  "language_info": {
   "codemirror_mode": {
    "name": "ipython",
    "version": 3
   },
   "file_extension": ".py",
   "mimetype": "text/x-python",
   "name": "python",
   "nbconvert_exporter": "python",
   "pygments_lexer": "ipython3",
   "version": "3.12.0"
  }
 },
 "nbformat": 4,
 "nbformat_minor": 5
}
