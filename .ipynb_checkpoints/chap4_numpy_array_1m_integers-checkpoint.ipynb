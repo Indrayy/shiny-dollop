{
 "cells": [
  {
   "cell_type": "code",
   "execution_count": 1,
   "id": "9a4d7789-70b8-4856-9eac-26c0a9ba6407",
   "metadata": {},
   "outputs": [
    {
     "name": "stdout",
     "output_type": "stream",
     "text": [
      "3.69 ms ± 180 μs per loop (mean ± std. dev. of 7 runs, 100 loops each)\n",
      "64.6 ms ± 8.61 ms per loop (mean ± std. dev. of 7 runs, 10 loops each)\n"
     ]
    }
   ],
   "source": [
    "import numpy as np\n",
    "my_array = np.arange(1_000_000)  # Large NumPy array\n",
    "my_list = list(range(1_000_000))  # Large Python list\n",
    "\n",
    "%timeit my_array2 = my_array * 2\n",
    "%timeit my_list2 = [x * 2 for x in my_list]"
   ]
  },
  {
   "cell_type": "code",
   "execution_count": null,
   "id": "1cf30058-a617-4d5b-b307-34c7c0099543",
   "metadata": {},
   "outputs": [],
   "source": [
    "tuple = 4, 5, 6\n",
    "tuple\n",
    "# Output: (4, 5, 6)"
   ]
  }
 ],
 "metadata": {
  "kernelspec": {
   "display_name": "Python 3 (ipykernel)",
   "language": "python",
   "name": "python3"
  },
  "language_info": {
   "codemirror_mode": {
    "name": "ipython",
    "version": 3
   },
   "file_extension": ".py",
   "mimetype": "text/x-python",
   "name": "python",
   "nbconvert_exporter": "python",
   "pygments_lexer": "ipython3",
   "version": "3.12.0"
  }
 },
 "nbformat": 4,
 "nbformat_minor": 5
}
